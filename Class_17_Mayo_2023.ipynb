{
 "cells": [
  {
   "attachments": {},
   "cell_type": "markdown",
   "metadata": {},
   "source": [
    "EJEMPLO DE USO DE DEFINCIONES B+ASICAS DE PROABILIDAD "
   ]
  },
  {
   "attachments": {},
   "cell_type": "markdown",
   "metadata": {},
   "source": [
    "1.- Definomos omega \n",
    "a- Empeorar\n",
    "b - Mejorar \n",
    "c- Morir \n",
    "d- Curarse por completo"
   ]
  },
  {
   "attachments": {},
   "cell_type": "markdown",
   "metadata": {},
   "source": [
    "2. Construimos un sigma algebra  de omega \n",
    "\n",
    "- Vacío \n",
    "- (a,c) # Es decir el paciente puede empeorar o morir\n",
    "- (b,d)  # Es decir el paciente puede mejorar o curarse por completo \n",
    "- (a, b, c,d)\n",
    "  \n",
    "Veamos las preubas A) Omega esta en sigma algebra  B) Para a(a,c) está su complemento, para (a,b,c,d) está su complemento que es el vacio\n",
    "C) Union de vacio con todos son cada uno y la union de los dos promeros es el tercero. Entonces la sigma albera de eventos so cunmple todas las propiedades que debe cumplir.\n",
    "\n",
    "Por lo tanto la duplo (Omega, sgma algebra) es mi ESPACIO MEDIBLE que para que sea mi ESPACIO DE PROBABIBILIDAD, me falta agregarle mi medidad de probabilidad. "
   ]
  },
  {
   "cell_type": "code",
   "execution_count": 2,
   "metadata": {},
   "outputs": [
    {
     "name": "stdout",
     "output_type": "stream",
     "text": [
      "1.0\n"
     ]
    }
   ],
   "source": [
    "pa = 0.2 \n",
    "pb = 0.3\n",
    "pc = 0.1 \n",
    "pd = 0.4 \n",
    "\n",
    "pOmega = pa +pb +pc +pd\n",
    "print(pOmega)"
   ]
  },
  {
   "attachments": {},
   "cell_type": "markdown",
   "metadata": {},
   "source": [
    "Para asignar a omega un númeor real, ASUMO QUE LA VA tiene una FUNCION DE DOSTRIBUION NORMAL y con ella yo puedo como REGRESAR DE LAS PROBABILIDADES A LOS REALES "
   ]
  },
  {
   "cell_type": "code",
   "execution_count": 4,
   "metadata": {},
   "outputs": [
    {
     "name": "stdout",
     "output_type": "stream",
     "text": [
      "[2 1 1 3]\n"
     ]
    }
   ],
   "source": [
    "import numpy as np\n",
    "\n",
    "# Given probabilities\n",
    "probabilities = [0.2, 0.3, 0.1, 0.4]\n",
    "\n",
    "# Generate random numbers based on the probabilities\n",
    "random_numbers = np.random.choice(len(probabilities), size=4, p=probabilities)\n",
    "\n",
    "print(random_numbers)\n"
   ]
  }
 ],
 "metadata": {
  "kernelspec": {
   "display_name": "Python 3",
   "language": "python",
   "name": "python3"
  },
  "language_info": {
   "codemirror_mode": {
    "name": "ipython",
    "version": 3
   },
   "file_extension": ".py",
   "mimetype": "text/x-python",
   "name": "python",
   "nbconvert_exporter": "python",
   "pygments_lexer": "ipython3",
   "version": "3.10.7"
  },
  "orig_nbformat": 4
 },
 "nbformat": 4,
 "nbformat_minor": 2
}
