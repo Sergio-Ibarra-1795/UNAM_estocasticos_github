{
 "cells": [
  {
   "attachments": {},
   "cell_type": "markdown",
   "id": "118d5170",
   "metadata": {},
   "source": [
    "# PRIMER PARCIAL "
   ]
  },
  {
   "attachments": {},
   "cell_type": "markdown",
   "id": "e718c4de",
   "metadata": {},
   "source": [
    "## Pregunta 1"
   ]
  },
  {
   "attachments": {},
   "cell_type": "markdown",
   "id": "f780a531",
   "metadata": {},
   "source": [
    "La variable aleatoria $Y$ que representa la cantidad de agua que consume una persona en un día tiene una distribución normal con media $\\mu=1$ litro y desviación estándar $\\sigma=0.3$ litros.\n",
    "\n"
   ]
  },
  {
   "attachments": {},
   "cell_type": "markdown",
   "id": "109858b7",
   "metadata": {},
   "source": [
    "$$\\begin{align*}\n",
    "P(1.5 < Y < 2) &= P\\left(\\frac{1.5-\\mu}{\\sigma} < \\frac{Y-\\mu}{\\sigma} < \\frac{2-\\mu}{\\sigma}\\right) \\\n",
    "&= P(-1 < Z < \\frac{1}{3}) \\\n",
    "&= F_Z(\\frac{1}{3}) - F_Z(-1) \\\n",
    "&\\approx 0.0385\n",
    "\\end{align*}$$\n",
    "\n",
    "\n",
    "\n",
    "Donde $Z$ es una variable aleatoria estándar normal ($Z \\sim \\mathcal{N}(0, 1)$) y $F_Z$ es su función de distribución acumulada."
   ]
  },
  {
   "cell_type": "code",
   "execution_count": 2,
   "id": "78c5862f",
   "metadata": {},
   "outputs": [
    {
     "name": "stdout",
     "output_type": "stream",
     "text": [
      "La probabilidad de que la persona consuma entre 1.5 y 2 litros de agua en un día es aproximadamente 0.03778884361829828\n"
     ]
    }
   ],
   "source": [
    "import math\n",
    "\n",
    "# mean and standard deviation\n",
    "mu = 1\n",
    "sigma = 0.3\n",
    "\n",
    "# lower and upper limits\n",
    "a = 1.5\n",
    "b = 2\n",
    "\n",
    "# standardize limits\n",
    "z_a = (a - mu) / sigma\n",
    "z_b = (b - mu) / sigma\n",
    "\n",
    "# calculate probability using standard normal distribution\n",
    "prob_1A = (1 / math.sqrt(2*math.pi)) * (math.erf(z_b / math.sqrt(2)) - math.erf(z_a / math.sqrt(2)))\n",
    "\n",
    "print(f\"La probabilidad de que la persona consuma entre 1.5 y 2 litros de agua en un día es aproximadamente {prob_1A}\")\n",
    "\n"
   ]
  },
  {
   "attachments": {},
   "cell_type": "markdown",
   "id": "6dc65700",
   "metadata": {},
   "source": [
    "1B) Determine la cantidad máxima de agua que consume la persona, en un día dado, si se considera el 95% de los días, es decir, determine el valor de la v.a. Y, para el cual P(Y≤y)=0.95"
   ]
  },
  {
   "attachments": {},
   "cell_type": "markdown",
   "id": "961e0f88",
   "metadata": {},
   "source": [
    "Para determinar la cantidad máxima de agua que consume la persona en un día dado, tal que $P(Y \\leq y) = 0.95$, se debe encontrar el valor de $y$ que satisface esta condición. Usando la estandarización de la variable aleatoria $Y$, se tiene que:\n",
    "\n",
    "\\begin{align*}\n",
    "P(Y \\leq y) &= P\\left(\\frac{Y-\\mu}{\\sigma} \\leq \\frac{y-\\mu}{\\sigma}\\right) \\\n",
    "&= P\\left(Z \\leq \\frac{y-\\mu}{\\sigma}\\right) \\\n",
    "&= F_Z\\left(\\frac{y-\\mu}{\\sigma}\\right) \\\n",
    "&= 0.95\n",
    "\\end{align*}\n",
    "\n",
    "Donde $Z$ es una variable aleatoria estándar normal ($Z \\sim \\mathcal{N}(0, 1)$) y $F_Z$ es su función de distribución acumulada. Despejando para $\\frac{y-\\mu}{\\sigma}$, se obtiene:\n",
    "\n",
    "\\begin{align*}\n",
    "\\frac{y-\\mu}{\\sigma} &= F_Z^{-1}(0.95) \\\n",
    "&\\approx 1.645\n",
    "\\end{align*}"
   ]
  },
  {
   "attachments": {},
   "cell_type": "markdown",
   "id": "2b75e364",
   "metadata": {},
   "source": [
    "Sustituyendo los valores de $\\mu$ y $\\sigma$, se tiene:\n",
    "\n",
    "\\begin{align*}\n",
    "y &= \\mu + \\sigma \\cdot F_Z^{-1}(0.95) \\\n",
    "&\\approx 1.4935\n",
    "\\end{align*}\n",
    "\n",
    "Por lo tanto, la cantidad máxima de agua que consume la persona en un día dado, tal que $P(Y \\leq y) = 0.95$, es de aproximadamente 1.4935 litros."
   ]
  },
  {
   "cell_type": "code",
   "execution_count": 5,
   "id": "75906f40",
   "metadata": {},
   "outputs": [
    {
     "name": "stdout",
     "output_type": "stream",
     "text": [
      "La cantidad máxima de agua que consume la persona en un día dado, tal que P(Y <= y) = 0.95, es de aproximadamente 1.5879891953620162 litros.\n"
     ]
    }
   ],
   "source": [
    "import math\n",
    "from scipy.special import erfinv\n",
    "\n",
    "# mean and standard deviation\n",
    "mu = 1\n",
    "sigma = 0.3\n",
    "\n",
    "\n",
    "# calculate maximum water consumption for P(Y <= y) = 0.95\n",
    "y = mu + sigma * erfinv(0.95) * math.sqrt(2)\n",
    "\n",
    "\n",
    "print(f\"La cantidad máxima de agua que consume la persona en un día dado, tal que P(Y <= y) = 0.95, es de aproximadamente {y} litros.\")\n"
   ]
  },
  {
   "attachments": {},
   "cell_type": "markdown",
   "id": "2f7c0929",
   "metadata": {},
   "source": [
    "## Problema 2 (MATRIZ DE TRANSICION)"
   ]
  },
  {
   "attachments": {},
   "cell_type": "markdown",
   "id": "ed5337fc",
   "metadata": {},
   "source": [
    "La distribución de Poisson nos indica que la llegada de clientes ocurre de forma aleatoria y que la tasa de llegada es de 2 cada 10 minutos. Por lo tanto, podemos modelar el número de llegadas en un período de tiempo determinado mediante una distribución de Poisson con parámetro λ = 2t/10, donde t es el tiempo en minutos.\n",
    "\n",
    "Por otro lado, el tiempo de servicio sigue una distribución exponencial con media de 5 minutos. Esto nos indica que la tasa de servicio es de 1/5 clientes por minuto.\n",
    "\n",
    "En este caso, el número máximo de clientes que pueden encontrarse dentro de la oficina es 4, por lo que el espacio de estados está dado por {0, 1, 2, 3, 4}.\n",
    "\n",
    "Para construir la matriz de transición, es necesario identificar las posibles transiciones que pueden ocurrir entre los diferentes estados del sistema. En este caso, las transiciones posibles son las siguientes:"
   ]
  },
  {
   "attachments": {},
   "cell_type": "markdown",
   "id": "b0c980d3",
   "metadata": {},
   "source": [
    "1. Desde el estado 0, el sistema puede pasar al estado 1 si llega un cliente. <BR>\n",
    "2. Desde los estados 1, 2, 3 y 4, el sistema puede pasar al estado anterior si se termina el servicio de un cliente. <BR>\n",
    "3. Desde los estados 1, 2, 3 y 4, el sistema puede permanecer en el mismo estado si no hay llegadas ni terminación de servicios. <BR>\n",
    "4. Desde los estados 1, 2 y 3, el sistema puede pasar al estado siguiente si llega un cliente y no hay clientes esperando ser atendidos. <BR>\n",
    "5. Desde el estado 4, el sistema no puede recibir más clientes, por lo que la única transición posible es la que lleva de vuelta al estado 4. <BR>\n",
    "A partir de estas transiciones, podemos construir la matriz de transición en un paso:<BR>"
   ]
  },
  {
   "attachments": {},
   "cell_type": "markdown",
   "id": "bf9f569c",
   "metadata": {},
   "source": [
    "\n",
    "| -| 0  | 1  | 2 |3 |4 |\n",
    "| :- | -: | :-: |-: |-:|-: \n",
    "| 0 | 0 | $\\lambda$ | 0| 0| 0\n",
    "| 1  | $\\mu$  | 0|  $\\lambda$| 0| 0\n",
    "| 2| $\\mu$ |$\\mu$|0|  $\\lambda$| 0\n",
    "| 3 | $\\mu$ | $\\mu$| $\\mu$|0|  $\\lambda$\n",
    "|4| 0 | 0| 0|0| 1\n",
    "\n",
    "\n",
    "Donde λ = 2t/10 y μ = 1/5."
   ]
  },
  {
   "attachments": {},
   "cell_type": "markdown",
   "id": "1f06eb24",
   "metadata": {},
   "source": [
    "Para construir la matriz de transición, es necesario analizar los posibles estados del sistema y las probabilidades de transición entre ellos.\n",
    "\n",
    "En este caso, el sistema puede encontrarse en cinco estados:\n",
    "\n",
    "0 clientes en la oficina\n",
    "1 cliente en la oficina\n",
    "2 clientes en la oficina\n",
    "3 clientes en la oficina\n",
    "4 clientes en la oficina\n",
    "Para cada estado, se debe considerar la probabilidad de transición hacia los demás estados. En este caso, la probabilidad de transición depende de la llegada y salida de clientes de la oficina.\n",
    "\n",
    "Se sabe que la llegada de clientes sigue una distribución de Poisson a razón de 2 cada 10 minutos. Por lo tanto, la tasa de llegada de clientes es de λ = 2t/10 por minuto.\n",
    "\n",
    "La salida de clientes se da por el tiempo de servicio, que se asume es exponencial con media de 5 minutos. Por lo tanto, la tasa de salida de clientes es de μ = 1/5 por minuto.\n",
    "\n",
    "Con esta información, se pueden construir las probabilidades de transición para cada estado del sistema:.\n"
   ]
  },
  {
   "cell_type": "code",
   "execution_count": 7,
   "id": "e32e4f75",
   "metadata": {},
   "outputs": [
    {
     "name": "stdout",
     "output_type": "stream",
     "text": [
      "[[\\lamda*\\mu 0 \\lamda**2 0 0]\n",
      " [\\lamda*\\mu 2*\\lamda*\\mu 0 \\lamda**2 0]\n",
      " [\\lamda*\\mu + \\mu**2 2*\\lamda*\\mu 2*\\lamda*\\mu 0 \\lamda**2]\n",
      " [2*\\mu**2 \\lamda*\\mu + \\mu**2 \\lamda*\\mu \\lamda*\\mu \\lamda]\n",
      " [0 0 0 0 1]]\n"
     ]
    }
   ],
   "source": [
    "import numpy as np\n",
    "\n",
    "import sympy as sp\n",
    "\n",
    "# define the symbol\n",
    "lam = sp.Symbol('\\lamda')\n",
    "mu = sp.Symbol('\\mu')\n",
    "\n",
    "\n",
    "# definir la matriz de transición en un paso\n",
    "P1 = np.array([[0, lam, 0, 0, 0],\n",
    "               [mu, 0, lam, 0, 0],\n",
    "               [mu, mu, 0, lam, 0],\n",
    "               [mu, mu, mu, 0, lam],\n",
    "               [0, 0, 0, 0, 1]])\n",
    "\n",
    "# calcular la matriz de transición en dos pasos\n",
    "P2 = np.dot(P1, P1)\n",
    "\n",
    "print(P2)\n"
   ]
  },
  {
   "cell_type": "code",
   "execution_count": 10,
   "id": "63888e01",
   "metadata": {},
   "outputs": [
    {
     "name": "stdout",
     "output_type": "stream",
     "text": [
      "La matriz de transicion en paso 2 es : [[lamda*mu 0 lamda**2 0 0]\n",
      " [lamda*mu 2*lamda*mu 0 lamda**2 0]\n",
      " [lamda*mu + mu**2 2*lamda*mu 2*lamda*mu 0 lamda**2]\n",
      " [2*mu**2 lamda*mu + mu**2 lamda*mu lamda*mu lamda]\n",
      " [0 0 0 0 1]]\n"
     ]
    }
   ],
   "source": [
    "\n",
    "# Show the result\n",
    "print(f\"La matriz de transicion en paso 2 es : {P2}\")\n"
   ]
  },
  {
   "attachments": {},
   "cell_type": "markdown",
   "id": "53e662a9",
   "metadata": {},
   "source": [
    "## Problema 3"
   ]
  },
  {
   "attachments": {},
   "cell_type": "markdown",
   "id": "ef4e29a1",
   "metadata": {},
   "source": [
    "La cantidad de huecos en un centímetro cúbico de masa para pan es aleatorio con promedio de 3. Calcule la probabilidad de que el número de huecos encontrados en 2 centímetros cúbicos de masa, sea de 2."
   ]
  },
  {
   "attachments": {},
   "cell_type": "markdown",
   "id": "2115ec0e",
   "metadata": {},
   "source": [
    "Este problema puede ser resuelto utilizando la distribución de Poisson, que se utiliza para modelar la cantidad de ocurrencias de un evento en un intervalo de tiempo o en una región dada, en la que los eventos ocurren de forma aleatoria e independiente y la tasa promedio de ocurrencias es conocida.\n",
    "\n",
    "En este caso, la cantidad de huecos en un centímetro cúbico de masa para pan sigue una distribución de Poisson con un promedio de 3. Entonces, la tasa promedio de huecos por centímetro cúbico es $\\lambda = 3$.\n",
    "\n",
    "Para calcular la probabilidad de que el número de huecos encontrados en 2 centímetros cúbicos de masa sea de 2, podemos utilizar la distribución de Poisson nuevamente. La probabilidad de observar k ocurrencias en un intervalo dado está dada por:\n",
    "\n",
    "$P(k) = \\frac{\\lambda^k e^{-\\lambda}}{k!}$\n",
    "\n",
    "Donde $e$ es la constante matemática e y $k!$ es el factorial de k.\n",
    "\n",
    "En este caso, queremos encontrar la probabilidad de que k = 2 en un intervalo de 2 centímetros cúbicos, por lo que $\\lambda$ se convierte en $2\\lambda = 6$. Entonces, la probabilidad deseada es:\n",
    "\n",
    "$P(k=2) = \\frac{(6)^2 e^{-6}}{2!} \\approx 0.0446$\n",
    "\n",
    "Por lo tanto, la probabilidad de encontrar exactamente 2 huecos en 2 centímetros cúbicos de masa de pan es de aproximadamente 0.0446, o alrededor del 4.46%.\n",
    "\n"
   ]
  },
  {
   "cell_type": "code",
   "execution_count": 9,
   "id": "a25444c2",
   "metadata": {},
   "outputs": [
    {
     "name": "stdout",
     "output_type": "stream",
     "text": [
      "La probabilidad de encontrar exactamente 2 huecos en 2 cm cúbicos de masa de pan es:  0.0446\n"
     ]
    }
   ],
   "source": [
    "import math\n",
    "\n",
    "# lambda es la tasa promedio de huecos por centímetro cúbico\n",
    "lambd = 3\n",
    "\n",
    "# calcula la tasa promedio de huecos por 2 centímetros cúbicos\n",
    "lambd_2cm = 2 * lambd\n",
    "\n",
    "# k es el número de huecos que queremos encontrar\n",
    "k = 2\n",
    "\n",
    "# calcula la probabilidad utilizando la fórmula de Poisson\n",
    "prob = (lambd_2cm ** k) * math.exp(-lambd_2cm) / math.factorial(k)\n",
    "\n",
    "print(\"La probabilidad de encontrar exactamente 2 huecos en 2 cm cúbicos de masa de pan es: \", round(prob, 4))\n"
   ]
  },
  {
   "attachments": {},
   "cell_type": "markdown",
   "id": "ccc44eaa",
   "metadata": {},
   "source": [
    "## Problema 4"
   ]
  },
  {
   "attachments": {},
   "cell_type": "markdown",
   "id": "1c4d4327",
   "metadata": {},
   "source": [
    "En el taller de máquinas de una escuela, 41% de todas las descomposturas de la maquinaria ocurre en tornos y 47% en taladros. Sean los eventos\n",
    "\n",
    "A:  La siguiente descompostura de máquina es de un torno\n",
    "\n",
    "B: La siguiente descompostura de máquina es de un taladro\n",
    "\n",
    "observe que A y B son mutuamente excluyentes. Si P( A ) = 0.41   y   P( B ) = 0.47, calcule la probabilidad de que la siguiente descompostura de máquina sea de un torno o de un taladro.\n",
    "\n"
   ]
  }
 ],
 "metadata": {
  "kernelspec": {
   "display_name": "Python 3 (ipykernel)",
   "language": "python",
   "name": "python3"
  },
  "language_info": {
   "codemirror_mode": {
    "name": "ipython",
    "version": 3
   },
   "file_extension": ".py",
   "mimetype": "text/x-python",
   "name": "python",
   "nbconvert_exporter": "python",
   "pygments_lexer": "ipython3",
   "version": "3.10.5"
  }
 },
 "nbformat": 4,
 "nbformat_minor": 5
}
