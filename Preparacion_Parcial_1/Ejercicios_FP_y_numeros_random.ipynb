{
 "cells": [
  {
   "cell_type": "markdown",
   "id": "118d5170",
   "metadata": {},
   "source": [
    "# Class 08.Feb.2023 "
   ]
  },
  {
   "cell_type": "markdown",
   "id": "e718c4de",
   "metadata": {},
   "source": [
    "## Variables aleatorias discretas"
   ]
  },
  {
   "cell_type": "markdown",
   "id": "0009f309",
   "metadata": {},
   "source": [
    "Ejemplo-Pagina 15 de los apuntes de la Dra Isabel en:  https://aulas-virtuales.cuaed.unam.mx/moodle/pluginfile.php/1416529/mod_resource/content/1/Presentaci%C3%B3n%20Variables%20Aleatorias.pdf-"
   ]
  },
  {
   "cell_type": "markdown",
   "id": "b5e1cca9",
   "metadata": {},
   "source": [
    "Considere la v.a. cuyos valores son 0,1,2,3 y 4 y que tiene la siguiente función de probabilidad:"
   ]
  },
  {
   "cell_type": "markdown",
   "id": "dfbe165b",
   "metadata": {},
   "source": [
    "|X| 0 | 1 |2 |3 |4|\n",
    "| --- | --- | --- | --- | --- | --- |\n",
    "| f(x) | 1/6 | 1+k/6 |1+2k/6 |1+2k/6 |1+4k/6 |"
   ]
  },
  {
   "cell_type": "markdown",
   "id": "2f20b279",
   "metadata": {},
   "source": [
    "a)Determinar el valor de la constante k para que f(x) sea una función de probabilidad"
   ]
  },
  {
   "cell_type": "code",
   "execution_count": 8,
   "id": "b30ee6e5",
   "metadata": {},
   "outputs": [],
   "source": [
    "from sympy import *"
   ]
  },
  {
   "cell_type": "code",
   "execution_count": 49,
   "id": "afcb09fe",
   "metadata": {},
   "outputs": [],
   "source": [
    "# Define the symbols\n",
    "k = symbols('k')\n",
    "\n",
    "# Define the equation\n",
    "eq = S(1)/6 + S(1+k)/6 + S(1+2*k)/6 + S(1+3*k)/6 + S(1+4*k)/6 - 1"
   ]
  },
  {
   "cell_type": "code",
   "execution_count": 50,
   "id": "d077a9db",
   "metadata": {},
   "outputs": [
    {
     "name": "stdout",
     "output_type": "stream",
     "text": [
      "0.100000000000000\n"
     ]
    }
   ],
   "source": [
    "# Solve for k\n",
    "solution = solve(eq, k)\n",
    "\n",
    "# Print the solution\n",
    "print(solution[0].evalf())  # -0.100000000000000\n",
    "\n"
   ]
  },
  {
   "cell_type": "markdown",
   "id": "cacb3b7f",
   "metadata": {},
   "source": [
    "b)Calcular la p(X<3)"
   ]
  },
  {
   "cell_type": "markdown",
   "id": "3efb6f0d",
   "metadata": {},
   "source": [
    "P(X<3)= P(X=0) + P(X=1)+ P(X=2)"
   ]
  },
  {
   "cell_type": "code",
   "execution_count": 51,
   "id": "f4834aee",
   "metadata": {},
   "outputs": [
    {
     "name": "stdout",
     "output_type": "stream",
     "text": [
      "1/10\n",
      "<class 'sympy.core.numbers.Rational'>\n"
     ]
    }
   ],
   "source": [
    "#Asignando el valor de la solucion de la ecuación a la variable k \n",
    "k=solution[0]\n",
    "print(k)\n",
    "print(type(k))"
   ]
  },
  {
   "cell_type": "code",
   "execution_count": 53,
   "id": "bc4839df",
   "metadata": {},
   "outputs": [
    {
     "name": "stdout",
     "output_type": "stream",
     "text": [
      "0.16666666666666666\n",
      "11/60\n",
      "1/5\n"
     ]
    }
   ],
   "source": [
    "#Definiendo la probabilidad de los elementos del dominio requeridos\n",
    "p_0 =1/6\n",
    "print(p_0)\n",
    "\n",
    "p_1 = (1+k)/6\n",
    "print(p_1)\n",
    "\n",
    "p_2= (1+2*k)/6\n",
    "print(p_2)"
   ]
  },
  {
   "cell_type": "code",
   "execution_count": 54,
   "id": "1e229602",
   "metadata": {},
   "outputs": [
    {
     "name": "stdout",
     "output_type": "stream",
     "text": [
      "0.550000000000000\n"
     ]
    }
   ],
   "source": [
    "#Calculando la probabilidad deseada\n",
    "pX_menor2 = p_0 + p_1 + p_2 \n",
    "print(pX_menor2)"
   ]
  },
  {
   "cell_type": "markdown",
   "id": "98d8f413",
   "metadata": {},
   "source": [
    "Recordar que para \"probar de una manera más estricta\" que esa es una función de probabilidad se debe probar que cada valor este entre [0,1]"
   ]
  },
  {
   "cell_type": "markdown",
   "id": "2827af37",
   "metadata": {},
   "source": [
    "# Class 15.Feb.2023"
   ]
  },
  {
   "cell_type": "code",
   "execution_count": null,
   "id": "54945c74",
   "metadata": {},
   "outputs": [],
   "source": []
  },
  {
   "cell_type": "markdown",
   "id": "26c45900",
   "metadata": {},
   "source": [
    "## Variables aleatorias continuas"
   ]
  },
  {
   "cell_type": "code",
   "execution_count": 59,
   "id": "2609540c",
   "metadata": {},
   "outputs": [],
   "source": [
    "# Define the symbols\n",
    "x = symbols('x')\n",
    "y = symbols('y')\n",
    "c = symbols('c')"
   ]
  },
  {
   "cell_type": "code",
   "execution_count": 60,
   "id": "722f9073",
   "metadata": {},
   "outputs": [
    {
     "name": "stdout",
     "output_type": "stream",
     "text": [
      "c*y**2 + y\n"
     ]
    }
   ],
   "source": [
    "fx_1 = c*y*y +y\n",
    "print(fx_1)"
   ]
  },
  {
   "cell_type": "code",
   "execution_count": 63,
   "id": "44f23300",
   "metadata": {},
   "outputs": [
    {
     "name": "stdout",
     "output_type": "stream",
     "text": [
      "c*y**3/3 + y**2/2\n"
     ]
    }
   ],
   "source": [
    "integral_fx_1 = integrate(fx_1,y)\n",
    "print(integral_fx_1)\n"
   ]
  },
  {
   "cell_type": "code",
   "execution_count": null,
   "id": "123ddc0c",
   "metadata": {},
   "outputs": [],
   "source": []
  },
  {
   "cell_type": "markdown",
   "id": "e9b2c533",
   "metadata": {},
   "source": [
    "### Generando numeros random "
   ]
  },
  {
   "cell_type": "code",
   "execution_count": 64,
   "id": "15a762f2",
   "metadata": {},
   "outputs": [
    {
     "name": "stdout",
     "output_type": "stream",
     "text": [
      "[0.8797312103611133, 0.6772875377360025, 0.8086894417317946, 0.4863883280677981, 0.34735205506079614, 0.3285729938709562, 0.9371142399184962, 0.39288791566823367, 0.30979120785303305, 0.27124444561894556, 0.4973891262653476, 0.9845321912347273, 0.0183395929118777, 0.038620982970014484, 0.0781323162250872, 0.5018128943422778, 0.35171995578661186, 0.14146373635561693, 0.6785988965995404, 0.2126232907136455, 0.914259762058775, 0.997737010465447, 0.09045170438118189, 0.42741156154777005, 0.3799557179363976, 0.7582055490835764, 0.5580179838789683, 0.6413496926331156, 0.5195698426198102, 0.9252802305651665, 0.522500957896999, 0.06107313661843017, 0.41368068552093773, 0.8314446500495564, 0.44388752680823984, 0.6346381059911016, 0.3870294922595583, 0.8468083761795784, 0.23320958445904472, 0.5281415857731859, 0.4668920953022412, 0.9577592712970643, 0.6941915456670403, 0.08680998297767284, 0.010568766769321614, 0.7787457790193986, 0.10465487618035907, 0.0790133615387556, 0.8110204045315665, 0.34209083643123794, 0.5860316460360081, 0.7390594105893092, 0.45128775065436677, 0.04747425954320472, 0.6618944493591149, 0.4650115324717281, 0.2791461724519232, 0.45145661213995625, 0.804556942920068, 0.24423869335346116, 0.8013646855650535, 0.4112982469509422, 0.6737102888850192, 0.5186573579129234, 0.3352874691014678, 0.9258507520750153, 0.21106233850672085, 0.7888748741591318, 0.5632360204832333, 0.915016209639189, 0.44396180324977996, 0.13891434480536669, 0.6706853315473102, 0.8920392235175428, 0.16018465911802582, 0.2350904373687276, 0.4627816088416402, 0.4787451998647152, 0.40658042705561737, 0.24800577538307778, 0.7150719362214161, 0.9580812880100077, 0.8030576677896433, 0.63241381067687, 0.7852749023197388, 0.3225374940884702, 0.5283152797282608, 0.05359317825628174, 0.599294430920527, 0.32493153732528735, 0.5295967031782948, 0.3820486870749612, 0.5324911564096172, 0.38888033284327417, 0.26525118199248976, 0.34360739188808875, 0.023451096067600874, 0.8112800344926214, 0.116950220857722, 0.9195050386597597]\n"
     ]
    }
   ],
   "source": [
    "import random\n",
    "\n",
    "random_numbers = []\n",
    "for i in range(100):\n",
    "    random_numbers.append(random.random())\n",
    "\n",
    "print(random_numbers)\n"
   ]
  },
  {
   "cell_type": "code",
   "execution_count": null,
   "id": "9491c5aa",
   "metadata": {},
   "outputs": [],
   "source": []
  },
  {
   "cell_type": "code",
   "execution_count": 72,
   "id": "3790cf0e",
   "metadata": {},
   "outputs": [
    {
     "name": "stdout",
     "output_type": "stream",
     "text": [
      "[9, 7, 8, 5, 3, 3, 9, 4, 3, 3, 5, 10, 0, 0, 1, 5, 4, 1, 7, 2, 9, 10, 1, 4, 4, 8, 6, 6, 5, 9, 5, 1, 4, 8, 4, 6, 4, 8, 2, 5, 5, 10, 7, 1, 0, 8, 1, 1, 8, 3, 6, 7, 5, 0, 7, 5, 3, 5, 8, 2, 8, 4, 7, 5, 3, 9, 2, 8, 6, 9, 4, 1, 7, 9, 2, 2, 5, 5, 4, 2, 7, 10, 8, 6, 8, 3, 5, 1, 6, 3, 5, 4, 5, 4, 3, 3, 0, 8, 1, 9]\n"
     ]
    }
   ],
   "source": [
    "random_numbers_alterada = [];\n",
    "for number in random_numbers: \n",
    "    number = round((number *10))\n",
    "    random_numbers_alterada.append(number)\n",
    "\n",
    "print(random_numbers_alterada)"
   ]
  },
  {
   "cell_type": "code",
   "execution_count": null,
   "id": "fd930eda",
   "metadata": {},
   "outputs": [],
   "source": []
  },
  {
   "cell_type": "markdown",
   "id": "6012dddf",
   "metadata": {},
   "source": [
    "### Generación de numeros aleatorios con una distribución de probabilidad dada"
   ]
  },
  {
   "cell_type": "code",
   "execution_count": null,
   "id": "5065bdf2",
   "metadata": {},
   "outputs": [],
   "source": []
  },
  {
   "cell_type": "markdown",
   "id": "ab195443",
   "metadata": {},
   "source": [
    "#### Ejemplo de generación de numeros aleatorios: Generar 10 valores aleatorios de la v.a. X con distribución"
   ]
  },
  {
   "cell_type": "markdown",
   "id": "ebe878ad",
   "metadata": {},
   "source": [
    "|x| -5 | -1 |1 |1.5 |3|\n",
    "| --- | --- | --- | --- | --- | --- |\n",
    "| F(x) | 0.2 | 0.21 |0.51 |0.8 |1 |"
   ]
  },
  {
   "cell_type": "code",
   "execution_count": 71,
   "id": "dfe0c196",
   "metadata": {},
   "outputs": [],
   "source": [
    "x = [-5,-1,1,1.5,3]\n",
    "Fx = [0.2,0.21,0.51,0.8,1]"
   ]
  },
  {
   "cell_type": "markdown",
   "id": "aa27195a",
   "metadata": {},
   "source": [
    "### Primero genero los numeros aleatorios de maner uniforme (misma probabilidad de ser elegidos)"
   ]
  },
  {
   "cell_type": "code",
   "execution_count": 75,
   "id": "168eb1ad",
   "metadata": {},
   "outputs": [
    {
     "name": "stdout",
     "output_type": "stream",
     "text": [
      "[0.6724306999616637, 0.09118640043186932, 0.48156903720156086, 0.5538894792878739, 0.9964780190693472, 0.09517084157705269, 0.48672050781630105, 0.8449054037494851, 0.12046968545464798, 0.22820663340298575]\n"
     ]
    }
   ],
   "source": [
    "import random\n",
    "\n",
    "random_numbers_ = []\n",
    "for i in range(10):\n",
    "    random_numbers_.append(random.random())\n",
    "\n",
    "print(random_numbers_)\n"
   ]
  },
  {
   "cell_type": "code",
   "execution_count": 76,
   "id": "ae82ba61",
   "metadata": {},
   "outputs": [],
   "source": [
    "random_numbers_conservados = random_numbers"
   ]
  },
  {
   "cell_type": "markdown",
   "id": "35f52586",
   "metadata": {},
   "source": [
    "#### Ahora busco obtener los valores correspondientes de x"
   ]
  },
  {
   "cell_type": "markdown",
   "id": "ab36535e",
   "metadata": {},
   "source": [
    "Entonces lo que se hace es asociar a cada valor de random_numbers_conservados, el valor de la variable X que pudo haber dado ese random valor al pasar pro la F(X)"
   ]
  },
  {
   "cell_type": "code",
   "execution_count": null,
   "id": "c493273c",
   "metadata": {},
   "outputs": [],
   "source": [
    "valores_aleatorios_de_variables = [1.5, -5, 1, 1.5, 3, -5, 1, 3,-5,1]"
   ]
  },
  {
   "cell_type": "code",
   "execution_count": null,
   "id": "76a7fb12",
   "metadata": {},
   "outputs": [],
   "source": []
  },
  {
   "cell_type": "markdown",
   "id": "32d57458",
   "metadata": {},
   "source": [
    "#### Ejemplo de generación de numeros aleatorios que sigan una distribución normal\n"
   ]
  },
  {
   "cell_type": "code",
   "execution_count": 73,
   "id": "7d31ad62",
   "metadata": {},
   "outputs": [
    {
     "name": "stdout",
     "output_type": "stream",
     "text": [
      "[-0.04578238662531517, 0.00771495586245653, -0.0193067866317687, -0.11776160318843648, 0.037194990956793496, -0.03638272526790801, 0.19005863311904117, 0.03054196299405784, -0.06505543242497504, 0.04708685045831248]\n"
     ]
    }
   ],
   "source": [
    "import random\n",
    "import numpy as np\n",
    "\n",
    "# Set the mean and standard deviation of the normal distribution\n",
    "mu, sigma = 0, 0.1\n",
    "\n",
    "# Generate 10 random numbers following a normal distribution\n",
    "random_numbers_normal = np.random.normal(mu, sigma, 10).tolist()\n",
    "\n",
    "# Print the random numbers\n",
    "print(random_numbers_normal)"
   ]
  },
  {
   "cell_type": "code",
   "execution_count": null,
   "id": "080dd266",
   "metadata": {},
   "outputs": [],
   "source": []
  },
  {
   "cell_type": "code",
   "execution_count": null,
   "id": "b1d3175a",
   "metadata": {},
   "outputs": [],
   "source": []
  }
 ],
 "metadata": {
  "kernelspec": {
   "display_name": "Python 3 (ipykernel)",
   "language": "python",
   "name": "python3"
  },
  "language_info": {
   "codemirror_mode": {
    "name": "ipython",
    "version": 3
   },
   "file_extension": ".py",
   "mimetype": "text/x-python",
   "name": "python",
   "nbconvert_exporter": "python",
   "pygments_lexer": "ipython3",
   "version": "3.9.13"
  }
 },
 "nbformat": 4,
 "nbformat_minor": 5
}
