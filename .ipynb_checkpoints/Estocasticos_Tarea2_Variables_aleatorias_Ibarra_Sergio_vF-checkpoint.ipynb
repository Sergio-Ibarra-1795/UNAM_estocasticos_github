{
 "cells": [
  {
   "cell_type": "code",
   "execution_count": null,
   "id": "24a28043",
   "metadata": {},
   "outputs": [],
   "source": []
  },
  {
   "cell_type": "markdown",
   "id": "17f27e9c",
   "metadata": {},
   "source": [
    "## Maestria en Ing. de Sistemas UNAM- Procesos estocásticos . Dra: Patricia Aguilar\n",
    "## Alumno: Sergio Ibarra R (414025796)\n",
    "## Problemas sobre la aplicación de conceptos de variable aleatoria.  Marzo 2023"
   ]
  },
  {
   "cell_type": "markdown",
   "id": "bb8c686e",
   "metadata": {},
   "source": [
    "### Problema 1"
   ]
  },
  {
   "cell_type": "markdown",
   "id": "4599859d",
   "metadata": {},
   "source": [
    "En cada uno de los siguientes enunciados, indique con una D si la variable aleatoria es discreta \n",
    "o con una C si es continua.\n"
   ]
  },
  {
   "cell_type": "markdown",
   "id": "1cd38658",
   "metadata": {},
   "source": [
    "a) El tiempo de espera para un corte de cabello. ………………………………………………….( Continuo) <br>\n",
    "b) El número de automóviles que rebasa un corredor cada mañana. …………………….(Discreto)<br>\n",
    "c) El número de hits de un equipo femenil de softbol de preparatoria. ………………….(Discreto)<br>\n",
    "d) El número de pacientes atendidos en el South Strand Medical Center entre las seis y  diez de la noche, cada noche. ………………………………….……………………………………….(Discreto)<br>\n",
    "e) La distancia que recorrió en su automóvil con el último tanque de gasolina. …….(Continuo)<br>\n",
    "f) El número de clientes del Wendy’s de Oak Street que utilizaron las instalaciones. (Discreto)<br>\n",
    "g) La distancia entre Gainesville, Florida, y todas las ciudades de Florida con una población de por lo menos 50 000 habitantes. ……………….………………………………………………….(Continuo)<br>\n",
    "\n"
   ]
  },
  {
   "cell_type": "code",
   "execution_count": null,
   "id": "3a217cc4",
   "metadata": {},
   "outputs": [],
   "source": []
  },
  {
   "cell_type": "markdown",
   "id": "c9e0631c",
   "metadata": {},
   "source": [
    "### Problema 2"
   ]
  },
  {
   "cell_type": "markdown",
   "id": "b2b5cc35",
   "metadata": {},
   "source": [
    "En un estudio realizado en Estados Unidos en 2001 (USA Today, 6 de septiembre, 2001), 38%  de los alumnos de cuarto grado de primaria no podía leer un libro apropiado para su edad. Los  datos siguientes muestran el número de sujetos, por edad, que se identificaron como niños con  problemas de aprendizaje que requieren educación especial. La mayoría tiene problemas de lectura que debieron identificarse y corregirse antes del tercer grado. La ley federal  estadounidense actual prohíbe que la mayoría de los niños reciba ayuda adicional de programas  de educación especial hasta que el retraso sea de aproximadamente dos años de aprendizaje, y por lo general eso significa hasta tercer grado o grados superiores."
   ]
  },
  {
   "cell_type": "markdown",
   "id": "05f9d8a7",
   "metadata": {},
   "source": [
    "| Edad| Número de niños  \n",
    "| :- | -:  \n",
    "| 6 | 37,369\n",
    "| 7  | 87,436\n",
    "| 8 | 160,840\n",
    "| 9 | 239,719\n",
    "|10 | 286,719\n",
    "|11 | 306,533\n",
    "|12 | 310,787\n",
    "|13 | 302,604\n",
    "|14 | 289,168"
   ]
  },
  {
   "cell_type": "markdown",
   "id": "b9f99af1",
   "metadata": {},
   "source": [
    "Suponga que se desea seleccionar una muestra de menores con problemas de aprendizaje y  que deben tomar educación especial a efecto de incluirlos en un programa diseñado para  mejorar su capacidad de lectura. Sea 𝑋 una variable aleatoria que indica la edad de un niño seleccionado al azar,"
   ]
  },
  {
   "cell_type": "markdown",
   "id": "57ca7659",
   "metadata": {},
   "source": [
    "a) Use los datos para construir la función de probabilidad para 𝑋 y trace su gráfica.<br>\n",
    "b) Calcule la edad promedio de los niños con problemas de aprendizaje..<br>\n",
    "c) Genere una muestra de las edades de 30 niños con problemas de aprendizaje y calcule la  edad promedio. Muestre paso a paso su procedimiento realizado ya sea manualmente o con algún software, en cuyo caso es necesario mostrar la codificación.<br>"
   ]
  },
  {
   "cell_type": "markdown",
   "id": "e1448469",
   "metadata": {},
   "source": [
    "#### a) Use los datos para construir la función de probabilidad para 𝑋 y trace su gráfica.<br>"
   ]
  },
  {
   "cell_type": "markdown",
   "id": "ed1dca64",
   "metadata": {},
   "source": [
    "Vamos a importar el documento donde se guardó la tabla con la información sobre la cantidad de niños en problemas de aprovechamiento en USA"
   ]
  },
  {
   "cell_type": "code",
   "execution_count": 191,
   "id": "ef41497e",
   "metadata": {},
   "outputs": [
    {
     "name": "stdout",
     "output_type": "stream",
     "text": [
      "{'Problema2':    Edad  Número de niños\n",
      "0     6            37369\n",
      "1     7            87436\n",
      "2     8           160840\n",
      "3     9           239719\n",
      "4    10           286719\n",
      "5    11           306533\n",
      "6    12           310787\n",
      "7    13           302604\n",
      "8    14           289168}\n"
     ]
    },
    {
     "data": {
      "text/plain": [
       "dict"
      ]
     },
     "execution_count": 191,
     "metadata": {},
     "output_type": "execute_result"
    }
   ],
   "source": [
    "import pandas as pd\n",
    "\n",
    "# Read the Excel file into a dictionary of data frames\n",
    "df_importado = pd.read_excel(R'C:\\Users\\sergi\\OneDrive\\Documentos\\MIS_UNAM\\Segundo_semestre\\Estocasticos_UNAM\\UNAM_Estocasticos_git\\Estocasticos_Tarea2_Variable_aleatoria_datos_problema2&5.xlsx', sheet_name=['Problema2'])\n",
    "print(df_importado)\n",
    "type(df_importado)"
   ]
  },
  {
   "cell_type": "code",
   "execution_count": 192,
   "id": "59e5e2ce",
   "metadata": {},
   "outputs": [
    {
     "name": "stdout",
     "output_type": "stream",
     "text": [
      "   Edad  Número de niños\n",
      "0     6            37369\n",
      "1     7            87436\n",
      "2     8           160840\n",
      "3     9           239719\n",
      "4    10           286719\n",
      "5    11           306533\n",
      "6    12           310787\n",
      "7    13           302604\n",
      "8    14           289168\n"
     ]
    },
    {
     "data": {
      "text/plain": [
       "pandas.core.frame.DataFrame"
      ]
     },
     "execution_count": 192,
     "metadata": {},
     "output_type": "execute_result"
    }
   ],
   "source": [
    "df_USA_niños_escolar = df_importado['Problema2']\n",
    "print(df_USA_niños_escolar)\n",
    "type(df_USA_niños_escolar)"
   ]
  },
  {
   "cell_type": "markdown",
   "id": "d2c7af7c",
   "metadata": {},
   "source": [
    "Vamos a \"separar\" la información de la edad y guardarla en una variable llamada df_USA_niños_escolar_edad"
   ]
  },
  {
   "cell_type": "code",
   "execution_count": 193,
   "id": "913a249c",
   "metadata": {},
   "outputs": [
    {
     "data": {
      "text/plain": [
       "0     6\n",
       "1     7\n",
       "2     8\n",
       "3     9\n",
       "4    10\n",
       "5    11\n",
       "6    12\n",
       "7    13\n",
       "8    14\n",
       "Name: Edad, dtype: int64"
      ]
     },
     "execution_count": 193,
     "metadata": {},
     "output_type": "execute_result"
    }
   ],
   "source": [
    "df_USA_niños_escolar_edad= df_USA_niños_escolar['Edad']\n",
    "df_USA_niños_escolar_edad"
   ]
  },
  {
   "cell_type": "code",
   "execution_count": 194,
   "id": "57a672c0",
   "metadata": {},
   "outputs": [
    {
     "data": {
      "text/plain": [
       "pandas.core.series.Series"
      ]
     },
     "execution_count": 194,
     "metadata": {},
     "output_type": "execute_result"
    }
   ],
   "source": [
    "type(df_USA_niños_escolar_edad)"
   ]
  },
  {
   "cell_type": "code",
   "execution_count": 195,
   "id": "f6fffcc0",
   "metadata": {},
   "outputs": [
    {
     "data": {
      "text/plain": [
       "6"
      ]
     },
     "execution_count": 195,
     "metadata": {},
     "output_type": "execute_result"
    }
   ],
   "source": [
    "df_USA_niños_escolar_edad[0]"
   ]
  },
  {
   "cell_type": "markdown",
   "id": "c5d6075f",
   "metadata": {},
   "source": [
    "Vamos a \"separar\" la información del número de nuños por edad y guardarla en una variable llamada df_USA_niños"
   ]
  },
  {
   "cell_type": "code",
   "execution_count": 196,
   "id": "2b2f7aab",
   "metadata": {},
   "outputs": [
    {
     "data": {
      "text/plain": [
       "0     37369\n",
       "1     87436\n",
       "2    160840\n",
       "3    239719\n",
       "4    286719\n",
       "5    306533\n",
       "6    310787\n",
       "7    302604\n",
       "8    289168\n",
       "Name: Número de niños, dtype: int64"
      ]
     },
     "execution_count": 196,
     "metadata": {},
     "output_type": "execute_result"
    }
   ],
   "source": [
    "df_USA_niños= df_USA_niños_escolar['Número de niños']\n",
    "df_USA_niños"
   ]
  },
  {
   "cell_type": "markdown",
   "id": "00ccecb1",
   "metadata": {},
   "source": [
    "Transformando la data de numero de niños en una lista para poder sumar sus elementos usarlo para calcular el promedio de cada edad"
   ]
  },
  {
   "cell_type": "code",
   "execution_count": 197,
   "id": "4633eadb",
   "metadata": {},
   "outputs": [
    {
     "data": {
      "text/plain": [
       "[37369, 87436, 160840, 239719, 286719, 306533, 310787, 302604, 289168]"
      ]
     },
     "execution_count": 197,
     "metadata": {},
     "output_type": "execute_result"
    }
   ],
   "source": [
    "# Transform the series to a list\n",
    "df_USA_niños_list = df_USA_niños.tolist()\n",
    "\n",
    "df_USA_niños_list\n"
   ]
  },
  {
   "cell_type": "code",
   "execution_count": 198,
   "id": "9b9fbcd0",
   "metadata": {},
   "outputs": [
    {
     "data": {
      "text/plain": [
       "2021175"
      ]
     },
     "execution_count": 198,
     "metadata": {},
     "output_type": "execute_result"
    }
   ],
   "source": [
    "# Get the sum of all elements in the list\n",
    "total_niños_USA = sum(df_USA_niños_list)\n",
    "total_niños_USA"
   ]
  },
  {
   "cell_type": "markdown",
   "id": "3dae0947",
   "metadata": {},
   "source": [
    "Calculando las probabilidades por edad como:\n",
    "$$P(x=edad) = \\frac{\\mathrm{Numero\\,de\\,ninios\\,en\\,edad\\,X=x}}{\\mathrm{Numero\\, total\\, de\\, ninios}}$$\n",
    "    \n",
    "y las añadimos a la tabla llamada df_USA_niños_escolar"
   ]
  },
  {
   "cell_type": "code",
   "execution_count": 199,
   "id": "3266eaa6",
   "metadata": {
    "scrolled": true
   },
   "outputs": [
    {
     "name": "stdout",
     "output_type": "stream",
     "text": [
      "0     1.848875\n",
      "1     4.325998\n",
      "2     7.957747\n",
      "3    11.860378\n",
      "4    14.185758\n",
      "5    15.166079\n",
      "6    15.376551\n",
      "7    14.971687\n",
      "8    14.306925\n",
      "Name: Probabilidad_por_edad, dtype: float64\n"
     ]
    }
   ],
   "source": [
    "df_USA_niños_escolar['Probabilidad_por_edad'] = (df_USA_niños / total_niños_USA)*100\n",
    "print(df_USA_niños_escolar['Probabilidad_por_edad'])"
   ]
  },
  {
   "cell_type": "code",
   "execution_count": 200,
   "id": "b493c514",
   "metadata": {},
   "outputs": [
    {
     "name": "stdout",
     "output_type": "stream",
     "text": [
      "   Edad  Número de niños  Probabilidad_por_edad\n",
      "0     6            37369               1.848875\n",
      "1     7            87436               4.325998\n",
      "2     8           160840               7.957747\n",
      "3     9           239719              11.860378\n",
      "4    10           286719              14.185758\n",
      "5    11           306533              15.166079\n",
      "6    12           310787              15.376551\n",
      "7    13           302604              14.971687\n",
      "8    14           289168              14.306925\n"
     ]
    }
   ],
   "source": [
    "print(df_USA_niños_escolar)"
   ]
  },
  {
   "cell_type": "markdown",
   "id": "7982f12b",
   "metadata": {},
   "source": [
    "<span style=\"color:red\">__Por lo tanto la función de probabilidad de X sería__</span>"
   ]
  },
  {
   "cell_type": "markdown",
   "id": "979dec2e",
   "metadata": {},
   "source": [
    "| Edad| Valor de probabilidad  \n",
    "| :- | -:  \n",
    "| 6 | 1.85\n",
    "| 7  | 4.32\n",
    "| 8 | 7.96\n",
    "| 9 | 11.87\n",
    "|10 | 14.19\n",
    "|11 | 15.17\n",
    "|12 | 15.38\n",
    "|13 | 14.97\n",
    "|14 | 14.31"
   ]
  },
  {
   "cell_type": "markdown",
   "id": "44e7e260",
   "metadata": {},
   "source": [
    "  <span style=\"color:red\">__Y la gráfica de la función de probabilidad de X sería__ </span>"
   ]
  },
  {
   "cell_type": "code",
   "execution_count": 201,
   "id": "f009dcc3",
   "metadata": {},
   "outputs": [
    {
     "data": {
      "image/png": "[encoded data removed]",
      "text/plain": [
       "<Figure size 640x480 with 1 Axes>"
      ]
     },
     "metadata": {},
     "output_type": "display_data"
    }
   ],
   "source": [
    "import matplotlib.pyplot as plt\n",
    "\n",
    "# Assuming that df_USA_niños_escolar is a pandas dataframe\n",
    "plt.plot(df_USA_niños_escolar['Edad'], df_USA_niños_escolar['Probabilidad_por_edad'])\n",
    "plt.xlabel('Edad')\n",
    "plt.ylabel('Probabilidad por Edad')\n",
    "plt.title('Gráfico de dispersión de probabilidad por edad')\n",
    "plt.show()\n"
   ]
  },
  {
   "cell_type": "markdown",
   "id": "9cfa400d",
   "metadata": {},
   "source": [
    "#### b) Calcule la edad promedio de los niños con problemas de aprendizaje.<br>"
   ]
  },
  {
   "cell_type": "markdown",
   "id": "33a8f424",
   "metadata": {},
   "source": [
    "La edad promedio se calculará como la esperanza de los valores de la función de probabilidad"
   ]
  },
  {
   "cell_type": "code",
   "execution_count": 202,
   "id": "b42724cc",
   "metadata": {
    "scrolled": true
   },
   "outputs": [
    {
     "data": {
      "text/plain": [
       "11.0"
      ]
     },
     "execution_count": 202,
     "metadata": {},
     "output_type": "execute_result"
    }
   ],
   "source": [
    "esperanza_edad = round(sum(df_USA_niños_escolar['Edad']*(df_USA_niños_escolar['Probabilidad_por_edad']/100)),2)\n",
    "esperanza_edad"
   ]
  },
  {
   "cell_type": "code",
   "execution_count": 203,
   "id": "4a7ce490",
   "metadata": {},
   "outputs": [
    {
     "data": {
      "text/html": [
       "<span style=\"color:red\">_La edad promedio de los niños con problemas de aprendizaje__ es: 11.0 años</span>"
      ],
      "text/plain": [
       "<IPython.core.display.HTML object>"
      ]
     },
     "execution_count": 203,
     "metadata": {},
     "output_type": "execute_result"
    }
   ],
   "source": [
    "from IPython.core.display import HTML\n",
    "\n",
    "\n",
    "texto = f'<span style=\"color:red\">_La edad promedio de los niños con problemas de aprendizaje__ es: {esperanza_edad} años</span>'\n",
    "\n",
    "HTML(texto)\n",
    "\n"
   ]
  },
  {
   "cell_type": "markdown",
   "id": "c0b1e45b",
   "metadata": {},
   "source": [
    "#### c) Genere una muestra de las edades de 30 niños con problemas de aprendizaje y calcule la  edad promedio. Muestre paso a paso su procedimiento realizado ya sea manualmente o con algún software, en cuyo caso es necesario mostrar la codificación.<br>"
   ]
  },
  {
   "cell_type": "markdown",
   "id": "4c32aab0",
   "metadata": {},
   "source": [
    "Para poder generar números aleatorios en Python a partir de una x y una f(x) ambos deben estar en un formato de dato tipo 'lista'"
   ]
  },
  {
   "cell_type": "code",
   "execution_count": 204,
   "id": "35c3df96",
   "metadata": {},
   "outputs": [
    {
     "data": {
      "text/plain": [
       "[0.01848875035560998,\n",
       " 0.04325998490976783,\n",
       " 0.07957747349932588,\n",
       " 0.11860378245327594,\n",
       " 0.1418575828416639,\n",
       " 0.15166079137135577,\n",
       " 0.15376550768736008,\n",
       " 0.14971687261122862,\n",
       " 0.143069254270412]"
      ]
     },
     "execution_count": 204,
     "metadata": {},
     "output_type": "execute_result"
    }
   ],
   "source": [
    "#Transformando los datos de la columna probabilidad en una tipo lista\n",
    "\n",
    "df_USA_niños_probabilidad_list = (df_USA_niños_escolar['Probabilidad_por_edad']/100).tolist()\n",
    "df_USA_niños_probabilidad_list "
   ]
  },
  {
   "cell_type": "code",
   "execution_count": 205,
   "id": "21574303",
   "metadata": {},
   "outputs": [
    {
     "data": {
      "text/plain": [
       "[6, 7, 8, 9, 10, 11, 12, 13, 14]"
      ]
     },
     "execution_count": 205,
     "metadata": {},
     "output_type": "execute_result"
    }
   ],
   "source": [
    "#Transformando los datos de la columna edad en una tipo lista\n",
    "df_USA_niños_escolar_edad_list = df_USA_niños_escolar_edad.tolist()\n",
    "\n",
    "df_USA_niños_escolar_edad_list"
   ]
  },
  {
   "cell_type": "markdown",
   "id": "1c2820f1",
   "metadata": {},
   "source": [
    "Ahora procederemos a generar los 30 numeros random, con la función de python que se llama random.choice y que toma 3 parametros:<br>\n",
    "    a)Los valores de la variable x en la función de distribución <br>\n",
    "    b)Los valores de f(x) en la función de distribución <br>\n",
    "    c) El número de valores random que se quiere generar\n",
    "    "
   ]
  },
  {
   "cell_type": "code",
   "execution_count": 206,
   "id": "5e3a0801",
   "metadata": {},
   "outputs": [
    {
     "data": {
      "text/plain": [
       "array([ 8,  9, 13, 13, 10, 12, 14, 10, 14, 10, 10, 11,  8, 12, 11,  8, 10,\n",
       "        7, 14,  9, 12,  9, 14, 12, 11, 11, 14, 13, 13, 11])"
      ]
     },
     "execution_count": 206,
     "metadata": {},
     "output_type": "execute_result"
    }
   ],
   "source": [
    "import numpy as np \n",
    "\n",
    "random_30_edades = np.random.choice(\n",
    "df_USA_niños_escolar_edad_list, size=30, p=df_USA_niños_probabilidad_list )\n",
    "random_30_edades"
   ]
  },
  {
   "cell_type": "markdown",
   "id": "1504c18a",
   "metadata": {},
   "source": [
    "Vamos a graficar los valores generados"
   ]
  },
  {
   "cell_type": "code",
   "execution_count": 207,
   "id": "a0462b68",
   "metadata": {},
   "outputs": [
    {
     "data": {
      "image/png": "[encoded data removed]",
      "text/plain": [
       "<Figure size 640x480 with 1 Axes>"
      ]
     },
     "metadata": {},
     "output_type": "display_data"
    }
   ],
   "source": [
    "import matplotlib.pyplot as plt\n",
    "\n",
    "plt.hist(random_30_edades, bins=10)\n",
    "plt.xlabel('Values')\n",
    "plt.ylabel('Frequency')\n",
    "plt.title('Histogram of Random X')\n",
    "plt.show()\n"
   ]
  },
  {
   "cell_type": "markdown",
   "id": "eb1f4e76",
   "metadata": {},
   "source": [
    "Ahora calculemos la edad promedio de los valores simulados"
   ]
  },
  {
   "cell_type": "code",
   "execution_count": 208,
   "id": "afec90d8",
   "metadata": {},
   "outputs": [],
   "source": [
    "import numpy as np\n",
    "\n",
    "edad_promedio_simulada = round(np.mean(random_30_edades),2)\n",
    "\n"
   ]
  },
  {
   "cell_type": "code",
   "execution_count": 209,
   "id": "44d0ed92",
   "metadata": {},
   "outputs": [
    {
     "data": {
      "text/html": [
       "<span style=\"color:red\">_La edad promedio de los valores simulados es__ es: 11.1 años</span>"
      ],
      "text/plain": [
       "<IPython.core.display.HTML object>"
      ]
     },
     "execution_count": 209,
     "metadata": {},
     "output_type": "execute_result"
    }
   ],
   "source": [
    "from IPython.core.display import HTML\n",
    "\n",
    "\n",
    "texto = f'<span style=\"color:red\">_La edad promedio de los valores simulados es__ es: {edad_promedio_simulada} años</span>'\n",
    "\n",
    "HTML(texto)\n"
   ]
  },
  {
   "cell_type": "markdown",
   "id": "8241f555",
   "metadata": {},
   "source": [
    "ES MUY CERCANA A LA ESPERANZA_EDAD QUE NO ES SIMULADA!"
   ]
  },
  {
   "cell_type": "code",
   "execution_count": null,
   "id": "1cf9aeeb",
   "metadata": {},
   "outputs": [],
   "source": []
  },
  {
   "cell_type": "markdown",
   "id": "833ce6a5",
   "metadata": {},
   "source": [
    "### Problema 3"
   ]
  },
  {
   "cell_type": "markdown",
   "id": "b2f3c919",
   "metadata": {},
   "source": [
    "Considere la variable aleatoria 𝑌 cuya función de distribución (acumulativa) es la que se indica a  continuación. <br>\n",
    "a) Decida si la variable aleatoria 𝑌 es discreta o continua. Justifique su respuesta.<br>\n",
    "b) Construya la función 𝑓𝑌(𝑦).<br>\n",
    "c) Calcule la media y la varianza de Y<br>"
   ]
  },
  {
   "cell_type": "code",
   "execution_count": null,
   "id": "51b6db7b",
   "metadata": {},
   "outputs": [],
   "source": []
  },
  {
   "cell_type": "markdown",
   "id": "a7b6a782",
   "metadata": {},
   "source": [
    "$$F_{Y}(y) = \\left\\{\\begin{matrix}\n",
    "0, & y<=0\\\\ \n",
    "y/8 ,& 0<y<2\\\\ \n",
    "y^{2}/16 ,& 2<=y<4\\\\ \n",
    "1 ,& y>4\\\\  \n",
    "\\end{matrix}\\right.$$"
   ]
  },
  {
   "cell_type": "markdown",
   "id": "8584336d",
   "metadata": {},
   "source": [
    "Primero que todo vamos a graficar la funcion de distribución acumulada para la variable Y y observar que forma tiene"
   ]
  },
  {
   "cell_type": "code",
   "execution_count": 210,
   "id": "c84eea36",
   "metadata": {},
   "outputs": [
    {
     "data": {
      "image/png": "[encoded data removed]",
      "text/plain": [
       "<Figure size 640x480 with 1 Axes>"
      ]
     },
     "metadata": {},
     "output_type": "display_data"
    }
   ],
   "source": [
    "import numpy as np\n",
    "import matplotlib.pyplot as plt\n",
    "\n",
    "def F_Y(y):\n",
    "    return np.piecewise(y, [y <= 0, (y > 0) & (y < 2), (y >= 2) & (y < 4), y >= 4],\n",
    "                        [0, lambda y: y/8, lambda y: y**2/16, 1])\n",
    "\n",
    "y = np.linspace(-1, 5, 1000)\n",
    "F = F_Y(y)\n",
    "\n",
    "plt.plot(y, F)\n",
    "plt.title('Cumulative Distribution Function F_Y(y)')\n",
    "plt.xlabel('y')\n",
    "plt.ylabel('F_Y(y)')\n",
    "plt.show()\n"
   ]
  },
  {
   "cell_type": "markdown",
   "id": "b37199ae",
   "metadata": {},
   "source": [
    "Se observa claramente una función cotinua y creciente hasta 1, por lo que podemos estar seguros que F(y) es una función de distribución acumulativa "
   ]
  },
  {
   "cell_type": "markdown",
   "id": "9eaa5e35",
   "metadata": {},
   "source": [
    "#### a) Decida si la variable aleatoria 𝑌 es discreta o continua. Justifique su respuesta.<br>"
   ]
  },
  {
   "cell_type": "markdown",
   "id": "c9bb65fc",
   "metadata": {},
   "source": [
    "Debido a que la función de distribución $F_{Y}(y)$ SI ES CONTINUA. Se puede decir entonces que la Variable aleatoria X de la que proviene TAMBIÉN ES CONTINUA "
   ]
  },
  {
   "cell_type": "markdown",
   "id": "8d524910",
   "metadata": {},
   "source": [
    "#### b) Construya la función 𝑓𝑌(𝑦).<br>"
   ]
  },
  {
   "cell_type": "markdown",
   "id": "a6c14c38",
   "metadata": {},
   "source": [
    "Nosotros sabemos que para cualquier variable aleatoria Y su función de distribución acumulativa se define como:"
   ]
  },
  {
   "cell_type": "markdown",
   "id": "8450305c",
   "metadata": {},
   "source": [
    "$$F_{y}(y) = P(Y<=y)$$"
   ]
  },
  {
   "cell_type": "markdown",
   "id": "2c4d2744",
   "metadata": {},
   "source": [
    "Y sabemos que la relación entre la función de distribución acumulada F(Y) y la función de distribcuión de densidad de probabilidad f(y) es:"
   ]
  },
  {
   "cell_type": "markdown",
   "id": "26d0d525",
   "metadata": {},
   "source": [
    "$$F_{y}(Y) = \\int_{-\\infty }^{y} f_{y}(t) dt$$"
   ]
  },
  {
   "cell_type": "markdown",
   "id": "e74e9bae",
   "metadata": {},
   "source": [
    "Y por lo tanto se podría decir que es posible calcular la función de densidad de probabilidad f(y) a partir de su función de densidad acumuladad de probabilidad Fy(Y) de la siguiente manera:"
   ]
  },
  {
   "cell_type": "markdown",
   "id": "2b26b16a",
   "metadata": {},
   "source": [
    "$$f_{y}(y) = F'_{y}(t) =\\frac{dFy}{dy}$$"
   ]
  },
  {
   "cell_type": "markdown",
   "id": "025ae57d",
   "metadata": {},
   "source": [
    "Por lo tanto en nuestro caso habría que deribar cada una de las secciones de la función acumulativa F(y) con respecto a y para obtener f(y)"
   ]
  },
  {
   "cell_type": "markdown",
   "id": "de7c2ca1",
   "metadata": {},
   "source": [
    "<span style=\"color:red\">__Por lo tanto la función de densidad probabilidad de Y sería  - f(Y:)__</span>"
   ]
  },
  {
   "cell_type": "markdown",
   "id": "fda19091",
   "metadata": {},
   "source": [
    "$$f(y)=\\left\\{\\begin{matrix}\n",
    " 0, & y<=0 \\\\ \n",
    " 1/8 ,& 0<y<2 \\\\ \n",
    " y/8 ,& 2<=y<4 \\\\ \n",
    " 0 ,& y>=4& \n",
    "\\end{matrix}\\right.$$"
   ]
  },
  {
   "cell_type": "markdown",
   "id": "03512f91",
   "metadata": {},
   "source": [
    "Vamos a graficar la función de densidad de probabilidad f(y) para ver como luce"
   ]
  },
  {
   "cell_type": "code",
   "execution_count": 211,
   "id": "57bc5ec7",
   "metadata": {},
   "outputs": [
    {
     "data": {
      "image/png": "[encoded data removed]",
      "text/plain": [
       "<Figure size 640x480 with 1 Axes>"
      ]
     },
     "metadata": {},
     "output_type": "display_data"
    }
   ],
   "source": [
    "import numpy as np\n",
    "import matplotlib.pyplot as plt\n",
    "\n",
    "def f_y(y):\n",
    "    return np.piecewise(y, [y<=0, (y>0)&(y<2), (y>=2)&(y<4), y>=4], [0, 1/8, lambda y: y/8, 0])\n",
    "\n",
    "y = np.linspace(-1, 5, 1000)\n",
    "f = f_y(y)\n",
    "\n",
    "plt.plot(y, f)\n",
    "plt.title('Density Distribution Function f(y)')\n",
    "plt.xlabel('y')\n",
    "plt.ylabel('f(y)')\n",
    "plt.show()\n"
   ]
  },
  {
   "cell_type": "markdown",
   "id": "d43ac391",
   "metadata": {},
   "source": [
    "Se observa una función con valores mayores a cero y cuya área parece justamente tender al valor de la unidad "
   ]
  },
  {
   "cell_type": "markdown",
   "id": "53110797",
   "metadata": {},
   "source": [
    "#### c) Calcule la media y la varianza de Y<br>"
   ]
  },
  {
   "cell_type": "markdown",
   "id": "6883e69e",
   "metadata": {},
   "source": [
    "Recordando que la esperanza de una variable aleatoria Y, dada su función de distribución f(y) se definia para el caso de las variables discretas como:"
   ]
  },
  {
   "cell_type": "markdown",
   "id": "1984f35b",
   "metadata": {},
   "source": [
    "$$E(Y) = \\sum_{-\\infty }^{\\infty } y*p(y)$$"
   ]
  },
  {
   "cell_type": "markdown",
   "id": "a6b880ce",
   "metadata": {},
   "source": [
    "Para el caso de las variables continas dicha esperanza o media se define como:"
   ]
  },
  {
   "cell_type": "markdown",
   "id": "0dc8766e",
   "metadata": {},
   "source": [
    "$$E(Y) = \\int_{-\\infty }^{\\infty } y*p(y)$$"
   ]
  },
  {
   "cell_type": "markdown",
   "id": "5d47c82e",
   "metadata": {},
   "source": [
    "Que para nuestro caso sería:"
   ]
  },
  {
   "cell_type": "markdown",
   "id": "5b9ff102",
   "metadata": {},
   "source": [
    "$$E(y) = \\int_{0}^{4}f(y) *y= \\int_{0}^{4} \\left\\{\\begin{matrix}\n",
    " 0, & y<=0 \\\\ \n",
    " 1/8 ,& 0<y<2 \\\\ \n",
    " y/8 ,& 2<=y<4 \\\\ \n",
    " 0 ,& y>=4& \n",
    "\\end{matrix}\\right. * y dy$$"
   ]
  },
  {
   "cell_type": "markdown",
   "id": "3dc96115",
   "metadata": {},
   "source": [
    "Entonces re solviendo la integralen Python tenemos:"
   ]
  },
  {
   "cell_type": "code",
   "execution_count": 212,
   "id": "c9a060d0",
   "metadata": {},
   "outputs": [],
   "source": [
    "import numpy as np\n",
    "from scipy.integrate import quad\n",
    "\n",
    "def f_y(y):\n",
    "    return np.piecewise(y, [y<=0, (y>0)&(y<2), (y>=2)&(y<4), y>=4], [0, 1/8, lambda y: y/8, 0])\n",
    "\n",
    "##Se define la función que integrará y por lo tanto calculará la media \n",
    "def mean_f(f, a, b):\n",
    "    integrand = lambda y: y*f(y)\n",
    "    ## FUNCIÓN QUE REALIZA LA INTEGRACIÓN!\n",
    "    return quad(integrand, a, b)[0]\n",
    "\n",
    "##Aqui se usa/llama la función que integra y calcula media \n",
    "mean_Y = round(mean_f(f_y, 0, 4),2)\n",
    "\n"
   ]
  },
  {
   "cell_type": "code",
   "execution_count": 213,
   "id": "b32ccbf7",
   "metadata": {},
   "outputs": [
    {
     "data": {
      "text/html": [
       "<span style=\"color:red\">_La media de la variable Y sería: 2.58 </span>"
      ],
      "text/plain": [
       "<IPython.core.display.HTML object>"
      ]
     },
     "execution_count": 213,
     "metadata": {},
     "output_type": "execute_result"
    }
   ],
   "source": [
    "from IPython.core.display import HTML\n",
    "\n",
    "\n",
    "texto = f'<span style=\"color:red\">_La media de la variable Y sería: {mean_Y} </span>'\n",
    "\n",
    "HTML(texto)"
   ]
  },
  {
   "cell_type": "markdown",
   "id": "9727fa10",
   "metadata": {},
   "source": [
    "Para el caso de la varianza de la variable aleatoria Y, se define como, la esperanza del cuadrado de la desviación con respecto a la media, es decir:"
   ]
  },
  {
   "cell_type": "markdown",
   "id": "ef254ea3",
   "metadata": {},
   "source": [
    "$$Var(Y) =E[(Y-\\mu )^2]$$"
   ]
  },
  {
   "cell_type": "markdown",
   "id": "cc59d064",
   "metadata": {},
   "source": [
    "Ahora en el caso de conocer la funcion de probabilidad de densidad dicha varianza se calcula como:"
   ]
  },
  {
   "cell_type": "markdown",
   "id": "a77e2532",
   "metadata": {},
   "source": [
    "\n",
    "$$Var(Y) = \\sigma ^2 (y) = \\int_{-\\infty }^{\\infty }(Y-\\mu )^2 *f(y)$$"
   ]
  },
  {
   "cell_type": "markdown",
   "id": "05e6f157",
   "metadata": {},
   "source": [
    "Y en nuestro caso:"
   ]
  },
  {
   "cell_type": "markdown",
   "id": "c9a104ca",
   "metadata": {},
   "source": [
    "$$Var(y) = \\int_{0}^{4}f(y) *(Y-\\mu )^2= \\int_{0}^{4} \\left\\{\\begin{matrix}\n",
    " 0, & y<=0 \\\\ \n",
    " 1/8 ,& 0<y<2 \\\\ \n",
    " y/8 ,& 2<=y<4 \\\\ \n",
    " 0 ,& y>=4& \n",
    "\\end{matrix}\\right. * (Y-\\mu )^2 dy$$"
   ]
  },
  {
   "cell_type": "markdown",
   "id": "73503be1",
   "metadata": {},
   "source": [
    "Y en Python el código para integrar y genera la varianza es:"
   ]
  },
  {
   "cell_type": "code",
   "execution_count": 214,
   "id": "c3b9c6a1",
   "metadata": {},
   "outputs": [],
   "source": [
    "import numpy as np\n",
    "from scipy.integrate import quad\n",
    "\n",
    "def f_y(y):\n",
    "    return np.piecewise(y, [y<=0, (y>0)&(y<2), (y>=2)&(y<4), y>=4], [0, 1/8, lambda y: y/8, 0])\n",
    "\n",
    "##Se define la función que integrará y por lo tanto calculará la varianza\n",
    "def variance_f(f, mean_Y, a, b):\n",
    "    integrand = lambda y: (y-mean_Y)**2*f(y)\n",
    "    return quad(integrand, a, b)[0]\n",
    "\n",
    "##Aqui se usa/llama la función que integra y calcula varianza \n",
    "variance_Y = round(variance_f(f_y, mean_Y, 0, 4),2)\n",
    "\n"
   ]
  },
  {
   "cell_type": "code",
   "execution_count": 215,
   "id": "f6326475",
   "metadata": {},
   "outputs": [
    {
     "data": {
      "text/html": [
       "<span style=\"color:red\">_La varianza de la variable Y sería: 1.16 </span>"
      ],
      "text/plain": [
       "<IPython.core.display.HTML object>"
      ]
     },
     "execution_count": 215,
     "metadata": {},
     "output_type": "execute_result"
    }
   ],
   "source": [
    "from IPython.core.display import HTML\n",
    "\n",
    "\n",
    "texto = f'<span style=\"color:red\">_La varianza de la variable Y sería: {variance_Y} </span>'\n",
    "\n",
    "HTML(texto)"
   ]
  },
  {
   "cell_type": "markdown",
   "id": "e5cf4533",
   "metadata": {},
   "source": [
    "### Problema 4"
   ]
  },
  {
   "cell_type": "code",
   "execution_count": null,
   "id": "fb31fcf3",
   "metadata": {},
   "outputs": [],
   "source": []
  },
  {
   "cell_type": "markdown",
   "id": "648fae94",
   "metadata": {},
   "source": [
    "La proporción de tiempo por día en la que todas las cajas de un supermercado están ocupadas, \n",
    "es una variable aleatoria 𝑌 con función de densidad\n"
   ]
  },
  {
   "cell_type": "markdown",
   "id": "db05eee2",
   "metadata": {},
   "source": [
    "$$f_{Y}(y) = \\left\\{\\begin{matrix}\n",
    "c*y^2(1-y)^4, & 0<=y<=1\\\\ \n",
    " 0, & en otro caso\n",
    "\\end{matrix}\\right.$$\n",
    "\n",
    "En donde 𝑐 es una constante.\n"
   ]
  },
  {
   "cell_type": "markdown",
   "id": "b636956b",
   "metadata": {},
   "source": [
    "a) Encuentre el valor de c que hace de 𝑓𝑌 (𝑦) una función de densidad <br>\n",
    "b) Obtenga la media y la varianza de 𝑌.<br>\n",
    "c) Genere 30 valores aleatorios de 𝑌 y calcule el promedio de dichos valores. Muestre paso a  paso su procedimiento realizado ya sea manualmente o con algún software, en cuyo caso es necesario mostrar la codificación"
   ]
  },
  {
   "cell_type": "markdown",
   "id": "40b6aa82",
   "metadata": {},
   "source": [
    "#### a) Encuentre el valor de c que hace de 𝑓𝑌 (𝑦) una función de densidad <br>"
   ]
  },
  {
   "cell_type": "markdown",
   "id": "81e01dea",
   "metadata": {},
   "source": [
    "Entonces se debe encontrar los valores de c para los cuales la integral de f(x) desde 0 hasta 1 sea exactamente igual a 1. que es una de las propiedades de la función de distribución de una v.a. X"
   ]
  },
  {
   "cell_type": "markdown",
   "id": "eb3661ca",
   "metadata": {},
   "source": [
    "La propiedad de la función de distribución f(x) se expresa entonces como:"
   ]
  },
  {
   "cell_type": "markdown",
   "id": "bbf6874f",
   "metadata": {},
   "source": [
    "$$\\int_{0}^{1}f_{x}(x) =1$$"
   ]
  },
  {
   "cell_type": "markdown",
   "id": "0c0989ed",
   "metadata": {},
   "source": [
    "Que en nuestro caso es:"
   ]
  },
  {
   "cell_type": "markdown",
   "id": "601fbfc4",
   "metadata": {},
   "source": [
    "$$\\int_{0}^{1}c*y^2*(1-y)^4 =1$$"
   ]
  },
  {
   "cell_type": "markdown",
   "id": "27fcc26a",
   "metadata": {},
   "source": [
    "Entonces resolvamos la integral usando Python"
   ]
  },
  {
   "cell_type": "code",
   "execution_count": 216,
   "id": "fdcc167e",
   "metadata": {},
   "outputs": [
    {
     "name": "stdout",
     "output_type": "stream",
     "text": [
      "The antiderivative of f(y) = c*y^2*(1-y)^4 with respect to y is:\n",
      "c*y**7/7 - 2*c*y**6/3 + 6*c*y**5/5 - c*y**4 + c*y**3/3\n"
     ]
    }
   ],
   "source": [
    "import sympy as sym\n",
    "\n",
    "# define the symbol y and the constant c\n",
    "y = sym.symbols('y')\n",
    "c = sym.symbols('c')\n",
    "\n",
    "# define the integrand\n",
    "f = c * y**2 * (1-y)**4\n",
    "\n",
    "# integrate the function with respect to y\n",
    "F = sym.integrate(f, y)\n",
    "\n",
    "# print the result\n",
    "print(\"The antiderivative of f(y) = c*y^2*(1-y)^4 with respect to y is:\")\n",
    "print(F)\n"
   ]
  },
  {
   "cell_type": "markdown",
   "id": "0411667b",
   "metadata": {},
   "source": [
    "Entonces el resultado de la integral es:"
   ]
  },
  {
   "cell_type": "markdown",
   "id": "720e8fc1",
   "metadata": {},
   "source": [
    "$$\\int_{0}^{1}c*y^2*(1-y)^4 dy =  \\frac{c*y^7}{7} - \\frac{2*c*y^6}{3}  +\\frac{6*c*y^5}{5} - c*y^4 + \\frac{c*y^3}{3} $$"
   ]
  },
  {
   "cell_type": "markdown",
   "id": "7422cb50",
   "metadata": {},
   "source": [
    "Y evaluando los limites de intetración tenemos: "
   ]
  },
  {
   "cell_type": "markdown",
   "id": "1b5f7733",
   "metadata": {},
   "source": [
    "$$\\left [ \\frac{c*y^7}{7} - \\frac{2*c*y^6}{3}  +\\frac{6*c*y^5}{5} - c*y^4 + \\frac{c*y^3}{3}  \\right ]_{0}^{1} =  [ \\frac{c}{7} - \\frac{2*c}{3}  +\\frac{6*c}{5} - c* + \\frac{c}{3}] -(0)\n",
    " $$"
   ]
  },
  {
   "cell_type": "markdown",
   "id": "58b1ad35",
   "metadata": {},
   "source": [
    "Sumando los terminos, tenemos:"
   ]
  },
  {
   "cell_type": "markdown",
   "id": "b9f91d30",
   "metadata": {},
   "source": [
    "$$1 = \\frac{1c}{105}$$"
   ]
  },
  {
   "cell_type": "markdown",
   "id": "f976a5ed",
   "metadata": {},
   "source": [
    "\n",
    "<span style=\"color:red\">__Por lo tanto el valor de C que hace que le función f(y) sea una función de densidad de probabilidad es C=105- __</span>"
   ]
  },
  {
   "cell_type": "markdown",
   "id": "5374ff3b",
   "metadata": {},
   "source": [
    "#### b) Obtenga la media y la varianza de 𝑌.<br>"
   ]
  },
  {
   "cell_type": "markdown",
   "id": "c6ebe79a",
   "metadata": {},
   "source": [
    "La media se calcula como:"
   ]
  },
  {
   "cell_type": "markdown",
   "id": "7a39663d",
   "metadata": {},
   "source": [
    "$$E(Y) = \\int_{-\\infty }^{\\infty } y*p(y)$$"
   ]
  },
  {
   "cell_type": "markdown",
   "id": "86715600",
   "metadata": {},
   "source": [
    "Que en nuestro caso es:"
   ]
  },
  {
   "cell_type": "markdown",
   "id": "f412894c",
   "metadata": {},
   "source": [
    "$$E(X) = \\int_{-\\infty }^{\\infty } y*p(y) = \\int_{-\\infty }^{\\infty } \\left\\{\\begin{matrix}\n",
    "c*y^2(1-y)^4, & 0<=y<=1\\\\ \n",
    " 0, & en otro caso\n",
    "\\end{matrix}\\right. * y dy $$"
   ]
  },
  {
   "cell_type": "markdown",
   "id": "a6881a20",
   "metadata": {},
   "source": [
    "Entonces resolviendo la integral en Python tenemos:"
   ]
  },
  {
   "cell_type": "code",
   "execution_count": 217,
   "id": "b62b4fdf",
   "metadata": {},
   "outputs": [],
   "source": [
    "import numpy as np\n",
    "from scipy.integrate import quad\n",
    "\n",
    "def f_y(y):\n",
    "    return np.piecewise(y, [y<=0,(y>0)&(y<1),  y>1], [0, lambda y: 105*(y**2)*(1-y)**4, 0])\n",
    "\n",
    "##Se define la función que integrará y por lo tanto calculará la media \n",
    "def mean_f(f, a, b):\n",
    "    integrand = lambda y: y*f(y)\n",
    "    ## FUNCIÓN QUE REALIZA LA INTEGRACIÓN!\n",
    "    return quad(integrand, a, b)[0]\n",
    "\n",
    "##Aqui se usa/llama la función que integra y calcula media \n",
    "mean_Y2 = round(mean_f(f_y, 0, 4),2)\n"
   ]
  },
  {
   "cell_type": "code",
   "execution_count": 218,
   "id": "7a11ec60",
   "metadata": {},
   "outputs": [
    {
     "data": {
      "text/html": [
       "<span style=\"color:red\">_La MEDIA de la variable Y sería: 0.37 </span>"
      ],
      "text/plain": [
       "<IPython.core.display.HTML object>"
      ]
     },
     "execution_count": 218,
     "metadata": {},
     "output_type": "execute_result"
    }
   ],
   "source": [
    "from IPython.core.display import HTML\n",
    "\n",
    "\n",
    "texto = f'<span style=\"color:red\">_La MEDIA de la variable Y sería: {mean_Y2} </span>'\n",
    "\n",
    "HTML(texto)"
   ]
  },
  {
   "cell_type": "markdown",
   "id": "a9cae046",
   "metadata": {},
   "source": [
    "Y para el cálculo de la varianza tenemos:"
   ]
  },
  {
   "cell_type": "markdown",
   "id": "0ca9277a",
   "metadata": {},
   "source": [
    "$$E(X) = \\int_{-\\infty }^{\\infty } (Y-\\mu )^2 *p(y) = \\int_{-\\infty }^{\\infty } \\left\\{\\begin{matrix}\n",
    "c*y^2(1-y)^4, & 0<=y<=1\\\\ \n",
    " 0, & en otro caso\n",
    "\\end{matrix}\\right. * (Y-\\mu )^2  dy $$"
   ]
  },
  {
   "cell_type": "code",
   "execution_count": 219,
   "id": "5bfa98de",
   "metadata": {},
   "outputs": [],
   "source": [
    "import numpy as np\n",
    "from scipy.integrate import quad\n",
    "\n",
    "def f_y(y):\n",
    "    return np.piecewise(y, [y<=0,(y>0)&(y<1),  y>1], [0, lambda y: 105*(y**2)*(1-y)**4, 0])\n",
    "\n",
    "##Se define la función que integrará y por lo tanto calculará la varianza\n",
    "def variance_f(f, mean, a, b):\n",
    "    integrand = lambda y: (y-mean_Y2)**2*f(y)\n",
    "    return quad(integrand, a, b)[0]\n",
    "\n",
    "##Aqui se usa/llama la función que integra y calcula varianza \n",
    "variance_Y2 = round(variance_f(f_y, mean_Y2, 0, 4),2)\n"
   ]
  },
  {
   "cell_type": "code",
   "execution_count": 220,
   "id": "248afdfc",
   "metadata": {},
   "outputs": [
    {
     "data": {
      "text/html": [
       "<span style=\"color:red\">_La VARIANZA de la variable Y sería: 0.03 </span>"
      ],
      "text/plain": [
       "<IPython.core.display.HTML object>"
      ]
     },
     "execution_count": 220,
     "metadata": {},
     "output_type": "execute_result"
    }
   ],
   "source": [
    "from IPython.core.display import HTML\n",
    "\n",
    "\n",
    "texto = f'<span style=\"color:red\">_La VARIANZA de la variable Y sería: {variance_Y2} </span>'\n",
    "\n",
    "HTML(texto)"
   ]
  },
  {
   "cell_type": "markdown",
   "id": "da6e9d62",
   "metadata": {},
   "source": [
    "#### c) Genere 30 valores aleatorios de 𝑌 y calcule el promedio de dichos valores. Muestre paso a  paso su procedimiento realizado ya sea manualmente o con algún software, en cuyo caso es necesario mostrar la codificación"
   ]
  },
  {
   "cell_type": "markdown",
   "id": "1431f2bc",
   "metadata": {},
   "source": [
    "__Paso 1. Se generan los 30 numeros aleatorios ente [0,1] con una probabilida de distribución uniforme__"
   ]
  },
  {
   "cell_type": "code",
   "execution_count": 221,
   "id": "e96ee573",
   "metadata": {},
   "outputs": [
    {
     "name": "stdout",
     "output_type": "stream",
     "text": [
      "[0.2418072199090664, 0.8756324540668448, 0.05311413255923336, 0.5194537042228833, 0.9862244244520539, 0.6909687448481003, 0.2223031945701036, 0.6658146095458647, 0.8518902635224037, 0.11874554679164107, 0.2578849162390534, 0.21362979249809466, 0.3432715363953813, 0.1032094775749145, 0.7436542053368869, 0.6261066908323387, 0.4378862156350616, 0.7284075041949227, 0.00037576682906215186, 0.10958114472596725, 0.7533607660447219, 0.1643865069310475, 0.4299471063033371, 0.2234789904229525, 0.07866138516534105, 0.2466890802750723, 0.21202778815668144, 0.7787760907206084, 0.17508535984579665, 0.41172288459055806]\n"
     ]
    }
   ],
   "source": [
    "import random\n",
    "\n",
    "# generate 30 random numbers between 0 and 1\n",
    "random_numbers_30 = [random.random() for _ in range(30)]\n",
    "\n",
    "print(random_numbers_30)\n"
   ]
  },
  {
   "cell_type": "markdown",
   "id": "7e324931",
   "metadata": {},
   "source": [
    "__Paso 2. Igualar el valor aleatorio con la funcion acumulada de probabilidad de la variable x__"
   ]
  },
  {
   "cell_type": "markdown",
   "id": "b6265028",
   "metadata": {},
   "source": [
    "Se procede a igular el valor aleatorio generado ri con la funcion de distribucion acumulada:  $$r_{i}= F(y{_{i}})$$"
   ]
  },
  {
   "cell_type": "markdown",
   "id": "a55f156e",
   "metadata": {},
   "source": [
    "Que en nuestro caso recodar que $$F(y{_{i})} = \\int_{0}^{1}105*y^2*(1-y)^4 dy $$"
   ]
  },
  {
   "cell_type": "markdown",
   "id": "c6922bbf",
   "metadata": {},
   "source": [
    "Y resolviendo en Python tenemos: "
   ]
  },
  {
   "cell_type": "code",
   "execution_count": 222,
   "id": "b61c4c10",
   "metadata": {},
   "outputs": [
    {
     "name": "stdout",
     "output_type": "stream",
     "text": [
      "The antiderivative of f(y) = 105*y^2*(1-y)^4 with respect to y is:\n",
      "15*y**7 - 70*y**6 + 126*y**5 - 105*y**4 + 35*y**3\n"
     ]
    }
   ],
   "source": [
    "import sympy as sym\n",
    "\n",
    "# define the symbol y and the constant c\n",
    "y = sym.symbols('y')\n",
    "\n",
    "# define the integrand\n",
    "f_ = 105 * y**2 * (1-y)**4\n",
    "\n",
    "# integrate the function with respect to y\n",
    "F_ = sym.integrate(f_, y)\n",
    "\n",
    "# print the result\n",
    "print(\"The antiderivative of f(y) = 105*y^2*(1-y)^4 with respect to y is:\")\n",
    "print(F_)"
   ]
  },
  {
   "cell_type": "markdown",
   "id": "bf959bda",
   "metadata": {},
   "source": [
    "Es decir: \n",
    " "
   ]
  },
  {
   "cell_type": "markdown",
   "id": "c797167a",
   "metadata": {},
   "source": [
    "\n",
    "    \n",
    "  $$  valor_random_i = 15y^7 -70y^6 +125y^5 -105y^4 +35y^3 $$"
   ]
  },
  {
   "cell_type": "markdown",
   "id": "a90c5e26",
   "metadata": {},
   "source": [
    "Entonces para nuestro primer valor simulado que es 0.105, lo igualamos a nuestra F(yi): "
   ]
  },
  {
   "cell_type": "markdown",
   "id": "664ced01",
   "metadata": {},
   "source": [
    "__Paso 3. Calcular el valor de la variable x para cada elemento previamente simulado__"
   ]
  },
  {
   "cell_type": "markdown",
   "id": "c49fade6",
   "metadata": {},
   "source": [
    "Te calcula las 7 soluciones por cada valor de ri"
   ]
  },
  {
   "cell_type": "code",
   "execution_count": 223,
   "id": "fca50dd3",
   "metadata": {},
   "outputs": [
    {
     "name": "stdout",
     "output_type": "stream",
     "text": [
      "[ 1.79584535+0.j          0.96850278+0.63368849j  0.96850278-0.63368849j\n",
      "  0.88154565+0.j          0.157833  +0.j         -0.1055629 +0.j        ]\n"
     ]
    }
   ],
   "source": [
    "import numpy as np\n",
    "\n",
    "# Define the coefficients of the polynomial\n",
    "coeffs = [15, -70, 125, -105, 35, 0, -0.53]\n",
    "\n",
    "# Find the roots of the polynomial\n",
    "roots = np.roots(coeffs)\n",
    "\n",
    "# Print the roots\n",
    "print(roots)\n"
   ]
  },
  {
   "cell_type": "markdown",
   "id": "a163c422",
   "metadata": {},
   "source": [
    "Te calcula solo soluciones reales para todos los valres en random_numbers_30 "
   ]
  },
  {
   "cell_type": "code",
   "execution_count": 225,
   "id": "3029d83a",
   "metadata": {},
   "outputs": [
    {
     "name": "stdout",
     "output_type": "stream",
     "text": [
      "For 0.2418072199090664: [1.7870509445124372, 0.9461389771044434, 0.2496072070006195]\n",
      "For 0.8756324540668448: [1.794933320132203]\n",
      "For 0.05311413255923336: [1.7845952698235719, 0.9891440129051062, 0.13184876621641745]\n",
      "For 0.5194537042228833: [1.7905705076883516, 0.8633860467138114, 0.37602979502211914]\n",
      "For 0.9862244244520539: [1.796255250238559]\n",
      "For 0.6909687448481003: [1.792691942057852, 0.7874963402913643, 0.4653687834507372]\n",
      "For 0.2223031945701036: [1.7867995697627168, 0.9509582508624214, 0.23999222049371935]\n",
      "For 0.6658146095458647: [1.7923832470353556, 0.8009420398814632, 0.4504067971457991]\n",
      "For 0.8518902635224037: [1.7946475586480353]\n",
      "For 0.11874554679164107: [1.78545546533382, 0.9750350902512301, 0.18228019518380992]\n",
      "For 0.2578849162390534: [1.787257742053146, 0.9420908847241949, 0.25735745506169205]\n",
      "For 0.21362979249809466: [1.7866876048466378, 0.9530702707121939, 0.2356293010105158]\n",
      "For 0.3432715363953813: [1.7883497628468228, 0.9193246557760796, 0.296752028285372]\n",
      "For 0.1032094775749145: [1.7852524338166222, 0.97844899804414, 0.17195860225333942]\n",
      "For 0.7436542053368869: [1.793335847428453, 0.7544750918389745, 0.5011085402237775]\n",
      "For 0.6261066908323387: [1.791894260332239, 0.8201298255352014, 0.4285236895305332]\n",
      "For 0.4378862156350616: [1.789547717088384, 0.891094426913375, 0.33897807648760186]\n",
      "For 0.7284075041949227: [1.7931498750010662, 0.7648946250439753, 0.4899644326657852]\n",
      "For 0.00037576682906215186: [1.7838992682539152, 0.9999248353355833, 0.02256767161208129]\n",
      "For 0.10958114472596725: [1.7853357454302934, 0.9770546524295374, 0.1762744703742382]\n",
      "For 0.7533607660447219: [1.7934540883477665, 0.7473475169249615, 0.5086716231768842]\n",
      "For 0.1643865069310475: [1.7860498193733279, 0.9647193208562508, 0.2095193886364268]\n",
      "For 0.4299471063033371: [1.7894476778575479, 0.8936074613718288, 0.3354328489417036]\n",
      "For 0.2234789904229525: [1.786814739608707, 0.9506704858409156, 0.2405792839078753]\n",
      "For 0.07866138516534105: [1.7849308837008735, 0.9837479775656228, 0.15397252674713868]\n",
      "For 0.2466890802750723: [1.7871137766854854, 0.9449171573835677, 0.25197591306530776]\n",
      "For 0.21202778815668144: [1.7866669124859242, 0.9534583211934369, 0.23481696887491751]\n",
      "For 0.7787760907206084: [1.793763116125916, 0.7261613988048168, 0.530904647103034]\n",
      "For 0.17508535984579665: [1.786188693498851, 0.9622360927901992, 0.21542057620615002]\n",
      "For 0.41172288459055806: [1.789217706543183, 0.899268529304757, 0.3273112787660425]\n"
     ]
    }
   ],
   "source": [
    "from numpy import roots\n",
    "\n",
    "random_numbers_30 \n",
    "\n",
    "for i in range(len(random_numbers_30)):\n",
    "    roots_of_equation = roots([15, -70, 125, -105, 35, 0, 0, -random_numbers_30[i]])\n",
    "    real_roots = [root.real for root in roots_of_equation if root.imag == 0]\n",
    "    print(f\"For {random_numbers_30[i]}: {real_roots}\")\n"
   ]
  },
  {
   "cell_type": "code",
   "execution_count": 226,
   "id": "4d51b497",
   "metadata": {},
   "outputs": [
    {
     "data": {
      "text/plain": [
       "list"
      ]
     },
     "execution_count": 226,
     "metadata": {},
     "output_type": "execute_result"
    }
   ],
   "source": [
    "type(real_roots)"
   ]
  },
  {
   "cell_type": "markdown",
   "id": "9b247b9a",
   "metadata": {},
   "source": [
    "Te calcula solo soluciones reales para todos los valores en random_numbers_30 y las guarda en all_real_roots"
   ]
  },
  {
   "cell_type": "code",
   "execution_count": 227,
   "id": "970074a3",
   "metadata": {},
   "outputs": [
    {
     "name": "stdout",
     "output_type": "stream",
     "text": [
      "[[1.7870509445124372, 0.9461389771044434, 0.2496072070006195], [1.794933320132203], [1.7845952698235719, 0.9891440129051062, 0.13184876621641745], [1.7905705076883516, 0.8633860467138114, 0.37602979502211914], [1.796255250238559], [1.792691942057852, 0.7874963402913643, 0.4653687834507372], [1.7867995697627168, 0.9509582508624214, 0.23999222049371935], [1.7923832470353556, 0.8009420398814632, 0.4504067971457991], [1.7946475586480353], [1.78545546533382, 0.9750350902512301, 0.18228019518380992], [1.787257742053146, 0.9420908847241949, 0.25735745506169205], [1.7866876048466378, 0.9530702707121939, 0.2356293010105158], [1.7883497628468228, 0.9193246557760796, 0.296752028285372], [1.7852524338166222, 0.97844899804414, 0.17195860225333942], [1.793335847428453, 0.7544750918389745, 0.5011085402237775], [1.791894260332239, 0.8201298255352014, 0.4285236895305332], [1.789547717088384, 0.891094426913375, 0.33897807648760186], [1.7931498750010662, 0.7648946250439753, 0.4899644326657852], [1.7838992682539152, 0.9999248353355833, 0.02256767161208129], [1.7853357454302934, 0.9770546524295374, 0.1762744703742382], [1.7934540883477665, 0.7473475169249615, 0.5086716231768842], [1.7860498193733279, 0.9647193208562508, 0.2095193886364268], [1.7894476778575479, 0.8936074613718288, 0.3354328489417036], [1.786814739608707, 0.9506704858409156, 0.2405792839078753], [1.7849308837008735, 0.9837479775656228, 0.15397252674713868], [1.7871137766854854, 0.9449171573835677, 0.25197591306530776], [1.7866669124859242, 0.9534583211934369, 0.23481696887491751], [1.793763116125916, 0.7261613988048168, 0.530904647103034], [1.786188693498851, 0.9622360927901992, 0.21542057620615002], [1.789217706543183, 0.899268529304757, 0.3273112787660425]]\n"
     ]
    }
   ],
   "source": [
    "from numpy import roots\n",
    "\n",
    "random_numbers_30  # your list of 30 random numbers\n",
    "\n",
    "all_real_roots = []  # create an empty list to store real roots for each iteration\n",
    "\n",
    "for i in range(len(random_numbers_30)):\n",
    "    roots_of_equation = roots([15, -70, 125, -105, 35, 0, 0, -random_numbers_30[i]])\n",
    "    real_roots = [root.real for root in roots_of_equation if root.imag == 0]\n",
    "    all_real_roots.append(real_roots)  # append the real roots to the list of all real roots\n",
    "\n",
    "print(all_real_roots)"
   ]
  },
  {
   "cell_type": "code",
   "execution_count": 228,
   "id": "c5248b28",
   "metadata": {},
   "outputs": [
    {
     "data": {
      "text/plain": [
       "[1.7870509445124372, 0.9461389771044434, 0.2496072070006195]"
      ]
     },
     "execution_count": 228,
     "metadata": {},
     "output_type": "execute_result"
    }
   ],
   "source": [
    "all_real_roots[0]"
   ]
  },
  {
   "cell_type": "markdown",
   "id": "7ab25f31",
   "metadata": {},
   "source": [
    "Te Guarda el valor mínimo entre 0 y 1 como resultado de resolver la ecuación de F(xi)=ri para cada i en los 30 elementos simulados anteriormente"
   ]
  },
  {
   "cell_type": "code",
   "execution_count": 229,
   "id": "f9f574bb",
   "metadata": {},
   "outputs": [],
   "source": [
    "final_real_roots = []\n",
    "\n",
    "for roots_list in all_real_roots:\n",
    "    smallest_root = min(roots_list)\n",
    "    final_real_roots.append(smallest_root)"
   ]
  },
  {
   "cell_type": "code",
   "execution_count": 230,
   "id": "86a70b5f",
   "metadata": {},
   "outputs": [
    {
     "data": {
      "text/html": [
       "<span style=\"color:red\">La lista de los 30 números simulados finales es:</span><span style=\"color:orange\"> [0.2496072070006195, 1.794933320132203, 0.13184876621641745, 0.37602979502211914, 1.796255250238559, 0.4653687834507372, 0.23999222049371935, 0.4504067971457991, 1.7946475586480353, 0.18228019518380992, 0.25735745506169205, 0.2356293010105158, 0.296752028285372, 0.17195860225333942, 0.5011085402237775, 0.4285236895305332, 0.33897807648760186, 0.4899644326657852, 0.02256767161208129, 0.1762744703742382, 0.5086716231768842, 0.2095193886364268, 0.3354328489417036, 0.2405792839078753, 0.15397252674713868, 0.25197591306530776, 0.23481696887491751, 0.530904647103034, 0.21542057620615002, 0.3273112787660425] </span>"
      ],
      "text/plain": [
       "<IPython.core.display.HTML object>"
      ]
     },
     "execution_count": 230,
     "metadata": {},
     "output_type": "execute_result"
    }
   ],
   "source": [
    "from IPython.core.display import HTML\n",
    "\n",
    "\n",
    "texto = f'<span style=\"color:red\">La lista de los 30 números simulados finales es:</span>' + f'<span style=\"color:orange\"> {final_real_roots} </span>'\n",
    "\n",
    "HTML(texto)"
   ]
  },
  {
   "cell_type": "markdown",
   "id": "2f247f38",
   "metadata": {},
   "source": [
    "El promedio de los valores simulados es:"
   ]
  },
  {
   "cell_type": "code",
   "execution_count": 232,
   "id": "2ce51e21",
   "metadata": {},
   "outputs": [],
   "source": [
    "import numpy as np\n",
    "\n",
    "average_final_real_roots = round(np.mean(final_real_roots),2)\n"
   ]
  },
  {
   "cell_type": "code",
   "execution_count": 233,
   "id": "5cff2dec",
   "metadata": {},
   "outputs": [
    {
     "data": {
      "text/html": [
       "<span style=\"color:red\">El valor promedio de los valores simulados es : 0.45:</span>"
      ],
      "text/plain": [
       "<IPython.core.display.HTML object>"
      ]
     },
     "execution_count": 233,
     "metadata": {},
     "output_type": "execute_result"
    }
   ],
   "source": [
    "from IPython.core.display import HTML\n",
    "\n",
    "\n",
    "texto = f'<span style=\"color:red\">El valor promedio de los valores simulados es : {average_final_real_roots}:</span>'\n",
    "HTML(texto)"
   ]
  },
  {
   "cell_type": "code",
   "execution_count": null,
   "id": "08b849f9",
   "metadata": {},
   "outputs": [],
   "source": []
  },
  {
   "cell_type": "markdown",
   "id": "40ccc8db",
   "metadata": {},
   "source": [
    "### Problema 5"
   ]
  },
  {
   "cell_type": "markdown",
   "id": "5f094d55",
   "metadata": {},
   "source": [
    "Considere la v.a. X con función de probabilidad"
   ]
  },
  {
   "cell_type": "markdown",
   "id": "3844207d",
   "metadata": {},
   "source": [
    "|x| -5|-1|1|1.5|3\n",
    "| :- | -: | :-:| :-:| :-:| :-:  \n",
    "| fx(X) | 0.2 | 0.01| 0.3| 0.29| 0.2\n"
   ]
  },
  {
   "cell_type": "code",
   "execution_count": null,
   "id": "3517fe21",
   "metadata": {},
   "outputs": [],
   "source": []
  },
  {
   "cell_type": "markdown",
   "id": "1ec9251e",
   "metadata": {},
   "source": [
    "Construya muestras de la v.a. X, de los tamaños indicados en clase, y en cada caso sobreponga la gráfica de la distribución de X (histograma de probabilidad) al histograma de frecuencias de la  muestra correspondiente.\n",
    "Adicionalmente, calcule la media y la varianza de cada muestra y compárelas con 𝐸(𝑋) y 𝑉𝑎𝑟(𝑋)"
   ]
  },
  {
   "cell_type": "markdown",
   "id": "be60dbc9",
   "metadata": {},
   "source": [
    "Creamos los objetos \"tipo lista\" de los valores de x y f(x) "
   ]
  },
  {
   "cell_type": "code",
   "execution_count": 234,
   "id": "dd2e1e5e",
   "metadata": {},
   "outputs": [
    {
     "data": {
      "text/plain": [
       "[0.2, 0.01, 0.3, 0.29, 0.2]"
      ]
     },
     "execution_count": 234,
     "metadata": {},
     "output_type": "execute_result"
    }
   ],
   "source": [
    "x1 = [-5,-1,1,1.5,3]\n",
    "x1\n",
    "fx1 =  [0.2,0.01,0.3,0.29,0.2]\n",
    "fx1 "
   ]
  },
  {
   "cell_type": "markdown",
   "id": "a088aa02",
   "metadata": {},
   "source": [
    "Importamos las librerias necesarias para realizar las muestras de tamaño n"
   ]
  },
  {
   "cell_type": "code",
   "execution_count": 235,
   "id": "de8acc7d",
   "metadata": {},
   "outputs": [],
   "source": [
    "from random import random \n",
    "import numpy as np\n",
    "import matplotlib.pyplot as plt"
   ]
  },
  {
   "cell_type": "markdown",
   "id": "0351b2c5",
   "metadata": {},
   "source": [
    "Usamos la función np.random.choice (previamente usada y explicada en el problema 2 inciso c)"
   ]
  },
  {
   "cell_type": "markdown",
   "id": "0173fdac",
   "metadata": {},
   "source": [
    "__Se generarán entonces los números para tamaño de muestra n=10__"
   ]
  },
  {
   "cell_type": "code",
   "execution_count": 236,
   "id": "e7533a41",
   "metadata": {},
   "outputs": [
    {
     "name": "stdout",
     "output_type": "stream",
     "text": [
      "[-5.   1.  -5.   1.   3.   1.5  1.   1.   1.   1. ]\n"
     ]
    }
   ],
   "source": [
    "random_numbers_fx1_10 = np.random.choice(x1, size=10, p=fx1)\n",
    "print(random_numbers_fx1_10)"
   ]
  },
  {
   "cell_type": "markdown",
   "id": "452375c3",
   "metadata": {},
   "source": [
    "Graficamos el reusltado para tamaño de muestra n=10"
   ]
  },
  {
   "cell_type": "code",
   "execution_count": 237,
   "id": "9b02f59a",
   "metadata": {},
   "outputs": [
    {
     "data": {
      "image/png": "[encoded data removed]",
      "text/plain": [
       "<Figure size 640x480 with 1 Axes>"
      ]
     },
     "metadata": {},
     "output_type": "display_data"
    }
   ],
   "source": [
    "plt.hist(random_numbers_fx1_10, bins=25, density=True)\n",
    "plt.xlabel('Random Numbers')\n",
    "plt.ylabel('Frequency')\n",
    "plt.title('Histogram of Random Numbers')\n",
    "plt.show()"
   ]
  },
  {
   "cell_type": "markdown",
   "id": "909f5512",
   "metadata": {},
   "source": [
    "Calculamos el promedio para tamaño de muestra n=10"
   ]
  },
  {
   "cell_type": "code",
   "execution_count": 238,
   "id": "4263dc19",
   "metadata": {},
   "outputs": [
    {
     "data": {
      "text/plain": [
       "0.05"
      ]
     },
     "execution_count": 238,
     "metadata": {},
     "output_type": "execute_result"
    }
   ],
   "source": [
    "import numpy as np\n",
    "\n",
    "average_random_numbers_fx1_10= round(np.mean(random_numbers_fx1_10),2)\n",
    "average_random_numbers_fx1_10"
   ]
  },
  {
   "cell_type": "markdown",
   "id": "745e3231",
   "metadata": {},
   "source": [
    "Calculamos la varianza para tamaño de muestra n=10"
   ]
  },
  {
   "cell_type": "code",
   "execution_count": 239,
   "id": "74f9c033",
   "metadata": {},
   "outputs": [
    {
     "data": {
      "text/plain": [
       "6.72"
      ]
     },
     "execution_count": 239,
     "metadata": {},
     "output_type": "execute_result"
    }
   ],
   "source": [
    "import numpy as np\n",
    "\n",
    "variance_random_numbers_fx1_10= round(np.var(random_numbers_fx1_10),2)\n",
    "variance_random_numbers_fx1_10"
   ]
  },
  {
   "cell_type": "markdown",
   "id": "5f081a23",
   "metadata": {},
   "source": [
    "__Se generarán entonces los números para tamaño de muestra n=100__"
   ]
  },
  {
   "cell_type": "code",
   "execution_count": 240,
   "id": "ec3da615",
   "metadata": {},
   "outputs": [
    {
     "name": "stdout",
     "output_type": "stream",
     "text": [
      "[ 3.  -5.   3.  -5.   1.5  3.   1.   1.5  1.  -5.  -5.  -5.   1.5  1.5\n",
      "  1.5  1.   1.5  1.  -5.   1.   3.   1.5  1.5  1.   3.   1.   1.5  1.\n",
      "  1.   1.5  1.   1.   1.5  3.   3.   3.   1.5 -5.  -5.   1.5  1.   1.\n",
      "  1.   3.   1.   1.   1.   1.   1.  -5.   1.   3.   1.5  1.  -5.  -5.\n",
      "  1.  -5.   1.   3.   1.5  1.   3.   1.   1.5  1.5  1.   1.5 -5.   3.\n",
      "  1.   3.   1.   1.   1.5  1.5  1.   3.   1.  -5.  -5.   1.5  1.   1.5\n",
      "  1.5  1.5  1.5 -5.   1.5  1.   3.   1.5  1.5  1.   3.   1.   1.5  3.\n",
      "  1.   1.5]\n"
     ]
    }
   ],
   "source": [
    "random_numbers_fx1_100 = np.random.choice(x1, size=100, p=fx1)\n",
    "print(random_numbers_fx1_100)"
   ]
  },
  {
   "cell_type": "markdown",
   "id": "3bcd5a01",
   "metadata": {},
   "source": [
    "Graficamos el reusltado para tamaño de muestra n=100"
   ]
  },
  {
   "cell_type": "code",
   "execution_count": 241,
   "id": "78ff1ebb",
   "metadata": {},
   "outputs": [
    {
     "data": {
      "image/png": "[encoded data removed]",
      "text/plain": [
       "<Figure size 640x480 with 1 Axes>"
      ]
     },
     "metadata": {},
     "output_type": "display_data"
    }
   ],
   "source": [
    "plt.hist(random_numbers_fx1_100, bins=25, density=True)\n",
    "plt.xlabel('Random Numbers')\n",
    "plt.ylabel('Frequency')\n",
    "plt.title('Histogram of Random Numbers')\n",
    "plt.show()"
   ]
  },
  {
   "cell_type": "markdown",
   "id": "652e763e",
   "metadata": {},
   "source": [
    "Calculamos el promedio para tamaño de muestra n=100"
   ]
  },
  {
   "cell_type": "code",
   "execution_count": 242,
   "id": "8503acc2",
   "metadata": {},
   "outputs": [
    {
     "data": {
      "text/plain": [
       "0.55"
      ]
     },
     "execution_count": 242,
     "metadata": {},
     "output_type": "execute_result"
    }
   ],
   "source": [
    "import numpy as np\n",
    "\n",
    "average_random_numbers_fx1_100= round(np.mean(random_numbers_fx1_100),2)\n",
    "average_random_numbers_fx1_100"
   ]
  },
  {
   "cell_type": "markdown",
   "id": "cec35e7f",
   "metadata": {},
   "source": [
    "Calculamos la varianza para tamaño de muestra n=100"
   ]
  },
  {
   "cell_type": "code",
   "execution_count": 243,
   "id": "0a29062f",
   "metadata": {},
   "outputs": [
    {
     "data": {
      "text/plain": [
       "6.35"
      ]
     },
     "execution_count": 243,
     "metadata": {},
     "output_type": "execute_result"
    }
   ],
   "source": [
    "import numpy as np\n",
    "\n",
    "variance_random_numbers_fx1_100= round(np.var(random_numbers_fx1_100),2)\n",
    "variance_random_numbers_fx1_100"
   ]
  },
  {
   "cell_type": "markdown",
   "id": "10efbc89",
   "metadata": {},
   "source": [
    "__Se generarán entonces los números para tamaño de muestra n=1000__"
   ]
  },
  {
   "cell_type": "code",
   "execution_count": 244,
   "id": "ed8bf304",
   "metadata": {},
   "outputs": [
    {
     "name": "stdout",
     "output_type": "stream",
     "text": [
      "[ 1.   1.  -5.   3.  -5.  -5.   1.5  3.   3.   1.5  3.  -5.   1.5 -5.\n",
      "  1.   1.  -5.   1.   1.   1.5  1.5  1.5 -5.   1.5  3.   1.5  1.   1.\n",
      "  1.5  1.  -5.   1.   3.  -5.   1.5 -5.   3.   3.   1.   1.   1.5  1.5\n",
      "  1.   3.   1.   1.5  1.   1.  -5.   3.   1.   1.   1.  -5.   1.   1.5\n",
      "  1.   1.   1.  -5.  -5.   1.   1.5  1.5  3.  -5.   1.   3.   3.   1.\n",
      " -5.  -5.   1.  -5.   1.   1.  -5.   1.   3.  -5.   3.  -5.   1.5 -5.\n",
      " -5.   3.  -5.   1.5  3.   1.   1.   1.5  1.5  1.5  1.  -5.   1.5  3.\n",
      "  1.5 -5.   3.   1.   1.5  3.  -5.  -5.  -5.   1.5  1.5  1.   1.   1.\n",
      "  3.   1.  -5.   1.5  1.5  1.5  1.   3.   1.5  1.  -5.   1.5  1.   1.\n",
      " -5.  -5.   1.5  1.  -5.   1.   1.   1.5  1.  -5.   1.   3.   1.5  1.\n",
      "  1.   1.5  1.5  3.   3.  -5.   1.  -5.   1.5  1.   1.  -5.   3.   1.\n",
      " -5.   1.5 -5.   1.   1.5 -5.  -5.   1.   1.5  1.   1.5  1.5 -5.   1.\n",
      "  1.5  1.   1.   3.  -5.   1.5  1.5 -5.   1.   1.5  3.   1.5  1.5  1.5\n",
      "  1.5  1.   1.  -5.  -5.   1.   1.   3.   1.   1.   1.5  1.5  1.5  1.5\n",
      "  1.   3.  -5.   1.5  3.  -5.   1.   1.   1.   3.   1.5 -5.  -5.   1.\n",
      "  3.   1.   1.5  1.   1.   1.   1.5  1.5  3.  -5.   1.   1.5  1.   3.\n",
      " -5.   1.5  1.5 -5.   1.5 -5.   3.   1.5  1.5  3.  -5.   1.5  1.  -1.\n",
      "  3.   1.5  1.   1.5  1.   1.   1.5  1.5 -5.   1.   1.   1.5 -5.   1.5\n",
      "  1.5  1.   1.5  1.5  3.   1.   1.   1.  -5.   1.   3.   3.   1.5  1.5\n",
      " -5.   1.   3.   1.   1.   3.   1.   3.  -5.   3.   3.   3.   1.   1.5\n",
      "  1.5 -1.   3.   1.   1.   3.  -5.   1.5  3.   3.   3.  -5.   3.  -5.\n",
      "  1.   1.5  1.  -5.   1.   1.   3.  -5.  -5.   3.   1.   3.   3.   1.5\n",
      "  1.5  1.5  1.5  1.5  1.   1.   1.   1.5 -1.   1.   1.   1.   1.5  1.\n",
      "  3.   1.   1.   1.5  3.   1.  -5.   1.   1.   1.5 -5.   3.   1.   1.5\n",
      "  1.5  1.5  1.   1.  -5.   1.   1.   1.   1.5  1.5 -5.   1.   1.5  1.5\n",
      " -5.   1.   3.   1.   1.   1.5  1.   1.5  1.5  1.5  1.   1.   1.  -5.\n",
      "  1.  -5.   1.   1.  -5.   1.5  1.   1.   3.   1.  -1.   1.5  1.5 -5.\n",
      "  3.   1.   3.   1.5 -5.   1.  -5.   1.5  1.   3.  -5.   3.   1.5  1.\n",
      "  1.   1.   3.  -5.   1.  -5.  -5.  -5.  -5.   3.   1.5  1.5  3.   1.5\n",
      "  3.   1.   3.   1.5  1.5  1.5  1.  -5.   1.  -5.  -1.   1.5  1.5  3.\n",
      "  1.5  1.   1.5  3.   1.   1.   3.   1.5  1.   1.5 -5.  -5.  -5.   1.\n",
      "  1.   1.5  1.5  1.5  1.   3.   1.5 -5.   3.  -5.   1.5  1.5  1.   1.\n",
      "  1.   1.5  1.5 -5.   3.   1.5  1.5  3.   1.  -1.   1.5  1.   3.  -5.\n",
      " -5.   1.   3.   1.5  1.   1.5  1.  -1.   1.   3.   1.   3.   1.   1.\n",
      "  1.5  1.5  1.   1.  -1.   1.   1.5  3.   3.   1.   1.5  1.5  1.  -5.\n",
      "  1.5  1.5  1.   3.   1.5 -5.   1.5  3.   3.   1.  -5.   3.   1.5  3.\n",
      "  3.  -5.  -5.   1.5 -5.  -5.   3.   3.   1.5  1.   1.   1.  -5.  -5.\n",
      " -5.   3.  -5.   3.  -5.   1.   1.  -5.  -5.   1.5  1.5  1.5  1.  -5.\n",
      "  1.5  1.  -1.  -5.   3.   1.5 -5.   1.5  1.5  3.  -5.   1.   1.   1.\n",
      "  3.  -5.   1.5 -5.   1.5  1.5  1.  -5.   1.   1.5 -5.   1.   1.5  3.\n",
      "  1.   1.   3.   1.   1.5  1.5  1.5  1.5  1.   1.   3.   1.5 -5.   1.\n",
      "  1.   1.5  1.5  1.5  1.5  1.   3.   1.5  3.  -5.   1.5  1.   1.5 -5.\n",
      "  1.  -1.   1.   1.5  3.   1.5  1.   1.5  3.   1.5  1.  -5.   3.  -5.\n",
      "  3.   1.5  1.  -5.   3.   1.5 -1.   3.   1.5  1.  -5.   1.5  1.5  1.\n",
      "  1.  -5.   3.   1.5  3.   1.5  1.5 -5.   3.   1.5  1.   1.5 -5.   1.5\n",
      "  3.   3.   3.   3.   1.5  1.5  3.  -5.   1.5  3.   3.   1.   3.   1.5\n",
      "  3.  -5.  -5.   1.  -5.   1.   3.   3.   1.5  3.   1.5  3.   1.5  3.\n",
      " -5.   1.5  1.   1.5  1.   3.  -5.  -5.   3.   3.   3.   1.5 -5.   1.5\n",
      "  1.5  3.   1.5  3.   1.   1.   1.   3.   3.   3.   3.   1.5  3.   1.5\n",
      " -5.   1.5  1.5 -5.   1.5  1.5  3.   1.5  1.5  3.   3.   1.5  1.   1.5\n",
      "  3.   1.   3.   1.5  1.5 -5.   1.5  3.   3.   3.  -5.   3.   1.   1.\n",
      "  1.   1.  -5.  -5.  -1.   1.5  1.5  1.   1.   1.5  3.   3.   1.   3.\n",
      "  1.   1.5  3.   3.   1.5  1.5  3.  -5.   3.   3.   1.   1.   3.   1.5\n",
      "  3.   1.5  1.5  1.5 -5.   1.5  1.   3.   1.5  1.5  1.   1.5  1.   3.\n",
      "  1.   1.   1.   1.   1.   1.   1.   1.   1.  -5.   1.5  1.   1.   1.\n",
      " -5.   3.  -5.  -5.   3.   3.   1.   1.5  1.   1.   3.   1.   3.   1.5\n",
      "  1.   3.   1.   1.   1.   3.   1.   1.   1.   3.   3.  -5.  -5.   1.\n",
      " -5.   1.  -5.   1.5 -5.   3.   3.  -5.   3.   1.   1.  -5.   1.  -5.\n",
      "  1.5  3.  -5.   1.   1.  -5.   1.   1.   3.   1.  -5.   1.5 -5.   1.5\n",
      "  1.   3.  -5.  -5.   1.   1.   1.5 -5.   1.   1.   1.5  1.5  1.  -5.\n",
      "  1.5  1.  -5.  -5.  -5.   1.   3.   1.   1.5  1.5  1.5  1.   1.   1.5\n",
      "  1.   1.   1.5  1.5  1.5  3.   1.5  1.  -5.  -5.   1.5  3.   1.5  1.5\n",
      "  3.   3.  -5.   1.5  1.   1.   1.   1.5  3.   1.   1.5  1.   1.5  1.\n",
      "  1.   1.   1.  -5.   1.   1.  -5.   1.5  1.   1.  -5.  -5.   1.   1.\n",
      "  1.5 -1.   1.   3.   1.   1.5  1.   1.   1.5  3.  -5.   1.   3.   1.5\n",
      "  3.   1.   1.   1.   3.   1.5  3.   1.5  1.   1.5  1.5  1.   1.   1.\n",
      "  1.5 -1.   1.   1.5  1.   1.  -5.   1.5  3.   1.5  1.5  3.   1.   1.5\n",
      "  1.   1.   1.5  1.   1.5  1.5 -5.   3.   1.   1.5 -5.   1.  -5.   3.\n",
      "  1.   1.5  1.   1.5  3.   1.   1.5 -5.   1.   1.5  1.  -5.   3.   3.\n",
      "  3.   1.5  1.  -5.  -5.   1.5  1.5  3.  -5.  -5.   1.   3.   1.5  1.\n",
      " -5.  -5.   1.5 -5.   1.5  3.   1.   1.   1.5  3.   1.5  1.5 -5.   1.5\n",
      "  3.   3.   1.   3.   3.   1.5]\n"
     ]
    }
   ],
   "source": [
    "random_numbers_fx1_1000 = np.random.choice(x1, size=1000, p=fx1)\n",
    "print(random_numbers_fx1_1000)"
   ]
  },
  {
   "cell_type": "markdown",
   "id": "d3ea227d",
   "metadata": {},
   "source": [
    "Graficamos el reusltado para tamaño de muestra n=1000"
   ]
  },
  {
   "cell_type": "code",
   "execution_count": 245,
   "id": "131c5448",
   "metadata": {},
   "outputs": [
    {
     "data": {
      "image/png": "[encoded data removed]",
      "text/plain": [
       "<Figure size 640x480 with 1 Axes>"
      ]
     },
     "metadata": {},
     "output_type": "display_data"
    }
   ],
   "source": [
    "plt.hist(random_numbers_fx1_1000, bins=25, density=True)\n",
    "plt.xlabel('Random Numbers')\n",
    "plt.ylabel('Frequency')\n",
    "plt.title('Histogram of Random Numbers')\n",
    "plt.show()"
   ]
  },
  {
   "cell_type": "markdown",
   "id": "fc0da76e",
   "metadata": {},
   "source": [
    "Calculamos el promedio para tamaño de muestra n=1000"
   ]
  },
  {
   "cell_type": "code",
   "execution_count": 246,
   "id": "0d2e7efc",
   "metadata": {},
   "outputs": [
    {
     "data": {
      "text/plain": [
       "0.39"
      ]
     },
     "execution_count": 246,
     "metadata": {},
     "output_type": "execute_result"
    }
   ],
   "source": [
    "import numpy as np\n",
    "\n",
    "average_random_numbers_fx1_1000= round(np.mean(random_numbers_fx1_1000),2)\n",
    "average_random_numbers_fx1_1000"
   ]
  },
  {
   "cell_type": "markdown",
   "id": "e1034d28",
   "metadata": {},
   "source": [
    "Calculamos la varianza para tamaño de muestra n=1000"
   ]
  },
  {
   "cell_type": "code",
   "execution_count": 247,
   "id": "716408ee",
   "metadata": {},
   "outputs": [
    {
     "data": {
      "text/plain": [
       "7.29"
      ]
     },
     "execution_count": 247,
     "metadata": {},
     "output_type": "execute_result"
    }
   ],
   "source": [
    "import numpy as np\n",
    "\n",
    "variance_random_numbers_fx1_1000= round(np.var(random_numbers_fx1_1000),2)\n",
    "variance_random_numbers_fx1_1000"
   ]
  },
  {
   "cell_type": "code",
   "execution_count": null,
   "id": "e593814d",
   "metadata": {},
   "outputs": [],
   "source": []
  }
 ],
 "metadata": {
  "kernelspec": {
   "display_name": "Python 3 (ipykernel)",
   "language": "python",
   "name": "python3"
  },
  "language_info": {
   "codemirror_mode": {
    "name": "ipython",
    "version": 3
   },
   "file_extension": ".py",
   "mimetype": "text/x-python",
   "name": "python",
   "nbconvert_exporter": "python",
   "pygments_lexer": "ipython3",
   "version": "3.9.13"
  }
 },
 "nbformat": 4,
 "nbformat_minor": 5
}
