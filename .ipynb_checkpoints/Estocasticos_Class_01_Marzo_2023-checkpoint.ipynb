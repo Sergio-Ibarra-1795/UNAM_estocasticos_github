{
 "cells": [
  {
   "cell_type": "code",
   "execution_count": null,
   "id": "24a28043",
   "metadata": {},
   "outputs": [],
   "source": []
  },
  {
   "cell_type": "markdown",
   "id": "17f27e9c",
   "metadata": {},
   "source": [
    "\n",
    "## Apuntes de la clase del 01.Marzo de 2023 Sobre esperanza y varianza para variables aleatorias"
   ]
  },
  {
   "cell_type": "markdown",
   "id": "da2695cb",
   "metadata": {},
   "source": [
    "### Valor esperado"
   ]
  },
  {
   "cell_type": "code",
   "execution_count": 1,
   "id": "3a217cc4",
   "metadata": {},
   "outputs": [],
   "source": [
    "import sympy as sym\n",
    "\n",
    "# define the symbols \n",
    "c = sym.symbols('c')\n",
    "\n",
    "\n",
    "x_utilidad = [c-50000,  c-25000, c-12500, c]\n",
    "f_x = [0.002, 0.01, 0.1, 0.888]\n",
    "\n"
   ]
  },
  {
   "cell_type": "markdown",
   "id": "c122ff68",
   "metadata": {},
   "source": [
    "Utilidad esperada en función de c"
   ]
  },
  {
   "cell_type": "code",
   "execution_count": 3,
   "id": "61403377",
   "metadata": {},
   "outputs": [
    {
     "data": {
      "text/plain": [
       "[0.002*c - 100.0, 0.01*c - 250.0, 0.1*c - 1250.0, 0.888*c]"
      ]
     },
     "execution_count": 3,
     "metadata": {},
     "output_type": "execute_result"
    }
   ],
   "source": [
    "utilidad_esperada = [x * f for x, f in zip(x_utilidad, f_x)]\n",
    "utilidad_esperada"
   ]
  },
  {
   "cell_type": "code",
   "execution_count": 4,
   "id": "e85424c7",
   "metadata": {},
   "outputs": [
    {
     "data": {
      "text/plain": [
       "list"
      ]
     },
     "execution_count": 4,
     "metadata": {},
     "output_type": "execute_result"
    }
   ],
   "source": [
    "type(utilidad_esperada)"
   ]
  },
  {
   "cell_type": "markdown",
   "id": "e68f73c0",
   "metadata": {},
   "source": [
    "Resovliendo la ecuación para el valrod de C tal que la esperanza sea 500"
   ]
  },
  {
   "cell_type": "code",
   "execution_count": 7,
   "id": "4c24314f",
   "metadata": {},
   "outputs": [
    {
     "name": "stdout",
     "output_type": "stream",
     "text": [
      "2100.00000000000\n"
     ]
    }
   ],
   "source": [
    "import sympy\n",
    "\n",
    "# Define the equation as a function of c\n",
    "c = sympy.Symbol('c')\n",
    "equation = 0.002*c - 100.0 + 0.01*c - 250.0 + 0.1*c - 1250.0 + 0.888*c - 500\n",
    "\n",
    "# Solve the equation for c\n",
    "sol = sympy.solve(equation, c)\n",
    "\n",
    "# Print the solution\n",
    "print(sol[0])\n",
    "\n"
   ]
  },
  {
   "cell_type": "markdown",
   "id": "63bae3f9",
   "metadata": {},
   "source": [
    "### Ahora tenemos otra función"
   ]
  },
  {
   "cell_type": "markdown",
   "id": "428f450b",
   "metadata": {},
   "source": [
    "$$f(y)=\\left\\{\\begin{matrix}\n",
    " x, & 0<x<1 \\\\ \n",
    " 2-x ,& 1<=x<2 \\\\ \n",
    " 0 ,& en otro caso & \n",
    "\\end{matrix}\\right.$$"
   ]
  },
  {
   "cell_type": "markdown",
   "id": "393f16ac",
   "metadata": {},
   "source": [
    "Y obtenemos su media y esperanza"
   ]
  },
  {
   "cell_type": "code",
   "execution_count": 16,
   "id": "ab4e70d8",
   "metadata": {},
   "outputs": [
    {
     "name": "stdout",
     "output_type": "stream",
     "text": [
      "La media de f(x) es:  1.0\n"
     ]
    }
   ],
   "source": [
    "import numpy as np\n",
    "from scipy.integrate import quad\n",
    "\n",
    "def f_x(x):\n",
    "    return np.piecewise(x, [(x>0) & (x<1), (x>=1) & (x<2), (x>=2)], [lambda x: x, lambda x: 2-x, 0])\n",
    "\n",
    "##Se define la función que integrará y por lo tanto calculará la media \n",
    "def mean_f(f, a, b):\n",
    "    integrand = lambda x: f(x) * x\n",
    "    ## FUNCIÓN QUE REALIZA LA INTEGRACIÓN!\n",
    "    return quad(integrand, a, b)[0]\n",
    "\n",
    "##Aqui se usa/llama la función que integra y calcula media \n",
    "mean = mean_f(f_x, 0, 2)\n",
    "\n",
    "print('La media de f(x) es: ', mean)\n"
   ]
  },
  {
   "cell_type": "code",
   "execution_count": null,
   "id": "120964c6",
   "metadata": {},
   "outputs": [],
   "source": []
  },
  {
   "cell_type": "markdown",
   "id": "81d58abb",
   "metadata": {},
   "source": [
    "### Varianza"
   ]
  },
  {
   "cell_type": "markdown",
   "id": "eac7fb15",
   "metadata": {},
   "source": [
    "La distancia de cada valor de la variabl aleatoria Y a la media \n",
    "El promedio de esas distancia se dice que es la varianza, por eso es una medida de la dispersión"
   ]
  },
  {
   "cell_type": "markdown",
   "id": "1a6b360d",
   "metadata": {},
   "source": [
    "Entonces interpretese a la varianza como una \"especie del promedio de las distancia de X con ls media Mu\""
   ]
  },
  {
   "cell_type": "markdown",
   "id": "01c30808",
   "metadata": {},
   "source": [
    "$$Var(Y) =E[(Y-\\mu )^2]$$"
   ]
  },
  {
   "cell_type": "markdown",
   "id": "a4a1fa44",
   "metadata": {},
   "source": [
    "\n",
    "$$Var(Y) = \\sigma ^2 (y) = \\int_{-\\infty }^{\\infty }(Y-\\mu )^2 *f(y)$$"
   ]
  },
  {
   "cell_type": "markdown",
   "id": "6da3eaea",
   "metadata": {},
   "source": [
    "Por eso la varianza a veces se define como El valor esperado de X cuadrada menos la media elevada al cuadrado"
   ]
  },
  {
   "cell_type": "code",
   "execution_count": null,
   "id": "43dab229",
   "metadata": {},
   "outputs": [],
   "source": []
  },
  {
   "cell_type": "code",
   "execution_count": 17,
   "id": "bfe950d3",
   "metadata": {},
   "outputs": [
    {
     "name": "stdout",
     "output_type": "stream",
     "text": [
      "La varianza de f(x) es:  0.16666666666666669\n"
     ]
    }
   ],
   "source": [
    "import numpy as np\n",
    "from scipy.integrate import quad\n",
    "\n",
    "def f_x(x):\n",
    "    return np.piecewise(x, [(x>0) & (x<1), (x>=1) & (x<2), (x>=2)], [lambda x: x, lambda x: 2-x, 0])\n",
    "\n",
    "##Se define la función que integrará y por lo tanto calculará la media \n",
    "def var_f(f, a, b):\n",
    "    integrand = lambda x: (x-mean)**2 *f(x)\n",
    "    ## FUNCIÓN QUE REALIZA LA INTEGRACIÓN!\n",
    "    return quad(integrand, a, b)[0]\n",
    "\n",
    "##Aqui se usa/llama la función que integra y calcula media \n",
    "var_x = var_f(f_x, 0, 2)\n",
    "\n",
    "print('La varianza de f(x) es: ', var_x)\n"
   ]
  },
  {
   "cell_type": "code",
   "execution_count": 22,
   "id": "4f9f4233",
   "metadata": {},
   "outputs": [
    {
     "data": {
      "text/plain": [
       "0.408248290463863"
      ]
     },
     "execution_count": 22,
     "metadata": {},
     "output_type": "execute_result"
    }
   ],
   "source": [
    "import math\n",
    "Desv_std_x = math.sqrt(var_x)\n",
    "Desv_std_x"
   ]
  },
  {
   "cell_type": "code",
   "execution_count": null,
   "id": "232fcfeb",
   "metadata": {},
   "outputs": [],
   "source": []
  },
  {
   "cell_type": "markdown",
   "id": "bc060bb6",
   "metadata": {},
   "source": [
    "### Tratando tema del problema 4 de la tarea 2"
   ]
  },
  {
   "cell_type": "code",
   "execution_count": 26,
   "id": "3a6b9f4b",
   "metadata": {},
   "outputs": [
    {
     "data": {
      "image/png": "[encoded data removed]",
      "text/plain": [
       "<Figure size 640x480 with 1 Axes>"
      ]
     },
     "metadata": {},
     "output_type": "display_data"
    }
   ],
   "source": [
    "import numpy as np\n",
    "import matplotlib.pyplot as plt\n",
    "\n",
    "def f(y):\n",
    "    return 105 * y**2 * (1-y)**4\n",
    "\n",
    "y = np.linspace(0, 1, 1000) # define the range of y values to plot\n",
    "plt.plot(y, f(y)) # plot the function f(y)\n",
    "plt.xlabel('y')\n",
    "plt.ylabel('f(y)')\n",
    "plt.title('Plot of f(y) = 105*y^2*(1-y)^4')\n",
    "plt.show()\n"
   ]
  },
  {
   "cell_type": "code",
   "execution_count": null,
   "id": "1d7caf7b",
   "metadata": {},
   "outputs": [],
   "source": []
  },
  {
   "cell_type": "code",
   "execution_count": null,
   "id": "e0a9ee5e",
   "metadata": {},
   "outputs": [],
   "source": []
  },
  {
   "cell_type": "code",
   "execution_count": null,
   "id": "7695b44a",
   "metadata": {},
   "outputs": [],
   "source": []
  },
  {
   "cell_type": "code",
   "execution_count": null,
   "id": "5cdea13c",
   "metadata": {},
   "outputs": [],
   "source": []
  },
  {
   "cell_type": "code",
   "execution_count": null,
   "id": "a253a755",
   "metadata": {},
   "outputs": [],
   "source": []
  },
  {
   "cell_type": "code",
   "execution_count": null,
   "id": "fe207f6f",
   "metadata": {},
   "outputs": [],
   "source": []
  },
  {
   "cell_type": "code",
   "execution_count": null,
   "id": "f3df69ac",
   "metadata": {},
   "outputs": [],
   "source": []
  },
  {
   "cell_type": "code",
   "execution_count": null,
   "id": "b153b5c6",
   "metadata": {},
   "outputs": [],
   "source": []
  },
  {
   "cell_type": "code",
   "execution_count": null,
   "id": "2175d38f",
   "metadata": {},
   "outputs": [],
   "source": []
  },
  {
   "cell_type": "code",
   "execution_count": null,
   "id": "b6cc1fb4",
   "metadata": {},
   "outputs": [],
   "source": []
  },
  {
   "cell_type": "code",
   "execution_count": null,
   "id": "1cf9aeeb",
   "metadata": {},
   "outputs": [],
   "source": []
  }
 ],
 "metadata": {
  "kernelspec": {
   "display_name": "Python 3 (ipykernel)",
   "language": "python",
   "name": "python3"
  },
  "language_info": {
   "codemirror_mode": {
    "name": "ipython",
    "version": 3
   },
   "file_extension": ".py",
   "mimetype": "text/x-python",
   "name": "python",
   "nbconvert_exporter": "python",
   "pygments_lexer": "ipython3",
   "version": "3.9.13"
  }
 },
 "nbformat": 4,
 "nbformat_minor": 5
}
