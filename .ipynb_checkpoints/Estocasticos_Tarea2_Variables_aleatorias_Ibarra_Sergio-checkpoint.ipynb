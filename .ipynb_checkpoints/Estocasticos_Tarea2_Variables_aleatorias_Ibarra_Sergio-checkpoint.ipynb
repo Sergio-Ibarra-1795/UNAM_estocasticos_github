{
 "cells": [
  {
   "cell_type": "code",
   "execution_count": null,
   "id": "24a28043",
   "metadata": {},
   "outputs": [],
   "source": []
  },
  {
   "cell_type": "markdown",
   "id": "17f27e9c",
   "metadata": {},
   "source": [
    "## Maestria en Ing. de Sistemas UNAM- Procesos estocásticos . Dra: Patricia Aguilar\n",
    "## Alumno: Sergio Ibarra R (414025796)\n",
    "## Problemas sobre la aplicación de conceptos de variable aleatoria.  Marzo 2023"
   ]
  },
  {
   "cell_type": "markdown",
   "id": "bb8c686e",
   "metadata": {},
   "source": [
    "### Problema 1"
   ]
  },
  {
   "cell_type": "markdown",
   "id": "4599859d",
   "metadata": {},
   "source": [
    "En cada uno de los siguientes enunciados, indique con una D si la variable aleatoria es discreta \n",
    "o con una C si es continua.\n"
   ]
  },
  {
   "cell_type": "markdown",
   "id": "1cd38658",
   "metadata": {},
   "source": [
    "a) El tiempo de espera para un corte de cabello. ………………………………………………….( Continuo) <br>\n",
    "b) El número de automóviles que rebasa un corredor cada mañana. …………………….(Discreto)<br>\n",
    "c) El número de hits de un equipo femenil de softbol de preparatoria. ………………….(Discreto)<br>\n",
    "d) El número de pacientes atendidos en el South Strand Medical Center entre las seis y  diez de la noche, cada noche. ………………………………….……………………………………….(Discreto)<br>\n",
    "e) La distancia que recorrió en su automóvil con el último tanque de gasolina. …….(Continuo)<br>\n",
    "f) El número de clientes del Wendy’s de Oak Street que utilizaron las instalaciones. (Discreto)<br>\n",
    "g) La distancia entre Gainesville, Florida, y todas las ciudades de Florida con una población de por lo menos 50 000 habitantes. ……………….………………………………………………….(Continuo)<br>\n",
    "\n"
   ]
  },
  {
   "cell_type": "code",
   "execution_count": null,
   "id": "3a217cc4",
   "metadata": {},
   "outputs": [],
   "source": []
  },
  {
   "cell_type": "markdown",
   "id": "c9e0631c",
   "metadata": {},
   "source": [
    "### Problema 2"
   ]
  },
  {
   "cell_type": "markdown",
   "id": "b2b5cc35",
   "metadata": {},
   "source": [
    "En un estudio realizado en Estados Unidos en 2001 (USA Today, 6 de septiembre, 2001), 38%  de los alumnos de cuarto grado de primaria no podía leer un libro apropiado para su edad. Los  datos siguientes muestran el número de sujetos, por edad, que se identificaron como niños con  problemas de aprendizaje que requieren educación especial. La mayoría tiene problemas de lectura que debieron identificarse y corregirse antes del tercer grado. La ley federal  estadounidense actual prohíbe que la mayoría de los niños reciba ayuda adicional de programas  de educación especial hasta que el retraso sea de aproximadamente dos años de aprendizaje, y por lo general eso significa hasta tercer grado o grados superiores."
   ]
  },
  {
   "cell_type": "markdown",
   "id": "05f9d8a7",
   "metadata": {},
   "source": [
    "| Edad| Número de niños  \n",
    "| :- | -:  \n",
    "| 6 | 37,369\n",
    "| 7  | 87,436\n",
    "| 8 | 160,840\n",
    "| 9 | 239,719\n",
    "|10 | 286,719\n",
    "|11 | 306,533\n",
    "|12 | 310,787\n",
    "|13 | 302,604\n",
    "|14 | 289,168"
   ]
  },
  {
   "cell_type": "markdown",
   "id": "b9f99af1",
   "metadata": {},
   "source": [
    "Suponga que se desea seleccionar una muestra de menores con problemas de aprendizaje y  que deben tomar educación especial a efecto de incluirlos en un programa diseñado para  mejorar su capacidad de lectura. Sea 𝑋 una variable aleatoria que indica la edad de un niño seleccionado al azar,"
   ]
  },
  {
   "cell_type": "markdown",
   "id": "57ca7659",
   "metadata": {},
   "source": [
    "a) Use los datos para construir la función de probabilidad para 𝑋 y trace su gráfica.<br>\n",
    "b) Calcule la edad promedio de los niños con problemas de aprendizaje..<br>\n",
    "c) Genere una muestra de las edades de 30 niños con problemas de aprendizaje y calcule la  edad promedio. Muestre paso a paso su procedimiento realizado ya sea manualmente o con algún software, en cuyo caso es necesario mostrar la codificación.<br>"
   ]
  },
  {
   "cell_type": "markdown",
   "id": "e1448469",
   "metadata": {},
   "source": [
    "#### a) Use los datos para construir la función de probabilidad para 𝑋 y trace su gráfica.<br>"
   ]
  },
  {
   "cell_type": "markdown",
   "id": "ed1dca64",
   "metadata": {},
   "source": [
    "Vamos a importar el documento donde se guardó la tabla con la información sobre la cantidad de niños en problemas de aprovechamiento en USA"
   ]
  },
  {
   "cell_type": "code",
   "execution_count": 5,
   "id": "ef41497e",
   "metadata": {},
   "outputs": [
    {
     "name": "stdout",
     "output_type": "stream",
     "text": [
      "{'Problema2':    Edad  Número de niños\n",
      "0     6            37369\n",
      "1     7            87436\n",
      "2     8           160840\n",
      "3     9           239719\n",
      "4    10           286719\n",
      "5    11           306533\n",
      "6    12           310787\n",
      "7    13           302604\n",
      "8    14           289168}\n"
     ]
    },
    {
     "data": {
      "text/plain": [
       "dict"
      ]
     },
     "execution_count": 5,
     "metadata": {},
     "output_type": "execute_result"
    }
   ],
   "source": [
    "import pandas as pd\n",
    "\n",
    "# Read the Excel file into a dictionary of data frames\n",
    "df_importado = pd.read_excel(R'C:\\Users\\sergi\\OneDrive\\Documentos\\MIS_UNAM\\Segundo_semestre\\Estocasticos_UNAM\\UNAM_Estocasticos_git\\Estocasticos_Tarea2_Variable_aleatoria_datos_problema2&5.xlsx', sheet_name=['Problema2'])\n",
    "print(df_importado)\n",
    "type(df_importado)"
   ]
  },
  {
   "cell_type": "code",
   "execution_count": 6,
   "id": "59e5e2ce",
   "metadata": {},
   "outputs": [
    {
     "name": "stdout",
     "output_type": "stream",
     "text": [
      "   Edad  Número de niños\n",
      "0     6            37369\n",
      "1     7            87436\n",
      "2     8           160840\n",
      "3     9           239719\n",
      "4    10           286719\n",
      "5    11           306533\n",
      "6    12           310787\n",
      "7    13           302604\n",
      "8    14           289168\n"
     ]
    },
    {
     "data": {
      "text/plain": [
       "pandas.core.frame.DataFrame"
      ]
     },
     "execution_count": 6,
     "metadata": {},
     "output_type": "execute_result"
    }
   ],
   "source": [
    "df_USA_niños_escolar = df_importado['Problema2']\n",
    "print(df_USA_niños_escolar)\n",
    "type(df_USA_niños_escolar)"
   ]
  },
  {
   "cell_type": "code",
   "execution_count": 7,
   "id": "913a249c",
   "metadata": {},
   "outputs": [
    {
     "data": {
      "text/plain": [
       "0     6\n",
       "1     7\n",
       "2     8\n",
       "3     9\n",
       "4    10\n",
       "5    11\n",
       "6    12\n",
       "7    13\n",
       "8    14\n",
       "Name: Edad, dtype: int64"
      ]
     },
     "execution_count": 7,
     "metadata": {},
     "output_type": "execute_result"
    }
   ],
   "source": [
    "df_USA_niños_escolar_edad= df_USA_niños_escolar['Edad']\n",
    "df_USA_niños_escolar_edad"
   ]
  },
  {
   "cell_type": "code",
   "execution_count": 8,
   "id": "57a672c0",
   "metadata": {},
   "outputs": [
    {
     "data": {
      "text/plain": [
       "pandas.core.series.Series"
      ]
     },
     "execution_count": 8,
     "metadata": {},
     "output_type": "execute_result"
    }
   ],
   "source": [
    "type(df_USA_niños_escolar_edad)"
   ]
  },
  {
   "cell_type": "code",
   "execution_count": 9,
   "id": "f6fffcc0",
   "metadata": {},
   "outputs": [
    {
     "data": {
      "text/plain": [
       "6"
      ]
     },
     "execution_count": 9,
     "metadata": {},
     "output_type": "execute_result"
    }
   ],
   "source": [
    "df_USA_niños_escolar_edad[0]"
   ]
  },
  {
   "cell_type": "code",
   "execution_count": 10,
   "id": "2b2f7aab",
   "metadata": {},
   "outputs": [
    {
     "data": {
      "text/plain": [
       "0     37369\n",
       "1     87436\n",
       "2    160840\n",
       "3    239719\n",
       "4    286719\n",
       "5    306533\n",
       "6    310787\n",
       "7    302604\n",
       "8    289168\n",
       "Name: Número de niños, dtype: int64"
      ]
     },
     "execution_count": 10,
     "metadata": {},
     "output_type": "execute_result"
    }
   ],
   "source": [
    "df_USA_niños= df_USA_niños_escolar['Número de niños']\n",
    "df_USA_niños"
   ]
  },
  {
   "cell_type": "markdown",
   "id": "00ccecb1",
   "metadata": {},
   "source": [
    "Transformando la data de numero de niños en una lista para poder sumar sus elementos"
   ]
  },
  {
   "cell_type": "code",
   "execution_count": 11,
   "id": "4633eadb",
   "metadata": {},
   "outputs": [
    {
     "data": {
      "text/plain": [
       "[37369, 87436, 160840, 239719, 286719, 306533, 310787, 302604, 289168]"
      ]
     },
     "execution_count": 11,
     "metadata": {},
     "output_type": "execute_result"
    }
   ],
   "source": [
    "# Transform the series to a list\n",
    "df_USA_niños_list = df_USA_niños.tolist()\n",
    "\n",
    "df_USA_niños_list\n"
   ]
  },
  {
   "cell_type": "code",
   "execution_count": 12,
   "id": "9b9fbcd0",
   "metadata": {},
   "outputs": [
    {
     "data": {
      "text/plain": [
       "2021175"
      ]
     },
     "execution_count": 12,
     "metadata": {},
     "output_type": "execute_result"
    }
   ],
   "source": [
    "# Get the sum of all elements in the list\n",
    "total_niños_USA = sum(df_USA_niños_list)\n",
    "total_niños_USA"
   ]
  },
  {
   "cell_type": "markdown",
   "id": "3dae0947",
   "metadata": {},
   "source": [
    "Calculando las probabilidades y añadiéndolas al df_USA_niños_escolar"
   ]
  },
  {
   "cell_type": "code",
   "execution_count": 13,
   "id": "3266eaa6",
   "metadata": {
    "scrolled": true
   },
   "outputs": [
    {
     "name": "stdout",
     "output_type": "stream",
     "text": [
      "0     1.848875\n",
      "1     4.325998\n",
      "2     7.957747\n",
      "3    11.860378\n",
      "4    14.185758\n",
      "5    15.166079\n",
      "6    15.376551\n",
      "7    14.971687\n",
      "8    14.306925\n",
      "Name: Probabilidad_por_edad, dtype: float64\n"
     ]
    }
   ],
   "source": [
    "df_USA_niños_escolar['Probabilidad_por_edad'] = (df_USA_niños / total_niños_USA)*100\n",
    "print(df_USA_niños_escolar['Probabilidad_por_edad'])"
   ]
  },
  {
   "cell_type": "code",
   "execution_count": 14,
   "id": "b493c514",
   "metadata": {},
   "outputs": [
    {
     "name": "stdout",
     "output_type": "stream",
     "text": [
      "   Edad  Número de niños  Probabilidad_por_edad\n",
      "0     6            37369               1.848875\n",
      "1     7            87436               4.325998\n",
      "2     8           160840               7.957747\n",
      "3     9           239719              11.860378\n",
      "4    10           286719              14.185758\n",
      "5    11           306533              15.166079\n",
      "6    12           310787              15.376551\n",
      "7    13           302604              14.971687\n",
      "8    14           289168              14.306925\n"
     ]
    }
   ],
   "source": [
    "print(df_USA_niños_escolar)"
   ]
  },
  {
   "cell_type": "markdown",
   "id": "7982f12b",
   "metadata": {},
   "source": [
    "__Por lo tanto la función de probabilidad de X sería__"
   ]
  },
  {
   "cell_type": "markdown",
   "id": "979dec2e",
   "metadata": {},
   "source": [
    "| Edad| Valor de probabilidad  \n",
    "| :- | -:  \n",
    "| 6 | 1.85\n",
    "| 7  | 4.32\n",
    "| 8 | 7.96\n",
    "| 9 | 11.87\n",
    "|10 | 14.19\n",
    "|11 | 15.17\n",
    "|12 | 15.38\n",
    "|13 | 14.97\n",
    "|14 | 14.31"
   ]
  },
  {
   "cell_type": "markdown",
   "id": "44e7e260",
   "metadata": {},
   "source": [
    "__Y la gráfica de la función de probabilidad de X sería__"
   ]
  },
  {
   "cell_type": "code",
   "execution_count": 15,
   "id": "f009dcc3",
   "metadata": {},
   "outputs": [
    {
     "data": {
      "image/png": "[encoded data removed]",
      "text/plain": [
       "<Figure size 640x480 with 1 Axes>"
      ]
     },
     "metadata": {},
     "output_type": "display_data"
    }
   ],
   "source": [
    "import matplotlib.pyplot as plt\n",
    "\n",
    "# Assuming that df_USA_niños_escolar is a pandas dataframe\n",
    "plt.plot(df_USA_niños_escolar['Edad'], df_USA_niños_escolar['Probabilidad_por_edad'])\n",
    "plt.xlabel('Edad')\n",
    "plt.ylabel('Probabilidad por Edad')\n",
    "plt.title('Gráfico de dispersión de probabilidad por edad')\n",
    "plt.show()\n"
   ]
  },
  {
   "cell_type": "markdown",
   "id": "9cfa400d",
   "metadata": {},
   "source": [
    "#### b) Calcule la edad promedio de los niños con problemas de aprendizaje.<br>"
   ]
  },
  {
   "cell_type": "markdown",
   "id": "33a8f424",
   "metadata": {},
   "source": [
    "La edad promedio se calculará como la esperanza de los valores de la función de probabilidad"
   ]
  },
  {
   "cell_type": "code",
   "execution_count": 17,
   "id": "62420399",
   "metadata": {},
   "outputs": [
    {
     "name": "stdout",
     "output_type": "stream",
     "text": [
      "0    0.018489\n",
      "1    0.043260\n",
      "2    0.079577\n",
      "3    0.118604\n",
      "4    0.141858\n",
      "5    0.151661\n",
      "6    0.153766\n",
      "7    0.149717\n",
      "8    0.143069\n",
      "Name: Probabilidad_por_edad, dtype: float64\n"
     ]
    }
   ],
   "source": [
    "print(df_USA_niños_escolar['Probabilidad_por_edad']/100)"
   ]
  },
  {
   "cell_type": "code",
   "execution_count": 18,
   "id": "b42724cc",
   "metadata": {},
   "outputs": [
    {
     "data": {
      "text/plain": [
       "10.99912575605774"
      ]
     },
     "execution_count": 18,
     "metadata": {},
     "output_type": "execute_result"
    }
   ],
   "source": [
    "esperanza = sum(df_USA_niños_escolar['Edad']*(df_USA_niños_escolar['Probabilidad_por_edad']/100))\n",
    "esperanza"
   ]
  },
  {
   "cell_type": "code",
   "execution_count": 20,
   "id": "4a7ce490",
   "metadata": {},
   "outputs": [
    {
     "name": "stdout",
     "output_type": "stream",
     "text": [
      "_La edad promedio de los niños con problemas de aprendizaje__ es:10.99912575605774años\n"
     ]
    }
   ],
   "source": [
    "print(f\"_La edad promedio de los niños con problemas de aprendizaje__ es:{esperanza}\" + \"años\") "
   ]
  },
  {
   "cell_type": "code",
   "execution_count": null,
   "id": "16ff37b9",
   "metadata": {},
   "outputs": [],
   "source": []
  },
  {
   "cell_type": "code",
   "execution_count": null,
   "id": "437a08ff",
   "metadata": {},
   "outputs": [],
   "source": []
  },
  {
   "cell_type": "markdown",
   "id": "c0b1e45b",
   "metadata": {},
   "source": [
    "#### c) Genere una muestra de las edades de 30 niños con problemas de aprendizaje y calcule la  edad promedio. Muestre paso a paso su procedimiento realizado ya sea manualmente o con algún software, en cuyo caso es necesario mostrar la codificación.<br>"
   ]
  },
  {
   "cell_type": "markdown",
   "id": "4c32aab0",
   "metadata": {},
   "source": [
    "Para poder generar números aleatorios en Python a partir de una x y una f(x) ambos deben estar en un formato de dato tipo 'lista'"
   ]
  },
  {
   "cell_type": "code",
   "execution_count": null,
   "id": "4215d234",
   "metadata": {},
   "outputs": [],
   "source": []
  },
  {
   "cell_type": "code",
   "execution_count": 39,
   "id": "35c3df96",
   "metadata": {},
   "outputs": [
    {
     "data": {
      "text/plain": [
       "[0.01848875035560998,\n",
       " 0.04325998490976783,\n",
       " 0.07957747349932588,\n",
       " 0.11860378245327594,\n",
       " 0.1418575828416639,\n",
       " 0.15166079137135577,\n",
       " 0.15376550768736008,\n",
       " 0.14971687261122862,\n",
       " 0.143069254270412]"
      ]
     },
     "execution_count": 39,
     "metadata": {},
     "output_type": "execute_result"
    }
   ],
   "source": [
    "#Transformando los datos de la columna probabilidad en una tipo lista\n",
    "\n",
    "df_USA_niños_probabilidad_list = (df_USA_niños_escolar['Probabilidad_por_edad']/100).tolist()\n",
    "df_USA_niños_probabilidad_list "
   ]
  },
  {
   "cell_type": "code",
   "execution_count": 40,
   "id": "21574303",
   "metadata": {},
   "outputs": [
    {
     "data": {
      "text/plain": [
       "[6, 7, 8, 9, 10, 11, 12, 13, 14]"
      ]
     },
     "execution_count": 40,
     "metadata": {},
     "output_type": "execute_result"
    }
   ],
   "source": [
    "#Transformando los datos de la columna edad en una tipo lista\n",
    "df_USA_niños_escolar_edad_list = df_USA_niños_escolar_edad.tolist()\n",
    "\n",
    "df_USA_niños_escolar_edad_list"
   ]
  },
  {
   "cell_type": "markdown",
   "id": "1c2820f1",
   "metadata": {},
   "source": [
    "Ahora procederemos a generar los 30 numeros random, con la función de python que se llama random.choice y que toma 3 parametros:<br>\n",
    "    a)Los valores de la variable x en la función de distribución <br>\n",
    "    b)Los valores de f(x) en la función de distribución <br>\n",
    "    c) El número de valores random que se quiere generar\n",
    "    "
   ]
  },
  {
   "cell_type": "code",
   "execution_count": 41,
   "id": "5e3a0801",
   "metadata": {},
   "outputs": [
    {
     "data": {
      "text/plain": [
       "array([ 8,  9, 12, 10, 12, 12, 11,  8, 14, 12, 12,  7, 13,  9, 12, 12, 10,\n",
       "       10, 13,  9,  8, 13, 10,  8,  9, 10, 12, 12,  6, 12])"
      ]
     },
     "execution_count": 41,
     "metadata": {},
     "output_type": "execute_result"
    }
   ],
   "source": [
    "random_30_edades = np.random.choice(\n",
    "df_USA_niños_escolar_edad_list, size=30, p=df_USA_niños_probabilidad_list )\n",
    "random_30_edades"
   ]
  },
  {
   "cell_type": "markdown",
   "id": "1504c18a",
   "metadata": {},
   "source": [
    "Vamos a graficar los valores generados"
   ]
  },
  {
   "cell_type": "code",
   "execution_count": 43,
   "id": "a0462b68",
   "metadata": {},
   "outputs": [
    {
     "data": {
      "image/png": "[encoded data removed]",
      "text/plain": [
       "<Figure size 640x480 with 1 Axes>"
      ]
     },
     "metadata": {},
     "output_type": "display_data"
    }
   ],
   "source": [
    "import matplotlib.pyplot as plt\n",
    "\n",
    "plt.hist(random_30_edades, bins=10)\n",
    "plt.xlabel('Values')\n",
    "plt.ylabel('Frequency')\n",
    "plt.title('Histogram of Random X')\n",
    "plt.show()\n"
   ]
  },
  {
   "cell_type": "markdown",
   "id": "eb1f4e76",
   "metadata": {},
   "source": [
    "Ahora calculemos la edad promedio de los valores simulados"
   ]
  },
  {
   "cell_type": "code",
   "execution_count": 44,
   "id": "afec90d8",
   "metadata": {},
   "outputs": [
    {
     "name": "stdout",
     "output_type": "stream",
     "text": [
      "La edad promedio de los valores simulados es: 10.5\n"
     ]
    }
   ],
   "source": [
    "import numpy as np\n",
    "\n",
    "average = np.mean(random_30_edades)\n",
    "\n",
    "print(\"La edad promedio de los valores simulados es:\", average)\n"
   ]
  },
  {
   "cell_type": "markdown",
   "id": "8241f555",
   "metadata": {},
   "source": [
    "ES MUY CERCANA A LA ESPERANZA ANTERIORMENTE CALCULADA DE 10.9!!!"
   ]
  },
  {
   "cell_type": "code",
   "execution_count": null,
   "id": "1cf9aeeb",
   "metadata": {},
   "outputs": [],
   "source": []
  },
  {
   "cell_type": "markdown",
   "id": "833ce6a5",
   "metadata": {},
   "source": [
    "### Problema 3"
   ]
  },
  {
   "cell_type": "markdown",
   "id": "b2f3c919",
   "metadata": {},
   "source": [
    "Considere la variable aleatoria 𝑌 cuya función de distribución (acumulativa) es la que se indica a  continuación. <br>\n",
    "a) Decida si la variable aleatoria 𝑌 es discreta o continua. Justifique su respuesta.<br>\n",
    "b) Construya la función 𝑓𝑌(𝑦).<br>\n",
    "c) Calcule la media y la varianza de Y<br>"
   ]
  },
  {
   "cell_type": "code",
   "execution_count": null,
   "id": "51b6db7b",
   "metadata": {},
   "outputs": [],
   "source": []
  },
  {
   "cell_type": "markdown",
   "id": "a7b6a782",
   "metadata": {},
   "source": [
    "$$F_{Y}(y) = \\left\\{\\begin{matrix}\n",
    "0, & y<=0\\\\ \n",
    "y/8 ,& 0<y<2\\\\ \n",
    "y^{2}/16 ,& 2<=y<4\\\\ \n",
    "1 ,& y>4\\\\  \n",
    "\\end{matrix}\\right.$$"
   ]
  },
  {
   "cell_type": "markdown",
   "id": "8584336d",
   "metadata": {},
   "source": [
    "Vamos a graficar la funcion de distribución acumulada para la variable Y"
   ]
  },
  {
   "cell_type": "code",
   "execution_count": 33,
   "id": "c84eea36",
   "metadata": {},
   "outputs": [
    {
     "data": {
      "image/png": "[encoded data removed]",
      "text/plain": [
       "<Figure size 640x480 with 1 Axes>"
      ]
     },
     "metadata": {},
     "output_type": "display_data"
    }
   ],
   "source": [
    "import numpy as np\n",
    "import matplotlib.pyplot as plt\n",
    "\n",
    "def F_Y(y):\n",
    "    return np.piecewise(y, [y <= 0, (y > 0) & (y < 2), (y >= 2) & (y < 4), y >= 4],\n",
    "                        [0, lambda y: y/8, lambda y: y**2/16, 1])\n",
    "\n",
    "y = np.linspace(-1, 5, 1000)\n",
    "F = F_Y(y)\n",
    "\n",
    "plt.plot(y, F)\n",
    "plt.title('Cumulative Distribution Function F_Y(y)')\n",
    "plt.xlabel('y')\n",
    "plt.ylabel('F_Y(y)')\n",
    "plt.show()\n"
   ]
  },
  {
   "cell_type": "code",
   "execution_count": null,
   "id": "7af389db",
   "metadata": {},
   "outputs": [],
   "source": []
  },
  {
   "cell_type": "markdown",
   "id": "9eaa5e35",
   "metadata": {},
   "source": [
    "#### a) Decida si la variable aleatoria 𝑌 es discreta o continua. Justifique su respuesta.<br>"
   ]
  },
  {
   "cell_type": "markdown",
   "id": "c9bb65fc",
   "metadata": {},
   "source": [
    "Debido a que la función de distribución $F_{Y}(y)$ SI ES CONTINUA. Se puede decir entonces que la Variable aleatoria X de la que proviene TAMBIÉN ES CONTINUA "
   ]
  },
  {
   "cell_type": "code",
   "execution_count": null,
   "id": "0fc4dc69",
   "metadata": {},
   "outputs": [],
   "source": []
  },
  {
   "cell_type": "code",
   "execution_count": null,
   "id": "9963ae13",
   "metadata": {},
   "outputs": [],
   "source": [
    "# Transformando los datos de \n",
    "df_USA_niños_list = df_USA_niños.tolist()\n",
    "\n",
    "df_USA_niños_list"
   ]
  },
  {
   "cell_type": "code",
   "execution_count": null,
   "id": "bf5e52ef",
   "metadata": {},
   "outputs": [],
   "source": []
  },
  {
   "cell_type": "markdown",
   "id": "8d524910",
   "metadata": {},
   "source": [
    "#### b) Construya la función 𝑓𝑌(𝑦).<br>"
   ]
  },
  {
   "cell_type": "markdown",
   "id": "a6c14c38",
   "metadata": {},
   "source": [
    "Nosotros sabemos que para cualquier variable aleatoria Y su función de distribución acumulativa se define como:"
   ]
  },
  {
   "cell_type": "markdown",
   "id": "8450305c",
   "metadata": {},
   "source": [
    "$$F_{y}(y) = P(Y<=y)$$"
   ]
  },
  {
   "cell_type": "markdown",
   "id": "2c4d2744",
   "metadata": {},
   "source": [
    "Y sabemos que la relación entre la función de distribución acumulada F(Y) y la función de distribcuión de masa de probabilidad f(y) es:"
   ]
  },
  {
   "cell_type": "markdown",
   "id": "26d0d525",
   "metadata": {},
   "source": [
    "$$F_{y}(Y) = \\int_{-\\infty }^{y} f_{y}(t) dt$$"
   ]
  },
  {
   "cell_type": "markdown",
   "id": "e74e9bae",
   "metadata": {},
   "source": [
    "Y por lo tanto se podría decir que es posible calcular la función de densidad de probabilidad f(y) a partir de su función de densidad acumuladad de probabilidad Fy(Y) de la siguiente manera:"
   ]
  },
  {
   "cell_type": "markdown",
   "id": "2b26b16a",
   "metadata": {},
   "source": [
    "$$f_{y}(y) = F'_{y}(t) =\\frac{dFy}{dy}$$"
   ]
  },
  {
   "cell_type": "markdown",
   "id": "025ae57d",
   "metadata": {},
   "source": [
    "Por lo tanto en nuestro caso habría que deribar cada una de las seccionde de F(y) con respecto a y para obtener f(y)"
   ]
  },
  {
   "cell_type": "code",
   "execution_count": null,
   "id": "48cbdfac",
   "metadata": {},
   "outputs": [],
   "source": []
  },
  {
   "cell_type": "markdown",
   "id": "fda19091",
   "metadata": {},
   "source": [
    "$$f(y)=\\left\\{\\begin{matrix}\n",
    " 0, & y<=0 \\\\ \n",
    " 1/8 ,& 0<y<2 \\\\ \n",
    " y/8 ,& 2<=y<4 \\\\ \n",
    " 0 ,& y>=4& \n",
    "\\end{matrix}\\right.$$"
   ]
  },
  {
   "cell_type": "code",
   "execution_count": 36,
   "id": "57bc5ec7",
   "metadata": {},
   "outputs": [
    {
     "data": {
      "image/png": "[encoded data removed]",
      "text/plain": [
       "<Figure size 640x480 with 1 Axes>"
      ]
     },
     "metadata": {},
     "output_type": "display_data"
    }
   ],
   "source": [
    "import numpy as np\n",
    "import matplotlib.pyplot as plt\n",
    "\n",
    "def f_y(y):\n",
    "    return np.piecewise(y, [y<=0, (y>0)&(y<2), (y>=2)&(y<4), y>=4], [0, 1/8, lambda y: y/8, 0])\n",
    "\n",
    "y = np.linspace(-1, 5, 1000)\n",
    "f = f_y(y)\n",
    "\n",
    "plt.plot(y, f)\n",
    "plt.title('Density Distribution Function f(y)')\n",
    "plt.xlabel('y')\n",
    "plt.ylabel('f(y)')\n",
    "plt.show()\n"
   ]
  },
  {
   "cell_type": "code",
   "execution_count": null,
   "id": "0aaaa737",
   "metadata": {},
   "outputs": [],
   "source": []
  },
  {
   "cell_type": "markdown",
   "id": "53110797",
   "metadata": {},
   "source": [
    "#### c) Calcule la media y la varianza de Y<br>"
   ]
  },
  {
   "cell_type": "markdown",
   "id": "6883e69e",
   "metadata": {},
   "source": [
    "Recordando que la esperanza de una variable aleatoria Y, dada su función de distribución f(y) se definia para el caso de las variables discretas como:"
   ]
  },
  {
   "cell_type": "markdown",
   "id": "1984f35b",
   "metadata": {},
   "source": [
    "$$E(Y) = \\sum_{-\\infty }^{\\infty } y*p(y)$$"
   ]
  },
  {
   "cell_type": "markdown",
   "id": "a6b880ce",
   "metadata": {},
   "source": [
    "Para el caso de las variables continas dicha esperanza o media se define como:"
   ]
  },
  {
   "cell_type": "markdown",
   "id": "0dc8766e",
   "metadata": {},
   "source": [
    "$$E(Y) = \\int_{-\\infty }^{\\infty } y*p(y)$$"
   ]
  },
  {
   "cell_type": "markdown",
   "id": "5d47c82e",
   "metadata": {},
   "source": [
    "Que para nuestro caso sería:"
   ]
  },
  {
   "cell_type": "markdown",
   "id": "5b9ff102",
   "metadata": {},
   "source": [
    "$$E(y) = \\int_{0}^{4}f(y) *y= \\int_{0}^{4} \\left\\{\\begin{matrix}\n",
    " 0, & y<=0 \\\\ \n",
    " 1/8 ,& 0<y<2 \\\\ \n",
    " y/8 ,& 2<=y<4 \\\\ \n",
    " 0 ,& y>=4& \n",
    "\\end{matrix}\\right. * y dy$$"
   ]
  },
  {
   "cell_type": "markdown",
   "id": "3dc96115",
   "metadata": {},
   "source": [
    "Entonces resolviendo la integral en Python tenemos:"
   ]
  },
  {
   "cell_type": "code",
   "execution_count": 47,
   "id": "c9a060d0",
   "metadata": {},
   "outputs": [
    {
     "name": "stdout",
     "output_type": "stream",
     "text": [
      "La media de f(y) es:  2.5833333333333335\n"
     ]
    }
   ],
   "source": [
    "import numpy as np\n",
    "from scipy.integrate import quad\n",
    "\n",
    "def f_y(y):\n",
    "    return np.piecewise(y, [y<=0, (y>0)&(y<2), (y>=2)&(y<4), y>=4], [0, 1/8, lambda y: y/8, 0])\n",
    "\n",
    "##Se define la función que integrará y por lo tanto calculará la media \n",
    "def mean_f(f, a, b):\n",
    "    integrand = lambda y: y*f(y)\n",
    "    ## FUNCIÓN QUE REALIZA LA INTEGRACIÓN!\n",
    "    return quad(integrand, a, b)[0]\n",
    "\n",
    "##Aqui se usa/llama la función que integra y calcula media \n",
    "mean = mean_f(f_y, 0, 4)\n",
    "\n",
    "print('La media de f(y) es: ', mean)\n",
    "\n"
   ]
  },
  {
   "cell_type": "markdown",
   "id": "9727fa10",
   "metadata": {},
   "source": [
    "Para el caso de la varianza de la variable aleatoria Y, se define como, la esperanza del cuadrado de la desviación con respecto a la media, es decir:"
   ]
  },
  {
   "cell_type": "markdown",
   "id": "ef254ea3",
   "metadata": {},
   "source": [
    "$$Var(Y) =E[(Y-\\mu )^2]$$"
   ]
  },
  {
   "cell_type": "markdown",
   "id": "cc59d064",
   "metadata": {},
   "source": [
    "Ahora en el caso de conocer la funcion de probabilidad de densidad dicha varianza se calcula como:"
   ]
  },
  {
   "cell_type": "markdown",
   "id": "a77e2532",
   "metadata": {},
   "source": [
    "\n",
    "$$Var(Y) = \\sigma ^2 (y) = \\int_{-\\infty }^{\\infty }(Y-\\mu )^2 *f(y)$$"
   ]
  },
  {
   "cell_type": "markdown",
   "id": "05e6f157",
   "metadata": {},
   "source": [
    "Y en nuestro caso:"
   ]
  },
  {
   "cell_type": "markdown",
   "id": "c9a104ca",
   "metadata": {},
   "source": [
    "$$Var(y) = \\int_{0}^{4}f(y) *(Y-\\mu )^2= \\int_{0}^{4} \\left\\{\\begin{matrix}\n",
    " 0, & y<=0 \\\\ \n",
    " 1/8 ,& 0<y<2 \\\\ \n",
    " y/8 ,& 2<=y<4 \\\\ \n",
    " 0 ,& y>=4& \n",
    "\\end{matrix}\\right. * (Y-\\mu )^2 dy$$"
   ]
  },
  {
   "cell_type": "markdown",
   "id": "73503be1",
   "metadata": {},
   "source": [
    "Y en Python el código para integrar y genera la varianza es:"
   ]
  },
  {
   "cell_type": "code",
   "execution_count": 46,
   "id": "c3b9c6a1",
   "metadata": {},
   "outputs": [
    {
     "name": "stdout",
     "output_type": "stream",
     "text": [
      "La varianza de f(y) es:  1.1597222222222223\n"
     ]
    }
   ],
   "source": [
    "import numpy as np\n",
    "from scipy.integrate import quad\n",
    "\n",
    "def f_y(y):\n",
    "    return np.piecewise(y, [y<=0, (y>0)&(y<2), (y>=2)&(y<4), y>=4], [0, 1/8, lambda y: y/8, 0])\n",
    "\n",
    "##Se define la función que integrará y por lo tanto calculará la varianza\n",
    "def variance_f(f, mean, a, b):\n",
    "    integrand = lambda y: (y-mean)**2*f(y)\n",
    "    return quad(integrand, a, b)[0]\n",
    "\n",
    "##Aqui se usa/llama la función que integra y calcula varianza \n",
    "variance = variance_f(f_y, mean, 0, 4)\n",
    "\n",
    "print('La varianza de f(y) es: ', variance)\n"
   ]
  },
  {
   "cell_type": "code",
   "execution_count": null,
   "id": "f6326475",
   "metadata": {},
   "outputs": [],
   "source": []
  },
  {
   "cell_type": "markdown",
   "id": "e5cf4533",
   "metadata": {},
   "source": [
    "### Problema 4"
   ]
  },
  {
   "cell_type": "code",
   "execution_count": null,
   "id": "fb31fcf3",
   "metadata": {},
   "outputs": [],
   "source": []
  },
  {
   "cell_type": "markdown",
   "id": "648fae94",
   "metadata": {},
   "source": [
    "La proporción de tiempo por día en la que todas las cajas de un supermercado están ocupadas, \n",
    "es una variable aleatoria 𝑌 con función de densidad\n"
   ]
  },
  {
   "cell_type": "code",
   "execution_count": null,
   "id": "44aef520",
   "metadata": {},
   "outputs": [],
   "source": []
  },
  {
   "cell_type": "markdown",
   "id": "db05eee2",
   "metadata": {},
   "source": [
    "$$f_{Y}(y) = \\left\\{\\begin{matrix}\n",
    "c*y^2(1-y)^4, & 0<=y<=1\\\\ \n",
    " 0, & en otro caso\n",
    "\\end{matrix}\\right.$$\n",
    "\n",
    "En donde 𝑐 es una constante.\n"
   ]
  },
  {
   "cell_type": "markdown",
   "id": "b636956b",
   "metadata": {},
   "source": [
    "a) Encuentre el valor de c que hace de 𝑓𝑌 (𝑦) una función de densidad <br>\n",
    "b) Obtenga la media y la varianza de 𝑌.<br>\n",
    "c) Genere 30 valores aleatorios de 𝑌 y calcule el promedio de dichos valores. Muestre paso a  paso su procedimiento realizado ya sea manualmente o con algún software, en cuyo caso es necesario mostrar la codificación"
   ]
  },
  {
   "cell_type": "code",
   "execution_count": null,
   "id": "f184a80f",
   "metadata": {},
   "outputs": [],
   "source": []
  },
  {
   "cell_type": "markdown",
   "id": "40b6aa82",
   "metadata": {},
   "source": [
    "#### a) Encuentre el valor de c que hace de 𝑓𝑌 (𝑦) una función de densidad <br>"
   ]
  },
  {
   "cell_type": "markdown",
   "id": "81e01dea",
   "metadata": {},
   "source": [
    "Entonces se debe encontrar los valores de c para los cuales la integral de f(x) desde 0 hasta 1 sea exactamente igual a 1. que es una de las propiedades de la función de distribución de una v.a. X"
   ]
  },
  {
   "cell_type": "markdown",
   "id": "eb3661ca",
   "metadata": {},
   "source": [
    "La propiedad de la función de distribución f(x) se expresa entonces como:"
   ]
  },
  {
   "cell_type": "markdown",
   "id": "bbf6874f",
   "metadata": {},
   "source": [
    "$$\\int_{0}^{1}f_{x}(x) =1$$"
   ]
  },
  {
   "cell_type": "markdown",
   "id": "0c0989ed",
   "metadata": {},
   "source": [
    "Que en nuestro caso es:"
   ]
  },
  {
   "cell_type": "markdown",
   "id": "601fbfc4",
   "metadata": {},
   "source": [
    "$$\\int_{0}^{1}c*y^2*(1-y)^4 =1$$"
   ]
  },
  {
   "cell_type": "markdown",
   "id": "27fcc26a",
   "metadata": {},
   "source": [
    "Entonces resolvamos la integral"
   ]
  },
  {
   "cell_type": "code",
   "execution_count": null,
   "id": "5c562542",
   "metadata": {},
   "outputs": [],
   "source": []
  },
  {
   "cell_type": "code",
   "execution_count": 49,
   "id": "fdcc167e",
   "metadata": {},
   "outputs": [
    {
     "name": "stdout",
     "output_type": "stream",
     "text": [
      "The antiderivative of f(y) = c*y^2*(1-y)^4 with respect to y is:\n",
      "c*y**7/7 - 2*c*y**6/3 + 6*c*y**5/5 - c*y**4 + c*y**3/3\n"
     ]
    }
   ],
   "source": [
    "import sympy as sym\n",
    "\n",
    "# define the symbol y and the constant c\n",
    "y = sym.symbols('y')\n",
    "c = sym.symbols('c')\n",
    "\n",
    "# define the integrand\n",
    "f = c * y**2 * (1-y)**4\n",
    "\n",
    "# integrate the function with respect to y\n",
    "F = sym.integrate(f, y)\n",
    "\n",
    "# print the result\n",
    "print(\"The antiderivative of f(y) = c*y^2*(1-y)^4 with respect to y is:\")\n",
    "print(F)\n"
   ]
  },
  {
   "cell_type": "markdown",
   "id": "0411667b",
   "metadata": {},
   "source": [
    "Entonces el resultado de la integral es:"
   ]
  },
  {
   "cell_type": "markdown",
   "id": "720e8fc1",
   "metadata": {},
   "source": [
    "$$\\int_{0}^{1}c*y^2*(1-y)^4 dy =  \\frac{c*y^7}{7} - \\frac{2*c*y^6}{3}  +\\frac{6*c*y^5}{5} - c*y^4 + \\frac{c*y^3}{3} $$"
   ]
  },
  {
   "cell_type": "markdown",
   "id": "7422cb50",
   "metadata": {},
   "source": [
    "Y evaluando los limites de intetración tenemos: "
   ]
  },
  {
   "cell_type": "markdown",
   "id": "1b5f7733",
   "metadata": {},
   "source": [
    "$$\\left [ \\frac{c*y^7}{7} - \\frac{2*c*y^6}{3}  +\\frac{6*c*y^5}{5} - c*y^4 + \\frac{c*y^3}{3}  \\right ]_{0}^{1} =  [ \\frac{c}{7} - \\frac{2*c}{3}  +\\frac{6*c}{5} - c* + \\frac{c}{3}] -(0)\n",
    " $$"
   ]
  },
  {
   "cell_type": "code",
   "execution_count": null,
   "id": "e69a3aff",
   "metadata": {},
   "outputs": [],
   "source": [
    "Sumando los terminos, tenemos:"
   ]
  },
  {
   "cell_type": "markdown",
   "id": "b9f91d30",
   "metadata": {},
   "source": [
    "$$1 = \\frac{1c}{105}$$"
   ]
  },
  {
   "cell_type": "markdown",
   "id": "f976a5ed",
   "metadata": {},
   "source": [
    "Entonces C= 105"
   ]
  },
  {
   "cell_type": "code",
   "execution_count": 61,
   "id": "1e24f1da",
   "metadata": {},
   "outputs": [
    {
     "name": "stdout",
     "output_type": "stream",
     "text": [
      "The sum of the expression is: c/105\n"
     ]
    }
   ],
   "source": [
    "import sympy as sp\n",
    "\n",
    "# Define the constant\n",
    "c = sp.symbols('c')\n",
    "\n",
    "# Define the expression\n",
    "expr = c/7 - 2*c/3 + 6*c/5 - c + c/3\n",
    "\n",
    "# Simplify the expression\n",
    "expr_simplified = sp.simplify(expr)\n",
    "\n",
    "# Display the result\n",
    "print(\"The sum of the expression is:\", expr_simplified)\n"
   ]
  },
  {
   "cell_type": "markdown",
   "id": "5374ff3b",
   "metadata": {},
   "source": [
    "#### b) Obtenga la media y la varianza de 𝑌.<br>"
   ]
  },
  {
   "cell_type": "markdown",
   "id": "c6ebe79a",
   "metadata": {},
   "source": [
    "La media se calcula como:"
   ]
  },
  {
   "cell_type": "markdown",
   "id": "7a39663d",
   "metadata": {},
   "source": [
    "$$E(Y) = \\int_{-\\infty }^{\\infty } y*p(y)$$"
   ]
  },
  {
   "cell_type": "markdown",
   "id": "86715600",
   "metadata": {},
   "source": [
    "Que en nuestro caso es:"
   ]
  },
  {
   "cell_type": "markdown",
   "id": "f412894c",
   "metadata": {},
   "source": [
    "$$E(X) = \\int_{-\\infty }^{\\infty } y*p(y) = \\int_{-\\infty }^{\\infty } \\left\\{\\begin{matrix}\n",
    "c*y^2(1-y)^4, & 0<=y<=1\\\\ \n",
    " 0, & en otro caso\n",
    "\\end{matrix}\\right. * y dy $$"
   ]
  },
  {
   "cell_type": "markdown",
   "id": "a6881a20",
   "metadata": {},
   "source": [
    "Entonces resolviendo la integral en Python tenemos:"
   ]
  },
  {
   "cell_type": "code",
   "execution_count": 65,
   "id": "b62b4fdf",
   "metadata": {},
   "outputs": [
    {
     "name": "stdout",
     "output_type": "stream",
     "text": [
      "La media de f(y) es:  0.37499999999999994\n"
     ]
    }
   ],
   "source": [
    "import numpy as np\n",
    "from scipy.integrate import quad\n",
    "\n",
    "def f_y(y):\n",
    "    return np.piecewise(y, [y<=0,(y>0)&(y<1),  y>1], [0, lambda y: 105*(y**2)*(1-y)**4, 0])\n",
    "\n",
    "##Se define la función que integrará y por lo tanto calculará la media \n",
    "def mean_f(f, a, b):\n",
    "    integrand = lambda y: y*f(y)\n",
    "    ## FUNCIÓN QUE REALIZA LA INTEGRACIÓN!\n",
    "    return quad(integrand, a, b)[0]\n",
    "\n",
    "##Aqui se usa/llama la función que integra y calcula media \n",
    "mean = mean_f(f_y, 0, 4)\n",
    "\n",
    "print('La media de f(y) es: ', mean)"
   ]
  },
  {
   "cell_type": "code",
   "execution_count": null,
   "id": "7a11ec60",
   "metadata": {},
   "outputs": [],
   "source": []
  },
  {
   "cell_type": "markdown",
   "id": "a9cae046",
   "metadata": {},
   "source": [
    "Y para el cálculo de la varianza tenemos:"
   ]
  },
  {
   "cell_type": "markdown",
   "id": "0ca9277a",
   "metadata": {},
   "source": [
    "$$E(X) = \\int_{-\\infty }^{\\infty } (Y-\\mu )^2 *p(y) = \\int_{-\\infty }^{\\infty } \\left\\{\\begin{matrix}\n",
    "c*y^2(1-y)^4, & 0<=y<=1\\\\ \n",
    " 0, & en otro caso\n",
    "\\end{matrix}\\right. * (Y-\\mu )^2  dy $$"
   ]
  },
  {
   "cell_type": "code",
   "execution_count": 67,
   "id": "5bfa98de",
   "metadata": {},
   "outputs": [
    {
     "name": "stdout",
     "output_type": "stream",
     "text": [
      "La varianza de f(y) es:  0.026041666666666664\n"
     ]
    }
   ],
   "source": [
    "import numpy as np\n",
    "from scipy.integrate import quad\n",
    "\n",
    "def f_y(y):\n",
    "    return np.piecewise(y, [y<=0,(y>0)&(y<1),  y>1], [0, lambda y: 105*(y**2)*(1-y)**4, 0])\n",
    "\n",
    "##Se define la función que integrará y por lo tanto calculará la varianza\n",
    "def variance_f(f, mean, a, b):\n",
    "    integrand = lambda y: (y-mean)**2*f(y)\n",
    "    return quad(integrand, a, b)[0]\n",
    "\n",
    "##Aqui se usa/llama la función que integra y calcula varianza \n",
    "variance = variance_f(f_y, mean, 0, 4)\n",
    "\n",
    "print('La varianza de f(y) es: ', variance)"
   ]
  },
  {
   "cell_type": "markdown",
   "id": "da6e9d62",
   "metadata": {},
   "source": [
    "#### c) Genere 30 valores aleatorios de 𝑌 y calcule el promedio de dichos valores. Muestre paso a  paso su procedimiento realizado ya sea manualmente o con algún software, en cuyo caso es necesario mostrar la codificación"
   ]
  },
  {
   "cell_type": "code",
   "execution_count": null,
   "id": "20742db7",
   "metadata": {},
   "outputs": [],
   "source": []
  },
  {
   "cell_type": "code",
   "execution_count": null,
   "id": "c7d6ed05",
   "metadata": {},
   "outputs": [],
   "source": [
    "random_30_edades = np.random.choice(\n",
    "df_USA_niños_escolar_edad_list, size=30, p=df_USA_niños_probabilidad_list )\n",
    "random_30_edades"
   ]
  },
  {
   "cell_type": "code",
   "execution_count": null,
   "id": "e96ee573",
   "metadata": {},
   "outputs": [],
   "source": []
  },
  {
   "cell_type": "code",
   "execution_count": null,
   "id": "01e12d18",
   "metadata": {},
   "outputs": [],
   "source": []
  },
  {
   "cell_type": "markdown",
   "id": "40ccc8db",
   "metadata": {},
   "source": [
    "### Problema 5"
   ]
  },
  {
   "cell_type": "markdown",
   "id": "5f094d55",
   "metadata": {},
   "source": [
    "Considere la v.a. X con función de probabilidad"
   ]
  },
  {
   "cell_type": "markdown",
   "id": "3844207d",
   "metadata": {},
   "source": [
    "|x| -5|-1|1|1.5|3\n",
    "| :- | -: | :-:| :-:| :-:| :-:  \n",
    "| fx(X) | 0.2 | 0.01| 0.3| 0.29| 0.2\n"
   ]
  },
  {
   "cell_type": "code",
   "execution_count": null,
   "id": "3517fe21",
   "metadata": {},
   "outputs": [],
   "source": []
  },
  {
   "cell_type": "markdown",
   "id": "1ec9251e",
   "metadata": {},
   "source": [
    "Construya muestras de la v.a. X, de los tamaños indicados en clase, y en cada caso sobreponga la gráfica de la distribución de X (histograma de probabilidad) al histograma de frecuencias de la  muestra correspondiente.\n",
    "Adicionalmente, calcule la media y la varianza de cada muestra y compárelas con 𝐸(𝑋) y 𝑉𝑎𝑟(𝑋)"
   ]
  },
  {
   "cell_type": "code",
   "execution_count": null,
   "id": "29e5b7da",
   "metadata": {},
   "outputs": [],
   "source": []
  },
  {
   "cell_type": "code",
   "execution_count": null,
   "id": "dd2e1e5e",
   "metadata": {},
   "outputs": [],
   "source": []
  },
  {
   "cell_type": "code",
   "execution_count": null,
   "id": "cdfa59f7",
   "metadata": {},
   "outputs": [],
   "source": []
  }
 ],
 "metadata": {
  "kernelspec": {
   "display_name": "Python 3 (ipykernel)",
   "language": "python",
   "name": "python3"
  },
  "language_info": {
   "codemirror_mode": {
    "name": "ipython",
    "version": 3
   },
   "file_extension": ".py",
   "mimetype": "text/x-python",
   "name": "python",
   "nbconvert_exporter": "python",
   "pygments_lexer": "ipython3",
   "version": "3.9.13"
  }
 },
 "nbformat": 4,
 "nbformat_minor": 5
}
