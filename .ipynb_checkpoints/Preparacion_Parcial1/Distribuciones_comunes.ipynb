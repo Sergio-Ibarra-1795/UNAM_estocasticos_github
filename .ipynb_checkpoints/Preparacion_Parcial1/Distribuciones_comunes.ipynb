{
 "cells": [
  {
   "attachments": {},
   "cell_type": "markdown",
   "id": "118d5170",
   "metadata": {},
   "source": [
    "# Algunas distribuciones comunes de probabilidad  "
   ]
  },
  {
   "attachments": {},
   "cell_type": "markdown",
   "id": "e718c4de",
   "metadata": {},
   "source": [
    "## Distribuciones de  Variables aleatorias discretas"
   ]
  },
  {
   "attachments": {},
   "cell_type": "markdown",
   "id": "40ef3930",
   "metadata": {},
   "source": [
    "### BINOMIAL"
   ]
  },
  {
   "attachments": {},
   "cell_type": "markdown",
   "id": "2ae13fe8",
   "metadata": {},
   "source": [
    "$$p(X=x) = \\binom{n}{x}*p^{x}*(1-p)^{n-x}$$\n",
    "\n",
    "where:\n",
    "\n",
    "$X$ is the number of successes\n",
    "$n$ is the number of trials\n",
    "$p$ is the probability of success in each trial\n",
    "$x$ is the number of successes."
   ]
  },
  {
   "attachments": {},
   "cell_type": "markdown",
   "id": "8958863a",
   "metadata": {},
   "source": [
    "To calculate the expected value of a binomial distribution, we use the formula:\n",
    "\n",
    "$E(X)=np$   <br>\n",
    "\n",
    "where $n$ is the number of trials and $p$ is the probability of success in each trial.<br>\n",
    "\n",
    "To calculate the variance of a binomial distribution, we use the formula:<br>\n",
    "\n",
    "$Var(X)=np(1−p)$<br>\n",
    "$Var(X)=npq$<br>"
   ]
  },
  {
   "attachments": {},
   "cell_type": "markdown",
   "id": "f9ce50db",
   "metadata": {},
   "source": [
    "Suppose that the engines of an airplane operate independently and fail with a probability of 0.4. Considering that an airplane performs a flight safely if at least half of its engines are working, determine the probability that a 4-engine airplane will complete a flight without any problem.\n",
    "\n",
    "Solution:\n",
    "\n",
    "a) As a LaTeX Markdown code:\n",
    "\n",
    "Let $X$ be the number of engines that work properly. Since the probability of an engine to fail is $p=0.4$, then the probability of an engine to work properly is $1-p=0.6$. Then, $X$ follows a binomial distribution with parameters $n=4$ and $p=0.6$.\n",
    "\n",
    "We want to calculate the probability of at least 2 engines working, i.e. $P(X\\geq2)$, because the airplane performs a flight safely if at least half of its engines are working.\n",
    "\n",
    "\\begin{aligned}\n",
    "P(X\\geq2) &= 1 - P(X<2)\\\n",
    "&= 1 - P(X=0) - P(X=1)\\\n",
    "&= 1 - \\binom{4}{0} (0.6)^0 (0.4)^4 - \\binom{4}{1} (0.6)^1 (0.4)^3\\\n",
    "&= 1 - 0.0256 - 0.1536\\\n",
    "&= 0.8208\n",
    "\\end{aligned}\n",
    "\n",
    "Therefore, the probability of a 4-engine airplane to complete a flight without any problem is 0.8208."
   ]
  },
  {
   "attachments": {},
   "cell_type": "markdown",
   "id": "4068b5f6",
   "metadata": {},
   "source": [
    " CON LA P (de que FALLE)"
   ]
  },
  {
   "cell_type": "code",
   "execution_count": 8,
   "id": "6bc1c719",
   "metadata": {},
   "outputs": [
    {
     "name": "stdout",
     "output_type": "stream",
     "text": [
      "0.025600000000000005\n",
      "0.15360000000000001\n",
      "Probability of at least 2 engines working: 0.8208\n"
     ]
    }
   ],
   "source": [
    "from scipy.stats import binom\n",
    "\n",
    "## Number of engines\n",
    "n = 4\n",
    "\n",
    "##Probability of failure\n",
    "p = 0.4\n",
    "\n",
    "# Probability of 0 engines failure\n",
    "prob_0 = binom.pmf(4, n, p)\n",
    "\n",
    "print(prob_0)\n",
    "\n",
    "# Probability of 1 engine failure\n",
    "prob_1 = binom.pmf(3, n, p)\n",
    "print(prob_1)\n",
    "\n",
    "# Probability of at least 2 engines working\n",
    "prob_2_or_more_working = 1 - prob_0 - prob_1\n",
    "\n",
    "print(\"Probability of at least 2 engines working:\", prob_2_or_more_working)\n",
    "\n"
   ]
  },
  {
   "attachments": {},
   "cell_type": "markdown",
   "id": "84ec8449",
   "metadata": {},
   "source": [
    "MISMO EJEMPLO, PERO CON LA P (de que NO FALLE)"
   ]
  },
  {
   "cell_type": "code",
   "execution_count": 9,
   "id": "a3521035",
   "metadata": {},
   "outputs": [
    {
     "name": "stdout",
     "output_type": "stream",
     "text": [
      "0.025600000000000005\n",
      "0.1536\n",
      "Probability of at least 2 engines working: 0.8208000000000001\n"
     ]
    }
   ],
   "source": [
    "from scipy.stats import binom\n",
    "\n",
    "## Number of engines\n",
    "n = 4\n",
    "\n",
    "##Probability of NO failure\n",
    "p = 0.6\n",
    "\n",
    "# Probability of 0 engines failure\n",
    "prob_0 = binom.pmf(0, n, p)\n",
    "\n",
    "print(prob_0)\n",
    "\n",
    "# Probability of 1 engine failure\n",
    "prob_1 = binom.pmf(1, n, p)\n",
    "print(prob_1)\n",
    "\n",
    "# Probability of at least 2 engines working\n",
    "prob_2_or_more_working = 1 - prob_0 - prob_1\n",
    "\n",
    "print(\"Probability of at least 2 engines working:\", prob_2_or_more_working)"
   ]
  },
  {
   "cell_type": "markdown",
   "id": "c0671597",
   "metadata": {},
   "source": []
  },
  {
   "attachments": {},
   "cell_type": "markdown",
   "id": "b77f153c",
   "metadata": {},
   "source": [
    "### ¿Cuántas veces se tendrá que repetir el experimento si desea observar los primeros r éxitos? [BINOMIAL NEGATIVA O PASCAL]"
   ]
  },
  {
   "attachments": {},
   "cell_type": "markdown",
   "id": "c759754c",
   "metadata": {},
   "source": [
    "$$fx(x) = \\left\\{\\begin{matrix}\n",
    "\\binom{x-1}{r-1}*p^{r}*(1-p)^{x-r} & X= r, r+1, r+2, ..\\\\ \n",
    "0 & otherwise\n",
    "\\end{matrix}\\right.$$"
   ]
  },
  {
   "attachments": {},
   "cell_type": "markdown",
   "id": "e525e07d",
   "metadata": {},
   "source": [
    "where $r$ is the number of failures we want to observe before stopping the experiment, $p$ is the probability of success on each trial, and $k$ is the total number of trials needed to observe $r$ failures.\n",
    "\n",
    "Then, to find the expected value (mean) and variance, we can use the formulas:\n",
    "\n",
    "\n",
    "$E(X)= pr$ <br>\n",
    "​\n",
    "$Var(X)= r*(1-p) / p^2$\n",
    " \n",
    "\n",
    "Therefore, the expected value and variance of the negative binomial distribution are expressed in terms of $p$ and $r$."
   ]
  },
  {
   "attachments": {},
   "cell_type": "markdown",
   "id": "41e689dd",
   "metadata": {},
   "source": [
    "Suppose a basketball player makes a free throw with probability $p = 0.8$. What is the probability that the player makes exactly $r=3$ free throws before missing $x=5$ times?\n",
    "\n",
    "Using the negative binomial probability mass function, we have:"
   ]
  },
  {
   "attachments": {},
   "cell_type": "markdown",
   "id": "222b2258",
   "metadata": {},
   "source": [
    "$$fx(x) = \\left\\{\\begin{matrix}\n",
    "\\binom{x-1}{r-1}*p^{r}*(1-p)^{x-r} & X= r, r+1, r+2, ..\\\\ \n",
    "0 & otherwise\n",
    "\\end{matrix}\\right.$$"
   ]
  },
  {
   "attachments": {},
   "cell_type": "markdown",
   "id": "9f795d67",
   "metadata": {},
   "source": [
    "And sustituyinb x and r values "
   ]
  },
  {
   "attachments": {},
   "cell_type": "markdown",
   "id": "a13bf6a5",
   "metadata": {},
   "source": [
    "$$fx(x) = \\left\\{\\begin{matrix}\n",
    "\\binom{5-1}{3-1}*0.8^{3}*(1-0.8)^{5-3} & X= r, r+1, r+2, ..\\\\ \n",
    "0 & otherwise\n",
    "\\end{matrix}\\right.$$"
   ]
  },
  {
   "attachments": {},
   "cell_type": "markdown",
   "id": "d0f2dff5",
   "metadata": {},
   "source": [
    " Continuing with the substitution "
   ]
  },
  {
   "attachments": {},
   "cell_type": "markdown",
   "id": "86527781",
   "metadata": {},
   "source": [
    "$$fx(x) = \\left\\{\\begin{matrix}\n",
    "\\binom{4}{2}*0.8^{3}*(0.2)^{2} & X= r, r+1, r+2, ..\\\\ \n",
    "0 & otherwise\n",
    "\\end{matrix}\\right.$$"
   ]
  },
  {
   "attachments": {},
   "cell_type": "markdown",
   "id": "14b49c70",
   "metadata": {},
   "source": [
    "Making the calculations"
   ]
  },
  {
   "attachments": {},
   "cell_type": "markdown",
   "id": "738377b6",
   "metadata": {},
   "source": [
    "$$fx(3) = \\binom{4}{2}*0.8^{3}*(0.2)^{2}$$\n",
    "\n",
    "$$=6⋅0.512⋅0.04$$\n",
    "$$=0.12288$$\n",
    " \n",
    "Therefore, the probability that the player makes exactly 3 free throws before missing 5 times is $f_X(3) = 0.12288$ using the negative binomial probability mass function.\n",
    "\n",
    "\n",
    "\n",
    "\n",
    "\n"
   ]
  },
  {
   "attachments": {},
   "cell_type": "markdown",
   "id": "2c865c31",
   "metadata": {},
   "source": [
    "#### Implementación en código de la distribución de probabilidad binomial negativa o de pascal "
   ]
  },
  {
   "cell_type": "code",
   "execution_count": 10,
   "id": "f66af23b",
   "metadata": {},
   "outputs": [
    {
     "name": "stdout",
     "output_type": "stream",
     "text": [
      "The probability that the player makes exactly 3 free throws before missing 5 times is 0.12288.\n"
     ]
    }
   ],
   "source": [
    "import math\n",
    "\n",
    "# Define the variables\n",
    "p = 0.8  # probability of making a free throw\n",
    "r = 3  # number of successful free throws\n",
    "x = 5  # number of failures before stopping\n",
    "\n",
    "# Calculate the probability mass function for X = r\n",
    "fx = math.comb(x-1, r-1) * p**r * (1-p)**(x-r)\n",
    "\n",
    "# Print the result\n",
    "print(f\"The probability that the player makes exactly {r} free throws before missing {x} times is {fx:.5f}.\")\n"
   ]
  },
  {
   "attachments": {},
   "cell_type": "markdown",
   "id": "1ed9352e",
   "metadata": {},
   "source": [
    "Suppose a company's sales follow a negative binomial distribution with probability mass function:"
   ]
  },
  {
   "cell_type": "code",
   "execution_count": 11,
   "id": "3e952a2f",
   "metadata": {},
   "outputs": [
    {
     "name": "stdout",
     "output_type": "stream",
     "text": [
      "0.030720000000000015\n"
     ]
    }
   ],
   "source": [
    "import math\n",
    "\n",
    "p = 0.2\n",
    "r = 3\n",
    "x = 5\n",
    "\n",
    "fx_compania = math.comb(x-1, r-1) * p**r * (1-p)**(x-r)\n",
    "print(fx_compania)\n"
   ]
  },
  {
   "attachments": {},
   "cell_type": "markdown",
   "id": "9702015d",
   "metadata": {},
   "source": [
    "### Distribución de Poisson Número de eventos que corren en un intervalo continuo y que cumple con las características de unicidad, estacionariedad e inedenednecia "
   ]
  },
  {
   "attachments": {},
   "cell_type": "markdown",
   "id": "56584cf0",
   "metadata": {},
   "source": [
    "The Poisson distribution is a discrete probability distribution that models the number of times an event occurs in a fixed interval of time or space, given that the events occur independently and at a constant rate $\\lambda$.\n",
    "\n",
    "The probability mass function of a Poisson distribution is given by:\n",
    "\n",
    "$$fx(x) = \\left\\{\\begin{matrix}\n",
    "\\ \\frac{(\\lambda *t)^x}{x!}*e^{-\\lambda *t} & X= 0,1,2, ..\\\\ \n",
    "0 & otherwise\n",
    "\\end{matrix}\\right.$$\n",
    "\n",
    "where $x$ is the number of events, and $\\lambda$ is the expected number of events in the interval."
   ]
  },
  {
   "attachments": {},
   "cell_type": "markdown",
   "id": "6394f362",
   "metadata": {},
   "source": [
    "The expected value (mean) and variance of a Poisson distribution are:\n",
    "\n",
    "$E(X)=λt$ <br>\n",
    "\n",
    "$Var(X)=λt$ <br>\n",
    "\n",
    "So the mean and variance of a Poisson distribution are both equal to the rate parameter $\\lambda$."
   ]
  },
  {
   "attachments": {},
   "cell_type": "markdown",
   "id": "466d6e5b",
   "metadata": {},
   "source": [
    "##### Ejemplo de aplicación de la distribución de Poisson "
   ]
  },
  {
   "attachments": {},
   "cell_type": "markdown",
   "id": "2579c907",
   "metadata": {},
   "source": [
    "\"Suppose that the molecules of a rare gas are found on average at a rate of three per cubic foot of air. If the molecules are assumed to be independently and randomly distributed in the air. What is the probability that, in a mixture of 1 cubic foot of air, there is at most one molecule of said gas?\""
   ]
  },
  {
   "cell_type": "code",
   "execution_count": 14,
   "id": "71e7c98b",
   "metadata": {},
   "outputs": [
    {
     "name": "stdout",
     "output_type": "stream",
     "text": [
      "0.049787068367863944\n",
      "0.14936120510359183\n",
      "The probability of finding at most one gas molecule in a 1 cubic foot mixture of air is 0.1991\n"
     ]
    }
   ],
   "source": [
    "import math\n",
    "\n",
    "# Poisson parameters\n",
    "lam = 3\n",
    "t = 1\n",
    "\n",
    "\n",
    "# number of molecules\n",
    "x = 0\n",
    "prob1 = math.exp(-lam*t) * ((lam*t)**x) / math.factorial(x)\n",
    "print(prob1)\n",
    "\n",
    "x = 1\n",
    "prob2 = math.exp(-lam*t) * ((lam*t)**x) / math.factorial(x)\n",
    "print(prob2)\n",
    "\n",
    "# probability of at most one molecule in 1 cubic foot of air\n",
    "prob_max_1 = prob1 + prob2\n",
    "\n",
    "print(f\"The probability of finding at most one gas molecule in a 1 cubic foot mixture of air is {prob_max_1:.4f}\")\n"
   ]
  }
 ],
 "metadata": {
  "kernelspec": {
   "display_name": "Python 3 (ipykernel)",
   "language": "python",
   "name": "python3"
  },
  "language_info": {
   "codemirror_mode": {
    "name": "ipython",
    "version": 3
   },
   "file_extension": ".py",
   "mimetype": "text/x-python",
   "name": "python",
   "nbconvert_exporter": "python",
   "pygments_lexer": "ipython3",
   "version": "3.10.5"
  }
 },
 "nbformat": 4,
 "nbformat_minor": 5
}
