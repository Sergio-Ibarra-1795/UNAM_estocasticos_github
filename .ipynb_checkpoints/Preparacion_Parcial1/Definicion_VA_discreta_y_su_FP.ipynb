{
 "cells": [
  {
   "cell_type": "code",
   "execution_count": null,
   "id": "c1396e3f",
   "metadata": {},
   "outputs": [],
   "source": []
  },
  {
   "attachments": {},
   "cell_type": "markdown",
   "id": "118d5170",
   "metadata": {},
   "source": [
    "# VARIABLES ALEATORIAS DISCRETAS "
   ]
  },
  {
   "attachments": {},
   "cell_type": "markdown",
   "id": "e718c4de",
   "metadata": {},
   "source": [
    "## Variables aleatorias discretas y continuas. Aplicación de su definición, propiedades y función de distribución\n"
   ]
  },
  {
   "attachments": {},
   "cell_type": "markdown",
   "id": "1657f6bb",
   "metadata": {},
   "source": [
    "### Problema de aplicaición de concepto de VA (UNION, intersección etc )"
   ]
  },
  {
   "attachments": {},
   "cell_type": "markdown",
   "id": "0009f309",
   "metadata": {},
   "source": [
    "When examining water wells in a district with respect to two impurities frequently found in drinking water, it was found that 20% of the wells did not reveal any impurities, 40% had impurity A, and 50% had impurity B (naturally, some had both impurities). If a well is selected at random from the district, obtain the probability distribution for Y, that is, the number of impurities found per well.\n",
    "\n",
    "Analytical solution:\n",
    "Let Y denote the number of impurities found in a well. Since each well can have impurity A, impurity B, both impurities, or no impurity, Y can take on the values 0, 1, 2, or 3. We can find the probability of each value of Y using the given information.\n",
    "\n",
    "P(Y=0) = 0.2 (the probability that the well has no impurities)\n",
    "P(Y=1) = P(impurity A only) + P(impurity B only) = 0.4 + 0.5 - P(both impurities) = 0.9 - P(both impurities)\n",
    "P(Y=2) = P(both impurities) = 1 - P(Y=0) - P(Y=1) \n"
   ]
  },
  {
   "attachments": {},
   "cell_type": "markdown",
   "id": "b5e1cca9",
   "metadata": {},
   "source": [
    "To calculate the value of P(both impurities), we can use the formula for the intersection of two events: P(both impurities) = P(impurity A) + P(impurity B) - P(impurity A or B), where P(impurity A or B) = 0.4 + 0.5 - P(impurity A or B)  = = 0.9 - P(impurity A or B) "
   ]
  },
  {
   "attachments": {},
   "cell_type": "markdown",
   "id": "be92a027",
   "metadata": {},
   "source": [
    "We are given:\n",
    "\n",
    "P(A) = 0.4, probability of impurity A.\n",
    "P(B) = 0.5, probability of impurity B.\n",
    "P(none) = 0.2, probability of no impurities.\n",
    "P(A ∪ B) = 1 - P(none), probability of at least one impurity.\n",
    "P(A ∩ B) = P(A) + P(B) - P(A ∪ B), probability of both impurities.\n",
    "We want to find:\n",
    "\n",
    "P(Y = 1), probability of one impurity.\n",
    "To find P(Y = 1), we need to calculate the probability of having one impurity, which can occur in two ways:\n",
    "\n",
    "Either we have only impurity A (and not B).\n",
    "Or we have only impurity B (and not A).\n",
    "So we can calculate:\n",
    "\n",
    "P(A alone) = P(A) - P(A ∩ B), probability of having impurity A alone.\n",
    "P(B alone) = P(B) - P(A ∩ B), probability of having impurity B alone.\n",
    "P(one) = P(A alone) + P(B alone), probability of having one impurity."
   ]
  },
  {
   "attachments": {},
   "cell_type": "markdown",
   "id": "3c3ae90a",
   "metadata": {},
   "source": [
    "Here is the Python code to calculate the probability distribution for Y:"
   ]
  },
  {
   "cell_type": "code",
   "execution_count": 11,
   "id": "1b453253",
   "metadata": {},
   "outputs": [
    {
     "name": "stdout",
     "output_type": "stream",
     "text": [
      "Probability distribution for Y: [0.2, 0.7000000000000001, 0.09999999999999998]\n"
     ]
    }
   ],
   "source": [
    "# Probability of each impurity\n",
    "P_A = 0.4\n",
    "P_B = 0.5\n",
    "\n",
    "# Probability of no impurities\n",
    "P_none = 0.2\n",
    "\n",
    "# Probability of both impurities\n",
    "\n",
    "#probabilidad de tener almenos una de las impurezas\n",
    "\n",
    "#Calculando las probabilidades de union e intersección \n",
    "P_A_U_B = 1- P_none \n",
    "\n",
    "P_A_INT_B = P_A + P_B - P_A_U_B\n",
    "\n",
    "#Calculado  las probabilidades individuales de cada elemento del conjunto\n",
    "PA_alone = P_A - P_A_INT_B\n",
    "\n",
    "PB_alone = P_B - P_A_INT_B\n",
    "\n",
    "\n",
    "\n",
    "#La probabilidad de una sola es soloa A o solo B \n",
    "P_one = PA_alone + PB_alone\n",
    "\n",
    "\n",
    "#La probabilidad de las dos es la misma que la intersección \n",
    "P_two = P_A_INT_B \n",
    "\n",
    "# Probability distribution for Y\n",
    "P_Y = [P_none, P_one, P_two]\n",
    "\n",
    "# Print results\n",
    "print(\"Probability distribution for Y:\", P_Y)\n",
    "\n",
    "\n"
   ]
  },
  {
   "cell_type": "code",
   "execution_count": 12,
   "id": "731637cb",
   "metadata": {},
   "outputs": [
    {
     "data": {
      "image/png": "[encoded data removed]",
      "text/plain": [
       "<Figure size 432x288 with 1 Axes>"
      ]
     },
     "metadata": {
      "needs_background": "light"
     },
     "output_type": "display_data"
    }
   ],
   "source": [
    "import matplotlib.pyplot as plt\n",
    "\n",
    "\n",
    "# X-axis labels\n",
    "x_labels = ['Y = 0', 'Y = 1', 'Y = 2']\n",
    "\n",
    "# Create a bar plot\n",
    "plt.bar(x_labels, P_Y)\n",
    "\n",
    "# Set plot title and labels\n",
    "plt.title('Probability distribution for Y')\n",
    "plt.xlabel('Y')\n",
    "plt.ylabel('Probability')\n",
    "\n",
    "# Show plot\n",
    "plt.show()\n"
   ]
  },
  {
   "attachments": {},
   "cell_type": "markdown",
   "id": "403f2ed9",
   "metadata": {},
   "source": [
    "### Propiedades de una función de probabilidad de variable discreta "
   ]
  },
  {
   "attachments": {},
   "cell_type": "markdown",
   "id": "695451f5",
   "metadata": {},
   "source": [
    "1. Non-negativity: $P(X) \\geq 0$ for all $X$ in the sample space $S$.\n",
    "\n",
    "2. Normalization: $\\sum_{x \\in S} P(x) = 1$, where $P(x)$ is the probability of event $x$ occurring.\n",
    "\n",
    "3. Additivity: For any two events $A$ and $B$, $P(A \\cup B) = P(A) + P(B) - P(A \\cap B)$. \n"
   ]
  },
  {
   "attachments": {},
   "cell_type": "markdown",
   "id": "74619b9f",
   "metadata": {},
   "source": [
    "### Propiedades de una función de probabilidad de variable continua "
   ]
  },
  {
   "attachments": {},
   "cell_type": "markdown",
   "id": "ee9af95f",
   "metadata": {},
   "source": [
    "1. Non-negativity: $P(X) \\geq 0$ for all $X$ in the sample space $S$. <br>\n",
    "2. Normalization: $\\int_{-\\infty}^{\\infty} P(x)dx = 1$, where $P(x)$ is the probability density function of the continuous random variable.\n",
    "Probability of an event: The probability that the continuous random variable $X$ falls within an interval $[a,b]$ is given by the integral of the probability density function over that interval: <br>\n",
    "3. Probability of an event: For any event $A$, $P(a \\leq X \\leq b) = \\int_{a}^{b} P(x)dx$, where $a$ and $b$ are any two values in the support of $X$.\n",
    "\n",
    "\n",
    "\n",
    "\n",
    "\n",
    "\n",
    "​"
   ]
  },
  {
   "attachments": {},
   "cell_type": "markdown",
   "id": "ac2a3741",
   "metadata": {},
   "source": [
    "### Problema de calculo de probabilidad básico de VA continua"
   ]
  },
  {
   "attachments": {},
   "cell_type": "markdown",
   "id": "604fd0f5",
   "metadata": {},
   "source": [
    "$$fx(x) = \\left\\{\\begin{matrix}\n",
    "1/2 & 59<=X<=61\\\\ \n",
    "0 & otherwise\n",
    "\\end{matrix}\\right.$$"
   ]
  },
  {
   "attachments": {},
   "cell_type": "markdown",
   "id": "8d4f00e5",
   "metadata": {},
   "source": [
    "To calculate the probability of X being greater than 60, we need to integrate the probability density function (pdf) from 60 to infinity. Since the pdf is 0 for all values of X outside of the range [59,61], we can integrate from 60 to 61 instead. The probability of X being greater than 60 is given by:\n",
    "\n",
    "$P(X > 60) = \\int_{60}^{\\infty} f(x)dx = \\int_{60}^{61} \\frac{1}{2}dx = \\frac{1}{2}(61 - 60) = \\frac{1}{2}$\n",
    "\n",
    "So the probability of X being greater than 60 is 0.5.\n",
    "\n",
    "Here is the Python code to calculate this probability"
   ]
  },
  {
   "cell_type": "code",
   "execution_count": 1,
   "id": "35abbedc",
   "metadata": {},
   "outputs": [
    {
     "name": "stdout",
     "output_type": "stream",
     "text": [
      "Probability of X being greater than 60: 0.5\n"
     ]
    }
   ],
   "source": [
    "from scipy.integrate import quad\n",
    "\n",
    "def fx(x):\n",
    "    if 59 <= x <= 61:\n",
    "        return 0.5\n",
    "    else:\n",
    "        return 0\n",
    "\n",
    "result, _ = quad(fx, 60, float('inf'))\n",
    "print(\"Probability of X being greater than 60:\", result)\n"
   ]
  },
  {
   "cell_type": "code",
   "execution_count": 14,
   "id": "596d522e",
   "metadata": {},
   "outputs": [
    {
     "name": "stdout",
     "output_type": "stream",
     "text": [
      "The analytical solution is: Piecewise((0, x <= 59), (0.5*x - 29.5, x <= 61), (1.0, True))\n",
      "P(X > 60) = 0.500000000000000\n"
     ]
    }
   ],
   "source": [
    "import sympy\n",
    "\n",
    "# Define the symbol 'x' and the function 'f'\n",
    "\n",
    "x = sympy.Symbol('x')\n",
    "f = sympy.Piecewise((1/2, (x>=59)&(x<=61)), (0, True))\n",
    "\n",
    "# Integrate the function 'f' with respect to 'x'\n",
    "F = sympy.integrate(f, x)\n",
    "\n",
    "# Simplify the result\n",
    "F = F.simplify()\n",
    "\n",
    "# Show the result\n",
    "print(f\"The analytical solution is: {F}\")\n",
    "\n",
    "# Evaluate the integral at x=61\n",
    "result = F.subs(x, 61) - F.subs(x, 60)\n",
    "\n",
    "# Show the result\n",
    "print(f\"P(X > 60) = {result}\")\n",
    "\n"
   ]
  },
  {
   "attachments": {},
   "cell_type": "markdown",
   "id": "433cc0f0",
   "metadata": {},
   "source": [
    "### Problema de determinar el valor de c que haga una función una de probabilidad"
   ]
  },
  {
   "attachments": {},
   "cell_type": "markdown",
   "id": "cb9a3603",
   "metadata": {},
   "source": [
    "a) To calculate the analytical integral, we can use the sympy library in Python. Here's the code:"
   ]
  },
  {
   "cell_type": "code",
   "execution_count": 19,
   "id": "e96cbfee",
   "metadata": {},
   "outputs": [
    {
     "name": "stdout",
     "output_type": "stream",
     "text": [
      "The analytical solution is: Piecewise((0, y <= 0), (y**2*(2*c*y + 3)/6, y <= 1), (c/3 + 1/2, True))\n"
     ]
    }
   ],
   "source": [
    "import sympy\n",
    "\n",
    "# Define the symbol 'y' and the function 'f'\n",
    "y = sympy.Symbol('y')\n",
    "c = sympy.Symbol('c')\n",
    "f = sympy.Piecewise((c*y**2 + y, (y>=0)&(y<=1)), (0, True))\n",
    "\n",
    "# Integrate the function 'f' with respect to 'y'\n",
    "F = sympy.integrate(f, y)\n",
    "\n",
    "# Simplify the result\n",
    "F = F.simplify()\n",
    "\n",
    "# Show the result\n",
    "print(f\"The analytical solution is: {F}\")\n"
   ]
  },
  {
   "attachments": {},
   "cell_type": "markdown",
   "id": "12d7d7e5",
   "metadata": {},
   "source": [
    "b) To evaluate the integral for y, you can use the .subs() method in symp"
   ]
  },
  {
   "cell_type": "code",
   "execution_count": 20,
   "id": "ac2f6013",
   "metadata": {},
   "outputs": [
    {
     "name": "stdout",
     "output_type": "stream",
     "text": [
      "The result is: c/3 + 1/2\n"
     ]
    }
   ],
   "source": [
    "# Evaluate the integral at y=1\n",
    "result = F.subs(y, 1) - F.subs(y, 0)\n",
    "\n",
    "# Show the result\n",
    "print(f\"The result is: {result}\")\n"
   ]
  },
  {
   "attachments": {},
   "cell_type": "markdown",
   "id": "e5197bb4",
   "metadata": {},
   "source": [
    "c) To calculate the value of c that makes the integral equal to 1, you can solve the following equation for c:"
   ]
  },
  {
   "cell_type": "code",
   "execution_count": 21,
   "id": "596c8189",
   "metadata": {},
   "outputs": [
    {
     "name": "stdout",
     "output_type": "stream",
     "text": [
      "The value of c that makes fy(y) a probability function is: 3/2\n"
     ]
    }
   ],
   "source": [
    "# Set the integral equal to 1\n",
    "eq = sympy.Eq(F.subs(y, 1) - F.subs(y, 0), 1)\n",
    "\n",
    "# Solve for 'c'\n",
    "c_value = sympy.solve(eq, c)\n",
    "\n",
    "# Show the result\n",
    "print(f\"The value of c that makes fy(y) a probability function is: {c_value[0]}\")\n"
   ]
  },
  {
   "attachments": {},
   "cell_type": "markdown",
   "id": "75f67381",
   "metadata": {},
   "source": [
    "So the probability function is"
   ]
  },
  {
   "attachments": {},
   "cell_type": "markdown",
   "id": "32310daa",
   "metadata": {},
   "source": [
    "$$fy(y) = \\left\\{\\begin{matrix}\n",
    "3/2 *y^2 +y & 0<=Y<=1\\\\ \n",
    "0 & otherwise\n",
    "\\end{matrix}\\right.$$"
   ]
  },
  {
   "attachments": {},
   "cell_type": "markdown",
   "id": "860db2ac",
   "metadata": {},
   "source": [
    "Graficando la función de probabilidad "
   ]
  },
  {
   "cell_type": "code",
   "execution_count": 22,
   "id": "a24aaf1d",
   "metadata": {},
   "outputs": [
    {
     "data": {
      "image/png": "[encoded data removed]",
      "text/plain": [
       "<Figure size 432x288 with 1 Axes>"
      ]
     },
     "metadata": {
      "needs_background": "light"
     },
     "output_type": "display_data"
    }
   ],
   "source": [
    "import numpy as np\n",
    "import matplotlib.pyplot as plt\n",
    "\n",
    "# Define the function fy(y)\n",
    "def fy(y):\n",
    "    if 0 <= y <= 1:\n",
    "        return 3/2 * y**2 + y\n",
    "    else:\n",
    "        return 0\n",
    "\n",
    "# Create an array of values for y\n",
    "y_vals = np.linspace(0, 1, 1000)\n",
    "\n",
    "# Evaluate fy(y) for each value of y\n",
    "fy_vals = [fy(y) for y in y_vals]\n",
    "\n",
    "# Plot fy(y)\n",
    "plt.plot(y_vals, fy_vals)\n",
    "plt.xlabel('y')\n",
    "plt.ylabel('fy(y)')\n",
    "plt.title('Probability Density Function')\n",
    "plt.show()\n"
   ]
  },
  {
   "cell_type": "code",
   "execution_count": 26,
   "id": "233edab9",
   "metadata": {},
   "outputs": [
    {
     "name": "stdout",
     "output_type": "stream",
     "text": [
      "The analytical solution is: Piecewise((0, y <= 0), (0.5*y**2*(y + 1), y <= 1), (1.0, True))\n",
      "The result is: 0.187500000000000\n"
     ]
    }
   ],
   "source": [
    "# Define the symbol 'y' and the function 'f'\n",
    "y = sympy.Symbol('y')\n",
    "f = sympy.Piecewise((3/2*y**2 + y, (y>=0)&(y<=1)), (0, True))\n",
    "\n",
    "\n",
    "# Integrate the function 'f' with respect to 'y'\n",
    "F2 = sympy.integrate(f, y)\n",
    "\n",
    "# Simplify the result\n",
    "F2 = F2.simplify()\n",
    "\n",
    "# Show the result\n",
    "print(f\"The analytical solution is: {F2}\")\n",
    "\n",
    "\n",
    "# Evaluate the integral at y=1\n",
    "result2 = F2.subs(y, 0.5) - F2.subs(y, 0)\n",
    "\n",
    "# Show the result\n",
    "print(f\"The result is: {result2}\")\n"
   ]
  },
  {
   "attachments": {},
   "cell_type": "markdown",
   "id": "280dfe5b",
   "metadata": {},
   "source": [
    "## FUNCIÓN DE DISTRIBUCIÓN "
   ]
  },
  {
   "attachments": {},
   "cell_type": "markdown",
   "id": "d73fe1d5",
   "metadata": {},
   "source": [
    "$$fx(X) = \\left\\{\\begin{matrix}\n",
    "\\sum_{i=-\\infty }^{x}fx(X) & for X discrete \\\\ \n",
    "\\int_{-\\infty}^{x} fx(t) & for X continuous\n",
    "\\end{matrix}\\right.$$"
   ]
  },
  {
   "attachments": {},
   "cell_type": "markdown",
   "id": "adc75fdf",
   "metadata": {},
   "source": [
    "Here are some properties of the distribution function:\n",
    "\n",
    "1. $F_X(x)$ is a non-decreasing function. <br>\n",
    "2. $0 \\leq F_X(x) \\leq 1$ for all $x$.<br>\n",
    "3. $\\lim_{x \\to -\\infty} F_X(x) = 0$ and $\\lim_{x \\to \\infty} F_X(x) = 1$.<br>\n",
    "4. $F_X(x)$ is continuous from the right for discrete random variables and continuous random variables with a continuous probability density function (pdf).<br>\n",
    "5. For discrete random variables, $P(X = x) = F_X(x) - F_X(x^-)$, where $F_X(x^-)$ is the limit of $F_X(x)$ as $x$ approaches $x$ from the left.<br>\n",
    "6. For continuous random variables, $P(a \\leq X \\leq b) = F_X(b) - F_X(a)$.<br>\n",
    "7. The derivative of $F_X(x)$ for continuous random variables with a continuous pdf is the probability density function $f_X(x)$, i.e., $F'_X(x) = f_X(x)$.<br>"
   ]
  },
  {
   "attachments": {},
   "cell_type": "markdown",
   "id": "eb9c56fb",
   "metadata": {},
   "source": [
    "#### Simple application of distribution function "
   ]
  },
  {
   "attachments": {},
   "cell_type": "markdown",
   "id": "b5ec5e10",
   "metadata": {},
   "source": [
    "Consider the following probability function:"
   ]
  },
  {
   "attachments": {},
   "cell_type": "markdown",
   "id": "9bff16cb",
   "metadata": {},
   "source": [
    "|X| -5 | -1 |1 |1.5 |3|\n",
    "| --- | --- | --- | --- | --- | --- |\n",
    "| f(x) | 0.2 | 0.01 |0.3 |0.29 |0.2|"
   ]
  },
  {
   "attachments": {},
   "cell_type": "markdown",
   "id": "f0f8e6d8",
   "metadata": {},
   "source": [
    "The distribution fucntion might be "
   ]
  },
  {
   "attachments": {},
   "cell_type": "markdown",
   "id": "112bb064",
   "metadata": {},
   "source": [
    "| X | -∞ | -5 | -1 | 1 | 1.5 | 3 | +∞ |\n",
    "| --- | --- | --- | --- | --- | --- | --- |--- |\n",
    "| F(X) | 0 | 0.2 | 0.21 | 0.51 | 0.8 | 1 | 1 |\n"
   ]
  }
 ],
 "metadata": {
  "kernelspec": {
   "display_name": "Python 3 (ipykernel)",
   "language": "python",
   "name": "python3"
  },
  "language_info": {
   "codemirror_mode": {
    "name": "ipython",
    "version": 3
   },
   "file_extension": ".py",
   "mimetype": "text/x-python",
   "name": "python",
   "nbconvert_exporter": "python",
   "pygments_lexer": "ipython3",
   "version": "3.10.5"
  }
 },
 "nbformat": 4,
 "nbformat_minor": 5
}
