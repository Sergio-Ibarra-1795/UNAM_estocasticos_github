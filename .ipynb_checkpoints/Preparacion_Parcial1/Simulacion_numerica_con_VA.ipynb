{
 "cells": [
  {
   "cell_type": "code",
   "execution_count": null,
   "id": "c1396e3f",
   "metadata": {},
   "outputs": [],
   "source": []
  },
  {
   "attachments": {},
   "cell_type": "markdown",
   "id": "118d5170",
   "metadata": {},
   "source": [
    "# SIMULACIÓN CON VARIABLES ALEATORIAS\n",
    " "
   ]
  },
  {
   "attachments": {},
   "cell_type": "markdown",
   "id": "e718c4de",
   "metadata": {},
   "source": [
    "## Simulación de números con una distribución dada"
   ]
  },
  {
   "attachments": {},
   "cell_type": "markdown",
   "id": "912da04d",
   "metadata": {},
   "source": [
    "#### Ejemplo de generación de numeros aleatorios para una VA DISCRETA: Generar 10 valores aleatorios de la v.a. X con distribución"
   ]
  },
  {
   "attachments": {},
   "cell_type": "markdown",
   "id": "a924e9ca",
   "metadata": {},
   "source": [
    "|x| -5 | -1 |1 |1.5 |3|\n",
    "| --- | --- | --- | --- | --- | --- |\n",
    "| F(x) | 0.2 | 0.21 |0.51 |0.8 |1 |"
   ]
  },
  {
   "attachments": {},
   "cell_type": "markdown",
   "id": "cb01fecf",
   "metadata": {},
   "source": [
    "Genero los vectores con los valores de x y su respectiva probabilidad Fx "
   ]
  },
  {
   "cell_type": "code",
   "execution_count": null,
   "id": "5cab8d0d",
   "metadata": {},
   "outputs": [],
   "source": [
    "x = [-5,-1,1,1.5,3]\n",
    "Fx = [0.2,0.21,0.51,0.8,1]"
   ]
  },
  {
   "attachments": {},
   "cell_type": "markdown",
   "id": "dbbc9bea",
   "metadata": {},
   "source": [
    "#### Primero genero los numeros aleatorios de manera uniforme (misma probabilidad de ser elegidos)"
   ]
  },
  {
   "attachments": {},
   "cell_type": "markdown",
   "id": "f1d8aaba",
   "metadata": {},
   "source": [
    "##### Generación de números aleatorios con distribución uniforme sin semillas"
   ]
  },
  {
   "cell_type": "code",
   "execution_count": 2,
   "id": "514b5b25",
   "metadata": {},
   "outputs": [
    {
     "name": "stdout",
     "output_type": "stream",
     "text": [
      "[0.16558409169955124, 0.8350849170745416, 0.5691534694996502, 0.23409045942828466, 0.2790487481048646, 0.952407706856583, 0.9081413514113119, 0.400879234608308, 0.28242104637937526, 0.5578023686289129]\n"
     ]
    }
   ],
   "source": [
    "import random\n",
    "\n",
    "random_numbers_1 = []\n",
    "for i in range(10):\n",
    "    random_numbers_1.append(random.random())\n",
    "\n",
    "print(random_numbers_1)"
   ]
  },
  {
   "attachments": {},
   "cell_type": "markdown",
   "id": "9229813f",
   "metadata": {},
   "source": [
    "##### Generación de números aleatorios con distribución uniforme CON semillas"
   ]
  },
  {
   "cell_type": "code",
   "execution_count": 4,
   "id": "0bd147ec",
   "metadata": {},
   "outputs": [
    {
     "name": "stdout",
     "output_type": "stream",
     "text": [
      "[0.6394267984578837, 0.025010755222666936, 0.27502931836911926, 0.22321073814882275, 0.7364712141640124, 0.6766994874229113, 0.8921795677048454, 0.08693883262941615, 0.4219218196852704, 0.029797219438070344]\n"
     ]
    }
   ],
   "source": [
    "import random\n",
    "\n",
    "# Set the seed to 42\n",
    "random.seed(42)\n",
    "\n",
    "random_numbers_1 = []\n",
    "for i in range(10):\n",
    "    random_numbers_1.append(random.random())\n",
    "\n",
    "print(random_numbers_1)\n"
   ]
  },
  {
   "attachments": {},
   "cell_type": "markdown",
   "id": "87588983",
   "metadata": {},
   "source": [
    "Entonces, igualamos esos números random entre [0,1] que podrían ser valores de la función de distribcuión F(X), entonces yo voy a ver, para que valor de x, la función de disttribución F(X) vale el valor obtenido por el número aleatorio "
   ]
  },
  {
   "attachments": {},
   "cell_type": "markdown",
   "id": "bbb6ddf8",
   "metadata": {},
   "source": [
    "Es decir:<br>\n",
    "Paso1: Generar n números aleatorios entre [0,1] <Existen \"métodos\" para generar estos números aletorios ue parten de \"una semilla\" y \"una experisión para generalos\" <br>\n",
    "Paso2: Igualamos la fujción de distribcuión con ese número aletorio:<br>\n",
    "<br>\n",
    "Fx(x1)=randomi\n",
    "<br>\n",
    "Paso3: Resolver la exación del paso 2 para xi"
   ]
  },
  {
   "attachments": {},
   "cell_type": "markdown",
   "id": "c2cf49ba",
   "metadata": {},
   "source": [
    "Es decir:<br>\n",
    "Paso1: Generar n números aleatorios entre [0,1] <Existen \"métodos\" para generar estos números aletorios ue parten de \"una semilla\" y \"una experisión para generalos\" <br>\n",
    "Paso2: Igualamos la fujción de distribcuión con ese número aletorio:<br>\n",
    "<br>\n",
    "Fx(x1)=randomi\n",
    "<br>\n",
    "Paso3: Resolver la exación del paso 2 para xi"
   ]
  },
  {
   "cell_type": "code",
   "execution_count": 7,
   "id": "630a7449",
   "metadata": {},
   "outputs": [
    {
     "data": {
      "text/plain": [
       "[0.01848875035560998,\n",
       " 0.04325998490976783,\n",
       " 0.07957747349932588,\n",
       " 0.11860378245327594,\n",
       " 0.1418575828416639,\n",
       " 0.15166079137135577,\n",
       " 0.15376550768736008,\n",
       " 0.14971687261122862,\n",
       " 0.143069254270412]"
      ]
     },
     "execution_count": 7,
     "metadata": {},
     "output_type": "execute_result"
    }
   ],
   "source": [
    "#Transformando los datos de la columna probabilidad en una tipo lista\n",
    "\n",
    "df_USA_niños_probabilidad_list = [0.01848875035560998,\n",
    " 0.04325998490976783,\n",
    " 0.07957747349932588,\n",
    " 0.11860378245327594,\n",
    " 0.1418575828416639,\n",
    " 0.15166079137135577,\n",
    " 0.15376550768736008,\n",
    " 0.14971687261122862,\n",
    " 0.143069254270412]\n",
    "\n",
    "df_USA_niños_probabilidad_list "
   ]
  },
  {
   "cell_type": "code",
   "execution_count": 8,
   "id": "db68ad70",
   "metadata": {},
   "outputs": [
    {
     "data": {
      "text/plain": [
       "[6, 7, 8, 9, 10, 11, 12, 13, 14]"
      ]
     },
     "execution_count": 8,
     "metadata": {},
     "output_type": "execute_result"
    }
   ],
   "source": [
    "#Transformando los datos de la columna edad en una tipo lista\n",
    "df_USA_niños_escolar_edad_list = [6, 7, 8, 9, 10, 11, 12, 13, 14]\n",
    "df_USA_niños_escolar_edad_list"
   ]
  },
  {
   "attachments": {},
   "cell_type": "markdown",
   "id": "978db27f",
   "metadata": {},
   "source": [
    "Ahora procederemos a generar los 30 numeros random, con la función de python que se llama random.choice y que toma 3 parametros:<br>\n",
    "    a)Los valores de la variable x en la función de distribución <br>\n",
    "    b)Los valores de f(x) en la función de distribución <br>\n",
    "    c) El número de valores random que se quiere generar"
   ]
  },
  {
   "cell_type": "code",
   "execution_count": 9,
   "id": "09cc2369",
   "metadata": {},
   "outputs": [
    {
     "data": {
      "text/plain": [
       "array([12, 13, 12, 12, 10, 13, 14, 10, 10,  7, 11, 11, 10, 11, 12, 13, 11,\n",
       "       13,  8, 10, 14, 11,  9, 11, 10, 10,  8, 11, 11, 13])"
      ]
     },
     "execution_count": 9,
     "metadata": {},
     "output_type": "execute_result"
    }
   ],
   "source": [
    "import numpy as np \n",
    "\n",
    "random_30_edades = np.random.choice(\n",
    "df_USA_niños_escolar_edad_list, size=30, p=df_USA_niños_probabilidad_list )\n",
    "random_30_edades"
   ]
  },
  {
   "attachments": {},
   "cell_type": "markdown",
   "id": "ae2a8105",
   "metadata": {},
   "source": [
    "Vamos a graficar los datos simulados "
   ]
  },
  {
   "cell_type": "code",
   "execution_count": 10,
   "id": "142dfc4b",
   "metadata": {},
   "outputs": [
    {
     "data": {
      "image/png": "[encoded data removed]",
      "text/plain": [
       "<Figure size 432x288 with 1 Axes>"
      ]
     },
     "metadata": {
      "needs_background": "light"
     },
     "output_type": "display_data"
    }
   ],
   "source": [
    "import matplotlib.pyplot as plt\n",
    "\n",
    "plt.hist(random_30_edades, bins=10)\n",
    "plt.xlabel('Values')\n",
    "plt.ylabel('Frequency')\n",
    "plt.title('Histogram of Random X')\n",
    "plt.show()"
   ]
  },
  {
   "attachments": {},
   "cell_type": "markdown",
   "id": "c2cc3af4",
   "metadata": {},
   "source": [
    "Ahora calculemos la edad promedio de los valores simulados"
   ]
  },
  {
   "cell_type": "code",
   "execution_count": 12,
   "id": "5f10d6be",
   "metadata": {},
   "outputs": [
    {
     "name": "stdout",
     "output_type": "stream",
     "text": [
      "11.03\n"
     ]
    }
   ],
   "source": [
    "import numpy as np\n",
    "\n",
    "edad_promedio_simulada = round(np.mean(random_30_edades),2)\n",
    "print(edad_promedio_simulada)"
   ]
  },
  {
   "attachments": {},
   "cell_type": "markdown",
   "id": "f78ef9d7",
   "metadata": {},
   "source": [
    "##### b) Calcule la edad promedio de los niños con problemas de aprendizaje (no simulada, sino calculada a partir de los datos reales de x y sus probabilidades, es decir, a partir de su fujción de probabilidad).<br>"
   ]
  },
  {
   "cell_type": "code",
   "execution_count": 15,
   "id": "c471d3a8",
   "metadata": {},
   "outputs": [
    {
     "name": "stdout",
     "output_type": "stream",
     "text": [
      "11.0\n"
     ]
    }
   ],
   "source": [
    "import numpy as np\n",
    "\n",
    "esperanza_edad = round(np.dot(df_USA_niños_escolar_edad_list, df_USA_niños_probabilidad_list), 2)\n",
    "print(esperanza_edad)\n"
   ]
  },
  {
   "attachments": {},
   "cell_type": "markdown",
   "id": "01c0c0ac",
   "metadata": {},
   "source": [
    "#### Ejemplo de generación de numeros aleatorios para una VA CONTINUA:"
   ]
  }
 ],
 "metadata": {
  "kernelspec": {
   "display_name": "Python 3 (ipykernel)",
   "language": "python",
   "name": "python3"
  },
  "language_info": {
   "codemirror_mode": {
    "name": "ipython",
    "version": 3
   },
   "file_extension": ".py",
   "mimetype": "text/x-python",
   "name": "python",
   "nbconvert_exporter": "python",
   "pygments_lexer": "ipython3",
   "version": "3.10.5"
  }
 },
 "nbformat": 4,
 "nbformat_minor": 5
}
