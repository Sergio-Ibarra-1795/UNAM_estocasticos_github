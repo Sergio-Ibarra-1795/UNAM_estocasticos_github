{
 "cells": [
  {
   "attachments": {},
   "cell_type": "markdown",
   "id": "118d5170",
   "metadata": {},
   "source": [
    "# SIMULACIÓN CON VARIABLES ALEATORIAS\n",
    " "
   ]
  },
  {
   "attachments": {},
   "cell_type": "markdown",
   "id": "e718c4de",
   "metadata": {},
   "source": [
    "## Simulación de números con una distribución dada"
   ]
  },
  {
   "attachments": {},
   "cell_type": "markdown",
   "id": "912da04d",
   "metadata": {},
   "source": [
    "#### Ejemplo de generación de numeros aleatorios para una VA DISCRETA: Generar 10 valores aleatorios de la v.a. X con distribución"
   ]
  },
  {
   "attachments": {},
   "cell_type": "markdown",
   "id": "a924e9ca",
   "metadata": {},
   "source": [
    "|x| -5 | -1 |1 |1.5 |3|\n",
    "| --- | --- | --- | --- | --- | --- |\n",
    "| F(x) | 0.2 | 0.21 |0.51 |0.8 |1 |"
   ]
  },
  {
   "attachments": {},
   "cell_type": "markdown",
   "id": "cb01fecf",
   "metadata": {},
   "source": [
    "Genero los vectores con los valores de x y su respectiva probabilidad Fx "
   ]
  },
  {
   "cell_type": "code",
   "execution_count": null,
   "id": "5cab8d0d",
   "metadata": {},
   "outputs": [],
   "source": [
    "x = [-5,-1,1,1.5,3]\n",
    "Fx = [0.2,0.21,0.51,0.8,1]"
   ]
  },
  {
   "attachments": {},
   "cell_type": "markdown",
   "id": "dbbc9bea",
   "metadata": {},
   "source": [
    "#### Primero genero los numeros aleatorios de manera uniforme (misma probabilidad de ser elegidos)"
   ]
  },
  {
   "attachments": {},
   "cell_type": "markdown",
   "id": "f1d8aaba",
   "metadata": {},
   "source": [
    "##### Generación de números aleatorios con distribución uniforme sin semillas"
   ]
  },
  {
   "cell_type": "code",
   "execution_count": 2,
   "id": "514b5b25",
   "metadata": {},
   "outputs": [
    {
     "name": "stdout",
     "output_type": "stream",
     "text": [
      "[0.16558409169955124, 0.8350849170745416, 0.5691534694996502, 0.23409045942828466, 0.2790487481048646, 0.952407706856583, 0.9081413514113119, 0.400879234608308, 0.28242104637937526, 0.5578023686289129]\n"
     ]
    }
   ],
   "source": [
    "import random\n",
    "\n",
    "random_numbers_1 = []\n",
    "for i in range(10):\n",
    "    random_numbers_1.append(random.random())\n",
    "\n",
    "print(random_numbers_1)"
   ]
  },
  {
   "attachments": {},
   "cell_type": "markdown",
   "id": "9229813f",
   "metadata": {},
   "source": [
    "##### Generación de números aleatorios con distribución uniforme CON semillas"
   ]
  },
  {
   "cell_type": "code",
   "execution_count": 4,
   "id": "0bd147ec",
   "metadata": {},
   "outputs": [
    {
     "name": "stdout",
     "output_type": "stream",
     "text": [
      "[0.6394267984578837, 0.025010755222666936, 0.27502931836911926, 0.22321073814882275, 0.7364712141640124, 0.6766994874229113, 0.8921795677048454, 0.08693883262941615, 0.4219218196852704, 0.029797219438070344]\n"
     ]
    }
   ],
   "source": [
    "import random\n",
    "\n",
    "# Set the seed to 42\n",
    "random.seed(42)\n",
    "\n",
    "random_numbers_1 = []\n",
    "for i in range(10):\n",
    "    random_numbers_1.append(random.random())\n",
    "\n",
    "print(random_numbers_1)\n"
   ]
  },
  {
   "attachments": {},
   "cell_type": "markdown",
   "id": "87588983",
   "metadata": {},
   "source": [
    "Entonces, igualamos esos números random entre [0,1] que podrían ser valores de la función de distribcuión F(X), entonces yo voy a ver, para que valor de x, la función de disttribución F(X) vale el valor obtenido por el número aleatorio "
   ]
  },
  {
   "attachments": {},
   "cell_type": "markdown",
   "id": "bbb6ddf8",
   "metadata": {},
   "source": [
    "Es decir:<br>\n",
    "Paso1: Generar n números aleatorios entre [0,1] <Existen \"métodos\" para generar estos números aletorios ue parten de \"una semilla\" y \"una experisión para generalos\" <br>\n",
    "Paso2: Igualamos la fujción de distribcuión con ese número aletorio:<br>\n",
    "<br>\n",
    "Fx(x1)=randomi\n",
    "<br>\n",
    "Paso3: Resolver la exación del paso 2 para xi"
   ]
  },
  {
   "attachments": {},
   "cell_type": "markdown",
   "id": "c2cf49ba",
   "metadata": {},
   "source": [
    "Es decir:<br>\n",
    "Paso1: Generar n números aleatorios entre [0,1] <Existen \"métodos\" para generar estos números aletorios ue parten de \"una semilla\" y \"una experisión para generalos\" <br>\n",
    "Paso2: Igualamos la fujción de distribcuión con ese número aletorio:<br>\n",
    "<br>\n",
    "Fx(x1)=randomi\n",
    "<br>\n",
    "Paso3: Resolver la exación del paso 2 para xi"
   ]
  },
  {
   "cell_type": "code",
   "execution_count": 7,
   "id": "630a7449",
   "metadata": {},
   "outputs": [
    {
     "data": {
      "text/plain": [
       "[0.01848875035560998,\n",
       " 0.04325998490976783,\n",
       " 0.07957747349932588,\n",
       " 0.11860378245327594,\n",
       " 0.1418575828416639,\n",
       " 0.15166079137135577,\n",
       " 0.15376550768736008,\n",
       " 0.14971687261122862,\n",
       " 0.143069254270412]"
      ]
     },
     "execution_count": 7,
     "metadata": {},
     "output_type": "execute_result"
    }
   ],
   "source": [
    "#Transformando los datos de la columna probabilidad en una tipo lista\n",
    "\n",
    "df_USA_niños_probabilidad_list = [0.01848875035560998,\n",
    " 0.04325998490976783,\n",
    " 0.07957747349932588,\n",
    " 0.11860378245327594,\n",
    " 0.1418575828416639,\n",
    " 0.15166079137135577,\n",
    " 0.15376550768736008,\n",
    " 0.14971687261122862,\n",
    " 0.143069254270412]\n",
    "\n",
    "df_USA_niños_probabilidad_list "
   ]
  },
  {
   "cell_type": "code",
   "execution_count": 8,
   "id": "db68ad70",
   "metadata": {},
   "outputs": [
    {
     "data": {
      "text/plain": [
       "[6, 7, 8, 9, 10, 11, 12, 13, 14]"
      ]
     },
     "execution_count": 8,
     "metadata": {},
     "output_type": "execute_result"
    }
   ],
   "source": [
    "#Transformando los datos de la columna edad en una tipo lista\n",
    "df_USA_niños_escolar_edad_list = [6, 7, 8, 9, 10, 11, 12, 13, 14]\n",
    "df_USA_niños_escolar_edad_list"
   ]
  },
  {
   "attachments": {},
   "cell_type": "markdown",
   "id": "978db27f",
   "metadata": {},
   "source": [
    "Ahora procederemos a generar los 30 numeros random, con la función de python que se llama random.choice y que toma 3 parametros:<br>\n",
    "    a)Los valores de la variable x en la función de distribución <br>\n",
    "    b)Los valores de f(x) en la función de masa / densidad de probabilidad <br>\n",
    "    c) El número de valores random que se quiere generar"
   ]
  },
  {
   "attachments": {},
   "cell_type": "markdown",
   "id": "75c76a74",
   "metadata": {},
   "source": [
    "When using np.random.choice, the p parameter should contain the probability mass function (PMF) or probability density function (PDF) of the distribution from which you want to sample.\n",
    "\n",
    "For discrete distributions, p should contain the PMF, while for continuous distributions, p should contain the PDF.\n",
    "\n",
    "In your case, df_USA_niños_probabilidad_list contains the PMF of a discrete distribution, so it is the correct input for np.random.choice.\n",
    "\n",
    "\n",
    "https://numpy.org/doc/stable/reference/random/generated/numpy.random.Generator.choice.html#numpy.random.Generator.choice"
   ]
  },
  {
   "cell_type": "code",
   "execution_count": 9,
   "id": "09cc2369",
   "metadata": {},
   "outputs": [
    {
     "data": {
      "text/plain": [
       "array([12, 13, 12, 12, 10, 13, 14, 10, 10,  7, 11, 11, 10, 11, 12, 13, 11,\n",
       "       13,  8, 10, 14, 11,  9, 11, 10, 10,  8, 11, 11, 13])"
      ]
     },
     "execution_count": 9,
     "metadata": {},
     "output_type": "execute_result"
    }
   ],
   "source": [
    "import numpy as np \n",
    "\n",
    "random_30_edades = np.random.choice(\n",
    "df_USA_niños_escolar_edad_list, size=30, p=df_USA_niños_probabilidad_list )\n",
    "random_30_edades"
   ]
  },
  {
   "attachments": {},
   "cell_type": "markdown",
   "id": "ae2a8105",
   "metadata": {},
   "source": [
    "Vamos a graficar los datos simulados "
   ]
  },
  {
   "cell_type": "code",
   "execution_count": 10,
   "id": "142dfc4b",
   "metadata": {},
   "outputs": [
    {
     "data": {
      "image/png": "[encoded data removed]",
      "text/plain": [
       "<Figure size 432x288 with 1 Axes>"
      ]
     },
     "metadata": {
      "needs_background": "light"
     },
     "output_type": "display_data"
    }
   ],
   "source": [
    "import matplotlib.pyplot as plt\n",
    "\n",
    "plt.hist(random_30_edades, bins=10)\n",
    "plt.xlabel('Values')\n",
    "plt.ylabel('Frequency')\n",
    "plt.title('Histogram of Random X')\n",
    "plt.show()"
   ]
  },
  {
   "attachments": {},
   "cell_type": "markdown",
   "id": "c2cc3af4",
   "metadata": {},
   "source": [
    "Ahora calculemos la edad promedio de los valores simulados"
   ]
  },
  {
   "cell_type": "code",
   "execution_count": 12,
   "id": "5f10d6be",
   "metadata": {},
   "outputs": [
    {
     "name": "stdout",
     "output_type": "stream",
     "text": [
      "11.03\n"
     ]
    }
   ],
   "source": [
    "import numpy as np\n",
    "\n",
    "edad_promedio_simulada = round(np.mean(random_30_edades),2)\n",
    "print(edad_promedio_simulada)"
   ]
  },
  {
   "attachments": {},
   "cell_type": "markdown",
   "id": "f78ef9d7",
   "metadata": {},
   "source": [
    "##### b) Calcule la edad promedio de los niños con problemas de aprendizaje (no simulada, sino calculada a partir de los datos reales de x y sus probabilidades, es decir, a partir de su fujción de probabilidad).<br>"
   ]
  },
  {
   "cell_type": "code",
   "execution_count": 15,
   "id": "c471d3a8",
   "metadata": {},
   "outputs": [
    {
     "name": "stdout",
     "output_type": "stream",
     "text": [
      "11.0\n"
     ]
    }
   ],
   "source": [
    "import numpy as np\n",
    "\n",
    "esperanza_edad = round(np.dot(df_USA_niños_escolar_edad_list, df_USA_niños_probabilidad_list), 2)\n",
    "print(esperanza_edad)\n"
   ]
  },
  {
   "attachments": {},
   "cell_type": "markdown",
   "id": "01c0c0ac",
   "metadata": {},
   "source": [
    "#### Ejemplo de generación de numeros aleatorios dada una PDF (a la que primero hay que encontrar el valor de una constante que la hace una PDF):"
   ]
  },
  {
   "attachments": {},
   "cell_type": "markdown",
   "id": "2e62aa90",
   "metadata": {},
   "source": [
    "Dada la siguiente función de probabilidad "
   ]
  },
  {
   "attachments": {},
   "cell_type": "markdown",
   "id": "5c8c54dc",
   "metadata": {},
   "source": [
    "$$fx(x) = \\left\\{\\begin{matrix}\n",
    "k* (x-1)^2 & 0<=X<=2\\\\ \n",
    "0 & otherwise\n",
    "\\end{matrix}\\right.$$"
   ]
  },
  {
   "cell_type": "code",
   "execution_count": 1,
   "id": "f67b74f7",
   "metadata": {},
   "outputs": [
    {
     "name": "stdout",
     "output_type": "stream",
     "text": [
      "The analytical solution is: Piecewise((0, x <= 0), (k*x*(x**2 - 3*x + 3)/3, x <= 2), (2*k/3, True))\n"
     ]
    }
   ],
   "source": [
    "import sympy\n",
    "\n",
    "# Define the symbol 'y' and the function 'f'\n",
    "x = sympy.Symbol('x')\n",
    "k = sympy.Symbol('k')\n",
    "f = sympy.Piecewise((k* (x-1)**2, (x>=0)&(x<=2)), (0, True))\n",
    "\n",
    "# Integrate the function 'f' with respect to 'y'\n",
    "F = sympy.integrate(f, x)\n",
    "\n",
    "# Simplify the result\n",
    "F = F.simplify()\n",
    "\n",
    "# Show the result\n",
    "print(f\"The analytical solution is: {F}\")"
   ]
  },
  {
   "attachments": {},
   "cell_type": "markdown",
   "id": "7985a8e6",
   "metadata": {},
   "source": [
    "b) To evaluate the integral for x, you can use the .subs() method in symp"
   ]
  },
  {
   "cell_type": "code",
   "execution_count": 4,
   "id": "471e1092",
   "metadata": {},
   "outputs": [
    {
     "name": "stdout",
     "output_type": "stream",
     "text": [
      "The result is: 2*k/3\n"
     ]
    }
   ],
   "source": [
    "# Evaluate the integral at x=2\n",
    "result = F.subs(x, 2) - F.subs(x, 0)\n",
    "\n",
    "# Show the result\n",
    "print(f\"The result is: {result}\")\n"
   ]
  },
  {
   "attachments": {},
   "cell_type": "markdown",
   "id": "8b8bec3f",
   "metadata": {},
   "source": [
    "c) To calculate the value of k that makes the integral equal to 1, you can solve the following equation for c:"
   ]
  },
  {
   "cell_type": "code",
   "execution_count": 5,
   "id": "a0e418ae",
   "metadata": {},
   "outputs": [
    {
     "name": "stdout",
     "output_type": "stream",
     "text": [
      "The value of c that makes fy(y) a probability function is: 3/2\n"
     ]
    }
   ],
   "source": [
    "# Set the integral equal to 1\n",
    "eq = sympy.Eq(F.subs(x, 2) - F.subs(x, 0), 1)\n",
    "\n",
    "# Solve for 'c'\n",
    "k_value = sympy.solve(eq, k)\n",
    "\n",
    "# Show the result\n",
    "print(f\"The value of c that makes fy(y) a probability function is: {k_value[0]}\")"
   ]
  },
  {
   "cell_type": "code",
   "execution_count": 13,
   "id": "c233b742",
   "metadata": {},
   "outputs": [
    {
     "data": {
      "image/png": "[encoded data removed]",
      "text/plain": [
       "<Figure size 432x288 with 1 Axes>"
      ]
     },
     "metadata": {
      "needs_background": "light"
     },
     "output_type": "display_data"
    }
   ],
   "source": [
    "import numpy as np\n",
    "import matplotlib.pyplot as plt\n",
    "\n",
    "# Define the function fx(x)\n",
    "def fx(x, k_value):\n",
    "    return np.where((0 <= x) & (x <= 2), k_value * (x - 1) ** 2, 0)\n",
    "\n",
    "# Define the value of k\n",
    "k_value = 3/2\n",
    "\n",
    "# Create an array of values for y\n",
    "x_vals = np.linspace(0, 2, 1000)\n",
    "\n",
    "# Evaluate fy(y) for each value of y\n",
    "fx_vals = fx(x_vals, k_value)\n",
    "\n",
    "# Plot fy(y)\n",
    "plt.plot(x_vals, fx_vals)\n",
    "plt.xlabel('y')\n",
    "plt.ylabel('fy(y)')\n",
    "plt.title('Probability Density Function')\n",
    "plt.show()\n"
   ]
  },
  {
   "attachments": {},
   "cell_type": "markdown",
   "id": "ac5771f4",
   "metadata": {},
   "source": [
    "##### Integrando la función de probabilidad para obtener la función de distribución de probabilidad "
   ]
  },
  {
   "cell_type": "code",
   "execution_count": 24,
   "id": "8dab21b9",
   "metadata": {},
   "outputs": [
    {
     "data": {
      "text/latex": [
       "$\\displaystyle 0.5 x^{3} - 1.5 x^{2} + 1.5 x$"
      ],
      "text/plain": [
       "0.5*x**3 - 1.5*x**2 + 1.5*x"
      ]
     },
     "execution_count": 24,
     "metadata": {},
     "output_type": "execute_result"
    }
   ],
   "source": [
    "import sympy as sp\n",
    "\n",
    "# define the symbol\n",
    "x = sp.Symbol('x')\n",
    "\n",
    "# solve the integral\n",
    "integ = sp.integrate(3/2 * (x - 1)**2, (x, 0, x))\n",
    "integ\n"
   ]
  },
  {
   "attachments": {},
   "cell_type": "markdown",
   "id": "ff7545b8",
   "metadata": {},
   "source": [
    "The DISTRIBUTION FUNCTION IS THEN "
   ]
  },
  {
   "cell_type": "code",
   "execution_count": 25,
   "id": "648c6a78",
   "metadata": {},
   "outputs": [
    {
     "data": {
      "text/latex": [
       "$\\displaystyle 0.5 x^{3} - 1.5 x^{2} + 1.5 x$"
      ],
      "text/plain": [
       "0.5*x**3 - 1.5*x**2 + 1.5*x"
      ]
     },
     "execution_count": 25,
     "metadata": {},
     "output_type": "execute_result"
    }
   ],
   "source": [
    "F_distribucion = integ\n",
    "F_distribucion\n"
   ]
  },
  {
   "attachments": {},
   "cell_type": "markdown",
   "id": "e301e52c",
   "metadata": {},
   "source": [
    "Igualando la FUNCION DE DISTRIBUCION CON r Y DESPEJANDO PARA X"
   ]
  },
  {
   "cell_type": "code",
   "execution_count": 2,
   "id": "eee16c0e",
   "metadata": {},
   "outputs": [
    {
     "name": "stdout",
     "output_type": "stream",
     "text": [
      "The analytical solution is: x = 1.25992104989487*(r - 0.5)**(1/3) + 1.0\n"
     ]
    }
   ],
   "source": [
    "import sympy as sp\n",
    "\n",
    "# define symbols\n",
    "x, r = sp.symbols('x r')\n",
    "\n",
    "# define the equation\n",
    "eq = 1/2*(x-1)**3 + 1/2 - r\n",
    "\n",
    "# solve the equation for x in terms of r and keep only real solutions\n",
    "sol = sp.solve(eq, x, domain=sp.Reals)\n",
    "\n",
    "# print the solution\n",
    "print(\"The analytical solution is: x =\", sol[2])\n",
    "\n"
   ]
  },
  {
   "attachments": {},
   "cell_type": "markdown",
   "id": "e6f85cf7",
   "metadata": {},
   "source": [
    "Obteniendo únicamente la solución real del despeje "
   ]
  },
  {
   "cell_type": "code",
   "execution_count": 4,
   "id": "dffa2379",
   "metadata": {},
   "outputs": [
    {
     "name": "stdout",
     "output_type": "stream",
     "text": [
      "1.25992104989487*(r - 0.5)**(1/3) + 1.0\n"
     ]
    }
   ],
   "source": [
    "\n",
    "\n",
    "real_sol = sol[2]\n",
    "print(real_sol)\n"
   ]
  },
  {
   "attachments": {},
   "cell_type": "markdown",
   "id": "96f78397",
   "metadata": {},
   "source": [
    "Obteniendo números X a partir del resultado de la ecuación igualada "
   ]
  },
  {
   "cell_type": "code",
   "execution_count": 46,
   "id": "250c0885",
   "metadata": {},
   "outputs": [],
   "source": [
    "import math\n",
    "\n",
    "def solve_equation(r):\n",
    "    x = 1 + 1.25992104989487*(r - 0.5)**(1/3)\n",
    "    return x.real\n"
   ]
  },
  {
   "attachments": {},
   "cell_type": "markdown",
   "id": "9fee1bea",
   "metadata": {},
   "source": [
    "Simulando numeros con distribución uniforme "
   ]
  },
  {
   "cell_type": "code",
   "execution_count": 51,
   "id": "cf45a14f",
   "metadata": {},
   "outputs": [
    {
     "name": "stdout",
     "output_type": "stream",
     "text": [
      "[0.6394267984578837, 0.025010755222666936, 0.27502931836911926, 0.22321073814882275, 0.7364712141640124]\n"
     ]
    }
   ],
   "source": [
    "import random\n",
    "\n",
    "# Set the seed to 42\n",
    "random.seed(42)\n",
    "\n",
    "random_numbers_distribucion = []\n",
    "for i in range(5):\n",
    "    random_numbers_distribucion.append(random.random())\n",
    "\n",
    "print(random_numbers_distribucion)\n"
   ]
  },
  {
   "attachments": {},
   "cell_type": "markdown",
   "id": "f5cb46a8",
   "metadata": {},
   "source": [
    "OBTENIENDO LOS NUMEROS SIMULADOS DE X TRAS IGUALAR CON LA ECUACION DE LA FUNCI´N DE DISTRIBUCIÓN "
   ]
  },
  {
   "cell_type": "code",
   "execution_count": 52,
   "id": "75728724",
   "metadata": {},
   "outputs": [
    {
     "name": "stdout",
     "output_type": "stream",
     "text": [
      "[1.653319192990896, 1.4915200764298713, 1.383138073294026, 1.410547188218468, 1.7791171406558752]\n"
     ]
    }
   ],
   "source": [
    "# Solve the equation for each value in the list\n",
    "solutions = [solve_equation(r) for r in random_numbers_distribucion]\n",
    "\n",
    "# Print the solutions\n",
    "print(solutions)\n"
   ]
  },
  {
   "attachments": {},
   "cell_type": "markdown",
   "id": "1ae9d8f0",
   "metadata": {},
   "source": [
    "#### Ejemplo de simulación de una linea de espera "
   ]
  },
  {
   "attachments": {},
   "cell_type": "markdown",
   "id": "edc2ad00",
   "metadata": {},
   "source": [
    "###### Integrando la función de probabilidad de LLEGADA para obtener la función de distribución de probabilidad DE LLEGADA"
   ]
  },
  {
   "cell_type": "code",
   "execution_count": 53,
   "id": "f7edce4f",
   "metadata": {},
   "outputs": [
    {
     "data": {
      "text/latex": [
       "$\\displaystyle 0.5 x^{3} - 1.5 x^{2} + 1.5 x$"
      ],
      "text/plain": [
       "0.5*x**3 - 1.5*x**2 + 1.5*x"
      ]
     },
     "execution_count": 53,
     "metadata": {},
     "output_type": "execute_result"
    }
   ],
   "source": [
    "import sympy as sp\n",
    "\n",
    "# define the symbol\n",
    "x = sp.Symbol('x')\n",
    "\n",
    "# solve the integral\n",
    "integ_funcion_llegada = sp.integrate(3/2 * (x - 1)**2, (x, 0, x))\n",
    "integ_funcion_llegada"
   ]
  },
  {
   "attachments": {},
   "cell_type": "markdown",
   "id": "695d7cc2",
   "metadata": {},
   "source": [
    "###### Integrando la función de probabilidad de  ATENCION para obtener la función de distribución de probabilidad DE ATENCION"
   ]
  },
  {
   "cell_type": "code",
   "execution_count": 55,
   "id": "9c3f6f23",
   "metadata": {},
   "outputs": [
    {
     "name": "stdout",
     "output_type": "stream",
     "text": [
      "-exp(-2*y)\n"
     ]
    }
   ],
   "source": [
    "import sympy as sp\n",
    "\n",
    "# Define the symbol\n",
    "y = sp.Symbol('y')\n",
    "\n",
    "# Define the function to integrate\n",
    "f_llegada = 2*sp.exp(-2*y)\n",
    "\n",
    "# Integrate the function\n",
    "funcion_distribucion_llegada = sp.integrate(f_llegada, y)\n",
    "\n",
    "# Print the result\n",
    "print(funcion_distribucion_llegada)\n",
    "\n"
   ]
  },
  {
   "attachments": {},
   "cell_type": "markdown",
   "id": "4775a41a",
   "metadata": {},
   "source": [
    "Igualando la funcion a r y despejando para Y "
   ]
  },
  {
   "cell_type": "code",
   "execution_count": 66,
   "id": "5a115137",
   "metadata": {},
   "outputs": [
    {
     "name": "stdout",
     "output_type": "stream",
     "text": [
      "The analytical solution is: x = [log(-1/r)/2, log(-sqrt(-1/r))]\n"
     ]
    }
   ],
   "source": [
    "import sympy as sp\n",
    "\n",
    "# define symbols\n",
    "y, r = sp.symbols('y r')\n",
    "\n",
    "# define the equation\n",
    "eq_llegada =   -sp.exp(-2*y) - r\n",
    "\n",
    "# solve the equation for x in terms of r and keep only real solutions\n",
    "sol_distribucion_llegada = sp.solve(eq_llegada, y, domain=sp.Reals)\n",
    "\n",
    "# print the solution\n",
    "print(\"The analytical solution is: x =\", sol_distribucion_llegada)\n"
   ]
  },
  {
   "cell_type": "code",
   "execution_count": 67,
   "id": "2d1429c1",
   "metadata": {},
   "outputs": [
    {
     "data": {
      "text/latex": [
       "$\\displaystyle \\frac{\\log{\\left(- \\frac{1}{r} \\right)}}{2}$"
      ],
      "text/plain": [
       "log(-1/r)/2"
      ]
     },
     "execution_count": 67,
     "metadata": {},
     "output_type": "execute_result"
    }
   ],
   "source": [
    "sol_distribucion_llegada[0]"
   ]
  },
  {
   "attachments": {},
   "cell_type": "markdown",
   "id": "dc2ea2fc",
   "metadata": {},
   "source": [
    "Obteniendo números X a partir del resultado de la ecuación igualada "
   ]
  },
  {
   "cell_type": "code",
   "execution_count": 68,
   "id": "0c93a18a",
   "metadata": {},
   "outputs": [],
   "source": [
    "import math\n",
    "\n",
    "def solve_equation(r):\n",
    "    x = math.log(-1/r)/2\n",
    "    return x.real"
   ]
  },
  {
   "attachments": {},
   "cell_type": "markdown",
   "id": "ac6e513b",
   "metadata": {},
   "source": [
    "Generando numeros random uniformes"
   ]
  },
  {
   "cell_type": "code",
   "execution_count": 64,
   "id": "bd00c00a",
   "metadata": {},
   "outputs": [
    {
     "name": "stdout",
     "output_type": "stream",
     "text": [
      "[0.6394267984578837, 0.025010755222666936, 0.27502931836911926, 0.22321073814882275, 0.7364712141640124, 0.6766994874229113, 0.8921795677048454, 0.08693883262941615, 0.4219218196852704, 0.029797219438070344]\n"
     ]
    }
   ],
   "source": [
    "import random\n",
    "\n",
    "# Set the seed to 42\n",
    "random.seed(42)\n",
    "\n",
    "random_numbers_distribucion_llegada = []\n",
    "for i in range(10):\n",
    "    random_numbers_distribucion_llegada.append(random.random())\n",
    "\n",
    "print(random_numbers_distribucion_llegada)\n"
   ]
  },
  {
   "cell_type": "code",
   "execution_count": 65,
   "id": "c9747269",
   "metadata": {},
   "outputs": [
    {
     "ename": "ValueError",
     "evalue": "math domain error",
     "output_type": "error",
     "traceback": [
      "\u001b[1;31m---------------------------------------------------------------------------\u001b[0m",
      "\u001b[1;31mValueError\u001b[0m                                Traceback (most recent call last)",
      "\u001b[1;32mc:\\Users\\llell\\Documents\\MIS\\Second_semester\\Procesos_estocasticos\\UNAM_estocasticos_github\\.ipynb_checkpoints\\Preparacion_Parcial1\\Simulacion_numerica_con_VA.ipynb Cell 63\u001b[0m in \u001b[0;36m<cell line: 2>\u001b[1;34m()\u001b[0m\n\u001b[0;32m      <a href='vscode-notebook-cell:/c%3A/Users/llell/Documents/MIS/Second_semester/Procesos_estocasticos/UNAM_estocasticos_github/.ipynb_checkpoints/Preparacion_Parcial1/Simulacion_numerica_con_VA.ipynb#Y140sZmlsZQ%3D%3D?line=0'>1</a>\u001b[0m \u001b[39m# Solve the equation for each value in the list\u001b[39;00m\n\u001b[1;32m----> <a href='vscode-notebook-cell:/c%3A/Users/llell/Documents/MIS/Second_semester/Procesos_estocasticos/UNAM_estocasticos_github/.ipynb_checkpoints/Preparacion_Parcial1/Simulacion_numerica_con_VA.ipynb#Y140sZmlsZQ%3D%3D?line=1'>2</a>\u001b[0m solutions_llegada \u001b[39m=\u001b[39m [solve_equation(r) \u001b[39mfor\u001b[39;00m r \u001b[39min\u001b[39;00m random_numbers_distribucion_llegada]\n\u001b[0;32m      <a href='vscode-notebook-cell:/c%3A/Users/llell/Documents/MIS/Second_semester/Procesos_estocasticos/UNAM_estocasticos_github/.ipynb_checkpoints/Preparacion_Parcial1/Simulacion_numerica_con_VA.ipynb#Y140sZmlsZQ%3D%3D?line=3'>4</a>\u001b[0m \u001b[39m# Print the solutions\u001b[39;00m\n\u001b[0;32m      <a href='vscode-notebook-cell:/c%3A/Users/llell/Documents/MIS/Second_semester/Procesos_estocasticos/UNAM_estocasticos_github/.ipynb_checkpoints/Preparacion_Parcial1/Simulacion_numerica_con_VA.ipynb#Y140sZmlsZQ%3D%3D?line=4'>5</a>\u001b[0m \u001b[39mprint\u001b[39m(solutions_llegada)\n",
      "\u001b[1;32mc:\\Users\\llell\\Documents\\MIS\\Second_semester\\Procesos_estocasticos\\UNAM_estocasticos_github\\.ipynb_checkpoints\\Preparacion_Parcial1\\Simulacion_numerica_con_VA.ipynb Cell 63\u001b[0m in \u001b[0;36m<listcomp>\u001b[1;34m(.0)\u001b[0m\n\u001b[0;32m      <a href='vscode-notebook-cell:/c%3A/Users/llell/Documents/MIS/Second_semester/Procesos_estocasticos/UNAM_estocasticos_github/.ipynb_checkpoints/Preparacion_Parcial1/Simulacion_numerica_con_VA.ipynb#Y140sZmlsZQ%3D%3D?line=0'>1</a>\u001b[0m \u001b[39m# Solve the equation for each value in the list\u001b[39;00m\n\u001b[1;32m----> <a href='vscode-notebook-cell:/c%3A/Users/llell/Documents/MIS/Second_semester/Procesos_estocasticos/UNAM_estocasticos_github/.ipynb_checkpoints/Preparacion_Parcial1/Simulacion_numerica_con_VA.ipynb#Y140sZmlsZQ%3D%3D?line=1'>2</a>\u001b[0m solutions_llegada \u001b[39m=\u001b[39m [solve_equation(r) \u001b[39mfor\u001b[39;00m r \u001b[39min\u001b[39;00m random_numbers_distribucion_llegada]\n\u001b[0;32m      <a href='vscode-notebook-cell:/c%3A/Users/llell/Documents/MIS/Second_semester/Procesos_estocasticos/UNAM_estocasticos_github/.ipynb_checkpoints/Preparacion_Parcial1/Simulacion_numerica_con_VA.ipynb#Y140sZmlsZQ%3D%3D?line=3'>4</a>\u001b[0m \u001b[39m# Print the solutions\u001b[39;00m\n\u001b[0;32m      <a href='vscode-notebook-cell:/c%3A/Users/llell/Documents/MIS/Second_semester/Procesos_estocasticos/UNAM_estocasticos_github/.ipynb_checkpoints/Preparacion_Parcial1/Simulacion_numerica_con_VA.ipynb#Y140sZmlsZQ%3D%3D?line=4'>5</a>\u001b[0m \u001b[39mprint\u001b[39m(solutions_llegada)\n",
      "\u001b[1;32mc:\\Users\\llell\\Documents\\MIS\\Second_semester\\Procesos_estocasticos\\UNAM_estocasticos_github\\.ipynb_checkpoints\\Preparacion_Parcial1\\Simulacion_numerica_con_VA.ipynb Cell 63\u001b[0m in \u001b[0;36msolve_equation\u001b[1;34m(r)\u001b[0m\n\u001b[0;32m      <a href='vscode-notebook-cell:/c%3A/Users/llell/Documents/MIS/Second_semester/Procesos_estocasticos/UNAM_estocasticos_github/.ipynb_checkpoints/Preparacion_Parcial1/Simulacion_numerica_con_VA.ipynb#Y140sZmlsZQ%3D%3D?line=2'>3</a>\u001b[0m \u001b[39mdef\u001b[39;00m \u001b[39msolve_equation\u001b[39m(r):\n\u001b[1;32m----> <a href='vscode-notebook-cell:/c%3A/Users/llell/Documents/MIS/Second_semester/Procesos_estocasticos/UNAM_estocasticos_github/.ipynb_checkpoints/Preparacion_Parcial1/Simulacion_numerica_con_VA.ipynb#Y140sZmlsZQ%3D%3D?line=3'>4</a>\u001b[0m     x \u001b[39m=\u001b[39m math\u001b[39m.\u001b[39;49mlog(\u001b[39m-\u001b[39;49m\u001b[39m1\u001b[39;49m\u001b[39m/\u001b[39;49mr)\u001b[39m/\u001b[39m\u001b[39m2\u001b[39m\n\u001b[0;32m      <a href='vscode-notebook-cell:/c%3A/Users/llell/Documents/MIS/Second_semester/Procesos_estocasticos/UNAM_estocasticos_github/.ipynb_checkpoints/Preparacion_Parcial1/Simulacion_numerica_con_VA.ipynb#Y140sZmlsZQ%3D%3D?line=4'>5</a>\u001b[0m     \u001b[39mreturn\u001b[39;00m x\u001b[39m.\u001b[39mreal\n",
      "\u001b[1;31mValueError\u001b[0m: math domain error"
     ]
    }
   ],
   "source": [
    "# Solve the equation for each value in the list\n",
    "solutions_llegada = [solve_equation(r) for r in random_numbers_distribucion_llegada]\n",
    "\n",
    "# Print the solutions\n",
    "print(solutions_llegada)"
   ]
  }
 ],
 "metadata": {
  "kernelspec": {
   "display_name": "Python 3 (ipykernel)",
   "language": "python",
   "name": "python3"
  },
  "language_info": {
   "codemirror_mode": {
    "name": "ipython",
    "version": 3
   },
   "file_extension": ".py",
   "mimetype": "text/x-python",
   "name": "python",
   "nbconvert_exporter": "python",
   "pygments_lexer": "ipython3",
   "version": "3.10.5"
  }
 },
 "nbformat": 4,
 "nbformat_minor": 5
}
