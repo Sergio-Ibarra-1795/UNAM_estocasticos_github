{
 "cells": [
  {
   "attachments": {},
   "cell_type": "markdown",
   "id": "118d5170",
   "metadata": {},
   "source": [
    "# Vectores aleatorios (su esperanza y varianza)"
   ]
  },
  {
   "attachments": {},
   "cell_type": "markdown",
   "id": "e718c4de",
   "metadata": {},
   "source": [
    "### Variables aleatorias conjuntas"
   ]
  },
  {
   "attachments": {},
   "cell_type": "markdown",
   "id": "71897b77",
   "metadata": {},
   "source": [
    "Here are some fundamental properties of random variable vectors:\n",
    "\n",
    "1. Non-negativity: The joint probability distribution function $f_{X,Y,Z}(x,y,z)$ is non-negative for all $(x,y,z)$ in the sample space $S$. <br>\n",
    "2. Normalization: The joint probability distribution function satisfies $\\iiint_S f_{X,Y,Z}(x,y,z)dxdydz = 1$.<br>\n",
    "3. Probability of an event: The probability that the random vector $(X,Y,Z)$ falls within a region $R$ in three-dimensional space is given by the triple integral of the joint probability distribution function over that region: $P((X,Y,Z)\\in R) = \\iiint_R f_{X,Y,Z}(x,y,z)dxdydz$.<br>\n",
    "4. Marginal distributions: The marginal probability distribution functions for $X, Y,$ and $Z$ are given by $f_X(x) = \\iiint f_{X,Y,Z}(x,y,z)dydz$, $f_Y(y) = \\iiint f_{X,Y,Z}(x,y,z)dxdz$, and $f_Z(z) = \\iiint f_{X,Y,Z}(x,y,z)dxdy$, respectively.<br>\n",
    "5. Independence: The random variables $X, Y,$ and $Z$ are independent if and only if $f_{X,Y,Z}(x,y,z) = f_X(x)f_Y(y)f_Z(z)$ for all $(x,y,z)$ in the sample space $S$.<br>"
   ]
  },
  {
   "attachments": {},
   "cell_type": "markdown",
   "id": "81aba790",
   "metadata": {},
   "source": [
    "### EJEMPLO DEL VALOR ESPERADO DE UNA PDF DE UN VECTOR DE VARIABLES ALEATORIOS CONJUNTAS CONTINUAS"
   ]
  },
  {
   "attachments": {},
   "cell_type": "markdown",
   "id": "f65e57d1",
   "metadata": {},
   "source": [
    "Analytical solution:\n",
    "\n",
    "To find the expected value of the random vector $(Y,Z)$ with the PDF given by $f_{Y,Z}(y,z)=\\begin{cases} \\frac{2yz^2}{9} & 0\\leq y\\leq 1, 0\\leq z\\leq 3 \\ 0 & \\text{otherwise} \\end{cases}$, we need to evaluate the double integral $\\iint_{\\mathbb{R}^2} (y*z) *f_{Y,Z}(y,z) dydz$ over the entire range of $Y$ and $Z$.\n",
    "\n",
    "\\begin{aligned} E(Y,Z) &= \\iint_{\\mathbb{R}^2} (y*z) f_{Y,Z}(y,z) dydz \\ &= \\int_{0}^{3} \\int_{0}^{1} (yz) \\frac{2yz^2}{9}dydz \\ &= \\frac{2}{9}\\int_{0}^{3}\\left(\\int_{0}^{1} y^2z^3 dy\\right) dz \\ &= \\frac{2}{9}\\int_{0}^{3} \\frac{z^3}{3} dz \\ &= \\frac{2}{9}\\left[\\frac{z^4}{12}\\right]_{0}^{3} \\ &= \\frac{3}{2} \\end{aligned}"
   ]
  },
  {
   "attachments": {},
   "cell_type": "markdown",
   "id": "0545a2fc",
   "metadata": {},
   "source": [
    "Para encontrar el VALOR ESPERAOD ENTONCES"
   ]
  },
  {
   "cell_type": "code",
   "execution_count": 12,
   "id": "a474d69a",
   "metadata": {},
   "outputs": [
    {
     "name": "stdout",
     "output_type": "stream",
     "text": [
      "The expected value of the random vector (Y, Z) is: 3/2\n",
      "Intermediate result 0: 2*y**3*z**3/27\n",
      "Intermediate result 1: 2*z**3/27\n",
      "Intermediate result 2: z**4/54\n",
      "Intermediate result 3: 3/2\n"
     ]
    }
   ],
   "source": [
    "import sympy as sp\n",
    "\n",
    "# Define the variables\n",
    "y, z = sp.symbols('y z')\n",
    "\n",
    "# Define the joint PDF\n",
    "f_YZ = 2*y*z**2/9\n",
    "\n",
    "# Define the limits of integration\n",
    "limits = [(y, 0, 1), (z, 0, 3)]\n",
    "\n",
    "# Compute the expected value of the random vector (Y, Z)\n",
    "E_YZ = sp.integrate(y*z*f_YZ, *limits)\n",
    "\n",
    "# Print intermediate results\n",
    "\n",
    "#Integra con respecto a y \n",
    "Iyz = sp.integrate(y*z*f_YZ, (y))\n",
    "\n",
    "#Evalua con respecto a y\n",
    "Iyy = sp.integrate(y*z*f_YZ, (y, 0, 1))\n",
    "\n",
    "#Integra con respecto a z \n",
    "Iz = sp.integrate(Iyy, (z))\n",
    "\n",
    "#Evalua con respecto a z \n",
    "Izz = sp.integrate(Iyy, (z, 0, 3))\n",
    "\n",
    "\n",
    "# Print final result\n",
    "print(f\"The expected value of the random vector (Y, Z) is: {E_YZ}\")\n",
    "print(f\"Intermediate result 0: {Iyz}\")\n",
    "print(f\"Intermediate result 1: {Iyy}\")\n",
    "print(f\"Intermediate result 2: {Iz}\")\n",
    "print(f\"Intermediate result 3: {Izz}\")\n",
    "\n"
   ]
  },
  {
   "attachments": {},
   "cell_type": "markdown",
   "id": "a782eeaa",
   "metadata": {},
   "source": [
    "PARA SOLO obtener el valor esperado (SIN los pasos de las integrales )"
   ]
  },
  {
   "cell_type": "code",
   "execution_count": 13,
   "id": "739a389e",
   "metadata": {},
   "outputs": [
    {
     "name": "stdout",
     "output_type": "stream",
     "text": [
      "3/2\n"
     ]
    }
   ],
   "source": [
    "import sympy\n",
    "\n",
    "# define symbols\n",
    "y, z = sympy.symbols('y z')\n",
    "\n",
    "# define integrand\n",
    "integrand_vector1 =(y*z) * (2*y*z**2)/9\n",
    "\n",
    "# perform integration\n",
    "expected_vector1 = sympy.integrate(integrand_vector1, (y, 0, 1), (z, 0, 3))\n",
    "\n",
    "# print result\n",
    "print(expected_vector1)\n",
    "\n"
   ]
  },
  {
   "attachments": {},
   "cell_type": "markdown",
   "id": "f332b8ad",
   "metadata": {},
   "source": [
    "#### Ejemplo de Calculo de la marginales de vectores aleatorios "
   ]
  },
  {
   "attachments": {},
   "cell_type": "markdown",
   "id": "a55999b3",
   "metadata": {},
   "source": []
  }
 ],
 "metadata": {
  "kernelspec": {
   "display_name": "Python 3 (ipykernel)",
   "language": "python",
   "name": "python3"
  },
  "language_info": {
   "codemirror_mode": {
    "name": "ipython",
    "version": 3
   },
   "file_extension": ".py",
   "mimetype": "text/x-python",
   "name": "python",
   "nbconvert_exporter": "python",
   "pygments_lexer": "ipython3",
   "version": "3.10.5"
  }
 },
 "nbformat": 4,
 "nbformat_minor": 5
}
