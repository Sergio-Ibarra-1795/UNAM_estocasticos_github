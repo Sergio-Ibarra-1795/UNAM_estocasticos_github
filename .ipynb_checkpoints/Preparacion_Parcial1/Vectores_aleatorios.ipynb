{
 "cells": [
  {
   "attachments": {},
   "cell_type": "markdown",
   "id": "118d5170",
   "metadata": {},
   "source": [
    "# Vectores aleatorios (su esperanza y varianza)"
   ]
  },
  {
   "attachments": {},
   "cell_type": "markdown",
   "id": "e718c4de",
   "metadata": {},
   "source": [
    "### Variables aleatorias conjuntas"
   ]
  },
  {
   "attachments": {},
   "cell_type": "markdown",
   "id": "71897b77",
   "metadata": {},
   "source": [
    "Here are some fundamental properties of random variable vectors:\n",
    "\n",
    "1. Non-negativity: The joint probability distribution function $f_{X,Y,Z}(x,y,z)$ is non-negative for all $(x,y,z)$ in the sample space $S$. <br>\n",
    "2. Normalization: The joint probability distribution function satisfies $\\iiint_S f_{X,Y,Z}(x,y,z)dxdydz = 1$.<br>\n",
    "3. Probability of an event: The probability that the random vector $(X,Y,Z)$ falls within a region $R$ in three-dimensional space is given by the triple integral of the joint probability distribution function over that region: $P((X,Y,Z)\\in R) = \\iiint_R f_{X,Y,Z}(x,y,z)dxdydz$.<br>\n",
    "4. Marginal distributions: The marginal probability distribution functions for $X, Y,$ and $Z$ are given by $f_X(x) = \\iiint f_{X,Y,Z}(x,y,z)dydz$, $f_Y(y) = \\iiint f_{X,Y,Z}(x,y,z)dxdz$, and $f_Z(z) = \\iiint f_{X,Y,Z}(x,y,z)dxdy$, respectively.<br>\n",
    "5. Independence: The random variables $X, Y,$ and $Z$ are independent if and only if $f_{X,Y,Z}(x,y,z) = f_X(x)f_Y(y)f_Z(z)$ for all $(x,y,z)$ in the sample space $S$.<br>"
   ]
  },
  {
   "attachments": {},
   "cell_type": "markdown",
   "id": "81aba790",
   "metadata": {},
   "source": [
    "### EJEMPLO DEL VALOR ESPERADO DE UNA PDF DE UN VECTOR DE VARIABLES ALEATORIOS CONJUNTAS CONTINUAS"
   ]
  },
  {
   "attachments": {},
   "cell_type": "markdown",
   "id": "f65e57d1",
   "metadata": {},
   "source": [
    "Analytical solution:\n",
    "\n",
    "To find the expected value of the random vector $(Y,Z)$ with the PDF given by $f_{Y,Z}(y,z)=\\begin{cases} \\frac{2yz^2}{9} & 0\\leq y\\leq 1, 0\\leq z\\leq 3 \\ 0 & \\text{otherwise} \\end{cases}$, we need to evaluate the double integral $\\iint_{\\mathbb{R}^2} (y*z) *f_{Y,Z}(y,z) dydz$ over the entire range of $Y$ and $Z$.\n",
    "\n",
    "\\begin{aligned} E(Y,Z) &= \\iint_{\\mathbb{R}^2} (y*z) f_{Y,Z}(y,z) dydz \\ &= \\int_{0}^{3} \\int_{0}^{1} (yz) \\frac{2yz^2}{9}dydz \\ &= \\frac{2}{9}\\int_{0}^{3}\\left(\\int_{0}^{1} y^2z^3 dy\\right) dz \\ &= \\frac{2}{9}\\int_{0}^{3} \\frac{z^3}{3} dz \\ &= \\frac{2}{9}\\left[\\frac{z^4}{12}\\right]_{0}^{3} \\ &= \\frac{3}{2} \\end{aligned}"
   ]
  },
  {
   "attachments": {},
   "cell_type": "markdown",
   "id": "0545a2fc",
   "metadata": {},
   "source": [
    "Para encontrar el VALOR ESPERAOD ENTONCES"
   ]
  },
  {
   "cell_type": "code",
   "execution_count": 12,
   "id": "a474d69a",
   "metadata": {},
   "outputs": [
    {
     "name": "stdout",
     "output_type": "stream",
     "text": [
      "The expected value of the random vector (Y, Z) is: 3/2\n",
      "Intermediate result 0: 2*y**3*z**3/27\n",
      "Intermediate result 1: 2*z**3/27\n",
      "Intermediate result 2: z**4/54\n",
      "Intermediate result 3: 3/2\n"
     ]
    }
   ],
   "source": [
    "import sympy as sp\n",
    "\n",
    "# Define the variables\n",
    "y, z = sp.symbols('y z')\n",
    "\n",
    "# Define the joint PDF\n",
    "f_YZ = 2*y*z**2/9\n",
    "\n",
    "# Define the limits of integration\n",
    "limits = [(y, 0, 1), (z, 0, 3)]\n",
    "\n",
    "# Compute the expected value of the random vector (Y, Z)\n",
    "E_YZ = sp.integrate(y*z*f_YZ, *limits)\n",
    "\n",
    "# Print intermediate results\n",
    "\n",
    "#Integra con respecto a y \n",
    "Iyz = sp.integrate(y*z*f_YZ, (y))\n",
    "\n",
    "#Evalua con respecto a y\n",
    "Iyy = sp.integrate(y*z*f_YZ, (y, 0, 1))\n",
    "\n",
    "#Integra con respecto a z \n",
    "Iz = sp.integrate(Iyy, (z))\n",
    "\n",
    "#Evalua con respecto a z \n",
    "Izz = sp.integrate(Iyy, (z, 0, 3))\n",
    "\n",
    "\n",
    "# Print final result\n",
    "print(f\"The expected value of the random vector (Y, Z) is: {E_YZ}\")\n",
    "print(f\"Intermediate result 0: {Iyz}\")\n",
    "print(f\"Intermediate result 1: {Iyy}\")\n",
    "print(f\"Intermediate result 2: {Iz}\")\n",
    "print(f\"Intermediate result 3: {Izz}\")\n",
    "\n"
   ]
  },
  {
   "attachments": {},
   "cell_type": "markdown",
   "id": "a782eeaa",
   "metadata": {},
   "source": [
    "PARA SOLO obtener el valor esperado (SIN los pasos de las integrales )"
   ]
  },
  {
   "cell_type": "code",
   "execution_count": 13,
   "id": "739a389e",
   "metadata": {},
   "outputs": [
    {
     "name": "stdout",
     "output_type": "stream",
     "text": [
      "3/2\n"
     ]
    }
   ],
   "source": [
    "import sympy\n",
    "\n",
    "# define symbols\n",
    "y, z = sympy.symbols('y z')\n",
    "\n",
    "# define integrand\n",
    "integrand_vector1 =(y*z) * (2*y*z**2)/9\n",
    "\n",
    "# perform integration\n",
    "expected_vector1 = sympy.integrate(integrand_vector1, (y, 0, 1), (z, 0, 3))\n",
    "\n",
    "# print result\n",
    "print(expected_vector1)\n",
    "\n"
   ]
  },
  {
   "attachments": {},
   "cell_type": "markdown",
   "id": "f332b8ad",
   "metadata": {},
   "source": [
    "#### Ejemplo de Calculo de la marginales de vectores aleatorios "
   ]
  },
  {
   "attachments": {},
   "cell_type": "markdown",
   "id": "a55999b3",
   "metadata": {},
   "source": [
    "Ejemplo del calculo de marginal de Y conrespecto a x y z "
   ]
  },
  {
   "attachments": {},
   "cell_type": "markdown",
   "id": "958696a9",
   "metadata": {},
   "source": [
    "\\begin{align}\n",
    "f_Y(y) &= \\int_{-\\infty}^{\\infty} f_{Y,Z}(y,z) dz \\\n",
    "&= \\int_{0}^{3} \\frac{2y}{9}z^2 dz \\\n",
    "&= \\frac{2y}{9} \\int_{0}^{3} z^2 dz \\\n",
    "&= \\frac{2y}{9} \\left[\\frac{z^3}{3}\\right]_{0}^{3} \\\n",
    "&= \\frac{2y}{9} \\cdot \\frac{27}{3} \\\n",
    "&= \\boxed{{2y}}\n",
    "\\end{align}\n",
    "\n",
    "Note that the correct marginal distribution of $Y$ is $f_Y(y) = {2y}$"
   ]
  },
  {
   "attachments": {},
   "cell_type": "markdown",
   "id": "7bf6cf59",
   "metadata": {},
   "source": [
    "##### Primero se calcula la marginal como tal <después se claculará su valor esperado>"
   ]
  },
  {
   "attachments": {},
   "cell_type": "markdown",
   "id": "88cd1cd5",
   "metadata": {},
   "source": [
    "##### Calculemos primero la marginal de y (se integra con respecto a x & z)"
   ]
  },
  {
   "cell_type": "code",
   "execution_count": 18,
   "id": "dcce7bda",
   "metadata": {},
   "outputs": [
    {
     "name": "stdout",
     "output_type": "stream",
     "text": [
      "The marginal Y of the random vector (X, Y, Z) is: 2*y*z**2/9\n",
      "Intermediate result 0: 2*x*y*z**2/9\n",
      "Intermediate result 1: 2*y*z**2/9\n",
      "Intermediate result 2: 2*y*z**3/27\n",
      "Intermediate result 3: 2*y\n"
     ]
    }
   ],
   "source": [
    "import sympy as sp\n",
    "\n",
    "# Define the variables\n",
    "x, y, z = sp.symbols('x y z')\n",
    "\n",
    "# Define the joint PDF\n",
    "f_YZ_2 = 2*y*z**2/9\n",
    "\n",
    "# Define the limits of integration\n",
    "limits = [(y, 0, 1), (z, 0, 3)]\n",
    "\n",
    "# Compute the marginal distribution of Y\n",
    "f_Y_2 = sp.integrate(f_YZ_2, *limits)\n",
    "\n",
    "\n",
    "# Print intermediate results\n",
    "\n",
    "#Integra con respecto a x \n",
    "Iyx = sp.integrate(f_YZ_2 , (x))\n",
    "\n",
    "#Evalua con respecto a y\n",
    "Ixx = sp.integrate(f_YZ_2 , (x, 0, 1))\n",
    "\n",
    "#Integra con respecto a z \n",
    "Iz = sp.integrate(Ixx, (z))\n",
    "\n",
    "#Evalua con respecto a z \n",
    "Izz = sp.integrate(Ixx, (z, 0, 3))\n",
    "\n",
    "\n",
    "# Print final result\n",
    "print(f\"The marginal Y of the random vector (X, Y, Z) is: {f_YZ_2}\")\n",
    "print(f\"Intermediate result 0: {Iyx}\")\n",
    "print(f\"Intermediate result 1: {Ixx}\")\n",
    "print(f\"Intermediate result 2: {Iz}\")\n",
    "print(f\"Intermediate result 3: {Izz}\")\n",
    "\n",
    "marginal_y_2 = Izz\n"
   ]
  },
  {
   "attachments": {},
   "cell_type": "markdown",
   "id": "f97861f8",
   "metadata": {},
   "source": [
    "##### Ahora si ya calculamos el valor esperado de la marginal (de y)"
   ]
  },
  {
   "attachments": {},
   "cell_type": "markdown",
   "id": "0737d645",
   "metadata": {},
   "source": [
    "Sure, here's the step-by-step calculation of the expected value of the marginal distribution of Y:\n",
    "\n",
    "\\begin{align}\n",
    "E[Y] &= \\int_{-\\infty}^{\\infty} y \\cdot f_Y(y) dy \\\n",
    "&= \\int_{0}^{1} y \\cdot 2y dy \\qquad \\text{(substituting } f_Y(y) = 2y \\text{ from previous calculation)} \\\n",
    "&= 2 \\int_{0}^{1} y^2 dy \\\n",
    "&= 2 \\left[\\frac{y^3}{3}\\right]_{0}^{1} \\\n",
    "&= \\boxed{\\frac{2}{3}}\n",
    "\\end{align}\n",
    "\n",
    "Therefore, the expected value of the marginal distribution of Y is $\\boxed{\\frac{2}{3}}$."
   ]
  },
  {
   "cell_type": "code",
   "execution_count": 20,
   "id": "2f5bf356",
   "metadata": {},
   "outputs": [
    {
     "name": "stdout",
     "output_type": "stream",
     "text": [
      "2*y**3/3\n",
      "2/3\n"
     ]
    }
   ],
   "source": [
    "marginal_y_2 = Izz\n",
    "# Compute the expected value of the marginal distribution of Y\n",
    "\n",
    "E_Ymarginal_2_con_variables = sp.integrate(y*marginal_y_2, (y))\n",
    "print(E_Ymarginal_2_con_variables)\n",
    "\n",
    "E_Ymarginal_2 = sp.integrate(y*marginal_y_2, (y, 0, 1))\n",
    "print(E_Ymarginal_2)"
   ]
  },
  {
   "attachments": {},
   "cell_type": "markdown",
   "id": "ba4a3628",
   "metadata": {},
   "source": [
    "##### Hagamos lo mismo, pero con la marginal de Z (se integra con respecto a x & y)"
   ]
  },
  {
   "cell_type": "code",
   "execution_count": 21,
   "id": "f483360e",
   "metadata": {},
   "outputs": [
    {
     "name": "stdout",
     "output_type": "stream",
     "text": [
      "The marginal Y of the random vector (X, Y, Z) is: 1\n",
      "Intermediate result 0: 2*x*y*z**2/9\n",
      "Intermediate result 1: 2*y*z**2/9\n",
      "Intermediate result 2: y**2*z**2/9\n",
      "Intermediate result 3: z**2/9\n"
     ]
    }
   ],
   "source": [
    "import sympy as sp\n",
    "\n",
    "# Define the variables\n",
    "x, y, z = sp.symbols('x y z')\n",
    "\n",
    "# Define the joint PDF\n",
    "f_YZ_2 = 2*y*z**2/9\n",
    "\n",
    "# Define the limits of integration\n",
    "limits = [(y, 0, 1), (z, 0, 3)]\n",
    "\n",
    "# Compute the marginal distribution of Z\n",
    "f_Z_2 = sp.integrate(f_YZ_2, *limits)\n",
    "\n",
    "\n",
    "# Print intermediate results\n",
    "\n",
    "#Integra con respecto a x \n",
    "Izx = sp.integrate(f_YZ_2 , (x))\n",
    "\n",
    "#Evalua con respecto a x\n",
    "Ixx = sp.integrate(f_YZ_2 , (x, 0, 1))\n",
    "\n",
    "#Integra con respecto a y \n",
    "Iy = sp.integrate(Ixx, (y))\n",
    "\n",
    "#Evalua con respecto a y \n",
    "Iyy = sp.integrate(Ixx, (y, 0, 1))\n",
    "\n",
    "\n",
    "# Print final result\n",
    "print(f\"The marginal Y of the random vector (X, Y, Z) is: {f_Z_2}\")\n",
    "print(f\"Intermediate result 0: {Izx}\")\n",
    "print(f\"Intermediate result 1: {Ixx}\")\n",
    "print(f\"Intermediate result 2: {Iy}\")\n",
    "print(f\"Intermediate result 3: {Iyy}\")\n",
    "\n",
    "marginal_z_2 = Iyy"
   ]
  },
  {
   "attachments": {},
   "cell_type": "markdown",
   "id": "789d43a9",
   "metadata": {},
   "source": [
    "##### Ahora si ya calculamos el valor esperado de la marginal (de z)"
   ]
  },
  {
   "cell_type": "code",
   "execution_count": 23,
   "id": "8f0a0135",
   "metadata": {},
   "outputs": [
    {
     "name": "stdout",
     "output_type": "stream",
     "text": [
      "z**4/36\n",
      "9/4\n"
     ]
    }
   ],
   "source": [
    "marginal_z_2 = Iyy\n",
    "# Compute the expected value of the marginal distribution of z\n",
    "\n",
    "E_Zmarginal_2_con_variables = sp.integrate(z*marginal_z_2, (z))\n",
    "print(E_Zmarginal_2_con_variables)\n",
    "\n",
    "E_Zmarginal_2 = sp.integrate(z*marginal_z_2, (z, 0, 3))\n",
    "print (E_Zmarginal_2)"
   ]
  },
  {
   "attachments": {},
   "cell_type": "markdown",
   "id": "56b89ef3",
   "metadata": {},
   "source": [
    "SE CALCULA LA COVARIANZA!"
   ]
  },
  {
   "cell_type": "code",
   "execution_count": 26,
   "id": "511b05f5",
   "metadata": {},
   "outputs": [
    {
     "name": "stdout",
     "output_type": "stream",
     "text": [
      "3/2\n",
      "2/3\n",
      "9/4\n",
      "0\n"
     ]
    }
   ],
   "source": [
    "print(expected_vector1)\n",
    "\n",
    "print(E_Ymarginal_2)\n",
    "\n",
    "print(E_Zmarginal_2)\n",
    "\n",
    "covarianza_YZ = expected_vector1-(E_Ymarginal_2*E_Zmarginal_2)\n",
    "print(covarianza_YZ)"
   ]
  }
 ],
 "metadata": {
  "kernelspec": {
   "display_name": "Python 3 (ipykernel)",
   "language": "python",
   "name": "python3"
  },
  "language_info": {
   "codemirror_mode": {
    "name": "ipython",
    "version": 3
   },
   "file_extension": ".py",
   "mimetype": "text/x-python",
   "name": "python",
   "nbconvert_exporter": "python",
   "pygments_lexer": "ipython3",
   "version": "3.10.5"
  }
 },
 "nbformat": 4,
 "nbformat_minor": 5
}
