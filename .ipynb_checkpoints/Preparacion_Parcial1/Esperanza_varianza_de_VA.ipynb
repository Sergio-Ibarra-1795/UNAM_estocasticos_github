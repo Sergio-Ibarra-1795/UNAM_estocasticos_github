{
 "cells": [
  {
   "attachments": {},
   "cell_type": "markdown",
   "id": "118d5170",
   "metadata": {},
   "source": [
    "# Esperanza y varianza de VARIABLES ALEATORIAS\n",
    " "
   ]
  },
  {
   "attachments": {},
   "cell_type": "markdown",
   "id": "e718c4de",
   "metadata": {},
   "source": [
    "### Ejemplo de obtención de media y varianza a partir de una Funcion de distribución que primero se debe derivar para obtener la fucnión de probabilidad y con ella la esperanza y varianza "
   ]
  },
  {
   "attachments": {},
   "cell_type": "markdown",
   "id": "3ae1b733",
   "metadata": {},
   "source": [
    "Considere la variable aleatoria 𝑌 cuya función de distribución (acumulativa) es la que se indica a  continuación. <br>\n",
    "a) Decida si la variable aleatoria 𝑌 es discreta o continua. Justifique su respuesta.<br>\n",
    "b) Construya la función 𝑓𝑌(𝑦).<br>\n",
    "c) Calcule la media y la varianza de Y<br>"
   ]
  },
  {
   "attachments": {},
   "cell_type": "markdown",
   "id": "cf71bcf0",
   "metadata": {},
   "source": [
    "$$F_{Y}(y) = \\left\\{\\begin{matrix}\n",
    "0, & y<=0\\\\ \n",
    "y/8 ,& 0<y<2\\\\ \n",
    "y^{2}/16 ,& 2<=y<4\\\\ \n",
    "1 ,& y>4\\\\  \n",
    "\\end{matrix}\\right.$$"
   ]
  },
  {
   "attachments": {},
   "cell_type": "markdown",
   "id": "c5bd10a8",
   "metadata": {},
   "source": [
    "##### Construya la función 𝑓𝑌(𝑦).<br>"
   ]
  },
  {
   "attachments": {},
   "cell_type": "markdown",
   "id": "8b3955f3",
   "metadata": {},
   "source": [
    "Sabemos que la relación entre la función de distribución acumulada F(Y) y la función de distribcuión de densidad de probabilidad f(y) es:"
   ]
  },
  {
   "attachments": {},
   "cell_type": "markdown",
   "id": "1dc89c6f",
   "metadata": {},
   "source": [
    "$$F_{y}(Y) = \\int_{-\\infty }^{y} f_{y}(t) dt$$"
   ]
  },
  {
   "attachments": {},
   "cell_type": "markdown",
   "id": "2fec2534",
   "metadata": {},
   "source": [
    "Y por lo tanto se podría decir que es posible calcular la función de densidad de probabilidad f(y) a partir de su función de densidad acumuladad de probabilidad Fy(Y) de la siguiente manera:"
   ]
  },
  {
   "attachments": {},
   "cell_type": "markdown",
   "id": "c319dbe5",
   "metadata": {},
   "source": [
    "$$f_{y}(y) = F'_{y}(t) =\\frac{dFy}{dy}$$"
   ]
  },
  {
   "attachments": {},
   "cell_type": "markdown",
   "id": "42bb62d9",
   "metadata": {},
   "source": [
    "Por lo tanto en nuestro caso habría que deribar cada una de las secciones de la función acumulativa F(y) con respecto a y para obtener f(y)"
   ]
  },
  {
   "cell_type": "code",
   "execution_count": 1,
   "id": "6add9b5f",
   "metadata": {},
   "outputs": [
    {
     "name": "stdout",
     "output_type": "stream",
     "text": [
      "The probability density function is:\n",
      "⎧ 0   for y ≤ 0\n",
      "⎪              \n",
      "⎪1/8  for y < 2\n",
      "⎪              \n",
      "⎨ y            \n",
      "⎪ ─   for y < 4\n",
      "⎪ 8            \n",
      "⎪              \n",
      "⎩ 0   otherwise\n"
     ]
    }
   ],
   "source": [
    "import sympy as sp\n",
    "\n",
    "# define the symbol\n",
    "y = sp.Symbol('y')\n",
    "\n",
    "# define the piecewise function\n",
    "F_y = sp.Piecewise(\n",
    "    (0, y <= 0),\n",
    "    (y/8, (y > 0) & (y < 2)),\n",
    "    (y**2/16, (y >= 2) & (y < 4)),\n",
    "    (1, y >= 4)\n",
    ")\n",
    "\n",
    "# differentiate F_y to obtain f_y\n",
    "f_y = sp.diff(F_y, y)\n",
    "\n",
    "# print f_y\n",
    "print(\"The probability density function is:\")\n",
    "sp.pprint(f_y)\n"
   ]
  },
  {
   "attachments": {},
   "cell_type": "markdown",
   "id": "fde7a5c7",
   "metadata": {},
   "source": [
    "The PDF function calculated derivating the distribution function is: "
   ]
  },
  {
   "cell_type": "code",
   "execution_count": 2,
   "id": "fca2b1fb",
   "metadata": {},
   "outputs": [
    {
     "data": {
      "text/latex": [
       "$\\displaystyle \\begin{cases} 0 & \\text{for}\\: y \\leq 0 \\\\\\frac{1}{8} & \\text{for}\\: y < 2 \\\\\\frac{y}{8} & \\text{for}\\: y < 4 \\\\0 & \\text{otherwise} \\end{cases}$"
      ],
      "text/plain": [
       "Piecewise((0, y <= 0), (1/8, y < 2), (y/8, y < 4), (0, True))"
      ]
     },
     "execution_count": 2,
     "metadata": {},
     "output_type": "execute_result"
    }
   ],
   "source": [
    "f_y"
   ]
  },
  {
   "attachments": {},
   "cell_type": "markdown",
   "id": "4060e66e",
   "metadata": {},
   "source": [
    "Graficando la FDP"
   ]
  },
  {
   "cell_type": "code",
   "execution_count": 5,
   "id": "35db8e77",
   "metadata": {},
   "outputs": [
    {
     "data": {
      "image/png": "[encoded data removed]",
      "text/plain": [
       "<Figure size 432x288 with 1 Axes>"
      ]
     },
     "metadata": {
      "needs_background": "light"
     },
     "output_type": "display_data"
    }
   ],
   "source": [
    "import sympy as sp\n",
    "import matplotlib.pyplot as plt\n",
    "import numpy as np\n",
    "\n",
    "\n",
    "# Define the y values to plot\n",
    "y_values = np.linspace(-1, 5, 500)\n",
    "\n",
    "# Evaluate the PDF at the y values\n",
    "pdf_values = [f_y.subs(y, y_val) for y_val in y_values]\n",
    "\n",
    "# Plot the PDF\n",
    "plt.plot(y_values, pdf_values)\n",
    "plt.xlabel('y')\n",
    "plt.ylabel('f(y)')\n",
    "plt.title('Probability Density Function')\n",
    "plt.show()\n",
    "\n"
   ]
  },
  {
   "attachments": {},
   "cell_type": "markdown",
   "id": "cda01480",
   "metadata": {},
   "source": [
    "#### Calcule la media y la varianza de Y<br>"
   ]
  },
  {
   "attachments": {},
   "cell_type": "markdown",
   "id": "4929db2f",
   "metadata": {},
   "source": [
    "Recordando que la esperanza de una variable aleatoria Y, dada su función de distribución f(y) se definia para el caso de las variables CONTINUAS como:"
   ]
  },
  {
   "attachments": {},
   "cell_type": "markdown",
   "id": "49f0e93b",
   "metadata": {},
   "source": [
    "$$E(Y) = \\int_{-\\infty }^{\\infty } y*p(y)$$"
   ]
  },
  {
   "attachments": {},
   "cell_type": "markdown",
   "id": "1ebfe5bc",
   "metadata": {},
   "source": [
    "Entonces resolviendo la integral para obtener la media se tiene (solución analitica):"
   ]
  },
  {
   "cell_type": "code",
   "execution_count": 3,
   "id": "956fa12b",
   "metadata": {},
   "outputs": [
    {
     "name": "stdout",
     "output_type": "stream",
     "text": [
      "The analytical solution is: Piecewise((0, y <= 0), (0.0625*y**2, y < 2), (y**3/24 - 0.0833333333333333, y < 4), (2.58333333333333, True))\n"
     ]
    }
   ],
   "source": [
    "import sympy\n",
    "\n",
    "# Define the symbol 'y' and the function 'f'\n",
    "y = sympy.Symbol('y')\n",
    "f = sympy.Piecewise((0, y<=0), (1/8, y<2), (y/8, y<4), (0, True))\n",
    "\n",
    "# Integrate the function 'f'* y with respect to 'y'\n",
    "F = sympy.integrate(f*y, y)\n",
    "\n",
    "# Simplify the result\n",
    "F = F.simplify()\n",
    "\n",
    "# Show the result\n",
    "print(f\"The analytical solution is: {F}\")\n"
   ]
  },
  {
   "attachments": {},
   "cell_type": "markdown",
   "id": "97553620",
   "metadata": {},
   "source": [
    "Evaluando la integral de la media para obtener la (solución numerica)"
   ]
  },
  {
   "cell_type": "code",
   "execution_count": 4,
   "id": "13ad678b",
   "metadata": {},
   "outputs": [
    {
     "name": "stdout",
     "output_type": "stream",
     "text": [
      "The mean is: 2.58333333333333\n"
     ]
    }
   ],
   "source": [
    "# Evaluate the integral at x=2\n",
    "mean_1 = F.subs(y, 4) - F.subs(y, 0)\n",
    "\n",
    "# Show the result\n",
    "print(f\"The mean is: {mean_1}\")"
   ]
  },
  {
   "attachments": {},
   "cell_type": "markdown",
   "id": "cfc45b52",
   "metadata": {},
   "source": [
    "Para el caso de la varianza de la variable aleatoria Y, se define como, la esperanza del cuadrado de la desviación con respecto a la media, es decir:"
   ]
  },
  {
   "attachments": {},
   "cell_type": "markdown",
   "id": "caa62dfb",
   "metadata": {},
   "source": [
    "$$Var(Y) =E[(Y-\\mu )^2]$$"
   ]
  },
  {
   "attachments": {},
   "cell_type": "markdown",
   "id": "559cb632",
   "metadata": {},
   "source": [
    "Y para continuas:"
   ]
  },
  {
   "attachments": {},
   "cell_type": "markdown",
   "id": "64df7905",
   "metadata": {},
   "source": [
    "$$Var(Y) = \\sigma ^2 (y) = \\int_{-\\infty }^{\\infty }(Y-\\mu )^2 *f(y)$$"
   ]
  },
  {
   "attachments": {},
   "cell_type": "markdown",
   "id": "33798c13",
   "metadata": {},
   "source": [
    "Entonces resolviendo la integral para obtener la varianza se tiene (solución analitica):"
   ]
  },
  {
   "cell_type": "code",
   "execution_count": 5,
   "id": "8b3bce25",
   "metadata": {},
   "outputs": [
    {
     "name": "stdout",
     "output_type": "stream",
     "text": [
      "The variance solution is: Piecewise((0, y <= 0), (y*(0.0416666666666667*y**2 - 0.322916666666667*y + 0.834201388888889), y < 2), (0.03125*y**4 - 0.215277777777778*y**3 + 0.417100694444444*y**2 + 0.263888888888889, y < 4), (1.15972222222222, True))\n"
     ]
    }
   ],
   "source": [
    "import sympy\n",
    "\n",
    "# Define the symbol 'y' and the function 'f'\n",
    "y = sympy.Symbol('y')\n",
    "f = sympy.Piecewise((0, y<=0), (1/8, y<2), (y/8, y<4), (0, True))\n",
    "\n",
    "# Integrate the function 'f'* y with respect to 'y'\n",
    "f_var_1 = sympy.integrate(f*(y-mean_1)**2, y)\n",
    "\n",
    "# Simplify the result\n",
    "f_var_1 = f_var_1.simplify()\n",
    "\n",
    "# Show the result\n",
    "print(f\"The variance solution is: {f_var_1}\")"
   ]
  },
  {
   "attachments": {},
   "cell_type": "markdown",
   "id": "4f1d99eb",
   "metadata": {},
   "source": [
    "Evaluando la integral de la varianza para obtener la (solución numerica)"
   ]
  },
  {
   "cell_type": "code",
   "execution_count": 6,
   "id": "bc024394",
   "metadata": {},
   "outputs": [
    {
     "name": "stdout",
     "output_type": "stream",
     "text": [
      "The variance is: 1.15972222222222\n"
     ]
    }
   ],
   "source": [
    "# Evaluate the integral at x=2\n",
    "var_1 = f_var_1.subs(y, 4) - f_var_1.subs(y, 0)\n",
    "\n",
    "# Show the result\n",
    "print(f\"The variance is: {var_1}\")"
   ]
  },
  {
   "attachments": {},
   "cell_type": "markdown",
   "id": "719fa54c",
   "metadata": {},
   "source": [
    "#### RESUMEN DE CALCULO DE MEAN Y VARIANZA DADA UNA PDF"
   ]
  },
  {
   "cell_type": "code",
   "execution_count": 21,
   "id": "9ddd9936",
   "metadata": {},
   "outputs": [
    {
     "name": "stdout",
     "output_type": "stream",
     "text": [
      "The expected value E(Y) is: 2.58333333333333\n",
      "The variance Var(Y) is: 1.15972222222222\n"
     ]
    }
   ],
   "source": [
    "import sympy\n",
    "\n",
    "# Define the symbol 'y' and the function 'f'\n",
    "y = sympy.Symbol('y')\n",
    "f = sympy.Piecewise((0, y <= 0), (1/8, y < 2), (y/8, y < 4), (0, True))\n",
    "\n",
    "# Calculate the expected value E(Y)\n",
    "EY = sympy.integrate(y*f, (y, -sympy.oo, sympy.oo))\n",
    "print(f\"The expected value E(Y) is: {EY}\")\n",
    "\n",
    "# Calculate the variance Var(Y)\n",
    "VY = sympy.integrate((y-EY)**2*f, (y, -sympy.oo, sympy.oo))\n",
    "VY = VY.simplify()\n",
    "print(f\"The variance Var(Y) is: {VY}\")\n",
    "\n"
   ]
  },
  {
   "attachments": {},
   "cell_type": "markdown",
   "id": "acb0ee4b",
   "metadata": {},
   "source": [
    "#### Esperanza y varianza dada una PDF (de la que primero se debe encontrar el valor de una constante que lo haga pdf y despues obtener la media y varianza como las integrales respectivas)"
   ]
  },
  {
   "attachments": {},
   "cell_type": "markdown",
   "id": "ce3b9863",
   "metadata": {},
   "source": [
    "$$f_{Y}(y) = \\left\\{\\begin{matrix}\n",
    "c*y^2(1-y)^4, & 0<=y<=1\\\\ \n",
    " 0, & en otro caso\n",
    "\\end{matrix}\\right.$$\n",
    "\n",
    "En donde 𝑐 es una constante.\n"
   ]
  },
  {
   "attachments": {},
   "cell_type": "markdown",
   "id": "7e9c420c",
   "metadata": {},
   "source": [
    "a) Encuentre el valor de c que hace de 𝑓𝑌 (𝑦) una función de densidad <br>\n",
    "b) Obtenga la media y la varianza de 𝑌.<br>\n",
    "c) Genere 30 valores aleatorios de 𝑌 y calcule el promedio de dichos valores. Muestre paso a  paso su procedimiento realizado ya sea manualmente o con algún software, en cuyo caso es necesario mostrar la codificación"
   ]
  },
  {
   "attachments": {},
   "cell_type": "markdown",
   "id": "b02a203a",
   "metadata": {},
   "source": [
    "##### a) Encuentre el valor de c ó k que hace de 𝑓𝑌 (𝑦) una función de densidad <br>"
   ]
  },
  {
   "cell_type": "code",
   "execution_count": 34,
   "id": "e2749df6",
   "metadata": {},
   "outputs": [
    {
     "name": "stdout",
     "output_type": "stream",
     "text": [
      "The analytical solution is: Piecewise((0, y <= 0), (0.0625*y**2, y < 2), (y**3/24 - 0.0833333333333333, y < 4), (2.58333333333333, True))\n"
     ]
    }
   ],
   "source": [
    "import sympy\n",
    "\n",
    "# Define the symbol 'y' and the function 'f'\n",
    "x = sympy.Symbol('y')\n",
    "c = sympy.Symbol('c')\n",
    "f = sympy.Piecewise((c*y**2* (y-1)**4, (y>=0)&(y<=1)), (0, True))\n",
    "\n",
    "# Integrate the function 'f' with respect to 'y'\n",
    "F_4 = sympy.integrate(f, y)\n",
    "\n",
    "# Simplify the result\n",
    "F_4 = F_4.simplify()\n",
    "\n",
    "# Show the result\n",
    "print(f\"The analytical solution is: {F}\")"
   ]
  },
  {
   "cell_type": "code",
   "execution_count": 35,
   "id": "3d9d07cf",
   "metadata": {},
   "outputs": [
    {
     "name": "stdout",
     "output_type": "stream",
     "text": [
      "The result is: c/105\n"
     ]
    }
   ],
   "source": [
    "# Evaluate the integral at x=2\n",
    "result_4 = F_4.subs(y, 1) - F_4.subs(y, 0)\n",
    "\n",
    "# Show the result\n",
    "print(f\"The result is: {result_4}\")"
   ]
  },
  {
   "attachments": {},
   "cell_type": "markdown",
   "id": "2c25ebdb",
   "metadata": {},
   "source": [
    "c) To calculate the value of k or c that makes the integral equal to 1, you can solve the following equation for c:"
   ]
  },
  {
   "cell_type": "code",
   "execution_count": 36,
   "id": "123c0927",
   "metadata": {},
   "outputs": [
    {
     "name": "stdout",
     "output_type": "stream",
     "text": [
      "The value of c that makes fy(y) a probability function is: [105]\n"
     ]
    }
   ],
   "source": [
    "# Set the integral equal to 1\n",
    "eq_4 = sympy.Eq(F_4.subs(y, 1) - F_4.subs(x, 0), 1)\n",
    "\n",
    "# Solve for 'c'\n",
    "c_value_4 = sympy.solve(eq_4, c)\n",
    "\n",
    "# Show the result\n",
    "print(f\"The value of c that makes fy(y) a probability function is: {c_value_4}\")"
   ]
  },
  {
   "attachments": {},
   "cell_type": "markdown",
   "id": "2a7f2232",
   "metadata": {},
   "source": [
    "##### Otro ejemplo de cálculo de media y varianza en UN 'SOLO PASO' (en este caso primero se calculo / determino el valor de c para hacer de f(y) una PDF)"
   ]
  },
  {
   "cell_type": "code",
   "execution_count": 33,
   "id": "648611fa",
   "metadata": {},
   "outputs": [
    {
     "name": "stdout",
     "output_type": "stream",
     "text": [
      "The expected value E(Y) is: 3/8\n",
      "The variance Var(Y) is: 5/192\n"
     ]
    }
   ],
   "source": [
    "\n",
    "import sympy\n",
    "\n",
    "# Define the symbol 'y' and the function 'f'\n",
    "y = sympy.Symbol('y')\n",
    "f = sympy.Piecewise((105*y**2*(1-y)**4, (y>=0)&(y<=1)), (0, True))\n",
    "\n",
    "# Calculate the expected value E(Y)\n",
    "EY_4 = sympy.integrate(y*f, (y, -sympy.oo, sympy.oo))\n",
    "print(f\"The expected value E(Y) is: {EY}\")\n",
    "\n",
    "# Calculate the variance Var(Y)\n",
    "VY_4 = sympy.integrate((y-EY_4)**2*f, (y, -sympy.oo, sympy.oo))\n",
    "VY_4 = VY_4.simplify()\n",
    "print(f\"The variance Var(Y) is: {VY_4}\")\n",
    "\n"
   ]
  },
  {
   "attachments": {},
   "cell_type": "markdown",
   "id": "446d92e7",
   "metadata": {},
   "source": [
    "#### c) Genere 30 valores aleatorios de 𝑌 y calcule el promedio de dichos valores. Muestre paso a  paso su procedimiento realizado ya sea manualmente o con algún software, en cuyo caso es necesario mostrar la codificación"
   ]
  },
  {
   "attachments": {},
   "cell_type": "markdown",
   "id": "eb0e46a4",
   "metadata": {},
   "source": [
    "#### DEBEMOS OBVIAMENTE CALCULAR LA funcion de distribución ACUMULADA como la integral de la PDF "
   ]
  },
  {
   "cell_type": "code",
   "execution_count": 37,
   "id": "18f58852",
   "metadata": {},
   "outputs": [
    {
     "name": "stdout",
     "output_type": "stream",
     "text": [
      "The analytical solution is: Piecewise((0, y <= 0), (y**3*(15*y**4 - 70*y**3 + 126*y**2 - 105*y + 35), y <= 1), (1, True))\n"
     ]
    }
   ],
   "source": [
    "import sympy\n",
    "\n",
    "# Define the symbol 'y' and the function 'f'\n",
    "x = sympy.Symbol('y')\n",
    "f = sympy.Piecewise((105*y**2* (y-1)**4, (y>=0)&(y<=1)), (0, True))\n",
    "\n",
    "# Integrate the function 'f' with respect to 'y'\n",
    "f_distribucion_4 = sympy.integrate(f, x)\n",
    "\n",
    "# Simplify the result\n",
    "f_distribucion_4 = f_distribucion_4.simplify()\n",
    "\n",
    "# Show the result\n",
    "print(f\"The analytical solution is: {f_distribucion_4}\")"
   ]
  },
  {
   "attachments": {},
   "cell_type": "markdown",
   "id": "1b6ab23b",
   "metadata": {},
   "source": [
    "__Paso 3. Calcular el valor de la variable x para cada elemento previamente simulado__"
   ]
  },
  {
   "cell_type": "code",
   "execution_count": 38,
   "id": "6e9b9449",
   "metadata": {},
   "outputs": [
    {
     "name": "stdout",
     "output_type": "stream",
     "text": [
      "[0.6394267984578837, 0.025010755222666936, 0.27502931836911926, 0.22321073814882275, 0.7364712141640124, 0.6766994874229113, 0.8921795677048454, 0.08693883262941615, 0.4219218196852704, 0.029797219438070344, 0.21863797480360336, 0.5053552881033624, 0.026535969683863625, 0.1988376506866485, 0.6498844377795232, 0.5449414806032167, 0.2204406220406967, 0.5892656838759087, 0.8094304566778266, 0.006498759678061017, 0.8058192518328079, 0.6981393949882269, 0.3402505165179919, 0.15547949981178155, 0.9572130722067812, 0.33659454511262676, 0.09274584338014791, 0.09671637683346401, 0.8474943663474598, 0.6037260313668911]\n"
     ]
    }
   ],
   "source": [
    "import random\n",
    "\n",
    "# Set the seed to 42\n",
    "random.seed(42)\n",
    "# generate 30 random numbers between 0 and 1\n",
    "random_numbers_30 = [random.random() for _ in range(30)]\n",
    "\n",
    "print(random_numbers_30)\n",
    "\n"
   ]
  },
  {
   "attachments": {},
   "cell_type": "markdown",
   "id": "fd041b5c",
   "metadata": {},
   "source": [
    "Te calcula solo TODAS LAS soluciones reales para todos los valres en random_numbers_30 "
   ]
  },
  {
   "cell_type": "code",
   "execution_count": 47,
   "id": "a167710e",
   "metadata": {},
   "outputs": [
    {
     "name": "stdout",
     "output_type": "stream",
     "text": [
      "For 0.6394267984578837: [[1.7920585230204469, 0.8139330666361624, 0.43566675589120135]]\n",
      "For 0.025010755222666936: [[1.7920585230204469, 0.8139330666361624, 0.43566675589120135], [1.784224918061938, 0.9949470415403184, 0.09901817047053031]]\n",
      "For 0.27502931836911926: [[1.7920585230204469, 0.8139330666361624, 0.43566675589120135], [1.784224918061938, 0.9949470415403184, 0.09901817047053031], [1.7874778462740708, 0.9376957882590864, 0.2654761142486765]]\n",
      "For 0.22321073814882275: [[1.7920585230204469, 0.8139330666361624, 0.43566675589120135], [1.784224918061938, 0.9949470415403184, 0.09901817047053031], [1.7874778462740708, 0.9376957882590864, 0.2654761142486765], [1.7868112788584471, 0.9507361688358612, 0.24044543743572502]]\n",
      "For 0.7364712141640124: [[1.7920585230204469, 0.8139330666361624, 0.43566675589120135], [1.784224918061938, 0.9949470415403184, 0.09901817047053031], [1.7874778462740708, 0.9376957882590864, 0.2654761142486765], [1.7868112788584471, 0.9507361688358612, 0.24044543743572502], [1.793248269725105, 0.759491353900034, 0.4957571195465507]]\n",
      "For 0.6766994874229113: [[1.7920585230204469, 0.8139330666361624, 0.43566675589120135], [1.784224918061938, 0.9949470415403184, 0.09901817047053031], [1.7874778462740708, 0.9376957882590864, 0.2654761142486765], [1.7868112788584471, 0.9507361688358612, 0.24044543743572502], [1.793248269725105, 0.759491353900034, 0.4957571195465507], [1.7925169289841487, 0.7952655786632257, 0.4567571876802206]]\n",
      "For 0.8921795677048454: [[1.7920585230204469, 0.8139330666361624, 0.43566675589120135], [1.784224918061938, 0.9949470415403184, 0.09901817047053031], [1.7874778462740708, 0.9376957882590864, 0.2654761142486765], [1.7868112788584471, 0.9507361688358612, 0.24044543743572502], [1.793248269725105, 0.759491353900034, 0.4957571195465507], [1.7925169289841487, 0.7952655786632257, 0.4567571876802206], [1.7951320674830584]]\n",
      "For 0.08693883262941615: [[1.7920585230204469, 0.8139330666361624, 0.43566675589120135], [1.784224918061938, 0.9949470415403184, 0.09901817047053031], [1.7874778462740708, 0.9376957882590864, 0.2654761142486765], [1.7868112788584471, 0.9507361688358612, 0.24044543743572502], [1.793248269725105, 0.759491353900034, 0.4957571195465507], [1.7925169289841487, 0.7952655786632257, 0.4567571876802206], [1.7951320674830584], [1.785039410571506, 0.9819739588959232, 0.160313159841464]]\n",
      "For 0.4219218196852704: [[1.7920585230204469, 0.8139330666361624, 0.43566675589120135], [1.784224918061938, 0.9949470415403184, 0.09901817047053031], [1.7874778462740708, 0.9376957882590864, 0.2654761142486765], [1.7868112788584471, 0.9507361688358612, 0.24044543743572502], [1.793248269725105, 0.759491353900034, 0.4957571195465507], [1.7925169289841487, 0.7952655786632257, 0.4567571876802206], [1.7951320674830584], [1.785039410571506, 0.9819739588959232, 0.160313159841464], [1.7893464637785916, 0.8961185197556314, 0.33185417136394074]]\n",
      "For 0.029797219438070344: [[1.7920585230204469, 0.8139330666361624, 0.43566675589120135], [1.784224918061938, 0.9949470415403184, 0.09901817047053031], [1.7874778462740708, 0.9376957882590864, 0.2654761142486765], [1.7868112788584471, 0.9507361688358612, 0.24044543743572502], [1.793248269725105, 0.759491353900034, 0.4957571195465507], [1.7925169289841487, 0.7952655786632257, 0.4567571876802206], [1.7951320674830584], [1.785039410571506, 0.9819739588959232, 0.160313159841464], [1.7893464637785916, 0.8961185197556314, 0.33185417136394074], [1.7842880811268764, 0.9939682291365288, 0.10572311802841006]]\n",
      "For 0.21863797480360336: [[1.7920585230204469, 0.8139330666361624, 0.43566675589120135], [1.784224918061938, 0.9949470415403184, 0.09901817047053031], [1.7874778462740708, 0.9376957882590864, 0.2654761142486765], [1.7868112788584471, 0.9507361688358612, 0.24044543743572502], [1.793248269725105, 0.759491353900034, 0.4957571195465507], [1.7925169289841487, 0.7952655786632257, 0.4567571876802206], [1.7951320674830584], [1.785039410571506, 0.9819739588959232, 0.160313159841464], [1.7893464637785916, 0.8961185197556314, 0.33185417136394074], [1.7842880811268764, 0.9939682291365288, 0.10572311802841006], [1.7867522689303783, 0.951853044978293, 0.23815560288830676]]\n",
      "For 0.5053552881033624: [[1.7920585230204469, 0.8139330666361624, 0.43566675589120135], [1.784224918061938, 0.9949470415403184, 0.09901817047053031], [1.7874778462740708, 0.9376957882590864, 0.2654761142486765], [1.7868112788584471, 0.9507361688358612, 0.24044543743572502], [1.793248269725105, 0.759491353900034, 0.4957571195465507], [1.7925169289841487, 0.7952655786632257, 0.4567571876802206], [1.7951320674830584], [1.785039410571506, 0.9819739588959232, 0.160313159841464], [1.7893464637785916, 0.8961185197556314, 0.33185417136394074], [1.7842880811268764, 0.9939682291365288, 0.10572311802841006], [1.7867522689303783, 0.951853044978293, 0.23815560288830676], [1.7903943755040963, 0.8684470921270284, 0.3695076813252058]]\n",
      "For 0.026535969683863625: [[1.7920585230204469, 0.8139330666361624, 0.43566675589120135], [1.784224918061938, 0.9949470415403184, 0.09901817047053031], [1.7874778462740708, 0.9376957882590864, 0.2654761142486765], [1.7868112788584471, 0.9507361688358612, 0.24044543743572502], [1.793248269725105, 0.759491353900034, 0.4957571195465507], [1.7925169289841487, 0.7952655786632257, 0.4567571876802206], [1.7951320674830584], [1.785039410571506, 0.9819739588959232, 0.160313159841464], [1.7893464637785916, 0.8961185197556314, 0.33185417136394074], [1.7842880811268764, 0.9939682291365288, 0.10572311802841006], [1.7867522689303783, 0.951853044978293, 0.23815560288830676], [1.7903943755040963, 0.8684470921270284, 0.3695076813252058], [1.7842450489206265, 0.9946355595215917, 0.10122947647998144]]\n",
      "For 0.1988376506866485: [[1.7920585230204469, 0.8139330666361624, 0.43566675589120135], [1.784224918061938, 0.9949470415403184, 0.09901817047053031], [1.7874778462740708, 0.9376957882590864, 0.2654761142486765], [1.7868112788584471, 0.9507361688358612, 0.24044543743572502], [1.793248269725105, 0.759491353900034, 0.4957571195465507], [1.7925169289841487, 0.7952655786632257, 0.4567571876802206], [1.7951320674830584], [1.785039410571506, 0.9819739588959232, 0.160313159841464], [1.7893464637785916, 0.8961185197556314, 0.33185417136394074], [1.7842880811268764, 0.9939682291365288, 0.10572311802841006], [1.7867522689303783, 0.951853044978293, 0.23815560288830676], [1.7903943755040963, 0.8684470921270284, 0.3695076813252058], [1.7842450489206265, 0.9946355595215917, 0.10122947647998144], [1.7864963978554318, 0.9566295273678854, 0.22804523484154965]]\n",
      "For 0.6498844377795232: [[1.7920585230204469, 0.8139330666361624, 0.43566675589120135], [1.784224918061938, 0.9949470415403184, 0.09901817047053031], [1.7874778462740708, 0.9376957882590864, 0.2654761142486765], [1.7868112788584471, 0.9507361688358612, 0.24044543743572502], [1.793248269725105, 0.759491353900034, 0.4957571195465507], [1.7925169289841487, 0.7952655786632257, 0.4567571876802206], [1.7951320674830584], [1.785039410571506, 0.9819739588959232, 0.160313159841464], [1.7893464637785916, 0.8961185197556314, 0.33185417136394074], [1.7842880811268764, 0.9939682291365288, 0.10572311802841006], [1.7867522689303783, 0.951853044978293, 0.23815560288830676], [1.7903943755040963, 0.8684470921270284, 0.3695076813252058], [1.7842450489206265, 0.9946355595215917, 0.10122947647998144], [1.7864963978554318, 0.9566295273678854, 0.22804523484154965], [1.792187322274859, 0.8089054739679634, 0.4414072488649103]]\n",
      "For 0.5449414806032167: [[1.7920585230204469, 0.8139330666361624, 0.43566675589120135], [1.784224918061938, 0.9949470415403184, 0.09901817047053031], [1.7874778462740708, 0.9376957882590864, 0.2654761142486765], [1.7868112788584471, 0.9507361688358612, 0.24044543743572502], [1.793248269725105, 0.759491353900034, 0.4957571195465507], [1.7925169289841487, 0.7952655786632257, 0.4567571876802206], [1.7951320674830584], [1.785039410571506, 0.9819739588959232, 0.160313159841464], [1.7893464637785916, 0.8961185197556314, 0.33185417136394074], [1.7842880811268764, 0.9939682291365288, 0.10572311802841006], [1.7867522689303783, 0.951853044978293, 0.23815560288830676], [1.7903943755040963, 0.8684470921270284, 0.3695076813252058], [1.7842450489206265, 0.9946355595215917, 0.10122947647998144], [1.7864963978554318, 0.9566295273678854, 0.22804523484154965], [1.792187322274859, 0.8089054739679634, 0.4414072488649103], [1.7908882438958682, 0.85390054766573, 0.38800676182930516]]\n",
      "For 0.2204406220406967: [[1.7920585230204469, 0.8139330666361624, 0.43566675589120135], [1.784224918061938, 0.9949470415403184, 0.09901817047053031], [1.7874778462740708, 0.9376957882590864, 0.2654761142486765], [1.7868112788584471, 0.9507361688358612, 0.24044543743572502], [1.793248269725105, 0.759491353900034, 0.4957571195465507], [1.7925169289841487, 0.7952655786632257, 0.4567571876802206], [1.7951320674830584], [1.785039410571506, 0.9819739588959232, 0.160313159841464], [1.7893464637785916, 0.8961185197556314, 0.33185417136394074], [1.7842880811268764, 0.9939682291365288, 0.10572311802841006], [1.7867522689303783, 0.951853044978293, 0.23815560288830676], [1.7903943755040963, 0.8684470921270284, 0.3695076813252058], [1.7842450489206265, 0.9946355595215917, 0.10122947647998144], [1.7864963978554318, 0.9566295273678854, 0.22804523484154965], [1.792187322274859, 0.8089054739679634, 0.4414072488649103], [1.7908882438958682, 0.85390054766573, 0.38800676182930516], [1.7867755351325307, 0.9514133844796955, 0.23906016121598608]]\n",
      "For 0.5892656838759087: [[1.7920585230204469, 0.8139330666361624, 0.43566675589120135], [1.784224918061938, 0.9949470415403184, 0.09901817047053031], [1.7874778462740708, 0.9376957882590864, 0.2654761142486765], [1.7868112788584471, 0.9507361688358612, 0.24044543743572502], [1.793248269725105, 0.759491353900034, 0.4957571195465507], [1.7925169289841487, 0.7952655786632257, 0.4567571876802206], [1.7951320674830584], [1.785039410571506, 0.9819739588959232, 0.160313159841464], [1.7893464637785916, 0.8961185197556314, 0.33185417136394074], [1.7842880811268764, 0.9939682291365288, 0.10572311802841006], [1.7867522689303783, 0.951853044978293, 0.23815560288830676], [1.7903943755040963, 0.8684470921270284, 0.3695076813252058], [1.7842450489206265, 0.9946355595215917, 0.10122947647998144], [1.7864963978554318, 0.9566295273678854, 0.22804523484154965], [1.792187322274859, 0.8089054739679634, 0.4414072488649103], [1.7908882438958682, 0.85390054766573, 0.38800676182930516], [1.7867755351325307, 0.9514133844796955, 0.23906016121598608], [1.7914387169343788, 0.8362205124334315, 0.4095854012875809]]\n",
      "For 0.8094304566778266: [[1.7920585230204469, 0.8139330666361624, 0.43566675589120135], [1.784224918061938, 0.9949470415403184, 0.09901817047053031], [1.7874778462740708, 0.9376957882590864, 0.2654761142486765], [1.7868112788584471, 0.9507361688358612, 0.24044543743572502], [1.793248269725105, 0.759491353900034, 0.4957571195465507], [1.7925169289841487, 0.7952655786632257, 0.4567571876802206], [1.7951320674830584], [1.785039410571506, 0.9819739588959232, 0.160313159841464], [1.7893464637785916, 0.8961185197556314, 0.33185417136394074], [1.7842880811268764, 0.9939682291365288, 0.10572311802841006], [1.7867522689303783, 0.951853044978293, 0.23815560288830676], [1.7903943755040963, 0.8684470921270284, 0.3695076813252058], [1.7842450489206265, 0.9946355595215917, 0.10122947647998144], [1.7864963978554318, 0.9566295273678854, 0.22804523484154965], [1.792187322274859, 0.8089054739679634, 0.4414072488649103], [1.7908882438958682, 0.85390054766573, 0.38800676182930516], [1.7867755351325307, 0.9514133844796955, 0.23906016121598608], [1.7914387169343788, 0.8362205124334315, 0.4095854012875809], [1.7941347540280685, 0.6914430553718748, 0.5667095593509454]]\n",
      "For 0.006498759678061017: [[1.7920585230204469, 0.8139330666361624, 0.43566675589120135], [1.784224918061938, 0.9949470415403184, 0.09901817047053031], [1.7874778462740708, 0.9376957882590864, 0.2654761142486765], [1.7868112788584471, 0.9507361688358612, 0.24044543743572502], [1.793248269725105, 0.759491353900034, 0.4957571195465507], [1.7925169289841487, 0.7952655786632257, 0.4567571876802206], [1.7951320674830584], [1.785039410571506, 0.9819739588959232, 0.160313159841464], [1.7893464637785916, 0.8961185197556314, 0.33185417136394074], [1.7842880811268764, 0.9939682291365288, 0.10572311802841006], [1.7867522689303783, 0.951853044978293, 0.23815560288830676], [1.7903943755040963, 0.8684470921270284, 0.3695076813252058], [1.7842450489206265, 0.9946355595215917, 0.10122947647998144], [1.7864963978554318, 0.9566295273678854, 0.22804523484154965], [1.792187322274859, 0.8089054739679634, 0.4414072488649103], [1.7908882438958682, 0.85390054766573, 0.38800676182930516], [1.7867755351325307, 0.9514133844796955, 0.23906016121598608], [1.7914387169343788, 0.8362205124334315, 0.4095854012875809], [1.7941347540280685, 0.6914430553718748, 0.5667095593509454], [1.7839802961428672, 0.9986968561195009, 0.060689823822801116]]\n",
      "For 0.8058192518328079: [[1.7920585230204469, 0.8139330666361624, 0.43566675589120135], [1.784224918061938, 0.9949470415403184, 0.09901817047053031], [1.7874778462740708, 0.9376957882590864, 0.2654761142486765], [1.7868112788584471, 0.9507361688358612, 0.24044543743572502], [1.793248269725105, 0.759491353900034, 0.4957571195465507], [1.7925169289841487, 0.7952655786632257, 0.4567571876802206], [1.7951320674830584], [1.785039410571506, 0.9819739588959232, 0.160313159841464], [1.7893464637785916, 0.8961185197556314, 0.33185417136394074], [1.7842880811268764, 0.9939682291365288, 0.10572311802841006], [1.7867522689303783, 0.951853044978293, 0.23815560288830676], [1.7903943755040963, 0.8684470921270284, 0.3695076813252058], [1.7842450489206265, 0.9946355595215917, 0.10122947647998144], [1.7864963978554318, 0.9566295273678854, 0.22804523484154965], [1.792187322274859, 0.8089054739679634, 0.4414072488649103], [1.7908882438958682, 0.85390054766573, 0.38800676182930516], [1.7867755351325307, 0.9514133844796955, 0.23906016121598608], [1.7914387169343788, 0.8362205124334315, 0.4095854012875809], [1.7941347540280685, 0.6914430553718748, 0.5667095593509454], [1.7839802961428672, 0.9986968561195009, 0.060689823822801116], [1.794091035398973, 0.696486109146033, 0.5615483517133528]]\n",
      "For 0.6981393949882269: [[1.7920585230204469, 0.8139330666361624, 0.43566675589120135], [1.784224918061938, 0.9949470415403184, 0.09901817047053031], [1.7874778462740708, 0.9376957882590864, 0.2654761142486765], [1.7868112788584471, 0.9507361688358612, 0.24044543743572502], [1.793248269725105, 0.759491353900034, 0.4957571195465507], [1.7925169289841487, 0.7952655786632257, 0.4567571876802206], [1.7951320674830584], [1.785039410571506, 0.9819739588959232, 0.160313159841464], [1.7893464637785916, 0.8961185197556314, 0.33185417136394074], [1.7842880811268764, 0.9939682291365288, 0.10572311802841006], [1.7867522689303783, 0.951853044978293, 0.23815560288830676], [1.7903943755040963, 0.8684470921270284, 0.3695076813252058], [1.7842450489206265, 0.9946355595215917, 0.10122947647998144], [1.7864963978554318, 0.9566295273678854, 0.22804523484154965], [1.792187322274859, 0.8089054739679634, 0.4414072488649103], [1.7908882438958682, 0.85390054766573, 0.38800676182930516], [1.7867755351325307, 0.9514133844796955, 0.23906016121598608], [1.7914387169343788, 0.8362205124334315, 0.4095854012875809], [1.7941347540280685, 0.6914430553718748, 0.5667095593509454], [1.7839802961428672, 0.9986968561195009, 0.060689823822801116], [1.794091035398973, 0.696486109146033, 0.5615483517133528], [1.7927797904748797, 0.7834358711284454, 0.4698351835176033]]\n",
      "For 0.3402505165179919: [[1.7920585230204469, 0.8139330666361624, 0.43566675589120135], [1.784224918061938, 0.9949470415403184, 0.09901817047053031], [1.7874778462740708, 0.9376957882590864, 0.2654761142486765], [1.7868112788584471, 0.9507361688358612, 0.24044543743572502], [1.793248269725105, 0.759491353900034, 0.4957571195465507], [1.7925169289841487, 0.7952655786632257, 0.4567571876802206], [1.7951320674830584], [1.785039410571506, 0.9819739588959232, 0.160313159841464], [1.7893464637785916, 0.8961185197556314, 0.33185417136394074], [1.7842880811268764, 0.9939682291365288, 0.10572311802841006], [1.7867522689303783, 0.951853044978293, 0.23815560288830676], [1.7903943755040963, 0.8684470921270284, 0.3695076813252058], [1.7842450489206265, 0.9946355595215917, 0.10122947647998144], [1.7864963978554318, 0.9566295273678854, 0.22804523484154965], [1.792187322274859, 0.8089054739679634, 0.4414072488649103], [1.7908882438958682, 0.85390054766573, 0.38800676182930516], [1.7867755351325307, 0.9514133844796955, 0.23906016121598608], [1.7914387169343788, 0.8362205124334315, 0.4095854012875809], [1.7941347540280685, 0.6914430553718748, 0.5667095593509454], [1.7839802961428672, 0.9986968561195009, 0.060689823822801116], [1.794091035398973, 0.696486109146033, 0.5615483517133528], [1.7927797904748797, 0.7834358711284454, 0.4698351835176033], [1.7883113047111885, 0.9201698506489081, 0.2953921362697884]]\n",
      "For 0.15547949981178155: [[1.7920585230204469, 0.8139330666361624, 0.43566675589120135], [1.784224918061938, 0.9949470415403184, 0.09901817047053031], [1.7874778462740708, 0.9376957882590864, 0.2654761142486765], [1.7868112788584471, 0.9507361688358612, 0.24044543743572502], [1.793248269725105, 0.759491353900034, 0.4957571195465507], [1.7925169289841487, 0.7952655786632257, 0.4567571876802206], [1.7951320674830584], [1.785039410571506, 0.9819739588959232, 0.160313159841464], [1.7893464637785916, 0.8961185197556314, 0.33185417136394074], [1.7842880811268764, 0.9939682291365288, 0.10572311802841006], [1.7867522689303783, 0.951853044978293, 0.23815560288830676], [1.7903943755040963, 0.8684470921270284, 0.3695076813252058], [1.7842450489206265, 0.9946355595215917, 0.10122947647998144], [1.7864963978554318, 0.9566295273678854, 0.22804523484154965], [1.792187322274859, 0.8089054739679634, 0.4414072488649103], [1.7908882438958682, 0.85390054766573, 0.38800676182930516], [1.7867755351325307, 0.9514133844796955, 0.23906016121598608], [1.7914387169343788, 0.8362205124334315, 0.4095854012875809], [1.7941347540280685, 0.6914430553718748, 0.5667095593509454], [1.7839802961428672, 0.9986968561195009, 0.060689823822801116], [1.794091035398973, 0.696486109146033, 0.5615483517133528], [1.7927797904748797, 0.7834358711284454, 0.4698351835176033], [1.7883113047111885, 0.9201698506489081, 0.2953921362697884], [1.7859340738504645, 0.9667673091319723, 0.20448711120625623]]\n",
      "For 0.9572130722067812: [[1.7920585230204469, 0.8139330666361624, 0.43566675589120135], [1.784224918061938, 0.9949470415403184, 0.09901817047053031], [1.7874778462740708, 0.9376957882590864, 0.2654761142486765], [1.7868112788584471, 0.9507361688358612, 0.24044543743572502], [1.793248269725105, 0.759491353900034, 0.4957571195465507], [1.7925169289841487, 0.7952655786632257, 0.4567571876802206], [1.7951320674830584], [1.785039410571506, 0.9819739588959232, 0.160313159841464], [1.7893464637785916, 0.8961185197556314, 0.33185417136394074], [1.7842880811268764, 0.9939682291365288, 0.10572311802841006], [1.7867522689303783, 0.951853044978293, 0.23815560288830676], [1.7903943755040963, 0.8684470921270284, 0.3695076813252058], [1.7842450489206265, 0.9946355595215917, 0.10122947647998144], [1.7864963978554318, 0.9566295273678854, 0.22804523484154965], [1.792187322274859, 0.8089054739679634, 0.4414072488649103], [1.7908882438958682, 0.85390054766573, 0.38800676182930516], [1.7867755351325307, 0.9514133844796955, 0.23906016121598608], [1.7914387169343788, 0.8362205124334315, 0.4095854012875809], [1.7941347540280685, 0.6914430553718748, 0.5667095593509454], [1.7839802961428672, 0.9986968561195009, 0.060689823822801116], [1.794091035398973, 0.696486109146033, 0.5615483517133528], [1.7927797904748797, 0.7834358711284454, 0.4698351835176033], [1.7883113047111885, 0.9201698506489081, 0.2953921362697884], [1.7859340738504645, 0.9667673091319723, 0.20448711120625623], [1.795909917664078]]\n",
      "For 0.33659454511262676: [[1.7920585230204469, 0.8139330666361624, 0.43566675589120135], [1.784224918061938, 0.9949470415403184, 0.09901817047053031], [1.7874778462740708, 0.9376957882590864, 0.2654761142486765], [1.7868112788584471, 0.9507361688358612, 0.24044543743572502], [1.793248269725105, 0.759491353900034, 0.4957571195465507], [1.7925169289841487, 0.7952655786632257, 0.4567571876802206], [1.7951320674830584], [1.785039410571506, 0.9819739588959232, 0.160313159841464], [1.7893464637785916, 0.8961185197556314, 0.33185417136394074], [1.7842880811268764, 0.9939682291365288, 0.10572311802841006], [1.7867522689303783, 0.951853044978293, 0.23815560288830676], [1.7903943755040963, 0.8684470921270284, 0.3695076813252058], [1.7842450489206265, 0.9946355595215917, 0.10122947647998144], [1.7864963978554318, 0.9566295273678854, 0.22804523484154965], [1.792187322274859, 0.8089054739679634, 0.4414072488649103], [1.7908882438958682, 0.85390054766573, 0.38800676182930516], [1.7867755351325307, 0.9514133844796955, 0.23906016121598608], [1.7914387169343788, 0.8362205124334315, 0.4095854012875809], [1.7941347540280685, 0.6914430553718748, 0.5667095593509454], [1.7839802961428672, 0.9986968561195009, 0.060689823822801116], [1.794091035398973, 0.696486109146033, 0.5615483517133528], [1.7927797904748797, 0.7834358711284454, 0.4698351835176033], [1.7883113047111885, 0.9201698506489081, 0.2953921362697884], [1.7859340738504645, 0.9667673091319723, 0.20448711120625623], [1.795909917664078], [1.7882647461764272, 0.9211885016258206, 0.29374423690240825]]\n",
      "For 0.09274584338014791: [[1.7920585230204469, 0.8139330666361624, 0.43566675589120135], [1.784224918061938, 0.9949470415403184, 0.09901817047053031], [1.7874778462740708, 0.9376957882590864, 0.2654761142486765], [1.7868112788584471, 0.9507361688358612, 0.24044543743572502], [1.793248269725105, 0.759491353900034, 0.4957571195465507], [1.7925169289841487, 0.7952655786632257, 0.4567571876802206], [1.7951320674830584], [1.785039410571506, 0.9819739588959232, 0.160313159841464], [1.7893464637785916, 0.8961185197556314, 0.33185417136394074], [1.7842880811268764, 0.9939682291365288, 0.10572311802841006], [1.7867522689303783, 0.951853044978293, 0.23815560288830676], [1.7903943755040963, 0.8684470921270284, 0.3695076813252058], [1.7842450489206265, 0.9946355595215917, 0.10122947647998144], [1.7864963978554318, 0.9566295273678854, 0.22804523484154965], [1.792187322274859, 0.8089054739679634, 0.4414072488649103], [1.7908882438958682, 0.85390054766573, 0.38800676182930516], [1.7867755351325307, 0.9514133844796955, 0.23906016121598608], [1.7914387169343788, 0.8362205124334315, 0.4095854012875809], [1.7941347540280685, 0.6914430553718748, 0.5667095593509454], [1.7839802961428672, 0.9986968561195009, 0.060689823822801116], [1.794091035398973, 0.696486109146033, 0.5615483517133528], [1.7927797904748797, 0.7834358711284454, 0.4698351835176033], [1.7883113047111885, 0.9201698506489081, 0.2953921362697884], [1.7859340738504645, 0.9667673091319723, 0.20448711120625623], [1.795909917664078], [1.7882647461764272, 0.9211885016258206, 0.29374423690240825], [1.7851154849325175, 0.9807217074281915, 0.16458294780755747]]\n",
      "For 0.09671637683346401: [[1.7920585230204469, 0.8139330666361624, 0.43566675589120135], [1.784224918061938, 0.9949470415403184, 0.09901817047053031], [1.7874778462740708, 0.9376957882590864, 0.2654761142486765], [1.7868112788584471, 0.9507361688358612, 0.24044543743572502], [1.793248269725105, 0.759491353900034, 0.4957571195465507], [1.7925169289841487, 0.7952655786632257, 0.4567571876802206], [1.7951320674830584], [1.785039410571506, 0.9819739588959232, 0.160313159841464], [1.7893464637785916, 0.8961185197556314, 0.33185417136394074], [1.7842880811268764, 0.9939682291365288, 0.10572311802841006], [1.7867522689303783, 0.951853044978293, 0.23815560288830676], [1.7903943755040963, 0.8684470921270284, 0.3695076813252058], [1.7842450489206265, 0.9946355595215917, 0.10122947647998144], [1.7864963978554318, 0.9566295273678854, 0.22804523484154965], [1.792187322274859, 0.8089054739679634, 0.4414072488649103], [1.7908882438958682, 0.85390054766573, 0.38800676182930516], [1.7867755351325307, 0.9514133844796955, 0.23906016121598608], [1.7914387169343788, 0.8362205124334315, 0.4095854012875809], [1.7941347540280685, 0.6914430553718748, 0.5667095593509454], [1.7839802961428672, 0.9986968561195009, 0.060689823822801116], [1.794091035398973, 0.696486109146033, 0.5615483517133528], [1.7927797904748797, 0.7834358711284454, 0.4698351835176033], [1.7883113047111885, 0.9201698506489081, 0.2953921362697884], [1.7859340738504645, 0.9667673091319723, 0.20448711120625623], [1.795909917664078], [1.7882647461764272, 0.9211885016258206, 0.29374423690240825], [1.7851154849325175, 0.9807217074281915, 0.16458294780755747], [1.7851674711501961, 0.9798617860692811, 0.1674270617665146]]\n",
      "For 0.8474943663474598: [[1.7920585230204469, 0.8139330666361624, 0.43566675589120135], [1.784224918061938, 0.9949470415403184, 0.09901817047053031], [1.7874778462740708, 0.9376957882590864, 0.2654761142486765], [1.7868112788584471, 0.9507361688358612, 0.24044543743572502], [1.793248269725105, 0.759491353900034, 0.4957571195465507], [1.7925169289841487, 0.7952655786632257, 0.4567571876802206], [1.7951320674830584], [1.785039410571506, 0.9819739588959232, 0.160313159841464], [1.7893464637785916, 0.8961185197556314, 0.33185417136394074], [1.7842880811268764, 0.9939682291365288, 0.10572311802841006], [1.7867522689303783, 0.951853044978293, 0.23815560288830676], [1.7903943755040963, 0.8684470921270284, 0.3695076813252058], [1.7842450489206265, 0.9946355595215917, 0.10122947647998144], [1.7864963978554318, 0.9566295273678854, 0.22804523484154965], [1.792187322274859, 0.8089054739679634, 0.4414072488649103], [1.7908882438958682, 0.85390054766573, 0.38800676182930516], [1.7867755351325307, 0.9514133844796955, 0.23906016121598608], [1.7914387169343788, 0.8362205124334315, 0.4095854012875809], [1.7941347540280685, 0.6914430553718748, 0.5667095593509454], [1.7839802961428672, 0.9986968561195009, 0.060689823822801116], [1.794091035398973, 0.696486109146033, 0.5615483517133528], [1.7927797904748797, 0.7834358711284454, 0.4698351835176033], [1.7883113047111885, 0.9201698506489081, 0.2953921362697884], [1.7859340738504645, 0.9667673091319723, 0.20448711120625623], [1.795909917664078], [1.7882647461764272, 0.9211885016258206, 0.29374423690240825], [1.7851154849325175, 0.9807217074281915, 0.16458294780755747], [1.7851674711501961, 0.9798617860692811, 0.1674270617665146], [1.7945945724420018]]\n",
      "For 0.6037260313668911: [[1.7920585230204469, 0.8139330666361624, 0.43566675589120135], [1.784224918061938, 0.9949470415403184, 0.09901817047053031], [1.7874778462740708, 0.9376957882590864, 0.2654761142486765], [1.7868112788584471, 0.9507361688358612, 0.24044543743572502], [1.793248269725105, 0.759491353900034, 0.4957571195465507], [1.7925169289841487, 0.7952655786632257, 0.4567571876802206], [1.7951320674830584], [1.785039410571506, 0.9819739588959232, 0.160313159841464], [1.7893464637785916, 0.8961185197556314, 0.33185417136394074], [1.7842880811268764, 0.9939682291365288, 0.10572311802841006], [1.7867522689303783, 0.951853044978293, 0.23815560288830676], [1.7903943755040963, 0.8684470921270284, 0.3695076813252058], [1.7842450489206265, 0.9946355595215917, 0.10122947647998144], [1.7864963978554318, 0.9566295273678854, 0.22804523484154965], [1.792187322274859, 0.8089054739679634, 0.4414072488649103], [1.7908882438958682, 0.85390054766573, 0.38800676182930516], [1.7867755351325307, 0.9514133844796955, 0.23906016121598608], [1.7914387169343788, 0.8362205124334315, 0.4095854012875809], [1.7941347540280685, 0.6914430553718748, 0.5667095593509454], [1.7839802961428672, 0.9986968561195009, 0.060689823822801116], [1.794091035398973, 0.696486109146033, 0.5615483517133528], [1.7927797904748797, 0.7834358711284454, 0.4698351835176033], [1.7883113047111885, 0.9201698506489081, 0.2953921362697884], [1.7859340738504645, 0.9667673091319723, 0.20448711120625623], [1.795909917664078], [1.7882647461764272, 0.9211885016258206, 0.29374423690240825], [1.7851154849325175, 0.9807217074281915, 0.16458294780755747], [1.7851674711501961, 0.9798617860692811, 0.1674270617665146], [1.7945945724420018], [1.7916177355794858, 0.8300741334920065, 0.4168905753623997]]\n"
     ]
    }
   ],
   "source": [
    "from numpy import roots\n",
    "\n",
    "random_numbers_30 \n",
    "all_real_roots = []  \n",
    "\n",
    "for i in range(len(random_numbers_30)):\n",
    "    roots_of_equation = roots([15, -70, 125, -105, 35, 0, 0, -random_numbers_30[i]])\n",
    "    real_roots = [root.real for root in roots_of_equation if root.imag == 0]\n",
    "    all_real_roots.append(real_roots)  \n",
    "    print(f\"For {random_numbers_30[i]}: {all_real_roots}\")\n"
   ]
  },
  {
   "attachments": {},
   "cell_type": "markdown",
   "id": "1937c384",
   "metadata": {},
   "source": [
    "Guarda solo la solución real con el menor valor "
   ]
  },
  {
   "cell_type": "code",
   "execution_count": 48,
   "id": "4a0c6705",
   "metadata": {},
   "outputs": [
    {
     "name": "stdout",
     "output_type": "stream",
     "text": [
      "[0.43566675589120135, 0.09901817047053031, 0.2654761142486765, 0.24044543743572502, 0.4957571195465507, 0.4567571876802206, 1.7951320674830584, 0.160313159841464, 0.33185417136394074, 0.10572311802841006, 0.23815560288830676, 0.3695076813252058, 0.10122947647998144, 0.22804523484154965, 0.4414072488649103, 0.38800676182930516, 0.23906016121598608, 0.4095854012875809, 0.5667095593509454, 0.060689823822801116, 0.5615483517133528, 0.4698351835176033, 0.2953921362697884, 0.20448711120625623, 1.795909917664078, 0.29374423690240825, 0.16458294780755747, 0.1674270617665146, 1.7945945724420018, 0.4168905753623997]\n"
     ]
    }
   ],
   "source": [
    "final_real_roots = []\n",
    "\n",
    "for roots_list in all_real_roots:\n",
    "    smallest_root = min(roots_list)\n",
    "    final_real_roots.append(smallest_root)\n",
    "\n",
    "print (final_real_roots)"
   ]
  },
  {
   "attachments": {},
   "cell_type": "markdown",
   "id": "a036275f",
   "metadata": {},
   "source": [
    "El promedio de los 30 números simulados es: "
   ]
  },
  {
   "cell_type": "code",
   "execution_count": 46,
   "id": "c2ee6bd5",
   "metadata": {},
   "outputs": [
    {
     "name": "stdout",
     "output_type": "stream",
     "text": [
      "0.45\n"
     ]
    }
   ],
   "source": [
    "import numpy as np\n",
    "\n",
    "average_final_real_roots = round(np.mean(final_real_roots),2)\n",
    "print(average_final_real_roots)"
   ]
  }
 ],
 "metadata": {
  "kernelspec": {
   "display_name": "Python 3 (ipykernel)",
   "language": "python",
   "name": "python3"
  },
  "language_info": {
   "codemirror_mode": {
    "name": "ipython",
    "version": 3
   },
   "file_extension": ".py",
   "mimetype": "text/x-python",
   "name": "python",
   "nbconvert_exporter": "python",
   "pygments_lexer": "ipython3",
   "version": "3.10.5"
  }
 },
 "nbformat": 4,
 "nbformat_minor": 5
}
