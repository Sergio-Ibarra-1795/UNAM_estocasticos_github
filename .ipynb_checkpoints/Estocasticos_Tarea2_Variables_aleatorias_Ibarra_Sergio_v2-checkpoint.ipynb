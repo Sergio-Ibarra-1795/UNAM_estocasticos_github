{
 "cells": [
  {
   "cell_type": "code",
   "execution_count": null,
   "id": "24a28043",
   "metadata": {},
   "outputs": [],
   "source": []
  },
  {
   "cell_type": "markdown",
   "id": "17f27e9c",
   "metadata": {},
   "source": [
    "## Maestria en Ing. de Sistemas UNAM- Procesos estocásticos . Dra: Patricia Aguilar\n",
    "## Alumno: Sergio Ibarra R (414025796)\n",
    "## Problemas sobre la aplicación de conceptos de variable aleatoria.  Marzo 2023"
   ]
  },
  {
   "cell_type": "markdown",
   "id": "bb8c686e",
   "metadata": {},
   "source": [
    "### Problema 1"
   ]
  },
  {
   "cell_type": "markdown",
   "id": "4599859d",
   "metadata": {},
   "source": [
    "En cada uno de los siguientes enunciados, indique con una D si la variable aleatoria es discreta \n",
    "o con una C si es continua.\n"
   ]
  },
  {
   "cell_type": "markdown",
   "id": "1cd38658",
   "metadata": {},
   "source": [
    "a) El tiempo de espera para un corte de cabello. ………………………………………………….( Continuo) <br>\n",
    "b) El número de automóviles que rebasa un corredor cada mañana. …………………….(Discreto)<br>\n",
    "c) El número de hits de un equipo femenil de softbol de preparatoria. ………………….(Discreto)<br>\n",
    "d) El número de pacientes atendidos en el South Strand Medical Center entre las seis y  diez de la noche, cada noche. ………………………………….……………………………………….(Discreto)<br>\n",
    "e) La distancia que recorrió en su automóvil con el último tanque de gasolina. …….(Continuo)<br>\n",
    "f) El número de clientes del Wendy’s de Oak Street que utilizaron las instalaciones. (Discreto)<br>\n",
    "g) La distancia entre Gainesville, Florida, y todas las ciudades de Florida con una población de por lo menos 50 000 habitantes. ……………….………………………………………………….(Continuo)<br>\n",
    "\n"
   ]
  },
  {
   "cell_type": "code",
   "execution_count": null,
   "id": "3a217cc4",
   "metadata": {},
   "outputs": [],
   "source": []
  },
  {
   "cell_type": "markdown",
   "id": "c9e0631c",
   "metadata": {},
   "source": [
    "### Problema 2"
   ]
  },
  {
   "cell_type": "markdown",
   "id": "b2b5cc35",
   "metadata": {},
   "source": [
    "En un estudio realizado en Estados Unidos en 2001 (USA Today, 6 de septiembre, 2001), 38%  de los alumnos de cuarto grado de primaria no podía leer un libro apropiado para su edad. Los  datos siguientes muestran el número de sujetos, por edad, que se identificaron como niños con  problemas de aprendizaje que requieren educación especial. La mayoría tiene problemas de lectura que debieron identificarse y corregirse antes del tercer grado. La ley federal  estadounidense actual prohíbe que la mayoría de los niños reciba ayuda adicional de programas  de educación especial hasta que el retraso sea de aproximadamente dos años de aprendizaje, y por lo general eso significa hasta tercer grado o grados superiores."
   ]
  },
  {
   "cell_type": "markdown",
   "id": "05f9d8a7",
   "metadata": {},
   "source": [
    "| Edad| Número de niños  \n",
    "| :- | -:  \n",
    "| 6 | 37,369\n",
    "| 7  | 87,436\n",
    "| 8 | 160,840\n",
    "| 9 | 239,719\n",
    "|10 | 286,719\n",
    "|11 | 306,533\n",
    "|12 | 310,787\n",
    "|13 | 302,604\n",
    "|14 | 289,168"
   ]
  },
  {
   "cell_type": "markdown",
   "id": "b9f99af1",
   "metadata": {},
   "source": [
    "Suponga que se desea seleccionar una muestra de menores con problemas de aprendizaje y  que deben tomar educación especial a efecto de incluirlos en un programa diseñado para  mejorar su capacidad de lectura. Sea 𝑋 una variable aleatoria que indica la edad de un niño seleccionado al azar,"
   ]
  },
  {
   "cell_type": "markdown",
   "id": "57ca7659",
   "metadata": {},
   "source": [
    "a) Use los datos para construir la función de probabilidad para 𝑋 y trace su gráfica.<br>\n",
    "b) Calcule la edad promedio de los niños con problemas de aprendizaje..<br>\n",
    "c) Genere una muestra de las edades de 30 niños con problemas de aprendizaje y calcule la  edad promedio. Muestre paso a paso su procedimiento realizado ya sea manualmente o con algún software, en cuyo caso es necesario mostrar la codificación.<br>"
   ]
  },
  {
   "cell_type": "markdown",
   "id": "e1448469",
   "metadata": {},
   "source": [
    "#### a) Use los datos para construir la función de probabilidad para 𝑋 y trace su gráfica.<br>"
   ]
  },
  {
   "cell_type": "markdown",
   "id": "ed1dca64",
   "metadata": {},
   "source": [
    "Vamos a importar el documento donde se guardó la tabla con la información sobre la cantidad de niños en problemas de aprovechamiento en USA"
   ]
  },
  {
   "cell_type": "code",
   "execution_count": 129,
   "id": "ef41497e",
   "metadata": {},
   "outputs": [
    {
     "name": "stdout",
     "output_type": "stream",
     "text": [
      "{'Problema2':    Edad  Número de niños\n",
      "0     6            37369\n",
      "1     7            87436\n",
      "2     8           160840\n",
      "3     9           239719\n",
      "4    10           286719\n",
      "5    11           306533\n",
      "6    12           310787\n",
      "7    13           302604\n",
      "8    14           289168}\n"
     ]
    },
    {
     "data": {
      "text/plain": [
       "dict"
      ]
     },
     "execution_count": 129,
     "metadata": {},
     "output_type": "execute_result"
    }
   ],
   "source": [
    "import pandas as pd\n",
    "\n",
    "# Read the Excel file into a dictionary of data frames\n",
    "df_importado = pd.read_excel(R'C:\\Users\\sergi\\OneDrive\\Documentos\\MIS_UNAM\\Segundo_semestre\\Estocasticos_UNAM\\UNAM_Estocasticos_git\\Estocasticos_Tarea2_Variable_aleatoria_datos_problema2&5.xlsx', sheet_name=['Problema2'])\n",
    "print(df_importado)\n",
    "type(df_importado)"
   ]
  },
  {
   "cell_type": "code",
   "execution_count": 130,
   "id": "59e5e2ce",
   "metadata": {},
   "outputs": [
    {
     "name": "stdout",
     "output_type": "stream",
     "text": [
      "   Edad  Número de niños\n",
      "0     6            37369\n",
      "1     7            87436\n",
      "2     8           160840\n",
      "3     9           239719\n",
      "4    10           286719\n",
      "5    11           306533\n",
      "6    12           310787\n",
      "7    13           302604\n",
      "8    14           289168\n"
     ]
    },
    {
     "data": {
      "text/plain": [
       "pandas.core.frame.DataFrame"
      ]
     },
     "execution_count": 130,
     "metadata": {},
     "output_type": "execute_result"
    }
   ],
   "source": [
    "df_USA_niños_escolar = df_importado['Problema2']\n",
    "print(df_USA_niños_escolar)\n",
    "type(df_USA_niños_escolar)"
   ]
  },
  {
   "cell_type": "markdown",
   "id": "1e1c6707",
   "metadata": {},
   "source": [
    "Vamos a \"separar\" la información de la edad y guardarla en una variable llamada df_USA_niños_escolar_edad"
   ]
  },
  {
   "cell_type": "code",
   "execution_count": 131,
   "id": "913a249c",
   "metadata": {},
   "outputs": [
    {
     "data": {
      "text/plain": [
       "0     6\n",
       "1     7\n",
       "2     8\n",
       "3     9\n",
       "4    10\n",
       "5    11\n",
       "6    12\n",
       "7    13\n",
       "8    14\n",
       "Name: Edad, dtype: int64"
      ]
     },
     "execution_count": 131,
     "metadata": {},
     "output_type": "execute_result"
    }
   ],
   "source": [
    "df_USA_niños_escolar_edad= df_USA_niños_escolar['Edad']\n",
    "df_USA_niños_escolar_edad"
   ]
  },
  {
   "cell_type": "code",
   "execution_count": 132,
   "id": "57a672c0",
   "metadata": {},
   "outputs": [
    {
     "data": {
      "text/plain": [
       "pandas.core.series.Series"
      ]
     },
     "execution_count": 132,
     "metadata": {},
     "output_type": "execute_result"
    }
   ],
   "source": [
    "type(df_USA_niños_escolar_edad)"
   ]
  },
  {
   "cell_type": "code",
   "execution_count": 133,
   "id": "f6fffcc0",
   "metadata": {},
   "outputs": [
    {
     "data": {
      "text/plain": [
       "6"
      ]
     },
     "execution_count": 133,
     "metadata": {},
     "output_type": "execute_result"
    }
   ],
   "source": [
    "df_USA_niños_escolar_edad[0]"
   ]
  },
  {
   "cell_type": "markdown",
   "id": "e7a41a3c",
   "metadata": {},
   "source": [
    "Vamos a \"separar\" la información del número de nuños por edad y guardarla en una variable llamada df_USA_niños"
   ]
  },
  {
   "cell_type": "code",
   "execution_count": 134,
   "id": "2b2f7aab",
   "metadata": {},
   "outputs": [
    {
     "data": {
      "text/plain": [
       "0     37369\n",
       "1     87436\n",
       "2    160840\n",
       "3    239719\n",
       "4    286719\n",
       "5    306533\n",
       "6    310787\n",
       "7    302604\n",
       "8    289168\n",
       "Name: Número de niños, dtype: int64"
      ]
     },
     "execution_count": 134,
     "metadata": {},
     "output_type": "execute_result"
    }
   ],
   "source": [
    "df_USA_niños= df_USA_niños_escolar['Número de niños']\n",
    "df_USA_niños"
   ]
  },
  {
   "cell_type": "markdown",
   "id": "00ccecb1",
   "metadata": {},
   "source": [
    "Transformando la data de numero de niños en una lista para poder sumar sus elementos usarlo para calcular el promedio de cada edad"
   ]
  },
  {
   "cell_type": "code",
   "execution_count": 135,
   "id": "4633eadb",
   "metadata": {},
   "outputs": [
    {
     "data": {
      "text/plain": [
       "[37369, 87436, 160840, 239719, 286719, 306533, 310787, 302604, 289168]"
      ]
     },
     "execution_count": 135,
     "metadata": {},
     "output_type": "execute_result"
    }
   ],
   "source": [
    "# Transform the series to a list\n",
    "df_USA_niños_list = df_USA_niños.tolist()\n",
    "\n",
    "df_USA_niños_list\n"
   ]
  },
  {
   "cell_type": "code",
   "execution_count": 136,
   "id": "9b9fbcd0",
   "metadata": {},
   "outputs": [
    {
     "data": {
      "text/plain": [
       "2021175"
      ]
     },
     "execution_count": 136,
     "metadata": {},
     "output_type": "execute_result"
    }
   ],
   "source": [
    "# Get the sum of all elements in the list\n",
    "total_niños_USA = sum(df_USA_niños_list)\n",
    "total_niños_USA"
   ]
  },
  {
   "cell_type": "markdown",
   "id": "3dae0947",
   "metadata": {},
   "source": [
    "Calculando las probabilidades por edad como:\n",
    "$$P(x=edad) = \\frac{\\mathrm{Numero\\,de\\,ninios\\,en\\,edad\\,X=x}}{\\mathrm{Numero\\, total\\, de\\, ninios}}$$\n",
    "    \n",
    "y las añadimos a la tabla llamada df_USA_niños_escolar"
   ]
  },
  {
   "cell_type": "code",
   "execution_count": 137,
   "id": "3266eaa6",
   "metadata": {
    "scrolled": true
   },
   "outputs": [
    {
     "name": "stdout",
     "output_type": "stream",
     "text": [
      "0     1.848875\n",
      "1     4.325998\n",
      "2     7.957747\n",
      "3    11.860378\n",
      "4    14.185758\n",
      "5    15.166079\n",
      "6    15.376551\n",
      "7    14.971687\n",
      "8    14.306925\n",
      "Name: Probabilidad_por_edad, dtype: float64\n"
     ]
    }
   ],
   "source": [
    "df_USA_niños_escolar['Probabilidad_por_edad'] = (df_USA_niños / total_niños_USA)*100\n",
    "print(df_USA_niños_escolar['Probabilidad_por_edad'])"
   ]
  },
  {
   "cell_type": "code",
   "execution_count": 138,
   "id": "b493c514",
   "metadata": {},
   "outputs": [
    {
     "name": "stdout",
     "output_type": "stream",
     "text": [
      "   Edad  Número de niños  Probabilidad_por_edad\n",
      "0     6            37369               1.848875\n",
      "1     7            87436               4.325998\n",
      "2     8           160840               7.957747\n",
      "3     9           239719              11.860378\n",
      "4    10           286719              14.185758\n",
      "5    11           306533              15.166079\n",
      "6    12           310787              15.376551\n",
      "7    13           302604              14.971687\n",
      "8    14           289168              14.306925\n"
     ]
    }
   ],
   "source": [
    "print(df_USA_niños_escolar)"
   ]
  },
  {
   "cell_type": "markdown",
   "id": "7982f12b",
   "metadata": {},
   "source": [
    "<span style=\"color:red\">__Por lo tanto la función de probabilidad de X sería__</span>"
   ]
  },
  {
   "cell_type": "markdown",
   "id": "979dec2e",
   "metadata": {},
   "source": [
    "| Edad| Valor de probabilidad  \n",
    "| :- | -:  \n",
    "| 6 | 1.85\n",
    "| 7  | 4.32\n",
    "| 8 | 7.96\n",
    "| 9 | 11.87\n",
    "|10 | 14.19\n",
    "|11 | 15.17\n",
    "|12 | 15.38\n",
    "|13 | 14.97\n",
    "|14 | 14.31"
   ]
  },
  {
   "cell_type": "markdown",
   "id": "44e7e260",
   "metadata": {},
   "source": [
    "  <span style=\"color:red\">__Y la gráfica de la función de probabilidad de X sería__ </span>"
   ]
  },
  {
   "cell_type": "code",
   "execution_count": 139,
   "id": "f009dcc3",
   "metadata": {},
   "outputs": [
    {
     "data": {
      "image/png": "[encoded data removed]",
      "text/plain": [
       "<Figure size 640x480 with 1 Axes>"
      ]
     },
     "metadata": {},
     "output_type": "display_data"
    }
   ],
   "source": [
    "import matplotlib.pyplot as plt\n",
    "\n",
    "# Assuming that df_USA_niños_escolar is a pandas dataframe\n",
    "plt.plot(df_USA_niños_escolar['Edad'], df_USA_niños_escolar['Probabilidad_por_edad'])\n",
    "plt.xlabel('Edad')\n",
    "plt.ylabel('Probabilidad por Edad')\n",
    "plt.title('Gráfico de dispersión de probabilidad por edad')\n",
    "plt.show()\n"
   ]
  },
  {
   "cell_type": "markdown",
   "id": "9cfa400d",
   "metadata": {},
   "source": [
    "#### b) Calcule la edad promedio de los niños con problemas de aprendizaje.<br>"
   ]
  },
  {
   "cell_type": "markdown",
   "id": "33a8f424",
   "metadata": {},
   "source": [
    "La edad promedio se calculará como la esperanza de los valores de la función de probabilidad"
   ]
  },
  {
   "cell_type": "code",
   "execution_count": 140,
   "id": "b42724cc",
   "metadata": {
    "scrolled": true
   },
   "outputs": [
    {
     "data": {
      "text/plain": [
       "11.0"
      ]
     },
     "execution_count": 140,
     "metadata": {},
     "output_type": "execute_result"
    }
   ],
   "source": [
    "esperanza_edad = round(sum(df_USA_niños_escolar['Edad']*(df_USA_niños_escolar['Probabilidad_por_edad']/100)),2)\n",
    "esperanza_edad"
   ]
  },
  {
   "cell_type": "code",
   "execution_count": 141,
   "id": "4a7ce490",
   "metadata": {},
   "outputs": [
    {
     "data": {
      "text/html": [
       "<span style=\"color:red\">_La edad promedio de los niños con problemas de aprendizaje__ es: 11.0 años</span>"
      ],
      "text/plain": [
       "<IPython.core.display.HTML object>"
      ]
     },
     "execution_count": 141,
     "metadata": {},
     "output_type": "execute_result"
    }
   ],
   "source": [
    "from IPython.core.display import HTML\n",
    "\n",
    "\n",
    "texto = f'<span style=\"color:red\">_La edad promedio de los niños con problemas de aprendizaje__ es: {esperanza_edad} años</span>'\n",
    "\n",
    "HTML(texto)\n",
    "\n"
   ]
  },
  {
   "cell_type": "markdown",
   "id": "c0b1e45b",
   "metadata": {},
   "source": [
    "#### c) Genere una muestra de las edades de 30 niños con problemas de aprendizaje y calcule la  edad promedio. Muestre paso a paso su procedimiento realizado ya sea manualmente o con algún software, en cuyo caso es necesario mostrar la codificación.<br>"
   ]
  },
  {
   "cell_type": "markdown",
   "id": "4c32aab0",
   "metadata": {},
   "source": [
    "Para poder generar números aleatorios en Python a partir de una x y una f(x) ambos deben estar en un formato de dato tipo 'lista'"
   ]
  },
  {
   "cell_type": "code",
   "execution_count": 142,
   "id": "35c3df96",
   "metadata": {},
   "outputs": [
    {
     "data": {
      "text/plain": [
       "[0.01848875035560998,\n",
       " 0.04325998490976783,\n",
       " 0.07957747349932588,\n",
       " 0.11860378245327594,\n",
       " 0.1418575828416639,\n",
       " 0.15166079137135577,\n",
       " 0.15376550768736008,\n",
       " 0.14971687261122862,\n",
       " 0.143069254270412]"
      ]
     },
     "execution_count": 142,
     "metadata": {},
     "output_type": "execute_result"
    }
   ],
   "source": [
    "#Transformando los datos de la columna probabilidad en una tipo lista\n",
    "\n",
    "df_USA_niños_probabilidad_list = (df_USA_niños_escolar['Probabilidad_por_edad']/100).tolist()\n",
    "df_USA_niños_probabilidad_list "
   ]
  },
  {
   "cell_type": "code",
   "execution_count": 143,
   "id": "21574303",
   "metadata": {},
   "outputs": [
    {
     "data": {
      "text/plain": [
       "[6, 7, 8, 9, 10, 11, 12, 13, 14]"
      ]
     },
     "execution_count": 143,
     "metadata": {},
     "output_type": "execute_result"
    }
   ],
   "source": [
    "#Transformando los datos de la columna edad en una tipo lista\n",
    "df_USA_niños_escolar_edad_list = df_USA_niños_escolar_edad.tolist()\n",
    "\n",
    "df_USA_niños_escolar_edad_list"
   ]
  },
  {
   "cell_type": "markdown",
   "id": "1c2820f1",
   "metadata": {},
   "source": [
    "Ahora procederemos a generar los 30 numeros random, con la función de python que se llama random.choice y que toma 3 parametros:<br>\n",
    "    a)Los valores de la variable x en la función de distribución <br>\n",
    "    b)Los valores de f(x) en la función de distribución <br>\n",
    "    c) El número de valores random que se quiere generar\n",
    "    "
   ]
  },
  {
   "cell_type": "code",
   "execution_count": 144,
   "id": "5e3a0801",
   "metadata": {},
   "outputs": [
    {
     "data": {
      "text/plain": [
       "array([ 7, 12,  6, 14, 11, 10, 12, 12, 10, 10, 11, 13, 10, 10,  9, 13, 13,\n",
       "       14, 11, 14, 10, 12, 13, 14, 10,  6, 14,  7, 14, 11])"
      ]
     },
     "execution_count": 144,
     "metadata": {},
     "output_type": "execute_result"
    }
   ],
   "source": [
    "import numpy as np \n",
    "\n",
    "random_30_edades = np.random.choice(\n",
    "df_USA_niños_escolar_edad_list, size=30, p=df_USA_niños_probabilidad_list )\n",
    "random_30_edades"
   ]
  },
  {
   "cell_type": "markdown",
   "id": "1504c18a",
   "metadata": {},
   "source": [
    "Vamos a graficar los valores generados"
   ]
  },
  {
   "cell_type": "code",
   "execution_count": 145,
   "id": "a0462b68",
   "metadata": {},
   "outputs": [
    {
     "data": {
      "image/png": "[encoded data removed]",
      "text/plain": [
       "<Figure size 640x480 with 1 Axes>"
      ]
     },
     "metadata": {},
     "output_type": "display_data"
    }
   ],
   "source": [
    "import matplotlib.pyplot as plt\n",
    "\n",
    "plt.hist(random_30_edades, bins=10)\n",
    "plt.xlabel('Values')\n",
    "plt.ylabel('Frequency')\n",
    "plt.title('Histogram of Random X')\n",
    "plt.show()\n"
   ]
  },
  {
   "cell_type": "markdown",
   "id": "eb1f4e76",
   "metadata": {},
   "source": [
    "Ahora calculemos la edad promedio de los valores simulados"
   ]
  },
  {
   "cell_type": "code",
   "execution_count": 146,
   "id": "afec90d8",
   "metadata": {},
   "outputs": [],
   "source": [
    "import numpy as np\n",
    "\n",
    "edad_promedio_simulada = round(np.mean(random_30_edades),2)\n",
    "\n"
   ]
  },
  {
   "cell_type": "code",
   "execution_count": 147,
   "id": "675c301f",
   "metadata": {},
   "outputs": [
    {
     "data": {
      "text/html": [
       "<span style=\"color:red\">_La edad promedio de los valores simulados es__ es: 11.1 años</span>"
      ],
      "text/plain": [
       "<IPython.core.display.HTML object>"
      ]
     },
     "execution_count": 147,
     "metadata": {},
     "output_type": "execute_result"
    }
   ],
   "source": [
    "from IPython.core.display import HTML\n",
    "\n",
    "\n",
    "texto = f'<span style=\"color:red\">_La edad promedio de los valores simulados es__ es: {edad_promedio_simulada} años</span>'\n",
    "\n",
    "HTML(texto)\n"
   ]
  },
  {
   "cell_type": "markdown",
   "id": "8241f555",
   "metadata": {},
   "source": [
    "ES MUY CERCANA A LA ESPERANZA_EDAD QUE NO ES SIMULADA!"
   ]
  },
  {
   "cell_type": "code",
   "execution_count": null,
   "id": "1cf9aeeb",
   "metadata": {},
   "outputs": [],
   "source": []
  },
  {
   "cell_type": "markdown",
   "id": "833ce6a5",
   "metadata": {},
   "source": [
    "### Problema 3"
   ]
  },
  {
   "cell_type": "markdown",
   "id": "b2f3c919",
   "metadata": {},
   "source": [
    "Considere la variable aleatoria 𝑌 cuya función de distribución (acumulativa) es la que se indica a  continuación. <br>\n",
    "a) Decida si la variable aleatoria 𝑌 es discreta o continua. Justifique su respuesta.<br>\n",
    "b) Construya la función 𝑓𝑌(𝑦).<br>\n",
    "c) Calcule la media y la varianza de Y<br>"
   ]
  },
  {
   "cell_type": "code",
   "execution_count": null,
   "id": "51b6db7b",
   "metadata": {},
   "outputs": [],
   "source": []
  },
  {
   "cell_type": "markdown",
   "id": "a7b6a782",
   "metadata": {},
   "source": [
    "$$F_{Y}(y) = \\left\\{\\begin{matrix}\n",
    "0, & y<=0\\\\ \n",
    "y/8 ,& 0<y<2\\\\ \n",
    "y^{2}/16 ,& 2<=y<4\\\\ \n",
    "1 ,& y>4\\\\  \n",
    "\\end{matrix}\\right.$$"
   ]
  },
  {
   "cell_type": "markdown",
   "id": "8584336d",
   "metadata": {},
   "source": [
    "Primero que todo vamos a graficar la funcion de distribución acumulada para la variable Y y observar que forma tiene"
   ]
  },
  {
   "cell_type": "code",
   "execution_count": 148,
   "id": "c84eea36",
   "metadata": {},
   "outputs": [
    {
     "data": {
      "image/png": "[encoded data removed]",
      "text/plain": [
       "<Figure size 640x480 with 1 Axes>"
      ]
     },
     "metadata": {},
     "output_type": "display_data"
    }
   ],
   "source": [
    "import numpy as np\n",
    "import matplotlib.pyplot as plt\n",
    "\n",
    "def F_Y(y):\n",
    "    return np.piecewise(y, [y <= 0, (y > 0) & (y < 2), (y >= 2) & (y < 4), y >= 4],\n",
    "                        [0, lambda y: y/8, lambda y: y**2/16, 1])\n",
    "\n",
    "y = np.linspace(-1, 5, 1000)\n",
    "F = F_Y(y)\n",
    "\n",
    "plt.plot(y, F)\n",
    "plt.title('Cumulative Distribution Function F_Y(y)')\n",
    "plt.xlabel('y')\n",
    "plt.ylabel('F_Y(y)')\n",
    "plt.show()\n"
   ]
  },
  {
   "cell_type": "markdown",
   "id": "4db0e81a",
   "metadata": {},
   "source": [
    "Se observa claramente una función cotinua y creciente hasta 1, por lo que podemos estar seguros que F(y) es una función de distribución acumulativa "
   ]
  },
  {
   "cell_type": "markdown",
   "id": "9eaa5e35",
   "metadata": {},
   "source": [
    "#### a) Decida si la variable aleatoria 𝑌 es discreta o continua. Justifique su respuesta.<br>"
   ]
  },
  {
   "cell_type": "markdown",
   "id": "c9bb65fc",
   "metadata": {},
   "source": [
    "Debido a que la función de distribución $F_{Y}(y)$ SI ES CONTINUA. Se puede decir entonces que la Variable aleatoria X de la que proviene TAMBIÉN ES CONTINUA "
   ]
  },
  {
   "cell_type": "markdown",
   "id": "8d524910",
   "metadata": {},
   "source": [
    "#### b) Construya la función 𝑓𝑌(𝑦).<br>"
   ]
  },
  {
   "cell_type": "markdown",
   "id": "a6c14c38",
   "metadata": {},
   "source": [
    "Nosotros sabemos que para cualquier variable aleatoria Y su función de distribución acumulativa se define como:"
   ]
  },
  {
   "cell_type": "markdown",
   "id": "8450305c",
   "metadata": {},
   "source": [
    "$$F_{y}(y) = P(Y<=y)$$"
   ]
  },
  {
   "cell_type": "markdown",
   "id": "2c4d2744",
   "metadata": {},
   "source": [
    "Y sabemos que la relación entre la función de distribución acumulada F(Y) y la función de distribcuión de densidad de probabilidad f(y) es:"
   ]
  },
  {
   "cell_type": "markdown",
   "id": "26d0d525",
   "metadata": {},
   "source": [
    "$$F_{y}(Y) = \\int_{-\\infty }^{y} f_{y}(t) dt$$"
   ]
  },
  {
   "cell_type": "markdown",
   "id": "e74e9bae",
   "metadata": {},
   "source": [
    "Y por lo tanto se podría decir que es posible calcular la función de densidad de probabilidad f(y) a partir de su función de densidad acumuladad de probabilidad Fy(Y) de la siguiente manera:"
   ]
  },
  {
   "cell_type": "markdown",
   "id": "2b26b16a",
   "metadata": {},
   "source": [
    "$$f_{y}(y) = F'_{y}(t) =\\frac{dFy}{dy}$$"
   ]
  },
  {
   "cell_type": "markdown",
   "id": "025ae57d",
   "metadata": {},
   "source": [
    "Por lo tanto en nuestro caso habría que deribar cada una de las secciones de la función acumulativa F(y) con respecto a y para obtener f(y)"
   ]
  },
  {
   "cell_type": "markdown",
   "id": "51ea7cda",
   "metadata": {},
   "source": [
    "<span style=\"color:red\">__Por lo tanto la función de densidad probabilidad de Y sería  - f(Y:)__</span>"
   ]
  },
  {
   "cell_type": "markdown",
   "id": "fda19091",
   "metadata": {},
   "source": [
    "$$f(y)=\\left\\{\\begin{matrix}\n",
    " 0, & y<=0 \\\\ \n",
    " 1/8 ,& 0<y<2 \\\\ \n",
    " y/8 ,& 2<=y<4 \\\\ \n",
    " 0 ,& y>=4& \n",
    "\\end{matrix}\\right.$$"
   ]
  },
  {
   "cell_type": "markdown",
   "id": "df790ead",
   "metadata": {},
   "source": [
    "Vamos a graficar la función de densidad de probabilidad f(y) para ver como luce"
   ]
  },
  {
   "cell_type": "code",
   "execution_count": 149,
   "id": "57bc5ec7",
   "metadata": {},
   "outputs": [
    {
     "data": {
      "image/png": "[encoded data removed]",
      "text/plain": [
       "<Figure size 640x480 with 1 Axes>"
      ]
     },
     "metadata": {},
     "output_type": "display_data"
    }
   ],
   "source": [
    "import numpy as np\n",
    "import matplotlib.pyplot as plt\n",
    "\n",
    "def f_y(y):\n",
    "    return np.piecewise(y, [y<=0, (y>0)&(y<2), (y>=2)&(y<4), y>=4], [0, 1/8, lambda y: y/8, 0])\n",
    "\n",
    "y = np.linspace(-1, 5, 1000)\n",
    "f = f_y(y)\n",
    "\n",
    "plt.plot(y, f)\n",
    "plt.title('Density Distribution Function f(y)')\n",
    "plt.xlabel('y')\n",
    "plt.ylabel('f(y)')\n",
    "plt.show()\n"
   ]
  },
  {
   "cell_type": "markdown",
   "id": "45eb6bb1",
   "metadata": {},
   "source": [
    "Se observa una función con valores mayores a cero y cuya área parece justamente tender al valor de la unidad "
   ]
  },
  {
   "cell_type": "markdown",
   "id": "53110797",
   "metadata": {},
   "source": [
    "#### c) Calcule la media y la varianza de Y<br>"
   ]
  },
  {
   "cell_type": "markdown",
   "id": "6883e69e",
   "metadata": {},
   "source": [
    "Recordando que la esperanza de una variable aleatoria Y, dada su función de distribución f(y) se definia para el caso de las variables discretas como:"
   ]
  },
  {
   "cell_type": "markdown",
   "id": "1984f35b",
   "metadata": {},
   "source": [
    "$$E(Y) = \\sum_{-\\infty }^{\\infty } y*p(y)$$"
   ]
  },
  {
   "cell_type": "markdown",
   "id": "a6b880ce",
   "metadata": {},
   "source": [
    "Para el caso de las variables continas dicha esperanza o media se define como:"
   ]
  },
  {
   "cell_type": "markdown",
   "id": "0dc8766e",
   "metadata": {},
   "source": [
    "$$E(Y) = \\int_{-\\infty }^{\\infty } y*p(y)$$"
   ]
  },
  {
   "cell_type": "markdown",
   "id": "5d47c82e",
   "metadata": {},
   "source": [
    "Que para nuestro caso sería:"
   ]
  },
  {
   "cell_type": "markdown",
   "id": "5b9ff102",
   "metadata": {},
   "source": [
    "$$E(y) = \\int_{0}^{4}f(y) *y= \\int_{0}^{4} \\left\\{\\begin{matrix}\n",
    " 0, & y<=0 \\\\ \n",
    " 1/8 ,& 0<y<2 \\\\ \n",
    " y/8 ,& 2<=y<4 \\\\ \n",
    " 0 ,& y>=4& \n",
    "\\end{matrix}\\right. * y dy$$"
   ]
  },
  {
   "cell_type": "markdown",
   "id": "3dc96115",
   "metadata": {},
   "source": [
    "Entonces re solviendo la integralen Python tenemos:"
   ]
  },
  {
   "cell_type": "code",
   "execution_count": 150,
   "id": "c9a060d0",
   "metadata": {},
   "outputs": [],
   "source": [
    "import numpy as np\n",
    "from scipy.integrate import quad\n",
    "\n",
    "def f_y(y):\n",
    "    return np.piecewise(y, [y<=0, (y>0)&(y<2), (y>=2)&(y<4), y>=4], [0, 1/8, lambda y: y/8, 0])\n",
    "\n",
    "##Se define la función que integrará y por lo tanto calculará la media \n",
    "def mean_f(f, a, b):\n",
    "    integrand = lambda y: y*f(y)\n",
    "    ## FUNCIÓN QUE REALIZA LA INTEGRACIÓN!\n",
    "    return quad(integrand, a, b)[0]\n",
    "\n",
    "##Aqui se usa/llama la función que integra y calcula media \n",
    "mean_Y = round(mean_f(f_y, 0, 4),2)\n",
    "\n"
   ]
  },
  {
   "cell_type": "code",
   "execution_count": 151,
   "id": "2b869092",
   "metadata": {},
   "outputs": [
    {
     "data": {
      "text/html": [
       "<span style=\"color:red\">_La media de la variable Y sería: 2.58 </span>"
      ],
      "text/plain": [
       "<IPython.core.display.HTML object>"
      ]
     },
     "execution_count": 151,
     "metadata": {},
     "output_type": "execute_result"
    }
   ],
   "source": [
    "from IPython.core.display import HTML\n",
    "\n",
    "\n",
    "texto = f'<span style=\"color:red\">_La media de la variable Y sería: {mean_Y} </span>'\n",
    "\n",
    "HTML(texto)"
   ]
  },
  {
   "cell_type": "markdown",
   "id": "9727fa10",
   "metadata": {},
   "source": [
    "Para el caso de la varianza de la variable aleatoria Y, se define como, la esperanza del cuadrado de la desviación con respecto a la media, es decir:"
   ]
  },
  {
   "cell_type": "markdown",
   "id": "ef254ea3",
   "metadata": {},
   "source": [
    "$$Var(Y) =E[(Y-\\mu )^2]$$"
   ]
  },
  {
   "cell_type": "markdown",
   "id": "cc59d064",
   "metadata": {},
   "source": [
    "Ahora en el caso de conocer la funcion de probabilidad de densidad dicha varianza se calcula como:"
   ]
  },
  {
   "cell_type": "markdown",
   "id": "a77e2532",
   "metadata": {},
   "source": [
    "\n",
    "$$Var(Y) = \\sigma ^2 (y) = \\int_{-\\infty }^{\\infty }(Y-\\mu )^2 *f(y)$$"
   ]
  },
  {
   "cell_type": "markdown",
   "id": "05e6f157",
   "metadata": {},
   "source": [
    "Y en nuestro caso:"
   ]
  },
  {
   "cell_type": "markdown",
   "id": "c9a104ca",
   "metadata": {},
   "source": [
    "$$Var(y) = \\int_{0}^{4}f(y) *(Y-\\mu )^2= \\int_{0}^{4} \\left\\{\\begin{matrix}\n",
    " 0, & y<=0 \\\\ \n",
    " 1/8 ,& 0<y<2 \\\\ \n",
    " y/8 ,& 2<=y<4 \\\\ \n",
    " 0 ,& y>=4& \n",
    "\\end{matrix}\\right. * (Y-\\mu )^2 dy$$"
   ]
  },
  {
   "cell_type": "markdown",
   "id": "73503be1",
   "metadata": {},
   "source": [
    "Y en Python el código para integrar y genera la varianza es:"
   ]
  },
  {
   "cell_type": "code",
   "execution_count": 152,
   "id": "c3b9c6a1",
   "metadata": {},
   "outputs": [],
   "source": [
    "import numpy as np\n",
    "from scipy.integrate import quad\n",
    "\n",
    "def f_y(y):\n",
    "    return np.piecewise(y, [y<=0, (y>0)&(y<2), (y>=2)&(y<4), y>=4], [0, 1/8, lambda y: y/8, 0])\n",
    "\n",
    "##Se define la función que integrará y por lo tanto calculará la varianza\n",
    "def variance_f(f, mean_Y, a, b):\n",
    "    integrand = lambda y: (y-mean_Y)**2*f(y)\n",
    "    return quad(integrand, a, b)[0]\n",
    "\n",
    "##Aqui se usa/llama la función que integra y calcula varianza \n",
    "variance_Y = round(variance_f(f_y, mean_Y, 0, 4),2)\n",
    "\n"
   ]
  },
  {
   "cell_type": "code",
   "execution_count": 153,
   "id": "f6326475",
   "metadata": {},
   "outputs": [
    {
     "data": {
      "text/html": [
       "<span style=\"color:red\">_La varianza de la variable Y sería: 1.16 </span>"
      ],
      "text/plain": [
       "<IPython.core.display.HTML object>"
      ]
     },
     "execution_count": 153,
     "metadata": {},
     "output_type": "execute_result"
    }
   ],
   "source": [
    "from IPython.core.display import HTML\n",
    "\n",
    "\n",
    "texto = f'<span style=\"color:red\">_La varianza de la variable Y sería: {variance_Y} </span>'\n",
    "\n",
    "HTML(texto)"
   ]
  },
  {
   "cell_type": "markdown",
   "id": "e5cf4533",
   "metadata": {},
   "source": [
    "### Problema 4"
   ]
  },
  {
   "cell_type": "code",
   "execution_count": null,
   "id": "fb31fcf3",
   "metadata": {},
   "outputs": [],
   "source": []
  },
  {
   "cell_type": "markdown",
   "id": "648fae94",
   "metadata": {},
   "source": [
    "La proporción de tiempo por día en la que todas las cajas de un supermercado están ocupadas, \n",
    "es una variable aleatoria 𝑌 con función de densidad\n"
   ]
  },
  {
   "cell_type": "markdown",
   "id": "db05eee2",
   "metadata": {},
   "source": [
    "$$f_{Y}(y) = \\left\\{\\begin{matrix}\n",
    "c*y^2(1-y)^4, & 0<=y<=1\\\\ \n",
    " 0, & en otro caso\n",
    "\\end{matrix}\\right.$$\n",
    "\n",
    "En donde 𝑐 es una constante.\n"
   ]
  },
  {
   "cell_type": "markdown",
   "id": "b636956b",
   "metadata": {},
   "source": [
    "a) Encuentre el valor de c que hace de 𝑓𝑌 (𝑦) una función de densidad <br>\n",
    "b) Obtenga la media y la varianza de 𝑌.<br>\n",
    "c) Genere 30 valores aleatorios de 𝑌 y calcule el promedio de dichos valores. Muestre paso a  paso su procedimiento realizado ya sea manualmente o con algún software, en cuyo caso es necesario mostrar la codificación"
   ]
  },
  {
   "cell_type": "markdown",
   "id": "40b6aa82",
   "metadata": {},
   "source": [
    "#### a) Encuentre el valor de c que hace de 𝑓𝑌 (𝑦) una función de densidad <br>"
   ]
  },
  {
   "cell_type": "markdown",
   "id": "81e01dea",
   "metadata": {},
   "source": [
    "Entonces se debe encontrar los valores de c para los cuales la integral de f(x) desde 0 hasta 1 sea exactamente igual a 1. que es una de las propiedades de la función de distribución de una v.a. X"
   ]
  },
  {
   "cell_type": "markdown",
   "id": "eb3661ca",
   "metadata": {},
   "source": [
    "La propiedad de la función de distribución f(x) se expresa entonces como:"
   ]
  },
  {
   "cell_type": "markdown",
   "id": "bbf6874f",
   "metadata": {},
   "source": [
    "$$\\int_{0}^{1}f_{x}(x) =1$$"
   ]
  },
  {
   "cell_type": "markdown",
   "id": "0c0989ed",
   "metadata": {},
   "source": [
    "Que en nuestro caso es:"
   ]
  },
  {
   "cell_type": "markdown",
   "id": "601fbfc4",
   "metadata": {},
   "source": [
    "$$\\int_{0}^{1}c*y^2*(1-y)^4 =1$$"
   ]
  },
  {
   "cell_type": "markdown",
   "id": "27fcc26a",
   "metadata": {},
   "source": [
    "Entonces resolvamos la integral usando Python"
   ]
  },
  {
   "cell_type": "code",
   "execution_count": 154,
   "id": "fdcc167e",
   "metadata": {},
   "outputs": [
    {
     "name": "stdout",
     "output_type": "stream",
     "text": [
      "The antiderivative of f(y) = c*y^2*(1-y)^4 with respect to y is:\n",
      "c*y**7/7 - 2*c*y**6/3 + 6*c*y**5/5 - c*y**4 + c*y**3/3\n"
     ]
    }
   ],
   "source": [
    "import sympy as sym\n",
    "\n",
    "# define the symbol y and the constant c\n",
    "y = sym.symbols('y')\n",
    "c = sym.symbols('c')\n",
    "\n",
    "# define the integrand\n",
    "f = c * y**2 * (1-y)**4\n",
    "\n",
    "# integrate the function with respect to y\n",
    "F = sym.integrate(f, y)\n",
    "\n",
    "# print the result\n",
    "print(\"The antiderivative of f(y) = c*y^2*(1-y)^4 with respect to y is:\")\n",
    "print(F)\n"
   ]
  },
  {
   "cell_type": "markdown",
   "id": "0411667b",
   "metadata": {},
   "source": [
    "Entonces el resultado de la integral es:"
   ]
  },
  {
   "cell_type": "markdown",
   "id": "720e8fc1",
   "metadata": {},
   "source": [
    "$$\\int_{0}^{1}c*y^2*(1-y)^4 dy =  \\frac{c*y^7}{7} - \\frac{2*c*y^6}{3}  +\\frac{6*c*y^5}{5} - c*y^4 + \\frac{c*y^3}{3} $$"
   ]
  },
  {
   "cell_type": "markdown",
   "id": "7422cb50",
   "metadata": {},
   "source": [
    "Y evaluando los limites de intetración tenemos: "
   ]
  },
  {
   "cell_type": "markdown",
   "id": "1b5f7733",
   "metadata": {},
   "source": [
    "$$\\left [ \\frac{c*y^7}{7} - \\frac{2*c*y^6}{3}  +\\frac{6*c*y^5}{5} - c*y^4 + \\frac{c*y^3}{3}  \\right ]_{0}^{1} =  [ \\frac{c}{7} - \\frac{2*c}{3}  +\\frac{6*c}{5} - c* + \\frac{c}{3}] -(0)\n",
    " $$"
   ]
  },
  {
   "cell_type": "code",
   "execution_count": 155,
   "id": "e69a3aff",
   "metadata": {},
   "outputs": [
    {
     "ename": "SyntaxError",
     "evalue": "invalid syntax (218246960.py, line 1)",
     "output_type": "error",
     "traceback": [
      "\u001b[1;36m  File \u001b[1;32m\"C:\\Users\\sergi\\AppData\\Local\\Temp\\ipykernel_27736\\218246960.py\"\u001b[1;36m, line \u001b[1;32m1\u001b[0m\n\u001b[1;33m    Sumando los terminos, tenemos:\u001b[0m\n\u001b[1;37m            ^\u001b[0m\n\u001b[1;31mSyntaxError\u001b[0m\u001b[1;31m:\u001b[0m invalid syntax\n"
     ]
    }
   ],
   "source": [
    "Sumando los terminos, tenemos:"
   ]
  },
  {
   "cell_type": "markdown",
   "id": "b9f91d30",
   "metadata": {},
   "source": [
    "$$1 = \\frac{1c}{105}$$"
   ]
  },
  {
   "cell_type": "markdown",
   "id": "f976a5ed",
   "metadata": {},
   "source": [
    "\n",
    "<span style=\"color:red\">__Por lo tanto el valor de C que hace que le función f(y) sea una función de densidad de probabilidad es C=105- __</span>"
   ]
  },
  {
   "cell_type": "markdown",
   "id": "5374ff3b",
   "metadata": {},
   "source": [
    "#### b) Obtenga la media y la varianza de 𝑌.<br>"
   ]
  },
  {
   "cell_type": "markdown",
   "id": "c6ebe79a",
   "metadata": {},
   "source": [
    "La media se calcula como:"
   ]
  },
  {
   "cell_type": "markdown",
   "id": "7a39663d",
   "metadata": {},
   "source": [
    "$$E(Y) = \\int_{-\\infty }^{\\infty } y*p(y)$$"
   ]
  },
  {
   "cell_type": "markdown",
   "id": "86715600",
   "metadata": {},
   "source": [
    "Que en nuestro caso es:"
   ]
  },
  {
   "cell_type": "markdown",
   "id": "f412894c",
   "metadata": {},
   "source": [
    "$$E(X) = \\int_{-\\infty }^{\\infty } y*p(y) = \\int_{-\\infty }^{\\infty } \\left\\{\\begin{matrix}\n",
    "c*y^2(1-y)^4, & 0<=y<=1\\\\ \n",
    " 0, & en otro caso\n",
    "\\end{matrix}\\right. * y dy $$"
   ]
  },
  {
   "cell_type": "markdown",
   "id": "a6881a20",
   "metadata": {},
   "source": [
    "Entonces resolviendo la integral en Python tenemos:"
   ]
  },
  {
   "cell_type": "code",
   "execution_count": 156,
   "id": "b62b4fdf",
   "metadata": {},
   "outputs": [],
   "source": [
    "import numpy as np\n",
    "from scipy.integrate import quad\n",
    "\n",
    "def f_y(y):\n",
    "    return np.piecewise(y, [y<=0,(y>0)&(y<1),  y>1], [0, lambda y: 105*(y**2)*(1-y)**4, 0])\n",
    "\n",
    "##Se define la función que integrará y por lo tanto calculará la media \n",
    "def mean_f(f, a, b):\n",
    "    integrand = lambda y: y*f(y)\n",
    "    ## FUNCIÓN QUE REALIZA LA INTEGRACIÓN!\n",
    "    return quad(integrand, a, b)[0]\n",
    "\n",
    "##Aqui se usa/llama la función que integra y calcula media \n",
    "mean_Y2 = round(mean_f(f_y, 0, 4),2)\n"
   ]
  },
  {
   "cell_type": "code",
   "execution_count": 157,
   "id": "7a11ec60",
   "metadata": {},
   "outputs": [
    {
     "data": {
      "text/html": [
       "<span style=\"color:red\">_La MEDIA de la variable Y sería: 0.37 </span>"
      ],
      "text/plain": [
       "<IPython.core.display.HTML object>"
      ]
     },
     "execution_count": 157,
     "metadata": {},
     "output_type": "execute_result"
    }
   ],
   "source": [
    "from IPython.core.display import HTML\n",
    "\n",
    "\n",
    "texto = f'<span style=\"color:red\">_La MEDIA de la variable Y sería: {mean_Y2} </span>'\n",
    "\n",
    "HTML(texto)"
   ]
  },
  {
   "cell_type": "markdown",
   "id": "a9cae046",
   "metadata": {},
   "source": [
    "Y para el cálculo de la varianza tenemos:"
   ]
  },
  {
   "cell_type": "markdown",
   "id": "0ca9277a",
   "metadata": {},
   "source": [
    "$$E(X) = \\int_{-\\infty }^{\\infty } (Y-\\mu )^2 *p(y) = \\int_{-\\infty }^{\\infty } \\left\\{\\begin{matrix}\n",
    "c*y^2(1-y)^4, & 0<=y<=1\\\\ \n",
    " 0, & en otro caso\n",
    "\\end{matrix}\\right. * (Y-\\mu )^2  dy $$"
   ]
  },
  {
   "cell_type": "code",
   "execution_count": 158,
   "id": "5bfa98de",
   "metadata": {},
   "outputs": [],
   "source": [
    "import numpy as np\n",
    "from scipy.integrate import quad\n",
    "\n",
    "def f_y(y):\n",
    "    return np.piecewise(y, [y<=0,(y>0)&(y<1),  y>1], [0, lambda y: 105*(y**2)*(1-y)**4, 0])\n",
    "\n",
    "##Se define la función que integrará y por lo tanto calculará la varianza\n",
    "def variance_f(f, mean, a, b):\n",
    "    integrand = lambda y: (y-mean_Y2)**2*f(y)\n",
    "    return quad(integrand, a, b)[0]\n",
    "\n",
    "##Aqui se usa/llama la función que integra y calcula varianza \n",
    "variance_Y2 = round(variance_f(f_y, mean_Y2, 0, 4),2)\n"
   ]
  },
  {
   "cell_type": "code",
   "execution_count": 159,
   "id": "44a05175",
   "metadata": {},
   "outputs": [
    {
     "data": {
      "text/html": [
       "<span style=\"color:red\">_La VARIANZA de la variable Y sería: 0.03 </span>"
      ],
      "text/plain": [
       "<IPython.core.display.HTML object>"
      ]
     },
     "execution_count": 159,
     "metadata": {},
     "output_type": "execute_result"
    }
   ],
   "source": [
    "from IPython.core.display import HTML\n",
    "\n",
    "\n",
    "texto = f'<span style=\"color:red\">_La VARIANZA de la variable Y sería: {variance_Y2} </span>'\n",
    "\n",
    "HTML(texto)"
   ]
  },
  {
   "cell_type": "markdown",
   "id": "da6e9d62",
   "metadata": {},
   "source": [
    "#### c) Genere 30 valores aleatorios de 𝑌 y calcule el promedio de dichos valores. Muestre paso a  paso su procedimiento realizado ya sea manualmente o con algún software, en cuyo caso es necesario mostrar la codificación"
   ]
  },
  {
   "cell_type": "code",
   "execution_count": null,
   "id": "20742db7",
   "metadata": {},
   "outputs": [],
   "source": []
  },
  {
   "cell_type": "markdown",
   "id": "1431f2bc",
   "metadata": {},
   "source": [
    "__Paso 1. Se generan los 30 numeros aleatorios ente [0,1] con una probabilida de distribución uniforme__"
   ]
  },
  {
   "cell_type": "code",
   "execution_count": 160,
   "id": "e96ee573",
   "metadata": {},
   "outputs": [
    {
     "name": "stdout",
     "output_type": "stream",
     "text": [
      "[0.9806787939195338, 0.6373228621636793, 0.8671642108005828, 0.731334915741731, 0.5814038843744755, 0.030530241894779153, 0.7683749526362508, 0.5585599805109415, 0.4820551570490622, 0.3215062668339316, 0.9289311548356329, 0.5135022761977845, 0.777444998907035, 0.5145538607604121, 0.7199896590117759, 0.49254363099716025, 0.40729045955237, 0.4758043809833101, 0.06367841777531169, 0.9665078775355336, 0.7292828155843758, 0.6980366737540419, 0.8881862766957436, 0.3605390291229362, 0.9420075543813922, 0.4389308897607932, 0.37468918073193413, 0.09878942535855406, 0.8382744389276778, 0.939035662646074]\n"
     ]
    }
   ],
   "source": [
    "import random\n",
    "\n",
    "# generate 30 random numbers between 0 and 1\n",
    "random_numbers_30 = [random.random() for _ in range(30)]\n",
    "\n",
    "print(random_numbers_30)\n"
   ]
  },
  {
   "cell_type": "markdown",
   "id": "7e324931",
   "metadata": {},
   "source": [
    "__Paso 2. Igualar el valor aleatorio con la funcion acumulada de probabilidad de la variable x__"
   ]
  },
  {
   "cell_type": "markdown",
   "id": "b6265028",
   "metadata": {},
   "source": [
    "Se procede a igular el valor aleatorio generado ri con la funcion de distribucion acumulada:  $$r_{i}= F(y{_{i}})$$"
   ]
  },
  {
   "cell_type": "markdown",
   "id": "a55f156e",
   "metadata": {},
   "source": [
    "Que en nuestro caso recodar que $$F(y{_{i})} = \\int_{0}^{1}105*y^2*(1-y)^4 dy $$"
   ]
  },
  {
   "cell_type": "markdown",
   "id": "c6922bbf",
   "metadata": {},
   "source": [
    "Y resolviendo en Python tenemos: "
   ]
  },
  {
   "cell_type": "code",
   "execution_count": 161,
   "id": "b61c4c10",
   "metadata": {},
   "outputs": [
    {
     "name": "stdout",
     "output_type": "stream",
     "text": [
      "The antiderivative of f(y) = 105*y^2*(1-y)^4 with respect to y is:\n",
      "15*y**7 - 70*y**6 + 126*y**5 - 105*y**4 + 35*y**3\n"
     ]
    }
   ],
   "source": [
    "import sympy as sym\n",
    "\n",
    "# define the symbol y and the constant c\n",
    "y = sym.symbols('y')\n",
    "\n",
    "# define the integrand\n",
    "f_ = 105 * y**2 * (1-y)**4\n",
    "\n",
    "# integrate the function with respect to y\n",
    "F_ = sym.integrate(f_, y)\n",
    "\n",
    "# print the result\n",
    "print(\"The antiderivative of f(y) = 105*y^2*(1-y)^4 with respect to y is:\")\n",
    "print(F_)"
   ]
  },
  {
   "cell_type": "markdown",
   "id": "bf959bda",
   "metadata": {},
   "source": [
    "Es decir: \n",
    " "
   ]
  },
  {
   "cell_type": "markdown",
   "id": "c797167a",
   "metadata": {},
   "source": [
    "\n",
    "    \n",
    "  $$  valor_random_i = 15y^7 -70y^6 +125y^5 -105y^4 +35y^3 $$"
   ]
  },
  {
   "cell_type": "markdown",
   "id": "cc534741",
   "metadata": {},
   "source": [
    "Entonces para nuestro primer valor simulado que es 0.105, lo igualamos a nuestra F(yi): "
   ]
  },
  {
   "cell_type": "markdown",
   "id": "9ef18a76",
   "metadata": {},
   "source": [
    "__Paso 3. Calcular el valor de la variable x para cada elemento previamente simulado__"
   ]
  },
  {
   "cell_type": "markdown",
   "id": "9460db3c",
   "metadata": {},
   "source": [
    "Te calcula las 7 soluciones por cada valor de ri"
   ]
  },
  {
   "cell_type": "code",
   "execution_count": 162,
   "id": "29d60112",
   "metadata": {},
   "outputs": [
    {
     "name": "stdout",
     "output_type": "stream",
     "text": [
      "[ 1.79584535+0.j          0.96850278+0.63368849j  0.96850278-0.63368849j\n",
      "  0.88154565+0.j          0.157833  +0.j         -0.1055629 +0.j        ]\n"
     ]
    }
   ],
   "source": [
    "import numpy as np\n",
    "\n",
    "# Define the coefficients of the polynomial\n",
    "coeffs = [15, -70, 125, -105, 35, 0, -0.53]\n",
    "\n",
    "# Find the roots of the polynomial\n",
    "roots = np.roots(coeffs)\n",
    "\n",
    "# Print the roots\n",
    "print(roots)\n"
   ]
  },
  {
   "cell_type": "code",
   "execution_count": 163,
   "id": "3a267cfb",
   "metadata": {},
   "outputs": [
    {
     "ename": "SyntaxError",
     "evalue": "invalid syntax (3617862813.py, line 1)",
     "output_type": "error",
     "traceback": [
      "\u001b[1;36m  File \u001b[1;32m\"C:\\Users\\sergi\\AppData\\Local\\Temp\\ipykernel_27736\\3617862813.py\"\u001b[1;36m, line \u001b[1;32m1\u001b[0m\n\u001b[1;33m    Te calcula solo las  soluciones reales por cada valor de ri\u001b[0m\n\u001b[1;37m       ^\u001b[0m\n\u001b[1;31mSyntaxError\u001b[0m\u001b[1;31m:\u001b[0m invalid syntax\n"
     ]
    }
   ],
   "source": [
    "Te calcula solo las  soluciones reales por cada valor de ri"
   ]
  },
  {
   "cell_type": "code",
   "execution_count": 164,
   "id": "fb296de4",
   "metadata": {},
   "outputs": [
    {
     "name": "stdout",
     "output_type": "stream",
     "text": [
      "[(1.795845347276372+0j), (0.8815456538932235+0j), (0.1578329991294134+0j), (-0.10556289649685834+0j)]\n"
     ]
    }
   ],
   "source": [
    "import numpy as np\n",
    "\n",
    "# Define the coefficients of the polynomial\n",
    "coeffs = [15, -70, 125, -105, 35, 0, -0.53]\n",
    "\n",
    "# Find the roots of the polynomial\n",
    "roots = np.roots(coeffs)\n",
    "\n",
    "# Find the real roots\n",
    "real_roots = [root for root in roots if np.isreal(root)]\n",
    "\n",
    "# Print the real roots\n",
    "print(real_roots)\n"
   ]
  },
  {
   "cell_type": "code",
   "execution_count": 165,
   "id": "3734bc6c",
   "metadata": {},
   "outputs": [
    {
     "ename": "SyntaxError",
     "evalue": "invalid syntax (704867932.py, line 1)",
     "output_type": "error",
     "traceback": [
      "\u001b[1;36m  File \u001b[1;32m\"C:\\Users\\sergi\\AppData\\Local\\Temp\\ipykernel_27736\\704867932.py\"\u001b[1;36m, line \u001b[1;32m1\u001b[0m\n\u001b[1;33m    Te calcula solo soluciones reales para todos los valres en random_numbers_30\u001b[0m\n\u001b[1;37m       ^\u001b[0m\n\u001b[1;31mSyntaxError\u001b[0m\u001b[1;31m:\u001b[0m invalid syntax\n"
     ]
    }
   ],
   "source": [
    "Te calcula solo soluciones reales para todos los valres en random_numbers_30 "
   ]
  },
  {
   "cell_type": "code",
   "execution_count": 166,
   "id": "0572d9fb",
   "metadata": {},
   "outputs": [
    {
     "name": "stdout",
     "output_type": "stream",
     "text": [
      "For 0.9806787939195338: [1.7961893174657182]\n",
      "For 0.6373228621636793: [1.7920325929651895, 0.8149267928566021, 0.4345264275183866]\n",
      "For 0.8671642108005828: [1.794831476678376]\n",
      "For 0.731334915741731: [1.793185605429109, 0.7629591941365178, 0.4920428520361721]\n",
      "For 0.5814038843744755: [1.7913412712192647, 0.8394785898450381, 0.40567446992985634]\n",
      "For 0.030530241894779153: [1.7842977510982982, 0.9938179881017878, 0.10669369601084153]\n",
      "For 0.7683749526362508: [1.7936367470719945, 0.7353561933843674, 0.5212976203542592]\n",
      "For 0.5585599805109415: [1.7910576558007452, 0.8486393197019009, 0.39452299930097395]\n",
      "For 0.4820551570490622: [1.7901026921123728, 0.8765473055533888, 0.35885702446901757]\n",
      "For 0.3215062668339316: [1.7880723966319252, 0.9253450042140581, 0.2869146195587798]\n",
      "For 0.9289311548356329: [1.7955722817426085]\n",
      "For 0.5135022761977845: [1.7904961891629476, 0.8655378621739112, 0.3732685837079013]\n",
      "For 0.777444998907035: [1.7937469516521543, 0.7273871963744867, 0.5296273374843563]\n",
      "For 0.5145538607604121: [1.7905093243358319, 0.8651593044402212, 0.3737555962760065]\n",
      "For 0.7199896590117759: [1.7930470697719243, 0.7703066659807155, 0.48413089466630527]\n",
      "For 0.49254363099716025: [1.7902340841599391, 0.8729401904217142, 0.36363359713893895]\n",
      "For 0.40729045955237: [1.7891617038409773, 0.9006235163031343, 0.3253380483558949]\n",
      "For 0.4758043809833101: [1.7900243152513575, 0.8786677503767851, 0.35602256296628576]\n",
      "For 0.06367841777531169: [1.7847341738273435, 0.9869269446886817, 0.1415577132387234]\n",
      "For 0.9665078775355336: [1.796020668268184]\n",
      "For 0.7292828155843758: [1.7931605597418476, 0.7643189341815212, 0.4905830714675286]\n",
      "For 0.6980366737540419: [1.7927785324968946, 0.7834948326977891, 0.46977048823562007]\n",
      "For 0.8881862766957436: [1.795084135115167]\n",
      "For 0.3605390291229362: [1.7885693327120307, 0.9144322211122903, 0.30449785767831333]\n",
      "For 0.9420075543813922: [1.795728512184853]\n",
      "For 0.4389308897607932: [1.789560874325653, 0.8907615607633855, 0.33944502036848057]\n",
      "For 0.37468918073193413: [1.788748948751217, 0.9103422851834199, 0.31081877397910235]\n",
      "For 0.09878942535855406: [1.7851946040787416, 0.9794116115933807, 0.16888939099778247]\n",
      "For 0.8382744389276778: [1.794483361016012]\n",
      "For 0.939035662646074: [1.7956930238382889]\n"
     ]
    }
   ],
   "source": [
    "from numpy import roots\n",
    "\n",
    "random_numbers_30 \n",
    "\n",
    "for i in range(len(random_numbers_30)):\n",
    "    roots_of_equation = roots([15, -70, 125, -105, 35, 0, 0, -random_numbers_30[i]])\n",
    "    real_roots = [root.real for root in roots_of_equation if root.imag == 0]\n",
    "    print(f\"For {random_numbers_30[i]}: {real_roots}\")\n"
   ]
  },
  {
   "cell_type": "code",
   "execution_count": 167,
   "id": "c11ea5c5",
   "metadata": {},
   "outputs": [
    {
     "data": {
      "text/plain": [
       "list"
      ]
     },
     "execution_count": 167,
     "metadata": {},
     "output_type": "execute_result"
    }
   ],
   "source": [
    "type(real_roots)"
   ]
  },
  {
   "cell_type": "code",
   "execution_count": 168,
   "id": "77dffa91",
   "metadata": {},
   "outputs": [
    {
     "ename": "SyntaxError",
     "evalue": "invalid syntax (2000383129.py, line 1)",
     "output_type": "error",
     "traceback": [
      "\u001b[1;36m  File \u001b[1;32m\"C:\\Users\\sergi\\AppData\\Local\\Temp\\ipykernel_27736\\2000383129.py\"\u001b[1;36m, line \u001b[1;32m1\u001b[0m\n\u001b[1;33m    Te calcula solo soluciones reales para todos los valores en random_numbers_30 y las guarda en all_real_roots\u001b[0m\n\u001b[1;37m       ^\u001b[0m\n\u001b[1;31mSyntaxError\u001b[0m\u001b[1;31m:\u001b[0m invalid syntax\n"
     ]
    }
   ],
   "source": [
    "Te calcula solo soluciones reales para todos los valores en random_numbers_30 y las guarda en all_real_roots"
   ]
  },
  {
   "cell_type": "code",
   "execution_count": 169,
   "id": "966204d4",
   "metadata": {},
   "outputs": [
    {
     "name": "stdout",
     "output_type": "stream",
     "text": [
      "[[1.7961893174657182], [1.7920325929651895, 0.8149267928566021, 0.4345264275183866], [1.794831476678376], [1.793185605429109, 0.7629591941365178, 0.4920428520361721], [1.7913412712192647, 0.8394785898450381, 0.40567446992985634], [1.7842977510982982, 0.9938179881017878, 0.10669369601084153], [1.7936367470719945, 0.7353561933843674, 0.5212976203542592], [1.7910576558007452, 0.8486393197019009, 0.39452299930097395], [1.7901026921123728, 0.8765473055533888, 0.35885702446901757], [1.7880723966319252, 0.9253450042140581, 0.2869146195587798], [1.7955722817426085], [1.7904961891629476, 0.8655378621739112, 0.3732685837079013], [1.7937469516521543, 0.7273871963744867, 0.5296273374843563], [1.7905093243358319, 0.8651593044402212, 0.3737555962760065], [1.7930470697719243, 0.7703066659807155, 0.48413089466630527], [1.7902340841599391, 0.8729401904217142, 0.36363359713893895], [1.7891617038409773, 0.9006235163031343, 0.3253380483558949], [1.7900243152513575, 0.8786677503767851, 0.35602256296628576], [1.7847341738273435, 0.9869269446886817, 0.1415577132387234], [1.796020668268184], [1.7931605597418476, 0.7643189341815212, 0.4905830714675286], [1.7927785324968946, 0.7834948326977891, 0.46977048823562007], [1.795084135115167], [1.7885693327120307, 0.9144322211122903, 0.30449785767831333], [1.795728512184853], [1.789560874325653, 0.8907615607633855, 0.33944502036848057], [1.788748948751217, 0.9103422851834199, 0.31081877397910235], [1.7851946040787416, 0.9794116115933807, 0.16888939099778247], [1.794483361016012], [1.7956930238382889]]\n"
     ]
    }
   ],
   "source": [
    "from numpy import roots\n",
    "\n",
    "random_numbers_30  # your list of 30 random numbers\n",
    "\n",
    "all_real_roots = []  # create an empty list to store real roots for each iteration\n",
    "\n",
    "for i in range(len(random_numbers_30)):\n",
    "    roots_of_equation = roots([15, -70, 125, -105, 35, 0, 0, -random_numbers_30[i]])\n",
    "    real_roots = [root.real for root in roots_of_equation if root.imag == 0]\n",
    "    all_real_roots.append(real_roots)  # append the real roots to the list of all real roots\n",
    "\n",
    "print(all_real_roots)"
   ]
  },
  {
   "cell_type": "code",
   "execution_count": 170,
   "id": "49abbb6f",
   "metadata": {},
   "outputs": [
    {
     "data": {
      "text/plain": [
       "[1.7961893174657182]"
      ]
     },
     "execution_count": 170,
     "metadata": {},
     "output_type": "execute_result"
    }
   ],
   "source": [
    "all_real_roots[0]"
   ]
  },
  {
   "cell_type": "markdown",
   "id": "c43ed9a3",
   "metadata": {},
   "source": [
    "Te Guarda el valor mínimo entre 0 y 1 como resultado de resolver la ecuación de F(xi)=ri para cada i en los 30 elementos simulados anteriormente"
   ]
  },
  {
   "cell_type": "code",
   "execution_count": 171,
   "id": "77f0fb57",
   "metadata": {},
   "outputs": [],
   "source": [
    "final_real_roots = []\n",
    "\n",
    "for roots_list in all_real_roots:\n",
    "    smallest_root = min(roots_list)\n",
    "    final_real_roots.append(smallest_root)"
   ]
  },
  {
   "cell_type": "code",
   "execution_count": 172,
   "id": "0bf520eb",
   "metadata": {},
   "outputs": [
    {
     "data": {
      "text/html": [
       "<span style=\"color:red\">La lista de los 30 números simulados finales es:</span><span style=\"color:orange\"> [1.7961893174657182, 0.4345264275183866, 1.794831476678376, 0.4920428520361721, 0.40567446992985634, 0.10669369601084153, 0.5212976203542592, 0.39452299930097395, 0.35885702446901757, 0.2869146195587798, 1.7955722817426085, 0.3732685837079013, 0.5296273374843563, 0.3737555962760065, 0.48413089466630527, 0.36363359713893895, 0.3253380483558949, 0.35602256296628576, 0.1415577132387234, 1.796020668268184, 0.4905830714675286, 0.46977048823562007, 1.795084135115167, 0.30449785767831333, 1.795728512184853, 0.33944502036848057, 0.31081877397910235, 0.16888939099778247, 1.794483361016012, 1.7956930238382889] </span>"
      ],
      "text/plain": [
       "<IPython.core.display.HTML object>"
      ]
     },
     "execution_count": 172,
     "metadata": {},
     "output_type": "execute_result"
    }
   ],
   "source": [
    "from IPython.core.display import HTML\n",
    "\n",
    "\n",
    "texto = f'<span style=\"color:red\">La lista de los 30 números simulados finales es:</span>' + f'<span style=\"color:orange\"> {final_real_roots} </span>'\n",
    "\n",
    "HTML(texto)"
   ]
  },
  {
   "cell_type": "code",
   "execution_count": 173,
   "id": "0f862acc",
   "metadata": {},
   "outputs": [
    {
     "ename": "SyntaxError",
     "evalue": "invalid syntax (1822171954.py, line 1)",
     "output_type": "error",
     "traceback": [
      "\u001b[1;36m  File \u001b[1;32m\"C:\\Users\\sergi\\AppData\\Local\\Temp\\ipykernel_27736\\1822171954.py\"\u001b[1;36m, line \u001b[1;32m1\u001b[0m\n\u001b[1;33m    El promedio de los valores simulados es:\u001b[0m\n\u001b[1;37m       ^\u001b[0m\n\u001b[1;31mSyntaxError\u001b[0m\u001b[1;31m:\u001b[0m invalid syntax\n"
     ]
    }
   ],
   "source": [
    "El promedio de los valores simulados es:"
   ]
  },
  {
   "cell_type": "code",
   "execution_count": 174,
   "id": "2ce51e21",
   "metadata": {},
   "outputs": [],
   "source": [
    "import numpy as np\n",
    "\n",
    "average_final_real_roots = round(np.mean(final_real_roots),2)\n"
   ]
  },
  {
   "cell_type": "code",
   "execution_count": 175,
   "id": "5cff2dec",
   "metadata": {},
   "outputs": [
    {
     "data": {
      "text/html": [
       "<span style=\"color:red\">El valor promedio de los valores simulados es : 0.75:</span>"
      ],
      "text/plain": [
       "<IPython.core.display.HTML object>"
      ]
     },
     "execution_count": 175,
     "metadata": {},
     "output_type": "execute_result"
    }
   ],
   "source": [
    "from IPython.core.display import HTML\n",
    "\n",
    "\n",
    "texto = f'<span style=\"color:red\">El valor promedio de los valores simulados es : {average_final_real_roots}:</span>'\n",
    "HTML(texto)"
   ]
  },
  {
   "cell_type": "code",
   "execution_count": null,
   "id": "08b849f9",
   "metadata": {},
   "outputs": [],
   "source": []
  },
  {
   "cell_type": "markdown",
   "id": "40ccc8db",
   "metadata": {},
   "source": [
    "### Problema 5"
   ]
  },
  {
   "cell_type": "code",
   "execution_count": null,
   "id": "3966a6c9",
   "metadata": {},
   "outputs": [],
   "source": []
  },
  {
   "cell_type": "markdown",
   "id": "5f094d55",
   "metadata": {},
   "source": [
    "Considere la v.a. X con función de probabilidad"
   ]
  },
  {
   "cell_type": "markdown",
   "id": "3844207d",
   "metadata": {},
   "source": [
    "|x| -5|-1|1|1.5|3\n",
    "| :- | -: | :-:| :-:| :-:| :-:  \n",
    "| fx(X) | 0.2 | 0.01| 0.3| 0.29| 0.2\n"
   ]
  },
  {
   "cell_type": "code",
   "execution_count": null,
   "id": "3517fe21",
   "metadata": {},
   "outputs": [],
   "source": []
  },
  {
   "cell_type": "markdown",
   "id": "1ec9251e",
   "metadata": {},
   "source": [
    "Construya muestras de la v.a. X, de los tamaños indicados en clase, y en cada caso sobreponga la gráfica de la distribución de X (histograma de probabilidad) al histograma de frecuencias de la  muestra correspondiente.\n",
    "Adicionalmente, calcule la media y la varianza de cada muestra y compárelas con 𝐸(𝑋) y 𝑉𝑎𝑟(𝑋)"
   ]
  },
  {
   "cell_type": "markdown",
   "id": "4090f9ff",
   "metadata": {},
   "source": [
    "Creamos los objetos \"tipo lista\" de los valores de x y f(x) "
   ]
  },
  {
   "cell_type": "code",
   "execution_count": 176,
   "id": "dd2e1e5e",
   "metadata": {},
   "outputs": [
    {
     "data": {
      "text/plain": [
       "[0.2, 0.01, 0.3, 0.29, 0.2]"
      ]
     },
     "execution_count": 176,
     "metadata": {},
     "output_type": "execute_result"
    }
   ],
   "source": [
    "x1 = [-5,-1,1,1.5,3]\n",
    "x1\n",
    "fx1 =  [0.2,0.01,0.3,0.29,0.2]\n",
    "fx1 "
   ]
  },
  {
   "cell_type": "markdown",
   "id": "0741cc28",
   "metadata": {},
   "source": [
    "Importamos las librerias necesarias para realizar las muestras de tamaño n"
   ]
  },
  {
   "cell_type": "code",
   "execution_count": 177,
   "id": "2dc0c126",
   "metadata": {},
   "outputs": [],
   "source": [
    "from random import random \n",
    "import numpy as np\n",
    "import matplotlib.pyplot as plt"
   ]
  },
  {
   "cell_type": "markdown",
   "id": "8345b1d9",
   "metadata": {},
   "source": [
    "Usamos la función np.random.choice (previamente usada y explicada en el problema 2 inciso c)"
   ]
  },
  {
   "cell_type": "markdown",
   "id": "3b73e698",
   "metadata": {},
   "source": [
    "__Se generarán entonces los números para tamaño de muestra n=10__"
   ]
  },
  {
   "cell_type": "code",
   "execution_count": 178,
   "id": "564197ee",
   "metadata": {},
   "outputs": [
    {
     "name": "stdout",
     "output_type": "stream",
     "text": [
      "[ 3.  -5.   1.   1.5  1.   3.   1.   3.   1.5 -5. ]\n"
     ]
    }
   ],
   "source": [
    "random_numbers_fx1_10 = np.random.choice(x1, size=10, p=fx1)\n",
    "print(random_numbers_fx1_10)"
   ]
  },
  {
   "cell_type": "markdown",
   "id": "f4c65a16",
   "metadata": {},
   "source": [
    "Graficamos el reusltado para tamaño de muestra n=10"
   ]
  },
  {
   "cell_type": "code",
   "execution_count": 179,
   "id": "2ec1b958",
   "metadata": {},
   "outputs": [
    {
     "data": {
      "image/png": "[encoded data removed]",
      "text/plain": [
       "<Figure size 640x480 with 1 Axes>"
      ]
     },
     "metadata": {},
     "output_type": "display_data"
    }
   ],
   "source": [
    "plt.hist(random_numbers_fx1_10, bins=25, density=True)\n",
    "plt.xlabel('Random Numbers')\n",
    "plt.ylabel('Frequency')\n",
    "plt.title('Histogram of Random Numbers')\n",
    "plt.show()"
   ]
  },
  {
   "cell_type": "markdown",
   "id": "594410b4",
   "metadata": {},
   "source": [
    "Calculamos el promedio para tamaño de muestra n=10"
   ]
  },
  {
   "cell_type": "code",
   "execution_count": 180,
   "id": "a2f86763",
   "metadata": {},
   "outputs": [
    {
     "data": {
      "text/plain": [
       "0.5"
      ]
     },
     "execution_count": 180,
     "metadata": {},
     "output_type": "execute_result"
    }
   ],
   "source": [
    "import numpy as np\n",
    "\n",
    "average_random_numbers_fx1_10= round(np.mean(random_numbers_fx1_10),2)\n",
    "average_random_numbers_fx1_10"
   ]
  },
  {
   "cell_type": "code",
   "execution_count": 181,
   "id": "88c5992e",
   "metadata": {},
   "outputs": [
    {
     "ename": "SyntaxError",
     "evalue": "invalid syntax (388996276.py, line 1)",
     "output_type": "error",
     "traceback": [
      "\u001b[1;36m  File \u001b[1;32m\"C:\\Users\\sergi\\AppData\\Local\\Temp\\ipykernel_27736\\388996276.py\"\u001b[1;36m, line \u001b[1;32m1\u001b[0m\n\u001b[1;33m    Calculamos la varianza para tamaño de muestra n=10\u001b[0m\n\u001b[1;37m               ^\u001b[0m\n\u001b[1;31mSyntaxError\u001b[0m\u001b[1;31m:\u001b[0m invalid syntax\n"
     ]
    }
   ],
   "source": [
    "Calculamos la varianza para tamaño de muestra n=10"
   ]
  },
  {
   "cell_type": "code",
   "execution_count": 182,
   "id": "174466ee",
   "metadata": {},
   "outputs": [
    {
     "data": {
      "text/plain": [
       "8.2"
      ]
     },
     "execution_count": 182,
     "metadata": {},
     "output_type": "execute_result"
    }
   ],
   "source": [
    "import numpy as np\n",
    "\n",
    "variance_random_numbers_fx1_10= round(np.var(random_numbers_fx1_10),2)\n",
    "variance_random_numbers_fx1_10"
   ]
  },
  {
   "cell_type": "markdown",
   "id": "a11fe458",
   "metadata": {},
   "source": [
    "__Se generarán entonces los números para tamaño de muestra n=100__"
   ]
  },
  {
   "cell_type": "code",
   "execution_count": 183,
   "id": "e4a14319",
   "metadata": {},
   "outputs": [
    {
     "name": "stdout",
     "output_type": "stream",
     "text": [
      "[-5.   1.5  3.  -5.   1.5 -5.   3.   1.5 -5.   3.  -5.   1.5  1.5  1.\n",
      "  1.5  1.5 -5.   1.  -5.   1.   3.   1.   1.   1.5  1.5 -1.   3.   1.\n",
      "  1.5  3.   1.   3.  -5.   3.   1.5 -5.   1.   1.5 -5.   1.5  1.5  1.5\n",
      "  1.   1.5  1.5  3.   1.5  1.  -5.   1.   1.5  1.  -5.  -5.   3.   1.\n",
      " -5.   1.5  1.5  1.  -5.   1.   1.5  1.  -5.   1.   1.   1.   1.5 -5.\n",
      "  3.   1.5  3.   1.  -5.   1.5 -5.   1.   1.5  1.   3.   3.  -5.   1.5\n",
      "  1.5 -5.   1.5  1.5  1.5  3.   3.   1.5  3.   3.  -5.   3.   3.   1.5\n",
      "  1.   1. ]\n"
     ]
    }
   ],
   "source": [
    "random_numbers_fx1_100 = np.random.choice(x1, size=100, p=fx1)\n",
    "print(random_numbers_fx1_100)"
   ]
  },
  {
   "cell_type": "markdown",
   "id": "a72c6814",
   "metadata": {},
   "source": [
    "Graficamos el reusltado para tamaño de muestra n=100"
   ]
  },
  {
   "cell_type": "code",
   "execution_count": 184,
   "id": "3d6a200c",
   "metadata": {},
   "outputs": [
    {
     "data": {
      "image/png": "[encoded data removed]",
      "text/plain": [
       "<Figure size 640x480 with 1 Axes>"
      ]
     },
     "metadata": {},
     "output_type": "display_data"
    }
   ],
   "source": [
    "plt.hist(random_numbers_fx1_100, bins=25, density=True)\n",
    "plt.xlabel('Random Numbers')\n",
    "plt.ylabel('Frequency')\n",
    "plt.title('Histogram of Random Numbers')\n",
    "plt.show()"
   ]
  },
  {
   "cell_type": "markdown",
   "id": "0399d372",
   "metadata": {},
   "source": [
    "Calculamos el promedio para tamaño de muestra n=100"
   ]
  },
  {
   "cell_type": "code",
   "execution_count": 185,
   "id": "5880cd07",
   "metadata": {},
   "outputs": [
    {
     "data": {
      "text/plain": [
       "0.22"
      ]
     },
     "execution_count": 185,
     "metadata": {},
     "output_type": "execute_result"
    }
   ],
   "source": [
    "import numpy as np\n",
    "\n",
    "average_random_numbers_fx1_100= round(np.mean(random_numbers_fx1_100),2)\n",
    "average_random_numbers_fx1_100"
   ]
  },
  {
   "cell_type": "markdown",
   "id": "ddab865d",
   "metadata": {},
   "source": [
    "Calculamos la varianza para tamaño de muestra n=100"
   ]
  },
  {
   "cell_type": "code",
   "execution_count": 186,
   "id": "ef73d775",
   "metadata": {},
   "outputs": [
    {
     "data": {
      "text/plain": [
       "8.24"
      ]
     },
     "execution_count": 186,
     "metadata": {},
     "output_type": "execute_result"
    }
   ],
   "source": [
    "import numpy as np\n",
    "\n",
    "variance_random_numbers_fx1_100= round(np.var(random_numbers_fx1_100),2)\n",
    "variance_random_numbers_fx1_100"
   ]
  },
  {
   "cell_type": "markdown",
   "id": "eb3546ae",
   "metadata": {},
   "source": [
    "__Se generarán entonces los números para tamaño de muestra n=1000__"
   ]
  },
  {
   "cell_type": "code",
   "execution_count": 187,
   "id": "c52d186c",
   "metadata": {},
   "outputs": [
    {
     "name": "stdout",
     "output_type": "stream",
     "text": [
      "[ 3.  -5.   1.  -5.   1.5  1.   1.5 -5.  -5.   1.   1.5 -5.   1.5  3.\n",
      " -5.   1.   1.5  3.  -5.  -5.   1.   1.   1.5  1.5  1.5  1.   1.5 -5.\n",
      "  1.5  1.5 -5.  -5.   1.   1.5  1.5 -5.   1.5  1.   1.5  1.5  1.   1.\n",
      " -5.   1.5 -5.   1.   3.   1.  -1.   1.   1.5  3.   1.   1.   1.5  1.\n",
      "  1.5 -5.   3.  -5.   1.5  3.  -5.   3.   3.  -5.   1.   1.   1.5  1.\n",
      "  1.   1.  -5.  -1.  -5.  -5.   1.5 -5.  -5.  -1.   1.   3.   1.   1.\n",
      " -5.   1.5  1.   1.5  3.   3.   1.   1.  -5.   1.5 -1.   1.5  1.   1.5\n",
      "  3.   1.5 -5.  -5.  -5.   1.   1.5  1.   1.   3.   1.   1.  -5.   3.\n",
      "  1.5 -5.   1.  -5.   1.5  1.5 -5.   1.5  3.   1.  -5.   3.   1.5  1.5\n",
      "  3.   1.5  3.   1.   3.   1.  -5.  -5.   3.   3.   1.5  3.   1.5 -5.\n",
      "  3.  -5.   1.5 -1.   3.   3.  -5.   1.   1.5  1.5 -5.   1.5  3.   3.\n",
      "  1.5 -5.  -5.  -5.  -5.  -5.   3.   1.   3.   1.  -5.   3.  -5.   1.\n",
      " -5.  -5.   1.   1.   1.   1.   1.  -1.  -5.   1.5 -5.   1.5  1.   1.5\n",
      "  1.5  1.   1.   1.5 -5.   1.  -5.  -5.   1.5  1.5 -5.  -5.   3.   1.\n",
      "  1.  -5.   3.   1.   1.  -5.   1.5  1.5  1.5  3.   1.   1.  -5.  -5.\n",
      " -5.  -5.   3.   1.5  3.   1.5 -5.  -5.   3.   3.   1.5  1.5  1.   1.\n",
      " -5.  -5.   1.   1.5  1.  -5.   1.5  3.   1.5  1.5  1.   1.   1.   1.5\n",
      "  3.   3.   1.   1.   3.   3.   1.5  3.   3.   1.5  1.   1.   1.   1.5\n",
      "  1.5  1.5  1.   1.   3.  -5.   1.5  3.   1.   1.5  1.   1.5  1.   1.\n",
      "  1.5  1.   1.5  1.   1.5  1.5 -5.   1.5  1.   1.   1.5  3.  -5.   1.5\n",
      " -5.   1.  -5.   1.5  1.5  3.   1.   1.5  1.5  1.5  1.5  3.   1.5  3.\n",
      "  3.  -5.   1.  -5.   1.   1.   1.5  3.   1.5  3.   1.5 -5.   3.   1.5\n",
      "  3.   3.   1.5  1.5  1.5  1.   1.5 -5.   1.  -5.   3.  -5.   1.   1.5\n",
      " -5.   1.5  1.5  1.   1.5  3.   1.5 -5.   1.5  1.  -5.   1.5  1.5  1.5\n",
      "  1.5  1.   1.  -5.   1.   3.   1.5  1.5  1.  -5.  -5.   1.5  1.   3.\n",
      "  3.   1.   1.  -5.   1.5 -5.   1.   3.   1.   1.   1.5 -5.   3.   1.\n",
      "  1.5  1.5  1.5 -5.   3.   1.  -5.  -5.  -5.   3.   1.   1.5  3.   1.5\n",
      "  3.   1.   1.5  3.   1.5  3.   1.5  3.   3.   1.   1.5  1.   1.5  1.\n",
      "  1.5  3.   3.   1.   1.   1.   3.   3.   1.5  3.   1.5  1.   1.5 -5.\n",
      " -5.   1.5  1.   3.  -5.  -5.   1.   1.   1.  -5.   3.   1.5  1.5  1.\n",
      "  1.   1.5  3.   1.5 -5.  -5.   1.   3.   1.5  1.  -5.  -5.  -5.   1.\n",
      "  3.  -5.  -5.  -5.   3.   1.   1.   1.  -5.   1.5 -5.   3.   1.5  1.\n",
      "  1.5  1.5  1.5  3.  -5.   1.  -5.   3.   1.   1.5  3.   1.   1.   3.\n",
      " -5.   3.   1.5  1.5 -5.   3.   1.   1.5  1.   1.5  1.5  1.   1.   1.\n",
      " -5.   3.   1.   1.5  1.5  1.  -5.   1.5 -5.   3.   3.   1.5  1.   3.\n",
      "  1.5  1.5 -1.   1.  -5.   1.5 -5.  -5.   3.   1.5  1.   1.5  1.   1.\n",
      "  1.5  1.5  3.  -5.   1.   1.5 -5.   1.   1.5  1.   3.   1.  -5.   1.5\n",
      "  3.   1.5  1.  -5.   1.   1.   3.   3.   1.   1.5  1.5 -5.   1.   3.\n",
      " -5.  -5.  -5.   1.   1.  -5.   1.5  1.   1.5  3.   1.  -5.   1.5  1.5\n",
      "  1.5 -5.   3.  -5.   3.  -5.   3.   1.5  3.   1.5  1.5  1.5 -5.   1.5\n",
      " -5.   1.5 -5.   1.   1.5  1.5  1.   1.5  1.5  1.5  1.5  1.5  1.  -5.\n",
      "  1.5  1.   1.  -5.   1.5  1.   3.   1.5  1.5  1.5 -5.   1.   1.5  3.\n",
      "  1.5  1.   1.   1.  -5.   1.5  3.  -5.   1.   1.5 -5.   1.5 -5.   1.5\n",
      "  1.   3.   1.5 -5.   1.  -5.  -5.   1.5  1.  -5.   1.5  3.   1.   3.\n",
      " -5.   1.   1.5  1.   1.  -5.  -5.   3.   1.   1.5 -5.   1.5  1.5  1.5\n",
      "  1.5  1.   1.5  1.  -5.   1.   1.5  1.  -5.   1.5  1.   3.  -5.  -5.\n",
      "  1.5  1.   1.5  1.   3.   1.   1.5  1.  -5.   1.   1.5 -1.   1.5  1.\n",
      "  3.   1.5  3.   1.  -5.   1.   1.   3.   1.5  1.5  1.   1.  -5.  -5.\n",
      "  1.5  3.   1.   3.  -5.   1.5  1.5  1.   3.  -5.   1.5 -5.   1.   1.\n",
      "  1.5  1.   1.5  1.5  3.   1.5 -5.   3.   1.5 -5.   1.5  1.   1.5  1.\n",
      "  3.   1.5 -5.   3.   1.5  1.5  1.5  1.   3.   1.   1.   3.   1.   1.5\n",
      " -5.   1.   1.  -5.   1.   1.   1.5 -5.   3.   1.   1.   3.   1.5  1.\n",
      "  3.   1.   3.   1.   1.  -5.   1.5  1.5  1.   1.5  1.5  1.5 -5.   3.\n",
      "  1.5  3.   1.5 -5.   1.5  1.5  3.  -5.   1.5  1.5  1.  -5.   1.5  1.5\n",
      "  1.   3.   1.   1.5  1.5  3.   1.   1.  -5.   3.   1.5  1.5  1.   3.\n",
      " -1.   1.   1.   1.5 -5.  -5.   1.5  3.   3.  -5.   1.   3.   3.  -5.\n",
      "  1.  -5.   1.   1.5 -5.   1.  -5.  -5.   3.   3.   3.   1.5  1.5  1.5\n",
      "  1.   3.  -5.   1.5  3.   1.5  1.5  1.   1.5  1.5  1.   1.5  1.5  3.\n",
      " -1.   3.   1.   1.   1.   3.   3.  -5.  -5.   1.   1.5 -5.   1.5  1.5\n",
      "  1.   1.  -5.   1.5 -5.   1.5  1.   1.   3.  -5.   3.   1.5 -5.   1.\n",
      " -1.   1.   1.5  3.  -5.   1.   1.  -5.   1.5  1.   1.5 -5.  -5.  -5.\n",
      " -5.  -5.   1.5  1.5  1.   1.5  1.5  1.5  3.   3.  -5.   1.  -5.   3.\n",
      " -5.   3.   1.  -5.  -5.   1.  -5.   1.5  3.   3.   1.5 -5.   1.   1.5\n",
      "  3.   1.  -5.   1.5  1.5  1.   3.   3.  -1.   1.   1.5  1.5  3.   1.5\n",
      "  1.5  1.   1.5  1.   1.   1.5  3.   1.5  1.  -5.   1.5  1.   1.   3.\n",
      "  3.   1.5  1.   1.5  1.   1.   1.5  3.   1.5  1.5  1.5  1.   1.   3.\n",
      "  1.  -5.   1.  -5.  -5.   1.   1.5  3.   1.5  1.   1.  -5.   1.5  3.\n",
      "  1.5 -5.   1.   3.   1.  -1.   1.   3.   1.   1.5  1.   1.  -5.  -5.\n",
      "  1.5  3.   1.5  1.   3.   1.5  1.   3.   1.  -5.   3.   1.5  1.   1.\n",
      " -5.   1.   1.  -5.   3.   3.   1.5 -5.   1.   1.5  1.   1.   3.   1.\n",
      "  1.   1.5 -5.  -5.  -5.   1.   1.   1.5 -5.   1.   3.   1.   1.5  3.\n",
      " -5.   1.   3.  -5.  -5.  -5. ]\n"
     ]
    }
   ],
   "source": [
    "random_numbers_fx1_1000 = np.random.choice(x1, size=1000, p=fx1)\n",
    "print(random_numbers_fx1_1000)"
   ]
  },
  {
   "cell_type": "markdown",
   "id": "fd915bcf",
   "metadata": {},
   "source": [
    "Graficamos el reusltado para tamaño de muestra n=1000"
   ]
  },
  {
   "cell_type": "code",
   "execution_count": 188,
   "id": "2d02fb4e",
   "metadata": {},
   "outputs": [
    {
     "data": {
      "image/png": "[encoded data removed]",
      "text/plain": [
       "<Figure size 640x480 with 1 Axes>"
      ]
     },
     "metadata": {},
     "output_type": "display_data"
    }
   ],
   "source": [
    "plt.hist(random_numbers_fx1_1000, bins=25, density=True)\n",
    "plt.xlabel('Random Numbers')\n",
    "plt.ylabel('Frequency')\n",
    "plt.title('Histogram of Random Numbers')\n",
    "plt.show()"
   ]
  },
  {
   "cell_type": "markdown",
   "id": "043fa187",
   "metadata": {},
   "source": [
    "Calculamos el promedio para tamaño de muestra n=1000"
   ]
  },
  {
   "cell_type": "code",
   "execution_count": 189,
   "id": "35b2b095",
   "metadata": {},
   "outputs": [
    {
     "data": {
      "text/plain": [
       "0.17"
      ]
     },
     "execution_count": 189,
     "metadata": {},
     "output_type": "execute_result"
    }
   ],
   "source": [
    "import numpy as np\n",
    "\n",
    "average_random_numbers_fx1_1000= round(np.mean(random_numbers_fx1_1000),2)\n",
    "average_random_numbers_fx1_1000"
   ]
  },
  {
   "cell_type": "markdown",
   "id": "0c0ceb52",
   "metadata": {},
   "source": [
    "Calculamos la varianza para tamaño de muestra n=1000"
   ]
  },
  {
   "cell_type": "code",
   "execution_count": 190,
   "id": "17facc66",
   "metadata": {},
   "outputs": [
    {
     "data": {
      "text/plain": [
       "8.09"
      ]
     },
     "execution_count": 190,
     "metadata": {},
     "output_type": "execute_result"
    }
   ],
   "source": [
    "import numpy as np\n",
    "\n",
    "variance_random_numbers_fx1_1000= round(np.var(random_numbers_fx1_1000),2)\n",
    "variance_random_numbers_fx1_1000"
   ]
  },
  {
   "cell_type": "code",
   "execution_count": null,
   "id": "b09cc94c",
   "metadata": {},
   "outputs": [],
   "source": []
  }
 ],
 "metadata": {
  "kernelspec": {
   "display_name": "Python 3 (ipykernel)",
   "language": "python",
   "name": "python3"
  },
  "language_info": {
   "codemirror_mode": {
    "name": "ipython",
    "version": 3
   },
   "file_extension": ".py",
   "mimetype": "text/x-python",
   "name": "python",
   "nbconvert_exporter": "python",
   "pygments_lexer": "ipython3",
   "version": "3.9.13"
  }
 },
 "nbformat": 4,
 "nbformat_minor": 5
}
