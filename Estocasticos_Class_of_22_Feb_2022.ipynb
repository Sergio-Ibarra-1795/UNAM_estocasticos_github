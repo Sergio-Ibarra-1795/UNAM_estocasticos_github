{
 "cells": [
  {
   "cell_type": "markdown",
   "id": "dc7e8340",
   "metadata": {},
   "source": [
    "## Maestria en Ing. de Sistemas UNAM- Procesos estocásticos . Dra: Patricia Aguilar\n",
    "## Alumno: Sergio Ibarra R (414025796)\n",
    "## Clase del 22 Febrero de 2023"
   ]
  },
  {
   "cell_type": "markdown",
   "id": "5c61098a",
   "metadata": {},
   "source": [
    "### Sigamos viendo el tema de generación de números aleatorios "
   ]
  },
  {
   "cell_type": "markdown",
   "id": "7ac90e80",
   "metadata": {},
   "source": [
    "Pensando en la generaicón de número aleatoriios con una distribución dada<br>\n",
    "Por ejemeplo el método Monte Carlo que asume que \" a la larga\" existe una \"convergencia\" en los valores obtenidos "
   ]
  },
  {
   "cell_type": "markdown",
   "id": "47567e86",
   "metadata": {},
   "source": [
    "Piensese el caso de generación de números aleatorios con una distribucón uniforme que como es una probabilidad acumulada, toma valores [0,1]. Ahora dada la distribución para no tener un sesgo. Generamos números aleatorios que CORRESPONDAN A LOS VALORES DE LA VARIABLE ALEATORIO A X, para al momento de \"regresar\" a la variable aleatoria se haga átravés de los \"valores simulados\" "
   ]
  },
  {
   "cell_type": "code",
   "execution_count": 1,
   "id": "14d7f016",
   "metadata": {},
   "outputs": [
    {
     "data": {
      "text/plain": [
       "[-5, -1, 1, 1.5, 3]"
      ]
     },
     "execution_count": 1,
     "metadata": {},
     "output_type": "execute_result"
    }
   ],
   "source": [
    "x1 = [-5,-1,1,1.5,3]\n",
    "x1"
   ]
  },
  {
   "cell_type": "code",
   "execution_count": 3,
   "id": "a262a937",
   "metadata": {},
   "outputs": [
    {
     "data": {
      "text/plain": [
       "[0.2, 0.01, 0.3, 0.29, 0.2]"
      ]
     },
     "execution_count": 3,
     "metadata": {},
     "output_type": "execute_result"
    }
   ],
   "source": [
    "fx1 =  [0.2,0.01,0.3,0.29,0.2]\n",
    "fx1 "
   ]
  },
  {
   "cell_type": "markdown",
   "id": "f92119b5",
   "metadata": {},
   "source": [
    "En la vez anterior se definió que s eiba  generar los números aleatorios con una FUNCIÓN DE DISTRIBUCIÓN UNIFORME, ES DECIR QUE TODOS LOS VALORES TIENE LA MISMA PROBABILIDAD  DE SER TOMADSO<br>\n",
    "(Esta equivaldría por ejemplo a la dsitribcuión de lanzar un dado de 6 caras)"
   ]
  },
  {
   "cell_type": "markdown",
   "id": "9443b38c",
   "metadata": {},
   "source": [
    "Para generar los números aleatoros s la Dra lo hizo desde Excel a partir de la distribución dada\n",
    "Dice la doctora que lo hizo con \"el método de la función inversa\" "
   ]
  },
  {
   "cell_type": "markdown",
   "id": "e40a1ef7",
   "metadata": {},
   "source": [
    "__I asked to chat gpt3__"
   ]
  },
  {
   "cell_type": "markdown",
   "id": "dade9097",
   "metadata": {},
   "source": [
    "I have in Python a random variable called x1, defined as x1 = [-5,-1,1,1.5,3] and it´s \"probability distribution function values defined as fx1 as fx1 =  [0.2,0.01,0.3,0.29,0.2]. Can you show me a code in Python to generate 1000 random numbers \"based on that probability function\" ? "
   ]
  },
  {
   "cell_type": "code",
   "execution_count": 10,
   "id": "5a017ce7",
   "metadata": {},
   "outputs": [],
   "source": [
    "from random import random \n",
    "import numpy as np\n",
    "import matplotlib.pyplot as plt"
   ]
  },
  {
   "cell_type": "code",
   "execution_count": 9,
   "id": "c7ee61e0",
   "metadata": {},
   "outputs": [
    {
     "name": "stdout",
     "output_type": "stream",
     "text": [
      "[ 1.5  3.   1.5  3.   1.5  1.  -5.   1.   3.   1.  -5.   1.5  1.   1.5\n",
      "  3.   3.   1.   1.   1.5  3.  -1.  -5.   1.   3.   3.   1.5  3.   3.\n",
      " -5.   1.   1.5  3.   1.5 -5.   1.5  1.5  1.5  3.   1.5  1.   1.   1.\n",
      "  1.5 -5.   3.  -5.   1.5 -5.  -5.   1.   3.   1.5  1.5  1.5  3.   3.\n",
      "  1.5  1.5 -5.   3.   1.   1.5  3.   3.   3.  -5.   1.  -5.   1.5  1.5\n",
      "  1.5  1.5  1.   1.   3.   1.5  1.   1.   3.   1.5  1.   3.  -5.  -5.\n",
      "  3.  -5.   1.5  1.   1.5  1.  -5.   1.   1.   3.   1.   3.   1.   1.\n",
      "  1.5  1.5  3.   1.5  1.5 -5.   1.5  1.   1.   1.   1.5  1.   1.   3.\n",
      " -5.   3.   3.   1.  -5.   3.   1.   3.   1.   1.5  1.5 -5.   3.  -5.\n",
      "  1.5  3.   1.   1.5 -5.   1.  -5.   1.5  1.   3.   3.   1.5  1.   3.\n",
      " -5.   1.5  1.   1.   1.   1.5 -1.  -5.   3.   1.5  1.  -5.   1.   3.\n",
      "  1.5  1.   1.5  1.5  3.   1.5  1.5 -5.   1.   1.  -5.   1.5  3.   3.\n",
      "  1.  -5.  -5.   1.   1.5 -5.  -5.   1.5  1.   1.   3.   1.5  3.  -5.\n",
      "  3.   3.   3.   1.5  1.  -5.   1.   1.5  3.   1.5  1.5  1.5 -1.   3.\n",
      " -5.   1.5  3.   1.   1.5  1.   1.  -5.   1.5  1.   1.   1.   1.   1.5\n",
      "  1.   1.   1.5  1.   1.  -5.   1.5  3.   1.5  1.   1.  -5.  -5.   1.\n",
      " -5.  -5.   1.5  1.5  1.   1.   1.   1.   1.5  1.  -5.   1.5  3.   1.5\n",
      "  1.5 -5.   1.5  1.  -5.   1.   1.5  1.  -5.   1.5  1.5  3.   1.   1.\n",
      " -5.   1.5  1.5  1.5  1.  -5.  -5.   1.   1.  -5.   1.   1.   1.   3.\n",
      "  1.5  1.   3.   1.   1.   1.  -5.   3.   1.5  3.  -5.   1.5  3.   3.\n",
      "  1.5  1.5  3.   1.   1.   1.5  1.  -5.   1.   1.   1.   1.5  3.   1.5\n",
      "  1.5  1.5 -5.  -5.   1.  -5.   1.5  1.5  1.   1.5 -5.   3.   1.   1.\n",
      " -5.   1.5  1.5  1.5  3.   1.5  1.   1.   3.  -5.   1.   1.  -5.   1.5\n",
      "  1.   1.5  3.   3.   1.5  1.5  1.5 -5.  -5.  -5.   1.   1.   1.   3.\n",
      "  1.5  1.   3.   1.   1.   3.   3.   1.   1.   1.   1.5  1.   3.  -5.\n",
      "  3.   3.   1.5 -5.  -5.   1.5  1.5  1.5 -5.  -5.   3.   1.  -5.   1.5\n",
      "  1.5  3.   1.5  1.  -5.  -5.   3.   1.   1.5  1.5  1.   1.   1.5  3.\n",
      " -5.   1.   1.5  1.5  1.   1.5  3.   1.5  1.5  1.  -5.  -5.   1.5  3.\n",
      "  1.   1.5  1.5  1.   3.   1.5  1.5  1.5  1.5  1.5 -5.   1.5  3.  -5.\n",
      "  1.   1.   1.5  1.   1.5  1.5  1.5  1.  -1.   1.   1.5 -5.   1.5  1.\n",
      " -5.   3.   1.  -5.   1.  -5.   3.   1.5  1.5  1.5  1.  -5.   1.5 -1.\n",
      " -5.   1.   1.5  1.   1.   1.   1.5  1.5  3.  -1.   1.5  1.   1.   1.\n",
      "  3.   1.   1.   1.   1.  -5.   1.   3.   3.   1.   1.   1.   1.5 -1.\n",
      "  1.   1.5  1.5  1.   1.5  1.5 -5.  -5.   1.   1.5  1.   1.5  1.5  1.\n",
      "  1.5  1.5  1.5  1.  -5.   3.   1.5  1.   1.5 -5.   1.5  1.5 -5.  -5.\n",
      "  3.   3.   3.  -5.  -5.  -5.   1.5  1.5  1.  -5.  -5.   1.5  1.5 -5.\n",
      " -5.   1.   1.   1.5  3.   3.  -5.   3.   3.   3.  -5.   1.   1.  -5.\n",
      "  3.  -5.   1.5  3.   1.5  1.   1.   1.   1.   1.5  3.   1.5  1.5  1.5\n",
      "  1.   1.   3.   1.   1.   1.5  1.  -5.   1.5 -5.  -5.   1.5  1.5  3.\n",
      " -5.   1.5  1.5  1.5  1.  -5.   1.   3.   1.   1.5  1.  -5.   1.5 -5.\n",
      " -5.   1.  -5.   1.5  1.   3.   1.   3.   1.5 -5.   1.   1.5  1.5  1.5\n",
      "  1.   1.   1.  -5.   3.   3.  -5.   1.5  1.   3.  -5.  -5.   1.5  1.5\n",
      "  1.   3.   3.   1.  -1.   1.5  1.   1.   1.   1.   3.  -5.   1.5  1.\n",
      " -1.   1.   1.5  1.   3.   3.   1.   3.   1.5  1.   1.  -5.   1.   1.\n",
      "  1.   3.   1.   1.5  1.5 -5.   3.   1.   3.  -5.   3.   1.  -5.   3.\n",
      "  1.   3.   1.   3.   1.   3.   1.   1.5  1.   1.5  1.5  1.   1.  -5.\n",
      "  1.   1.5  3.   1.5  1.5  1.5  1.5  1.5 -5.  -5.  -1.   1.5 -5.  -5.\n",
      "  1.   1.5  1.   1.   1.   3.   1.   1.5  1.5  3.  -5.   1.5  1.   1.\n",
      "  1.5  1.  -5.  -5.   1.   1.5  1.   3.  -5.   1.   1.5 -1.  -5.  -5.\n",
      "  1.  -5.   1.  -5.   1.5  3.  -1.   1.   1.  -1.  -5.   1.5  1.  -5.\n",
      "  3.   1.   1.5  1.   3.   3.   3.   1.5 -5.   3.   1.5 -5.   1.5  3.\n",
      "  1.   1.5  1.  -5.  -5.   1.   3.   3.   3.   1.   1.  -5.   1.5  1.5\n",
      "  1.   1.5  1.   3.  -5.   1.   3.   1.   1.  -5.  -5.   3.   1.5  3.\n",
      "  1.   1.   1.  -5.   3.   1.5  1.   1.  -5.   3.   1.   1.  -5.   3.\n",
      " -5.   1.   1.   1.   1.5  3.  -5.   1.   1.5  1.   1.5 -5.   1.   1.5\n",
      " -5.   1.   1.   1.   1.5  3.   3.   1.  -5.  -5.   1.  -5.  -5.   1.\n",
      "  3.   1.   1.  -5.  -5.   1.   1.5  1.   1.5  1.5  3.   1.5  1.5 -5.\n",
      "  3.  -5.   1.   1.   1.   1.  -5.   1.   3.  -5.  -5.   1.5  1.   3.\n",
      "  1.   1.   1.5  1.   3.   1.5  1.5  1.   1.5 -5.   1.5 -5.   1.   1.\n",
      "  1.   1.5 -5.   3.   1.   3.   1.   3.   1.5  1.5  1.  -5.   1.   1.\n",
      "  1.   3.   1.5 -5.   1.  -5.   3.   1.5 -5.  -5.   1.5 -5.   1.   1.5\n",
      "  1.   1.   1.5 -5.   1.   1.  -5.  -5.   3.   1.5  1.   1.  -5.  -5.\n",
      "  1.   1.   1.5  1.   1.   1.5  1.  -5.  -5.   1.   1.5  1.   3.   3.\n",
      "  1.5  3.  -5.   3.   3.  -5.   1.5 -5.  -5.   3.   1.   1.  -5.   1.5\n",
      " -5.   1.   3.   1.  -5.   1.   1.5  1.5  1.  -5.   1.5  1.   1.5 -5.\n",
      " -5.   1.   1.5 -5.  -5.   1.   1.  -1.   1.5 -5.   1.   3.   1.   3.\n",
      "  1.5  1.   3.  -5.   3.  -5.   1.   1.5 -5.   1.   3.  -5.   1.5 -5.\n",
      "  3.   1.5  1.5 -5.  -5.   3.  -5.   1.   1.   1.5  1.   1.   1.5  3.\n",
      "  1.  -5.   1.5  3.   1.5 -5.   1.5  1.   1.   1.5  1.5  1.   1.5 -5.\n",
      "  1.5  3.   3.  -5.  -5.   1.  -5.   1.   1.5 -5.  -5.  -5.   1.   3.\n",
      " -5.   1.5  1.   1.5  1.   1.   1.5  1.   1.   1.5  1.5  1.   1.5  3.\n",
      "  1.5  1.5  3.   1.   1.   1.5]\n"
     ]
    }
   ],
   "source": [
    "random_numbers_fx1_1000 = np.random.choice(x1, size=1000, p=fx1)\n",
    "print(random_numbers_fx1_1000)"
   ]
  },
  {
   "cell_type": "code",
   "execution_count": 11,
   "id": "cd3df45e",
   "metadata": {},
   "outputs": [
    {
     "data": {
      "image/png": "[encoded data removed]",
      "text/plain": [
       "<Figure size 640x480 with 1 Axes>"
      ]
     },
     "metadata": {},
     "output_type": "display_data"
    }
   ],
   "source": [
    "plt.hist(random_numbers_fx1_1000, bins=25, density=True)\n",
    "plt.xlabel('Random Numbers')\n",
    "plt.ylabel('Frequency')\n",
    "plt.title('Histogram of Random Numbers')\n",
    "plt.show()"
   ]
  },
  {
   "cell_type": "markdown",
   "id": "48922c67",
   "metadata": {},
   "source": [
    "__Generando los mismo random numbers, pero 10,000 veces__"
   ]
  },
  {
   "cell_type": "code",
   "execution_count": 12,
   "id": "cd13b603",
   "metadata": {},
   "outputs": [],
   "source": [
    "random_numbers_fx1_10000 = np.random.choice(x1, size=10000, p=fx1)\n"
   ]
  },
  {
   "cell_type": "markdown",
   "id": "12c2db31",
   "metadata": {},
   "source": [
    "Plteando el resultado de las \"10 mil somulaciones\""
   ]
  },
  {
   "cell_type": "code",
   "execution_count": 13,
   "id": "8982391f",
   "metadata": {},
   "outputs": [
    {
     "data": {
      "image/png": "[encoded data removed]",
      "text/plain": [
       "<Figure size 640x480 with 1 Axes>"
      ]
     },
     "metadata": {},
     "output_type": "display_data"
    }
   ],
   "source": [
    "plt.hist(random_numbers_fx1_10000, bins=25, density=True)\n",
    "plt.xlabel('Random Numbers')\n",
    "plt.ylabel('Frequency')\n",
    "plt.title('Histogram of Random Numbers')\n",
    "plt.show()"
   ]
  },
  {
   "cell_type": "markdown",
   "id": "7d365ee4",
   "metadata": {},
   "source": [
    "Entonces al moemto hemos generado números aleatorios con una DISTRVUION NIFORME ENTE [0,1] QUE SE IGUALA CON LA FUNCIÓN DE DISTRIBCUIÓN Y DADA EA IGUAL DAD SE TIENE AHOR AUNE ACUIÓN PARA LA V.A QUE NOS INTERESA SIMULAR"
   ]
  },
  {
   "cell_type": "markdown",
   "id": "cacd9750",
   "metadata": {},
   "source": [
    "Es decir:<br> \n",
    "    Paso1: Generar n números aleatorios entre [0,1] <Existen \"métodos\" para generar estos números aletorios ue parten de \"una semilla\" y \"una experisión para generalos\" <br>\n",
    "    Paso2: Igualamos la fujción de distribcuión con ese número aletorio:<br>\n",
    "           <br>\n",
    "            Fx(x1)=randomi \n",
    "           <br>\n",
    "    Paso3: Resolver la exación del paso 2 para xi   \n",
    "    "
   ]
  },
  {
   "cell_type": "markdown",
   "id": "1f005de4",
   "metadata": {},
   "source": [
    "Nota: Cuando se habla de distribción se puede saber si es una fucnión de distribción o una fución de densidad (continua) o porbabilidad (discreta)"
   ]
  },
  {
   "cell_type": "code",
   "execution_count": null,
   "id": "917e02fe",
   "metadata": {},
   "outputs": [],
   "source": []
  },
  {
   "cell_type": "markdown",
   "id": "0dd953e1",
   "metadata": {},
   "source": [
    "### Ahora veamos el caso de la generación de números aleatorios pero con una dsitribución de tipo continua"
   ]
  },
  {
   "cell_type": "code",
   "execution_count": 16,
   "id": "7e9efcc9",
   "metadata": {},
   "outputs": [
    {
     "ename": "SyntaxError",
     "evalue": "invalid syntax (1576741461.py, line 1)",
     "output_type": "error",
     "traceback": [
      "\u001b[1;36m  File \u001b[1;32m\"C:\\Users\\sergi\\AppData\\Local\\Temp\\ipykernel_16484\\1576741461.py\"\u001b[1;36m, line \u001b[1;32m1\u001b[0m\n\u001b[1;33m    k =\u001b[0m\n\u001b[1;37m       ^\u001b[0m\n\u001b[1;31mSyntaxError\u001b[0m\u001b[1;31m:\u001b[0m invalid syntax\n"
     ]
    }
   ],
   "source": [
    "k =\n",
    "k"
   ]
  },
  {
   "cell_type": "code",
   "execution_count": null,
   "id": "67d504be",
   "metadata": {},
   "outputs": [],
   "source": []
  },
  {
   "cell_type": "code",
   "execution_count": null,
   "id": "bf488d47",
   "metadata": {},
   "outputs": [],
   "source": []
  },
  {
   "cell_type": "code",
   "execution_count": null,
   "id": "fb57efe8",
   "metadata": {},
   "outputs": [],
   "source": []
  },
  {
   "cell_type": "markdown",
   "id": "0e583636",
   "metadata": {},
   "source": [
    "Considere los eventos excluyentes A1 y A2 cuyas probabilidades son, respectivamente, 0.40 y 0.60. Se sabe también que si B es otro evento, P(B|A1) = 0.20 y P(B|A2) = 0.05. Calcule\n",
    "P(B), P(A1|B) y P(A2|B)."
   ]
  },
  {
   "cell_type": "markdown",
   "id": "d3ab91f6",
   "metadata": {},
   "source": [
    "De la ecuación de probabilidad condicional tenemos: \n",
    "$$p(A|B)= \\frac{p(A\\cap B)}{p(B)}$$   "
   ]
  },
  {
   "cell_type": "markdown",
   "id": "a47842d4",
   "metadata": {},
   "source": [
    "ó expresado de otra forma: \n",
    "    $$ p(A\\cap B) = p(A|B)*p(B)$$"
   ]
  },
  {
   "cell_type": "markdown",
   "id": "b1f4ac3b",
   "metadata": {},
   "source": [
    "Para nuestro caso tenemos:  \n",
    "    \n",
    "$p(B|A1)= \\frac{p(B\\cap A1)}{p(A1)}$ .... (ec 1)\n",
    "    "
   ]
  },
  {
   "cell_type": "markdown",
   "id": "e4358209",
   "metadata": {},
   "source": [
    "Por lo tanto, tenemos que: $p(B\\cap A1) = p(B|A1)*p(A1)$ ..(ec 1.1). \n",
    "\n",
    "\n",
    "Entonces:  $p(B\\cap A1) = 0.2*0.4=0.08$"
   ]
  },
  {
   "cell_type": "markdown",
   "id": "15ca5cee",
   "metadata": {},
   "source": [
    "##### Definamos los datos que tenemos "
   ]
  },
  {
   "cell_type": "code",
   "execution_count": 96,
   "id": "d752c821",
   "metadata": {},
   "outputs": [],
   "source": [
    "pA1 = 0.4\n",
    "pA2 = 0.6\n",
    "pB_dadoA1 = 0.2\n",
    "pB_dadoA2 = 0.05\n"
   ]
  },
  {
   "cell_type": "markdown",
   "id": "c367c74f",
   "metadata": {},
   "source": [
    "##### Calculemos las probabilidades de las intersecciones de los elementos Ai (exhaustivos en unión al espacio muestral) con el elemento B"
   ]
  },
  {
   "cell_type": "code",
   "execution_count": 97,
   "id": "8d8b94b5",
   "metadata": {},
   "outputs": [
    {
     "data": {
      "text/plain": [
       "0.08000000000000002"
      ]
     },
     "execution_count": 97,
     "metadata": {},
     "output_type": "execute_result"
    }
   ],
   "source": [
    "pB_intA1 = pB_dadoA1*pA1\n",
    "pB_intA1"
   ]
  },
  {
   "cell_type": "markdown",
   "id": "385bf72f",
   "metadata": {},
   "source": [
    "Y por lo tanto la $p(B\\cap A2) = p(B|A2)*p(A2)=$"
   ]
  },
  {
   "cell_type": "code",
   "execution_count": 98,
   "id": "7e6dafb1",
   "metadata": {},
   "outputs": [
    {
     "data": {
      "text/plain": [
       "0.03"
      ]
     },
     "execution_count": 98,
     "metadata": {},
     "output_type": "execute_result"
    }
   ],
   "source": [
    "pB_intA2 = pB_dadoA2*pA2\n",
    "pB_intA2"
   ]
  },
  {
   "cell_type": "markdown",
   "id": "6c7fad39",
   "metadata": {},
   "source": [
    "##### Calculemos la probabilidad de B usando la \"Fórmula de la probabilidad Total\""
   ]
  },
  {
   "cell_type": "markdown",
   "id": "c0a84091",
   "metadata": {},
   "source": [
    "Ahora, utilizando la definición de la \"Fórmula de la probabilidad Total\" que indica: Sean A1 y A2 una partición colectivamente exhaustiva del espacio muestral S y sea B otro evento, entonces:"
   ]
  },
  {
   "cell_type": "markdown",
   "id": "f7cb6936",
   "metadata": {},
   "source": [
    "$$p(B)= p(B\\cap A1)\\cup p(B\\cap A2)$$ "
   ]
  },
  {
   "cell_type": "markdown",
   "id": "3aa283fc",
   "metadata": {},
   "source": [
    "En nuestro caso:"
   ]
  },
  {
   "cell_type": "code",
   "execution_count": 100,
   "id": "5f071da4",
   "metadata": {},
   "outputs": [
    {
     "data": {
      "text/plain": [
       "0.11000000000000001"
      ]
     },
     "execution_count": 100,
     "metadata": {},
     "output_type": "execute_result"
    }
   ],
   "source": [
    "pB =  pB_intA1 + pB_intA2\n",
    "pB"
   ]
  },
  {
   "cell_type": "markdown",
   "id": "35616566",
   "metadata": {},
   "source": [
    "##### Calculemos de nuevo las probabilidades condicionales, pero asumuendo que B es quien es el \"evento seguro\""
   ]
  },
  {
   "cell_type": "markdown",
   "id": "9a280aec",
   "metadata": {},
   "source": [
    "Entonces para calcular $p(A1|B)$, tenemos: "
   ]
  },
  {
   "cell_type": "markdown",
   "id": "97fbdd5d",
   "metadata": {},
   "source": [
    "$$p(A1|B)= \\frac{p(A1\\cap B)}{p(B)}$$"
   ]
  },
  {
   "cell_type": "code",
   "execution_count": 101,
   "id": "76d1e060",
   "metadata": {},
   "outputs": [
    {
     "data": {
      "text/plain": [
       "0.7272727272727273"
      ]
     },
     "execution_count": 101,
     "metadata": {},
     "output_type": "execute_result"
    }
   ],
   "source": [
    "pA1_dadoB = pB_intA1/pB\n",
    "pA1_dadoB"
   ]
  },
  {
   "cell_type": "markdown",
   "id": "f1cdb541",
   "metadata": {},
   "source": [
    "y tambien tenemos que $p(A2|B)$ es:"
   ]
  },
  {
   "cell_type": "markdown",
   "id": "93f885b4",
   "metadata": {},
   "source": [
    "$$p(A2|B)= \\frac{p(A2\\cap B)}{p(B)}$$"
   ]
  },
  {
   "cell_type": "code",
   "execution_count": 102,
   "id": "4a741b3d",
   "metadata": {},
   "outputs": [
    {
     "data": {
      "text/plain": [
       "0.2727272727272727"
      ]
     },
     "execution_count": 102,
     "metadata": {},
     "output_type": "execute_result"
    }
   ],
   "source": [
    "pA2_dadoB = pB_intA2/pB\n",
    "pA2_dadoB"
   ]
  },
  {
   "cell_type": "code",
   "execution_count": null,
   "id": "6c80edca",
   "metadata": {},
   "outputs": [],
   "source": []
  },
  {
   "cell_type": "markdown",
   "id": "7a54eca6",
   "metadata": {},
   "source": [
    "### Problema 2"
   ]
  },
  {
   "cell_type": "markdown",
   "id": "8fb09db3",
   "metadata": {},
   "source": [
    "Cooper Realty es una pequeña compañía de bienes raíces ubicada en Albany, Nueva York, que\n",
    "se especializa principalmente en listados residenciales. Recientemente se interesó en determinar\n",
    "la probabilidad de que uno de sus listados se vendiera en cierto número de días. Un análisis de\n",
    "las ventas de la empresa, de 800 casas en años anteriores produjo los siguientes datos:"
   ]
  },
  {
   "cell_type": "markdown",
   "id": "6449b0fd",
   "metadata": {},
   "source": [
    "Tabla 2.1 Precio oferta inicial vs Dias en listado hasta la venta de la empresa Cooper Realty\n",
    "\n",
    "| Precio oferta inicial/Dias en listado hasta la venta| Menos de 30  | 31-90  |Más de 90 |TOTAL |\n",
    "| :- | -: | :-: |-: |-: \n",
    "| Menos de 150,000 | 50 | 40| 10| 100\n",
    "| De 150,000 a 199,000  | 20 | 150| 80| 250\n",
    "| De 200,000 a $250,000 | 20 |280|100| 400\n",
    "| Más de 250,000 | 10 | 30| 10|50\n",
    "|TOTAL | 100 | 500| 200|800"
   ]
  },
  {
   "cell_type": "markdown",
   "id": "a71277d3",
   "metadata": {},
   "source": [
    "Si A denota al evento de que una casa aparezca en el listado por más de 90 días antes de ser vendida, y B es el evento de que el precio de oferta inicial sea menor de $150,000. \n",
    "\n",
    "a) Calcule la probabilidad de A ∩ B\n",
    "\n",
    "b) ¿Cuál es la probabilidad de que Cooper Realty tarde más de 90 días en vender una casa dela que acaba de firmar contrato con un precio de oferta inicial superior a $150,000?\n",
    "\n",
    "c) Decida si son independientes o no, los eventos A y B. Justifique su respuesta."
   ]
  },
  {
   "cell_type": "markdown",
   "id": "4d955271",
   "metadata": {},
   "source": [
    "##### Definamos  y calculemos la probabilidad de nuestros \"eventos inicalmente conocidos\"  \n",
    "A: Probabilidad de que una casa aparezca en el listado por más de 90 días antes de ser vendida <br>\n",
    "    "
   ]
  },
  {
   "cell_type": "markdown",
   "id": "4bce9d1d",
   "metadata": {},
   "source": [
    "$$p(A)= \\frac{No.casas-en-listado> 90dias}{No. total de casas en listado} = \\frac{200}{800} = 0.25$$"
   ]
  },
  {
   "cell_type": "code",
   "execution_count": 103,
   "id": "27842c80",
   "metadata": {},
   "outputs": [
    {
     "data": {
      "text/plain": [
       "0.25"
      ]
     },
     "execution_count": 103,
     "metadata": {},
     "output_type": "execute_result"
    }
   ],
   "source": [
    "pA = 200/800\n",
    "pA"
   ]
  },
  {
   "cell_type": "code",
   "execution_count": 104,
   "id": "f759d741",
   "metadata": {},
   "outputs": [
    {
     "name": "stdout",
     "output_type": "stream",
     "text": [
      "La probabilidad de A es: 0.25\n"
     ]
    }
   ],
   "source": [
    "print(f\"La probabilidad de A es: {pA}\")"
   ]
  },
  {
   "cell_type": "markdown",
   "id": "3438ccb8",
   "metadata": {},
   "source": [
    "B:  Probabilidad de que el precio de oferta inicial sea menor de 150,000"
   ]
  },
  {
   "cell_type": "markdown",
   "id": "a1136bdf",
   "metadata": {},
   "source": [
    "$$ p(B)= \\frac{No.casas-en-listado< 150,000}{No. total de casas en listado} = \\frac{100}{800} = 0.125 $$\n"
   ]
  },
  {
   "cell_type": "code",
   "execution_count": 105,
   "id": "69525e20",
   "metadata": {},
   "outputs": [
    {
     "data": {
      "text/plain": [
       "0.125"
      ]
     },
     "execution_count": 105,
     "metadata": {},
     "output_type": "execute_result"
    }
   ],
   "source": [
    "pB = 100/800\n",
    "pB"
   ]
  },
  {
   "cell_type": "code",
   "execution_count": 106,
   "id": "ed5026c1",
   "metadata": {},
   "outputs": [
    {
     "name": "stdout",
     "output_type": "stream",
     "text": [
      "La probabilidad de B es: 0.125\n"
     ]
    }
   ],
   "source": [
    "print(f\"La probabilidad de B es: {pB}\")"
   ]
  },
  {
   "cell_type": "markdown",
   "id": "08cb63c0",
   "metadata": {},
   "source": [
    "#### a) Calcule la probabilidad de A ∩ B"
   ]
  },
  {
   "cell_type": "markdown",
   "id": "c4566e2a",
   "metadata": {},
   "source": [
    "A ∩ B son todas aquellas casas que aparecieron en el listado por más de 90 días y al mismo tiempo su oferta inicial era menos de 150,000 <br>\n",
    "Esto se puede ver que se encuentra en la tabla (2.1) en el \"elemento\" [2,4] = 10 <br>\n",
    "Entonces la probabilidad de ese evento es:"
   ]
  },
  {
   "cell_type": "code",
   "execution_count": 107,
   "id": "b143bfac",
   "metadata": {},
   "outputs": [
    {
     "data": {
      "text/plain": [
       "0.0125"
      ]
     },
     "execution_count": 107,
     "metadata": {},
     "output_type": "execute_result"
    }
   ],
   "source": [
    "pA_intB = 10/800\n",
    "pA_intB"
   ]
  },
  {
   "cell_type": "code",
   "execution_count": 108,
   "id": "a8966416",
   "metadata": {},
   "outputs": [
    {
     "name": "stdout",
     "output_type": "stream",
     "text": [
      "La probabilidad de A ∩ B es: 0.0125\n"
     ]
    }
   ],
   "source": [
    "print(f\"La probabilidad de A ∩ B es: {pA_intB}\")"
   ]
  },
  {
   "cell_type": "markdown",
   "id": "dd2225a9",
   "metadata": {},
   "source": [
    "#### b) ¿Cuál es la probabilidad de que Cooper Realty tarde más de 90 días en vender una casa de la que acaba de firmar contrato con un precio de oferta inicial superior a $150,000?"
   ]
  },
  {
   "cell_type": "markdown",
   "id": "564e987c",
   "metadata": {},
   "source": [
    "En este caso nos está preguntando por la p(A|B) que se calcularía como: <br>\n",
    "     $$p(A|B)= \\frac{p(A\\cap B)}{p(B)}$$   \n",
    "    "
   ]
  },
  {
   "cell_type": "markdown",
   "id": "0165cdb6",
   "metadata": {},
   "source": [
    "Lo que sería  $p(A|B)= \\frac{p(A\\cap B)}{p(B)}$ =  0.0125 / 0.125"
   ]
  },
  {
   "cell_type": "code",
   "execution_count": 109,
   "id": "22517061",
   "metadata": {},
   "outputs": [
    {
     "data": {
      "text/plain": [
       "0.1"
      ]
     },
     "execution_count": 109,
     "metadata": {},
     "output_type": "execute_result"
    }
   ],
   "source": [
    "pA_dadoB = pA_intB /pB\n",
    "pA_dadoB"
   ]
  },
  {
   "cell_type": "code",
   "execution_count": 110,
   "id": "90b9e9c9",
   "metadata": {},
   "outputs": [
    {
     "name": "stdout",
     "output_type": "stream",
     "text": [
      "La probabilidad de tardar más de 90 días en vender una casa de la que acaba de firmar contrato con un precio de oferta inicial superior a 150,000 : 0.1\n"
     ]
    }
   ],
   "source": [
    "print(f\"La probabilidad de tardar más de 90 días en vender una casa de la que acaba de firmar contrato con un precio de oferta inicial superior a 150,000 : {pA_dadoB}\")"
   ]
  },
  {
   "cell_type": "code",
   "execution_count": 111,
   "id": "4b67a28b",
   "metadata": {},
   "outputs": [
    {
     "name": "stdout",
     "output_type": "stream",
     "text": [
      "Es decir, la probabilidad de p(A|B) es: 0.1\n"
     ]
    }
   ],
   "source": [
    "print(f\"Es decir, la probabilidad de p(A|B) es: {pA_dadoB}\")"
   ]
  },
  {
   "cell_type": "markdown",
   "id": "722925d5",
   "metadata": {},
   "source": [
    "#### c) Decida si son independientes o no, los eventos A y B. Justifique su respuesta."
   ]
  },
  {
   "cell_type": "markdown",
   "id": "8305d4ef",
   "metadata": {},
   "source": [
    "Debido a que: \n",
    "    $$p(A)\\neq p(A|B)$$\n"
   ]
  },
  {
   "cell_type": "markdown",
   "id": "835f9407",
   "metadata": {},
   "source": [
    "Entonces A y B NO son eventos independientes, pues la ocurrencia de uno SI afecta la probabilidad de ocurrencia del otro"
   ]
  },
  {
   "cell_type": "code",
   "execution_count": null,
   "id": "3aca4a6d",
   "metadata": {},
   "outputs": [],
   "source": []
  },
  {
   "cell_type": "markdown",
   "id": "b215e097",
   "metadata": {},
   "source": [
    "### Problema 3"
   ]
  },
  {
   "cell_type": "markdown",
   "id": "0e0e6998",
   "metadata": {},
   "source": [
    "En una encuesta aplicada por The Huffington Post en noviembre de 2011 a 1400 personas, con\n",
    "el fin de conocer los hábitos de uso de las redes sociales y otros sitios web para compartir sus\n",
    "opiniones sobre los programas de televisión, se preguntó a cada persona “si usaba o no las redes\n",
    "sociales y otros sitios web para compartir sus opiniones sobre dichos programas”, se obtuvieron\n",
    "los resultados que se detallan a continuación:"
   ]
  },
  {
   "cell_type": "markdown",
   "id": "8f8b3ec7",
   "metadata": {},
   "source": [
    "|.| SI usa redes sociales y otros sitios para opinar sobre programas de TV| NO usa redes sociales y otros sitios para opinar sobre programas de TV\n",
    "| :- | -: | :-:  \n",
    "| Mujeres | 404 | 300\n",
    "| Hombres  | 332 | 364"
   ]
  },
  {
   "cell_type": "markdown",
   "id": "f64610c3",
   "metadata": {},
   "source": [
    "Y que calcolando los totales tenemos: "
   ]
  },
  {
   "cell_type": "markdown",
   "id": "e1789b74",
   "metadata": {},
   "source": [
    "| .| SI usa redes sociales y otros sitios para opinar sobre programas de TV  | NO usa redes sociales y otros sitios para opinar sobre programas de TV |TOTAL |\n",
    "| :- | -: | :-: |-: \n",
    "| Mujeres | 404 | 300| 704\n",
    "| Hombres  | 332 | 364| 696\n",
    "|TOTAL | 736 | 664| 1400"
   ]
  },
  {
   "cell_type": "markdown",
   "id": "a43f982e",
   "metadata": {},
   "source": [
    "a) Calcule la probabilidad de que, al seleccionar al azar una de las respuestas recibidas corresponda a una persona que no usa redes sociales ni otros sitios web para compartir su opinión sobre programas de televisión.<br>\n",
    "\n",
    "b) Si la respuesta a la encuesta proviene de una mujer, ¿cuál es la probabilidad de que use redes sociales y otros sitios web para compartir su opinión sobre programas de televisión?<br>\n",
    "\n",
    "c) ¿Son independientes el género de la persona y el uso de las redes sociales y otros sitios web,con los fines mencionados en este problema? Justifique su respuesta.<br>\n",
    "\n",
    "d) Su respuesta al inciso anterior ¿tiene alguna implicación acerca de la independencia o dependencia entre el género de la persona y el hecho de que no use las redes sociales ni otros sitios web, con los fines mencionados en este problema? Justifique su respuesta.<br>"
   ]
  },
  {
   "cell_type": "markdown",
   "id": "d8181f10",
   "metadata": {},
   "source": [
    "#### a) Calcule la probabilidad de que, al seleccionar al azar una de las respuestas recibidas corresponda a una persona que no usa redes sociales ni otros sitios web para compartir su opinión sobre programas de televisión"
   ]
  },
  {
   "cell_type": "markdown",
   "id": "c8ecfda0",
   "metadata": {},
   "source": [
    "$$p(No usar redes para opinar de TV)= \\frac{No de personas que no usan redes para opinar de TV}{No. total de personas entrevistadas} = \\frac{664}{1400} = 0.47$$\n"
   ]
  },
  {
   "cell_type": "markdown",
   "id": "729ff3cb",
   "metadata": {},
   "source": [
    "Definamos:<br>\n",
    "-p(NR): Probabilidad de que el encuestado NO use redes para opinar de TV"
   ]
  },
  {
   "cell_type": "code",
   "execution_count": 112,
   "id": "33c12bc2",
   "metadata": {},
   "outputs": [
    {
     "data": {
      "text/plain": [
       "0.4742857142857143"
      ]
     },
     "execution_count": 112,
     "metadata": {},
     "output_type": "execute_result"
    }
   ],
   "source": [
    "p_NR= 664/1400\n",
    "p_NR"
   ]
  },
  {
   "cell_type": "code",
   "execution_count": 120,
   "id": "bf66c0a2",
   "metadata": {},
   "outputs": [
    {
     "name": "stdout",
     "output_type": "stream",
     "text": [
      " La probabilidad de seleccionar al azar una de las respuestas recibidas corresponda a una persona que no usa redes sociales ni otros sitios web para compartir su opinión sobre programas de televisión: 0.4742857142857143\n"
     ]
    }
   ],
   "source": [
    "print(f\" La probabilidad de seleccionar al azar una de las respuestas recibidas corresponda a una persona que no usa redes sociales ni otros sitios web para compartir su opinión sobre programas de televisión: {p_NR}\")"
   ]
  },
  {
   "cell_type": "code",
   "execution_count": 121,
   "id": "aac38617",
   "metadata": {},
   "outputs": [
    {
     "name": "stdout",
     "output_type": "stream",
     "text": [
      "Es decir, la probabilidad de p(NR) es: 0.4742857142857143\n"
     ]
    }
   ],
   "source": [
    "print(f\"Es decir, la probabilidad de p(NR) es: {p_NR}\")"
   ]
  },
  {
   "cell_type": "markdown",
   "id": "2ecf1aa1",
   "metadata": {},
   "source": [
    "#### b) Si la respuesta a la encuesta proviene de una mujer, ¿cuál es la probabilidad de que use redes sociales y otros sitios web para compartir su opinión sobre programas de televisión"
   ]
  },
  {
   "cell_type": "markdown",
   "id": "9be0b1d4",
   "metadata": {},
   "source": [
    "Definamos:<br>\n",
    "-p(M):  Probabilidad de que el encuestado sea mujer <br>\n",
    "-p(UR):  Probabilidad de que el encuestado SI use redes para opinar de TV\n",
    "-p(M_intUR):  Probabilidad de que el encuestado sea mujer y además SI use redes para opinar de TV"
   ]
  },
  {
   "cell_type": "code",
   "execution_count": 122,
   "id": "5ba5b317",
   "metadata": {},
   "outputs": [
    {
     "data": {
      "text/plain": [
       "0.5028571428571429"
      ]
     },
     "execution_count": 122,
     "metadata": {},
     "output_type": "execute_result"
    }
   ],
   "source": [
    "pM = 704/1400\n",
    "pM "
   ]
  },
  {
   "cell_type": "code",
   "execution_count": 123,
   "id": "dae87a57",
   "metadata": {},
   "outputs": [
    {
     "data": {
      "text/plain": [
       "0.5257142857142857"
      ]
     },
     "execution_count": 123,
     "metadata": {},
     "output_type": "execute_result"
    }
   ],
   "source": [
    "pUR = 736/1400\n",
    "pUR"
   ]
  },
  {
   "cell_type": "code",
   "execution_count": 124,
   "id": "e97368bb",
   "metadata": {},
   "outputs": [
    {
     "data": {
      "text/plain": [
       "0.2885714285714286"
      ]
     },
     "execution_count": 124,
     "metadata": {},
     "output_type": "execute_result"
    }
   ],
   "source": [
    "pM_intUR =  404/1400\n",
    "pM_intUR "
   ]
  },
  {
   "cell_type": "markdown",
   "id": "3edefcba",
   "metadata": {},
   "source": [
    "De la ecuación de probabilidad condicional tenemos: \n",
    "$$p(UR|M)= \\frac{p(UR\\cap M)}{p(M)}=\\frac{0.23}{0.49}=0.57$$   "
   ]
  },
  {
   "cell_type": "code",
   "execution_count": 125,
   "id": "4112b762",
   "metadata": {},
   "outputs": [
    {
     "data": {
      "text/plain": [
       "0.5738636363636364"
      ]
     },
     "execution_count": 125,
     "metadata": {},
     "output_type": "execute_result"
    }
   ],
   "source": [
    "pUR_dadoM = pM_intUR /pM \n",
    "pUR_dadoM "
   ]
  },
  {
   "cell_type": "code",
   "execution_count": 126,
   "id": "5a8a90d6",
   "metadata": {},
   "outputs": [
    {
     "name": "stdout",
     "output_type": "stream",
     "text": [
      "Es decir, la probabilidad de use redes para opinar de TV dado que es mujer es: 0.5738636363636364\n"
     ]
    }
   ],
   "source": [
    "print(f\"Es decir, la probabilidad de use redes para opinar de TV dado que es mujer es: {pUR_dadoM }\")"
   ]
  },
  {
   "cell_type": "code",
   "execution_count": null,
   "id": "e7a03df1",
   "metadata": {},
   "outputs": [],
   "source": []
  },
  {
   "cell_type": "markdown",
   "id": "3d17c577",
   "metadata": {},
   "source": [
    "#### c) ¿Son independientes el género de la persona y el uso de las redes sociales y otros sitios web,con los fines mencionados en este problema? Justifique su respuesta"
   ]
  },
  {
   "cell_type": "markdown",
   "id": "09ea4675",
   "metadata": {},
   "source": [
    " Debido a que: \n",
    " $$p(UR)\\neq p(UR|M)$$\n"
   ]
  },
  {
   "cell_type": "markdown",
   "id": "e77b5d01",
   "metadata": {},
   "source": [
    "Se puede decir que NO son independientes el Uso de Redes Sociales (UR) con respecto al genero, por ejemplo, en este caso Mujeres"
   ]
  },
  {
   "cell_type": "code",
   "execution_count": null,
   "id": "8058e62c",
   "metadata": {},
   "outputs": [],
   "source": []
  },
  {
   "cell_type": "markdown",
   "id": "d6b28c8a",
   "metadata": {},
   "source": [
    "#### d) Su respuesta al inciso anterior ¿tiene alguna implicación acerca de la independencia o dependencia entre el género de la persona y el hecho de que no use las redes sociales ni otros sitios web, con los fines mencionados en este problema? Justifique su respuesta"
   ]
  },
  {
   "cell_type": "markdown",
   "id": "ca55d52c",
   "metadata": {},
   "source": [
    "Vamos a calcular como tal la probabilidad condicional de el NO uso de redes dado que es Mujer u Hombre: <br>\n",
    "     $$p(NR|M)= \\frac{p(NR\\cap M)}{p(M)}$$  "
   ]
  },
  {
   "cell_type": "code",
   "execution_count": 127,
   "id": "5ae8dcd6",
   "metadata": {},
   "outputs": [
    {
     "data": {
      "text/plain": [
       "0.21428571428571427"
      ]
     },
     "execution_count": 127,
     "metadata": {},
     "output_type": "execute_result"
    }
   ],
   "source": [
    "pM_intNR =  300/1400\n",
    "pM_intNR "
   ]
  },
  {
   "cell_type": "code",
   "execution_count": 128,
   "id": "fed03738",
   "metadata": {},
   "outputs": [
    {
     "data": {
      "text/plain": [
       "0.4261363636363636"
      ]
     },
     "execution_count": 128,
     "metadata": {},
     "output_type": "execute_result"
    }
   ],
   "source": [
    "pNR_dadoM = pM_intNR /pM \n",
    "pNR_dadoM "
   ]
  },
  {
   "cell_type": "markdown",
   "id": "5b1ab9d5",
   "metadata": {},
   "source": [
    "__Entonces se puede decir que__:_ Dado que es mujer, es más probable que SI use redes sociales para expresar su opinión respecto a peliculas a que no lo haga_"
   ]
  },
  {
   "cell_type": "markdown",
   "id": "2247d9f3",
   "metadata": {},
   "source": [
    "Ahora veamos que pasa si se analiza para el caso de los hombres:"
   ]
  },
  {
   "cell_type": "markdown",
   "id": "edd5c278",
   "metadata": {},
   "source": [
    "La probabilidad de que No Use Redes para opinar de TV dado que es hombre se calcularía como: <br>\n",
    "     $$p(NR|H)= \\frac{p(NR\\cap H)}{p(H)}$$ "
   ]
  },
  {
   "cell_type": "code",
   "execution_count": 130,
   "id": "2e8764eb",
   "metadata": {},
   "outputs": [
    {
     "data": {
      "text/plain": [
       "0.2592857142857143"
      ]
     },
     "execution_count": 130,
     "metadata": {},
     "output_type": "execute_result"
    }
   ],
   "source": [
    "pH_intNR =  363/1400\n",
    "pH_intNR"
   ]
  },
  {
   "cell_type": "code",
   "execution_count": 131,
   "id": "0ee6f63b",
   "metadata": {},
   "outputs": [
    {
     "data": {
      "text/plain": [
       "0.49714285714285716"
      ]
     },
     "execution_count": 131,
     "metadata": {},
     "output_type": "execute_result"
    }
   ],
   "source": [
    "pH = 696/1400\n",
    "pH "
   ]
  },
  {
   "cell_type": "code",
   "execution_count": 132,
   "id": "7c8e6727",
   "metadata": {},
   "outputs": [
    {
     "data": {
      "text/plain": [
       "0.521551724137931"
      ]
     },
     "execution_count": 132,
     "metadata": {},
     "output_type": "execute_result"
    }
   ],
   "source": [
    "pNR_dadoH = pH_intNR /pH \n",
    "pNR_dadoH "
   ]
  },
  {
   "cell_type": "markdown",
   "id": "35a3c68c",
   "metadata": {},
   "source": [
    "La probabilidad de que SI Use Redes para opinar de TV dado que es hombre se calcularía como: <br>\n",
    "     $$p(UR|H)= \\frac{p(UR\\cap H)}{p(H)}$$ "
   ]
  },
  {
   "cell_type": "code",
   "execution_count": 133,
   "id": "7fa5f2e9",
   "metadata": {},
   "outputs": [
    {
     "data": {
      "text/plain": [
       "0.23714285714285716"
      ]
     },
     "execution_count": 133,
     "metadata": {},
     "output_type": "execute_result"
    }
   ],
   "source": [
    "pH_intUR =  332/1400\n",
    "pH_intUR"
   ]
  },
  {
   "cell_type": "code",
   "execution_count": 134,
   "id": "b2fd388f",
   "metadata": {},
   "outputs": [
    {
     "data": {
      "text/plain": [
       "0.4770114942528736"
      ]
     },
     "execution_count": 134,
     "metadata": {},
     "output_type": "execute_result"
    }
   ],
   "source": [
    "pUR_dadoH = pH_intUR /pH \n",
    "pUR_dadoH "
   ]
  },
  {
   "cell_type": "markdown",
   "id": "7e4dc5e8",
   "metadata": {},
   "source": [
    "__Entonces se puede decir que__:_Dado que es hombre, es más probable que NO use redes sociales para expresar su opinión respecto a peliculas a que si lo haga_"
   ]
  },
  {
   "cell_type": "code",
   "execution_count": null,
   "id": "c040bdfb",
   "metadata": {},
   "outputs": [],
   "source": []
  },
  {
   "cell_type": "markdown",
   "id": "c8f686d3",
   "metadata": {},
   "source": [
    "### Problema 4"
   ]
  },
  {
   "cell_type": "markdown",
   "id": "35c55e53",
   "metadata": {},
   "source": [
    "Una compañía petrolera compró un terreno en Alaska. Realizó estudios geológicos preliminares y asignó las siguientes probabilidades: 50% para la probabilidad de encontrar petróleo de alta  calidad, el 20% de encontrar petróleo de calidad media, y el resto a la probabilidad de no encontrar petróleo.\n"
   ]
  },
  {
   "cell_type": "markdown",
   "id": "5e9c0579",
   "metadata": {},
   "source": [
    "a) Determine la probabilidad de encontrar petróleo.<br>\n",
    "b) Se tomó una prueba de suelo después de 200 pies de perforación del primer pozo y las probabilidades de encontrar un tipo particular de suelo identificado con una prueba de seguimiento, son 0.20, si se encuentra petróleo de alta calidad, 0.80 si el petróleo  encontrado es de calidad media y 0.20 si no se encuentra petróleo. Cuando se encuentra el  tipo de suelo mencionado, ¿Cuáles son las probabilidades de obtener cada tipo de petróleo, o bien de no encontrar petróleo? Determine la probabilidad de encontrar petróleo en esta nueva circunstancia"
   ]
  },
  {
   "cell_type": "markdown",
   "id": "a1fb2ccf",
   "metadata": {},
   "source": [
    "__Definamos los eventos de nuestro espacio muestral S como:__<br>\n",
    "    A: Probabilidad de encontrar petróleo de alta calidad<br>\n",
    "    B: Probabilidad de encontrar petróleo de mala calidad<br>\n",
    "    C: Probabilidad de NO encontrar petróleo<br>"
   ]
  },
  {
   "cell_type": "markdown",
   "id": "ef7dd07f",
   "metadata": {},
   "source": [
    "Asignemos valores a nuestros eventos dentro de S"
   ]
  },
  {
   "cell_type": "code",
   "execution_count": 135,
   "id": "9483c9ca",
   "metadata": {},
   "outputs": [
    {
     "data": {
      "text/plain": [
       "0.3"
      ]
     },
     "execution_count": 135,
     "metadata": {},
     "output_type": "execute_result"
    }
   ],
   "source": [
    "pA= 0.5\n",
    "pA\n",
    "pB= 0.2\n",
    "pB\n",
    "pC= 0.3\n",
    "pC"
   ]
  },
  {
   "cell_type": "markdown",
   "id": "2a54a523",
   "metadata": {},
   "source": [
    "#### a)  Determine la probabilidad de encontrar petróleo"
   ]
  },
  {
   "cell_type": "markdown",
   "id": "fcb1b3d1",
   "metadata": {},
   "source": [
    "Ahora definamos a D como:<br>\n",
    "    D: Probabilidad de encontrar petróleo"
   ]
  },
  {
   "cell_type": "code",
   "execution_count": 136,
   "id": "525c3654",
   "metadata": {},
   "outputs": [
    {
     "data": {
      "text/plain": [
       "0.7"
      ]
     },
     "execution_count": 136,
     "metadata": {},
     "output_type": "execute_result"
    }
   ],
   "source": [
    "pD = pA + pB\n",
    "pD"
   ]
  },
  {
   "cell_type": "code",
   "execution_count": 137,
   "id": "9027a9b0",
   "metadata": {},
   "outputs": [
    {
     "name": "stdout",
     "output_type": "stream",
     "text": [
      "Es decir, la probabilidad de SI encontrar petroleo es : 0.7\n"
     ]
    }
   ],
   "source": [
    "print(f\"Es decir, la probabilidad de SI encontrar petroleo es : {pD}\")"
   ]
  },
  {
   "cell_type": "markdown",
   "id": "1f98cf48",
   "metadata": {},
   "source": [
    "#### b)  Se tomó una prueba de suelo después de 200 pies de perforación del primer pozo y las probabilidades de encontrar un tipo particular de suelo identificado con una prueba de seguimiento, son 0.20, si se encuentra petróleo de alta calidad, 0.80 si el petróleo  encontrado es de calidad media y 0.20 si no se encuentra petróleo. Cuando se encuentra el  tipo de suelo mencionado, ¿Cuáles son las probabilidades de obtener cada tipo de petróleo, o bien de no encontrar petróleo? Determine la probabilidad de encontrar petróleo en esta nueva circunstancia"
   ]
  },
  {
   "cell_type": "markdown",
   "id": "ce51df29",
   "metadata": {},
   "source": [
    "Ahora definamos a E como:<br>\n",
    "    E:  Probabilidad de encontrar un tipo particular de suelo identificado con una prueba de seguimiento"
   ]
  },
  {
   "cell_type": "markdown",
   "id": "36e96ed2",
   "metadata": {},
   "source": [
    "Ahora se definene las probabilidades condicionales dadas en el enunciado "
   ]
  },
  {
   "cell_type": "markdown",
   "id": "0706ef3b",
   "metadata": {},
   "source": [
    "$$p(E|A)= \\frac{p(E\\cap A)}{p(A)}=0.20$$ "
   ]
  },
  {
   "cell_type": "code",
   "execution_count": 138,
   "id": "e0fd81f8",
   "metadata": {},
   "outputs": [
    {
     "data": {
      "text/plain": [
       "0.2"
      ]
     },
     "execution_count": 138,
     "metadata": {},
     "output_type": "execute_result"
    }
   ],
   "source": [
    "pE_dadoA = 0.2\n",
    "pE_dadoA"
   ]
  },
  {
   "cell_type": "markdown",
   "id": "aea687cd",
   "metadata": {},
   "source": [
    "$$p(E|B)= \\frac{p(E\\cap B)}{p(B)}=0.80$$ "
   ]
  },
  {
   "cell_type": "code",
   "execution_count": 139,
   "id": "88087b5f",
   "metadata": {},
   "outputs": [
    {
     "data": {
      "text/plain": [
       "0.8"
      ]
     },
     "execution_count": 139,
     "metadata": {},
     "output_type": "execute_result"
    }
   ],
   "source": [
    "pE_dadoB = 0.8\n",
    "pE_dadoB"
   ]
  },
  {
   "cell_type": "markdown",
   "id": "22a3d398",
   "metadata": {},
   "source": [
    "$$p(E|C)= \\frac{p(E\\cap C)}{p(C)}=0.20$$ "
   ]
  },
  {
   "cell_type": "code",
   "execution_count": 140,
   "id": "1500aef0",
   "metadata": {},
   "outputs": [
    {
     "data": {
      "text/plain": [
       "0.2"
      ]
     },
     "execution_count": 140,
     "metadata": {},
     "output_type": "execute_result"
    }
   ],
   "source": [
    "pE_dadoC = 0.2\n",
    "pE_dadoC"
   ]
  },
  {
   "cell_type": "markdown",
   "id": "11197a0c",
   "metadata": {},
   "source": [
    "Notar que la suma de p(E|A) p(E|B) + p(E|C) NO necesariamente debe de sumar 1, pues NO ESTPAN \"EREFERNCIADAS\" AL MISMO ESPACIO MUESTRAL S"
   ]
  },
  {
   "cell_type": "markdown",
   "id": "14b6c6a7",
   "metadata": {},
   "source": [
    "Ahora, Dado que se encuentra el tipo de suelo, es decir dado E cual es probabilidad de obtener cada tipo de petróleo o NO encontrar petróleo "
   ]
  },
  {
   "cell_type": "markdown",
   "id": "0f3e5c78",
   "metadata": {},
   "source": [
    "__b.1) Prob de A dado E__ "
   ]
  },
  {
   "cell_type": "markdown",
   "id": "0350bdba",
   "metadata": {},
   "source": [
    "$$p(A|E)= \\frac{p(A\\cap E)}{p(E)}$$ "
   ]
  },
  {
   "cell_type": "markdown",
   "id": "e31668e9",
   "metadata": {},
   "source": [
    "Entonces para obtener la p(E) usemos de nuevo la \"Formula de probabilidad Total\""
   ]
  },
  {
   "cell_type": "markdown",
   "id": "53c1e399",
   "metadata": {},
   "source": [
    " Sean A, B, C una partición colectivamente exhaustiva del espacio muestral S y sea E otro evento, entonces:"
   ]
  },
  {
   "cell_type": "markdown",
   "id": "7cfadf0a",
   "metadata": {},
   "source": [
    "$$p(E)= p(E\\cap A)\\cup p(E\\cap B)\\cup p(E\\cap C)$$ "
   ]
  },
  {
   "cell_type": "markdown",
   "id": "915ccc3d",
   "metadata": {},
   "source": [
    "Calculemos la $p(E\\cap A) = p(E|A)*p(A)=$"
   ]
  },
  {
   "cell_type": "code",
   "execution_count": 141,
   "id": "50bfa5c1",
   "metadata": {},
   "outputs": [
    {
     "data": {
      "text/plain": [
       "0.1"
      ]
     },
     "execution_count": 141,
     "metadata": {},
     "output_type": "execute_result"
    }
   ],
   "source": [
    "pE_intA = pE_dadoA * pA \n",
    "pE_intA "
   ]
  },
  {
   "cell_type": "markdown",
   "id": "b3e5dd60",
   "metadata": {},
   "source": [
    "Calculemos la $p(E\\cap B) = p(E|B)*p(B)=$"
   ]
  },
  {
   "cell_type": "code",
   "execution_count": 142,
   "id": "123da021",
   "metadata": {},
   "outputs": [
    {
     "data": {
      "text/plain": [
       "0.16000000000000003"
      ]
     },
     "execution_count": 142,
     "metadata": {},
     "output_type": "execute_result"
    }
   ],
   "source": [
    "pE_intB = pE_dadoB * pB \n",
    "pE_intB "
   ]
  },
  {
   "cell_type": "markdown",
   "id": "8ec1221d",
   "metadata": {},
   "source": [
    "Calculemos la $p(E\\cap C) = p(E|C)*p(C)=$"
   ]
  },
  {
   "cell_type": "code",
   "execution_count": 143,
   "id": "f3bcd2d7",
   "metadata": {},
   "outputs": [
    {
     "data": {
      "text/plain": [
       "0.06"
      ]
     },
     "execution_count": 143,
     "metadata": {},
     "output_type": "execute_result"
    }
   ],
   "source": [
    "pE_intC = pE_dadoC * pC\n",
    "pE_intC "
   ]
  },
  {
   "cell_type": "markdown",
   "id": "1ccab0c3",
   "metadata": {},
   "source": [
    "Y entonces p(E) es:"
   ]
  },
  {
   "cell_type": "code",
   "execution_count": 144,
   "id": "78b0d9ea",
   "metadata": {},
   "outputs": [
    {
     "data": {
      "text/plain": [
       "0.32"
      ]
     },
     "execution_count": 144,
     "metadata": {},
     "output_type": "execute_result"
    }
   ],
   "source": [
    "pE = pE_intA + pE_intB + pE_intC \n",
    "pE"
   ]
  },
  {
   "cell_type": "markdown",
   "id": "d8454ec5",
   "metadata": {},
   "source": [
    "Por lo tanto, $$p(A|E)= \\frac{p(A\\cap E)}{p(E)}=$$ "
   ]
  },
  {
   "cell_type": "code",
   "execution_count": 145,
   "id": "e7e0f5f6",
   "metadata": {},
   "outputs": [
    {
     "data": {
      "text/plain": [
       "0.3125"
      ]
     },
     "execution_count": 145,
     "metadata": {},
     "output_type": "execute_result"
    }
   ],
   "source": [
    "pA_dadoE = pE_intA /pE\n",
    "pA_dadoE"
   ]
  },
  {
   "cell_type": "markdown",
   "id": "4d2e5704",
   "metadata": {},
   "source": [
    "__b.2) Prob de B dado E__ "
   ]
  },
  {
   "cell_type": "markdown",
   "id": "2feaf2c7",
   "metadata": {},
   "source": [
    " $$p(B|E)= \\frac{p(B\\cap E)}{p(E)}=$$ "
   ]
  },
  {
   "cell_type": "code",
   "execution_count": 146,
   "id": "1a2cbab2",
   "metadata": {},
   "outputs": [
    {
     "data": {
      "text/plain": [
       "0.5000000000000001"
      ]
     },
     "execution_count": 146,
     "metadata": {},
     "output_type": "execute_result"
    }
   ],
   "source": [
    "pB_dadoE = pE_intB /pE\n",
    "pB_dadoE"
   ]
  },
  {
   "cell_type": "markdown",
   "id": "fd5d3934",
   "metadata": {},
   "source": [
    "__b.3) Prob de C dado E__ "
   ]
  },
  {
   "cell_type": "markdown",
   "id": "a3ac44e0",
   "metadata": {},
   "source": [
    " $$p(C|E)= \\frac{p(C\\cap E)}{p(E)}=$$ "
   ]
  },
  {
   "cell_type": "code",
   "execution_count": 147,
   "id": "660e532a",
   "metadata": {},
   "outputs": [
    {
     "data": {
      "text/plain": [
       "0.1875"
      ]
     },
     "execution_count": 147,
     "metadata": {},
     "output_type": "execute_result"
    }
   ],
   "source": [
    "pC_dadoE = pE_intC /pE\n",
    "pC_dadoE"
   ]
  },
  {
   "cell_type": "markdown",
   "id": "1f55a516",
   "metadata": {},
   "source": [
    "La probabilidad de encontrar petroleo en estas circusntancias es: "
   ]
  },
  {
   "cell_type": "markdown",
   "id": "3fcecd4b",
   "metadata": {},
   "source": [
    "Ahora definamos a F como:<br>\n",
    "    F:  Probabilidad de encontrar petroleo dado que E pasó"
   ]
  },
  {
   "cell_type": "code",
   "execution_count": 148,
   "id": "c4bc8579",
   "metadata": {},
   "outputs": [
    {
     "data": {
      "text/plain": [
       "0.8125000000000001"
      ]
     },
     "execution_count": 148,
     "metadata": {},
     "output_type": "execute_result"
    }
   ],
   "source": [
    "pF = pA_dadoE +pB_dadoE\n",
    "pF"
   ]
  },
  {
   "cell_type": "code",
   "execution_count": 149,
   "id": "1761c989",
   "metadata": {},
   "outputs": [
    {
     "name": "stdout",
     "output_type": "stream",
     "text": [
      "Es decir, la probabilidad de SI encontrar petroleo en estas nuevas circusntancias es : 0.8125000000000001\n"
     ]
    }
   ],
   "source": [
    "print(f\"Es decir, la probabilidad de SI encontrar petroleo en estas nuevas circusntancias es : {pF}\")"
   ]
  },
  {
   "cell_type": "markdown",
   "id": "dababd4f",
   "metadata": {},
   "source": [
    "Que es mayor que la pD :Probabilidad de encontrar petróleo en las \"circusntancias originales\""
   ]
  },
  {
   "cell_type": "markdown",
   "id": "61c84a47",
   "metadata": {},
   "source": [
    "### Problema 5"
   ]
  },
  {
   "cell_type": "markdown",
   "id": "5e1b0944",
   "metadata": {},
   "source": [
    "Resuelva el siguiente caso: .<br>\n",
    "JUECES DEL CONDADO DE HAMILTON.<br>\n",
    ".<br>\n",
    "Los jueces del condado de Hamilton procesan miles de casos al año. En la gran mayoría de los  casos desechados, el veredicto permanece como se presentó. Sin embargo, algunos son \n",
    "apelados y de éstos algunos se revocan. Kristen DelGuzzi, del diario Cincinnati Enquirer, realizó  un estudio de los casos manejados por los jueces del condado de Hamilton durante un periodo \n",
    "de tres años (Cincinnati Enquirer, 11 de enero de 1998). En la tabla que se muestra a  continuación se muestran los resultados de 182,908 casos manejados por 38 jueces del tribunal \n",
    "de primera instancia (Common Pleas Court), del tribunal de lo familiar (Domestic Relations  Court) y del tribunal municipal (Municipal Court). Dos de los jueces (Dinkelacker y Hogan) no \n",
    "trabajaron en el mismo tribunal durante los tres años, sino que en algún momento de eses  período cambiaron de tribunal.<br>\n",
    "<br>\n",
    "El propósito del estudio del periódico es evaluar el desempeño de los jueces. Las apelaciones con frecuencia son el resultado de los errores cometidos por éstos, y el periódico quería saber cuáles \n",
    "de ellos hacían un buen trabajo y cuáles cometían demasiados errores. A usted le llaman para  que ayude en el análisis de datos. Utilice sus conocimientos de probabilidad y probabilidad \n",
    "condicional para ayudar a calificar a los jueces. Tal vez pueda analizar la probabilidad de los casos manejados en los diferentes tribunales que fueron apelados y revocados.<br>\n",
    "<br>\n",
    "Elabore un informe con sus calificaciones de los jueces. Incluya también un análisis de la probabilidad de apelación y la revocación de casos en los tres tribunales. Como mínimo, su  informe debe incluir lo siguiente:\n"
   ]
  },
  {
   "cell_type": "markdown",
   "id": "d09e89ba",
   "metadata": {},
   "source": [
    "• La probabilidad de casos apelados (Appealed Cases) y revocados (Reversed Cases) en los \n",
    "tres tribunales.<br>\n",
    "• La probabilidad de que un caso sea apelado, por cada juez.<br>\n",
    "• La probabilidad de que un caso sea revocado, por cada juez.<br>\n",
    "• La probabilidad de una revocación, dada una apelación, por cada juez.<br>\n",
    "• Una clasificación de los jueces dentro de cada tribunal. Establezca los criterios que manejó \n",
    "y las razones de su elección"
   ]
  },
  {
   "cell_type": "markdown",
   "id": "a87e55cd",
   "metadata": {},
   "source": [
    "Primero vamos a importar el excel que contiene la información de los jueces y sus casos"
   ]
  },
  {
   "cell_type": "code",
   "execution_count": 150,
   "id": "14a2fee4",
   "metadata": {},
   "outputs": [
    {
     "name": "stdout",
     "output_type": "stream",
     "text": [
      "{'Common_please':                     Judge  Total cases Disposed  Appealed Cases  \\\n",
      "0          Fred Cartolano                  3037             137   \n",
      "1            Thomas Crush                  3372             119   \n",
      "2     Patrick Dinkelacker                  1258              44   \n",
      "3           Timothy Hogan                  1954              60   \n",
      "4            Robert Kraft                  3138             127   \n",
      "5         William Mathews                  2264              91   \n",
      "6       William Morrissey                  3032             121   \n",
      "7           Norbert Nadel                  2959             131   \n",
      "8         Arthur Ney, Jr.                  3219             125   \n",
      "9         Richard Niehaus                  3353             137   \n",
      "10           Thomas Nurre                  3000             121   \n",
      "11          John O'Connor                  2969             129   \n",
      "12        Robert Ruchlman                  3205             145   \n",
      "13  J. Howard Sunderrnann                   955              60   \n",
      "14       Ann Marie Tracey                  3141             127   \n",
      "15          Ralph Winkler                  3089              88   \n",
      "16                  Total                 43945            1762   \n",
      "\n",
      "    Reversed cases  \n",
      "0               12  \n",
      "1               10  \n",
      "2                8  \n",
      "3                7  \n",
      "4                7  \n",
      "5               18  \n",
      "6               22  \n",
      "7               20  \n",
      "8               14  \n",
      "9               16  \n",
      "10               6  \n",
      "11              12  \n",
      "12              18  \n",
      "13              10  \n",
      "14              13  \n",
      "15               6  \n",
      "16             199  , 'Domestic_relations':                  Judge  Total Cases Disposed  Appealed Cases  Reversed Cases\n",
      "0  Penelope Cunningham                  2729               7               1\n",
      "1  Patrick Dinkelacker                  6001              19               4\n",
      "2       Deborah Gaines                  8799              48               9\n",
      "3       Ronald Panioto                 12970              32               3\n",
      "4                Total                 30499             106              17, 'Municipal':                    Judge  Total Cases Disposed  Appealed Cases  Reversed Cases\n",
      "0             Mike Allen                  6149              43               4\n",
      "1           Nadine Allen                  7812              34               6\n",
      "2          Timothy Black                  7954              41               6\n",
      "3            David Davis                  7736              43               5\n",
      "4   Leslie Isaiah Gaines                  5282              35              13\n",
      "5            Karla Grady                  5253               6               0\n",
      "6            Deidra Hair                  2532               5               0\n",
      "7         Dennis Helmick                  7900              29               5\n",
      "8          Timothy Hogan                  2308              13               2\n",
      "9    James PatrCk Kenney                  2798               6               1\n",
      "10       Joseph Luebbers                  4698              25               8\n",
      "11       William Mallory                  8277              38               9\n",
      "12           Melba Marsh                  8219              34               7\n",
      "13        Beth Mattingly                  2971              13               1\n",
      "14     Albert Mestemaker                  4975              28               9\n",
      "15          Mark Pailler                  2239               7               3\n",
      "16            Jack Rosen                  7790              41              13\n",
      "17       Mark Schweikert                  5403              33               6\n",
      "18        David StockdCe                  5371              22               4\n",
      "19          John A. West                  2797               4               2\n",
      "20                 Total                108464             500             104}\n"
     ]
    },
    {
     "data": {
      "text/plain": [
       "dict"
      ]
     },
     "execution_count": 150,
     "metadata": {},
     "output_type": "execute_result"
    }
   ],
   "source": [
    "import pandas as pd\n",
    "\n",
    "# Read the Excel file into a dictionary of data frames\n",
    "dfs = pd.read_excel(R'C:\\Users\\sergi\\OneDrive\\Documentos\\MIS_UNAM\\Segundo_semestre\\Estocasticos_UNAM\\Estocasticos_Tarea1_Fundamentos_Probabilidad_datos_problema5.xlsx', sheet_name=['Common_please', 'Domestic_relations', 'Municipal'])\n",
    "print(dfs)\n",
    "type(dfs)\n"
   ]
  },
  {
   "cell_type": "markdown",
   "id": "487c8e7f",
   "metadata": {},
   "source": [
    "### Calculemos las probabilidades para el caso de los jueces de Common Please Court"
   ]
  },
  {
   "cell_type": "code",
   "execution_count": 151,
   "id": "7521e42c",
   "metadata": {},
   "outputs": [
    {
     "name": "stdout",
     "output_type": "stream",
     "text": [
      "                    Judge  Total cases Disposed  Appealed Cases  \\\n",
      "0          Fred Cartolano                  3037             137   \n",
      "1            Thomas Crush                  3372             119   \n",
      "2     Patrick Dinkelacker                  1258              44   \n",
      "3           Timothy Hogan                  1954              60   \n",
      "4            Robert Kraft                  3138             127   \n",
      "5         William Mathews                  2264              91   \n",
      "6       William Morrissey                  3032             121   \n",
      "7           Norbert Nadel                  2959             131   \n",
      "8         Arthur Ney, Jr.                  3219             125   \n",
      "9         Richard Niehaus                  3353             137   \n",
      "10           Thomas Nurre                  3000             121   \n",
      "11          John O'Connor                  2969             129   \n",
      "12        Robert Ruchlman                  3205             145   \n",
      "13  J. Howard Sunderrnann                   955              60   \n",
      "14       Ann Marie Tracey                  3141             127   \n",
      "15          Ralph Winkler                  3089              88   \n",
      "16                  Total                 43945            1762   \n",
      "\n",
      "    Reversed cases  \n",
      "0               12  \n",
      "1               10  \n",
      "2                8  \n",
      "3                7  \n",
      "4                7  \n",
      "5               18  \n",
      "6               22  \n",
      "7               20  \n",
      "8               14  \n",
      "9               16  \n",
      "10               6  \n",
      "11              12  \n",
      "12              18  \n",
      "13              10  \n",
      "14              13  \n",
      "15               6  \n",
      "16             199  \n"
     ]
    },
    {
     "data": {
      "text/plain": [
       "pandas.core.frame.DataFrame"
      ]
     },
     "execution_count": 151,
     "metadata": {},
     "output_type": "execute_result"
    }
   ],
   "source": [
    "# Access each data frame using the sheet name as the key\n",
    "df_common = dfs['Common_please']\n",
    "print(df_common)\n",
    "type(df_common)\n"
   ]
  },
  {
   "cell_type": "markdown",
   "id": "9e1a3b06",
   "metadata": {},
   "source": [
    "Calculemos la probabilidad de que un caso se apelado por cada juez de Common Please Court "
   ]
  },
  {
   "cell_type": "code",
   "execution_count": 152,
   "id": "d46a299c",
   "metadata": {},
   "outputs": [
    {
     "name": "stdout",
     "output_type": "stream",
     "text": [
      "0     0.045110\n",
      "1     0.035291\n",
      "2     0.034976\n",
      "3     0.030706\n",
      "4     0.040472\n",
      "5     0.040194\n",
      "6     0.039908\n",
      "7     0.044272\n",
      "8     0.038832\n",
      "9     0.040859\n",
      "10    0.040333\n",
      "11    0.043449\n",
      "12    0.045242\n",
      "13    0.062827\n",
      "14    0.040433\n",
      "15    0.028488\n",
      "16    0.040096\n",
      "Name: Probabilidad_de_apleacion, dtype: float64\n"
     ]
    }
   ],
   "source": [
    "df_common['Probabilidad_de_apleacion'] = df_common['Appealed Cases'] / df_common['Total cases Disposed'] \n",
    "print(df_common['Probabilidad_de_apleacion'])"
   ]
  },
  {
   "cell_type": "code",
   "execution_count": 153,
   "id": "ed4570d3",
   "metadata": {},
   "outputs": [],
   "source": [
    "# Rename a column in the df_common data frame\n",
    "df_common = df_common.rename(columns={'Probabilidad_de_apleacion': 'Probabilidad_de_apelacion'})"
   ]
  },
  {
   "cell_type": "code",
   "execution_count": 154,
   "id": "67002275",
   "metadata": {},
   "outputs": [
    {
     "name": "stdout",
     "output_type": "stream",
     "text": [
      "                    Judge  Total cases Disposed  Appealed Cases  \\\n",
      "0          Fred Cartolano                  3037             137   \n",
      "1            Thomas Crush                  3372             119   \n",
      "2     Patrick Dinkelacker                  1258              44   \n",
      "3           Timothy Hogan                  1954              60   \n",
      "4            Robert Kraft                  3138             127   \n",
      "5         William Mathews                  2264              91   \n",
      "6       William Morrissey                  3032             121   \n",
      "7           Norbert Nadel                  2959             131   \n",
      "8         Arthur Ney, Jr.                  3219             125   \n",
      "9         Richard Niehaus                  3353             137   \n",
      "10           Thomas Nurre                  3000             121   \n",
      "11          John O'Connor                  2969             129   \n",
      "12        Robert Ruchlman                  3205             145   \n",
      "13  J. Howard Sunderrnann                   955              60   \n",
      "14       Ann Marie Tracey                  3141             127   \n",
      "15          Ralph Winkler                  3089              88   \n",
      "16                  Total                 43945            1762   \n",
      "\n",
      "    Reversed cases  Probabilidad_de_apelacion  \n",
      "0               12                   0.045110  \n",
      "1               10                   0.035291  \n",
      "2                8                   0.034976  \n",
      "3                7                   0.030706  \n",
      "4                7                   0.040472  \n",
      "5               18                   0.040194  \n",
      "6               22                   0.039908  \n",
      "7               20                   0.044272  \n",
      "8               14                   0.038832  \n",
      "9               16                   0.040859  \n",
      "10               6                   0.040333  \n",
      "11              12                   0.043449  \n",
      "12              18                   0.045242  \n",
      "13              10                   0.062827  \n",
      "14              13                   0.040433  \n",
      "15               6                   0.028488  \n",
      "16             199                   0.040096  \n"
     ]
    }
   ],
   "source": [
    "print(df_common)"
   ]
  },
  {
   "cell_type": "markdown",
   "id": "6075f0c6",
   "metadata": {},
   "source": [
    "Calculemos la probabilidad de que un caso se revocado por cada juez de Common Please Court"
   ]
  },
  {
   "cell_type": "code",
   "execution_count": 156,
   "id": "c510b7fc",
   "metadata": {},
   "outputs": [
    {
     "name": "stdout",
     "output_type": "stream",
     "text": [
      "0     0.003951\n",
      "1     0.002966\n",
      "2     0.006359\n",
      "3     0.003582\n",
      "4     0.002231\n",
      "5     0.007951\n",
      "6     0.007256\n",
      "7     0.006759\n",
      "8     0.004349\n",
      "9     0.004772\n",
      "10    0.002000\n",
      "11    0.004042\n",
      "12    0.005616\n",
      "13    0.010471\n",
      "14    0.004139\n",
      "15    0.001942\n",
      "16    0.004528\n",
      "Name: Probabilidad_de_revocacion, dtype: float64\n"
     ]
    }
   ],
   "source": [
    "df_common['Probabilidad_de_revocacion'] = df_common['Reversed cases'] / df_common['Total cases Disposed'] \n",
    "print(df_common['Probabilidad_de_revocacion'])"
   ]
  },
  {
   "cell_type": "markdown",
   "id": "460f37ee",
   "metadata": {},
   "source": [
    "__SE PRESENTA A CONTINUACION LA TABLA RESUMEN DE LAS PROBABILIDADES INDIVIDUALES Y PROMEDIO DE APLEACIÓN Y REVOCACIÓN PARA CADA JUEZ DE LA CORTE DE COMMON PLEASE__"
   ]
  },
  {
   "cell_type": "code",
   "execution_count": 157,
   "id": "3cac0cff",
   "metadata": {},
   "outputs": [
    {
     "name": "stdout",
     "output_type": "stream",
     "text": [
      "                    Judge  Total cases Disposed  Appealed Cases  \\\n",
      "0          Fred Cartolano                  3037             137   \n",
      "1            Thomas Crush                  3372             119   \n",
      "2     Patrick Dinkelacker                  1258              44   \n",
      "3           Timothy Hogan                  1954              60   \n",
      "4            Robert Kraft                  3138             127   \n",
      "5         William Mathews                  2264              91   \n",
      "6       William Morrissey                  3032             121   \n",
      "7           Norbert Nadel                  2959             131   \n",
      "8         Arthur Ney, Jr.                  3219             125   \n",
      "9         Richard Niehaus                  3353             137   \n",
      "10           Thomas Nurre                  3000             121   \n",
      "11          John O'Connor                  2969             129   \n",
      "12        Robert Ruchlman                  3205             145   \n",
      "13  J. Howard Sunderrnann                   955              60   \n",
      "14       Ann Marie Tracey                  3141             127   \n",
      "15          Ralph Winkler                  3089              88   \n",
      "16                  Total                 43945            1762   \n",
      "\n",
      "    Reversed cases  Probabilidad_de_apelacion  Probabilidad_de_revocacion  \n",
      "0               12                   0.045110                    0.003951  \n",
      "1               10                   0.035291                    0.002966  \n",
      "2                8                   0.034976                    0.006359  \n",
      "3                7                   0.030706                    0.003582  \n",
      "4                7                   0.040472                    0.002231  \n",
      "5               18                   0.040194                    0.007951  \n",
      "6               22                   0.039908                    0.007256  \n",
      "7               20                   0.044272                    0.006759  \n",
      "8               14                   0.038832                    0.004349  \n",
      "9               16                   0.040859                    0.004772  \n",
      "10               6                   0.040333                    0.002000  \n",
      "11              12                   0.043449                    0.004042  \n",
      "12              18                   0.045242                    0.005616  \n",
      "13              10                   0.062827                    0.010471  \n",
      "14              13                   0.040433                    0.004139  \n",
      "15               6                   0.028488                    0.001942  \n",
      "16             199                   0.040096                    0.004528  \n"
     ]
    }
   ],
   "source": [
    "print(df_common)"
   ]
  },
  {
   "cell_type": "code",
   "execution_count": 158,
   "id": "aba4f069",
   "metadata": {},
   "outputs": [
    {
     "name": "stdout",
     "output_type": "stream",
     "text": [
      " La probabilidad 'promedio' de casos apelados en la corte Common Please es: 4.009557401297076 %\n"
     ]
    }
   ],
   "source": [
    "\n",
    "probabilidad_Casos_apelados_corte_common = (df_common.at[16, 'Probabilidad_de_apelacion'])*100\n",
    "print(f\" La probabilidad 'promedio' de casos apelados en la corte Common Please es: {probabilidad_Casos_apelados_corte_common} %\")\n"
   ]
  },
  {
   "cell_type": "code",
   "execution_count": 159,
   "id": "130dee13",
   "metadata": {},
   "outputs": [
    {
     "name": "stdout",
     "output_type": "stream",
     "text": [
      " La probabilidad 'promedio' de casos revocados en la corte Common Please es: 0.45283877574240533 %\n"
     ]
    }
   ],
   "source": [
    "probabilidad_Casos_revocados_corte_common = df_common.at[16, 'Probabilidad_de_revocacion']*100\n",
    "print(f\" La probabilidad 'promedio' de casos revocados en la corte Common Please es: {probabilidad_Casos_revocados_corte_common} %\")"
   ]
  },
  {
   "cell_type": "markdown",
   "id": "d9b0ff8b",
   "metadata": {},
   "source": [
    "__SE MUESTRAN LOS JUECES DE LA CORTE COMMON PLEASE, DE AQUEL CON MAYOR APELACIÓN A AQUEL CON MENOR APELACIÓN__"
   ]
  },
  {
   "cell_type": "code",
   "execution_count": 160,
   "id": "e3eff8e8",
   "metadata": {},
   "outputs": [
    {
     "name": "stdout",
     "output_type": "stream",
     "text": [
      "                    Judge  Total cases Disposed  Appealed Cases  \\\n",
      "13  J. Howard Sunderrnann                   955              60   \n",
      "12        Robert Ruchlman                  3205             145   \n",
      "0          Fred Cartolano                  3037             137   \n",
      "7           Norbert Nadel                  2959             131   \n",
      "11          John O'Connor                  2969             129   \n",
      "9         Richard Niehaus                  3353             137   \n",
      "4            Robert Kraft                  3138             127   \n",
      "14       Ann Marie Tracey                  3141             127   \n",
      "10           Thomas Nurre                  3000             121   \n",
      "5         William Mathews                  2264              91   \n",
      "16                  Total                 43945            1762   \n",
      "6       William Morrissey                  3032             121   \n",
      "8         Arthur Ney, Jr.                  3219             125   \n",
      "1            Thomas Crush                  3372             119   \n",
      "2     Patrick Dinkelacker                  1258              44   \n",
      "3           Timothy Hogan                  1954              60   \n",
      "15          Ralph Winkler                  3089              88   \n",
      "\n",
      "    Reversed cases  Probabilidad_de_apelacion  Probabilidad_de_revocacion  \n",
      "13              10                   0.062827                    0.010471  \n",
      "12              18                   0.045242                    0.005616  \n",
      "0               12                   0.045110                    0.003951  \n",
      "7               20                   0.044272                    0.006759  \n",
      "11              12                   0.043449                    0.004042  \n",
      "9               16                   0.040859                    0.004772  \n",
      "4                7                   0.040472                    0.002231  \n",
      "14              13                   0.040433                    0.004139  \n",
      "10               6                   0.040333                    0.002000  \n",
      "5               18                   0.040194                    0.007951  \n",
      "16             199                   0.040096                    0.004528  \n",
      "6               22                   0.039908                    0.007256  \n",
      "8               14                   0.038832                    0.004349  \n",
      "1               10                   0.035291                    0.002966  \n",
      "2                8                   0.034976                    0.006359  \n",
      "3                7                   0.030706                    0.003582  \n",
      "15               6                   0.028488                    0.001942  \n"
     ]
    }
   ],
   "source": [
    "# Sort the df_common data frame by the Probabilidad_de_apelacion column in descending order\n",
    "df_common_apelacion_decendiente = df_common.sort_values(by='Probabilidad_de_apelacion', ascending=False)\n",
    "print(df_common_apelacion_decendiente)"
   ]
  },
  {
   "cell_type": "code",
   "execution_count": null,
   "id": "c455d500",
   "metadata": {},
   "outputs": [],
   "source": []
  },
  {
   "cell_type": "markdown",
   "id": "c402c6c4",
   "metadata": {},
   "source": [
    "### Calculemos las probabilidades para el caso de los jueces de Domestic Relations Court"
   ]
  },
  {
   "cell_type": "code",
   "execution_count": 161,
   "id": "e1298353",
   "metadata": {},
   "outputs": [
    {
     "name": "stdout",
     "output_type": "stream",
     "text": [
      "                 Judge  Total Cases Disposed  Appealed Cases  Reversed Cases\n",
      "0  Penelope Cunningham                  2729               7               1\n",
      "1  Patrick Dinkelacker                  6001              19               4\n",
      "2       Deborah Gaines                  8799              48               9\n",
      "3       Ronald Panioto                 12970              32               3\n",
      "4                Total                 30499             106              17\n"
     ]
    },
    {
     "data": {
      "text/plain": [
       "pandas.core.frame.DataFrame"
      ]
     },
     "execution_count": 161,
     "metadata": {},
     "output_type": "execute_result"
    }
   ],
   "source": [
    "df_domestic = dfs['Domestic_relations']\n",
    "print(df_domestic)\n",
    "type(df_domestic)"
   ]
  },
  {
   "cell_type": "markdown",
   "id": "a2d3e1e5",
   "metadata": {},
   "source": [
    "Calculemos la probabilidad de que un caso se apelado por cada juez de Domestic Relations Court "
   ]
  },
  {
   "cell_type": "code",
   "execution_count": 166,
   "id": "aabdb2e3",
   "metadata": {},
   "outputs": [
    {
     "name": "stdout",
     "output_type": "stream",
     "text": [
      "0    0.002565\n",
      "1    0.003166\n",
      "2    0.005455\n",
      "3    0.002467\n",
      "4    0.003476\n",
      "Name: Probabilidad_de_apleacion, dtype: float64\n"
     ]
    }
   ],
   "source": [
    "df_domestic['Probabilidad_de_apleacion'] = df_domestic['Appealed Cases'] / df_domestic['Total Cases Disposed'] \n",
    "print(df_domestic['Probabilidad_de_apleacion'])"
   ]
  },
  {
   "cell_type": "markdown",
   "id": "54a16774",
   "metadata": {},
   "source": [
    "Calculemos la probabilidad de que un caso se revocado por cada juez de Domestic Relations Court "
   ]
  },
  {
   "cell_type": "code",
   "execution_count": 167,
   "id": "7e733b08",
   "metadata": {},
   "outputs": [
    {
     "name": "stdout",
     "output_type": "stream",
     "text": [
      "0    0.000366\n",
      "1    0.000667\n",
      "2    0.001023\n",
      "3    0.000231\n",
      "4    0.000557\n",
      "Name: Probabilidad_de_revocacion, dtype: float64\n"
     ]
    }
   ],
   "source": [
    "df_domestic['Probabilidad_de_revocacion'] = df_domestic['Reversed Cases'] / df_domestic['Total Cases Disposed'] \n",
    "print(df_domestic['Probabilidad_de_revocacion'])"
   ]
  },
  {
   "cell_type": "markdown",
   "id": "67bdf6e4",
   "metadata": {},
   "source": [
    "__SE PRESENTA A CONTINUACION LA TABLA RESUMEN DE LAS PROBABILIDADES INDIVIDUALES Y PROMEDIO DE APLEACIÓN Y REVOCACIÓN PARA CADA JUEZ DE LA CORTE DE DOMESTIC RELATIONS__"
   ]
  },
  {
   "cell_type": "code",
   "execution_count": 168,
   "id": "4c865710",
   "metadata": {},
   "outputs": [
    {
     "name": "stdout",
     "output_type": "stream",
     "text": [
      "                 Judge  Total Cases Disposed  Appealed Cases  Reversed Cases  \\\n",
      "0  Penelope Cunningham                  2729               7               1   \n",
      "1  Patrick Dinkelacker                  6001              19               4   \n",
      "2       Deborah Gaines                  8799              48               9   \n",
      "3       Ronald Panioto                 12970              32               3   \n",
      "4                Total                 30499             106              17   \n",
      "\n",
      "   Probabilidad_de_apleacion  Probabilidad_de_revocacion  \n",
      "0                   0.002565                    0.000366  \n",
      "1                   0.003166                    0.000667  \n",
      "2                   0.005455                    0.001023  \n",
      "3                   0.002467                    0.000231  \n",
      "4                   0.003476                    0.000557  \n"
     ]
    }
   ],
   "source": [
    "print(df_domestic)"
   ]
  },
  {
   "cell_type": "code",
   "execution_count": 169,
   "id": "5a5859ee",
   "metadata": {},
   "outputs": [
    {
     "name": "stdout",
     "output_type": "stream",
     "text": [
      " La probabilidad 'promedio' de casos apelados en la corte Domestic es: 0.34755237876651696 %\n"
     ]
    }
   ],
   "source": [
    "probabilidad_Casos_apelados_corte_domestic = (df_domestic.at[4, 'Probabilidad_de_apleacion'])*100\n",
    "print(f\" La probabilidad 'promedio' de casos apelados en la corte Domestic es: {probabilidad_Casos_apelados_corte_domestic} %\")\n"
   ]
  },
  {
   "cell_type": "code",
   "execution_count": 170,
   "id": "fa18f343",
   "metadata": {},
   "outputs": [
    {
     "name": "stdout",
     "output_type": "stream",
     "text": [
      " La probabilidad 'promedio' de casos revocados en la corte Domestic es: 0.055739532443686686 %\n"
     ]
    }
   ],
   "source": [
    "probabilidad_Casos_revocados_corte_domestic = df_domestic.at[4, 'Probabilidad_de_revocacion']*100\n",
    "print(f\" La probabilidad 'promedio' de casos revocados en la corte Domestic es: {probabilidad_Casos_revocados_corte_domestic} %\")"
   ]
  },
  {
   "cell_type": "markdown",
   "id": "36b08fd5",
   "metadata": {},
   "source": [
    "__SE MUESTRAN LOS JUECES DE LA CORTE DOMESTIC, DE AQUEL CON MAYOR APELACIÓN A AQUEL CON MENOR APELACIÓN__"
   ]
  },
  {
   "cell_type": "code",
   "execution_count": 171,
   "id": "d6acf592",
   "metadata": {},
   "outputs": [
    {
     "name": "stdout",
     "output_type": "stream",
     "text": [
      "                 Judge  Total Cases Disposed  Appealed Cases  Reversed Cases  \\\n",
      "2       Deborah Gaines                  8799              48               9   \n",
      "4                Total                 30499             106              17   \n",
      "1  Patrick Dinkelacker                  6001              19               4   \n",
      "0  Penelope Cunningham                  2729               7               1   \n",
      "3       Ronald Panioto                 12970              32               3   \n",
      "\n",
      "   Probabilidad_de_apleacion  Probabilidad_de_revocacion  \n",
      "2                   0.005455                    0.001023  \n",
      "4                   0.003476                    0.000557  \n",
      "1                   0.003166                    0.000667  \n",
      "0                   0.002565                    0.000366  \n",
      "3                   0.002467                    0.000231  \n"
     ]
    }
   ],
   "source": [
    "# Sort the df_common data frame by the Probabilidad_de_apelacion column in descending order\n",
    "df_domestic_apelacion_decendiente = df_domestic.sort_values(by='Probabilidad_de_apleacion', ascending=False)\n",
    "print(df_domestic_apelacion_decendiente)"
   ]
  },
  {
   "cell_type": "markdown",
   "id": "3ddd2a11",
   "metadata": {},
   "source": [
    "### Calculemos las probabilidades para el caso de los jueves de Municipal Court"
   ]
  },
  {
   "cell_type": "code",
   "execution_count": 172,
   "id": "1168884b",
   "metadata": {},
   "outputs": [
    {
     "name": "stdout",
     "output_type": "stream",
     "text": [
      "                   Judge  Total Cases Disposed  Appealed Cases  Reversed Cases\n",
      "0             Mike Allen                  6149              43               4\n",
      "1           Nadine Allen                  7812              34               6\n",
      "2          Timothy Black                  7954              41               6\n",
      "3            David Davis                  7736              43               5\n",
      "4   Leslie Isaiah Gaines                  5282              35              13\n",
      "5            Karla Grady                  5253               6               0\n",
      "6            Deidra Hair                  2532               5               0\n",
      "7         Dennis Helmick                  7900              29               5\n",
      "8          Timothy Hogan                  2308              13               2\n",
      "9    James PatrCk Kenney                  2798               6               1\n",
      "10       Joseph Luebbers                  4698              25               8\n",
      "11       William Mallory                  8277              38               9\n",
      "12           Melba Marsh                  8219              34               7\n",
      "13        Beth Mattingly                  2971              13               1\n",
      "14     Albert Mestemaker                  4975              28               9\n",
      "15          Mark Pailler                  2239               7               3\n",
      "16            Jack Rosen                  7790              41              13\n",
      "17       Mark Schweikert                  5403              33               6\n",
      "18        David StockdCe                  5371              22               4\n",
      "19          John A. West                  2797               4               2\n",
      "20                 Total                108464             500             104\n"
     ]
    },
    {
     "data": {
      "text/plain": [
       "pandas.core.frame.DataFrame"
      ]
     },
     "execution_count": 172,
     "metadata": {},
     "output_type": "execute_result"
    }
   ],
   "source": [
    "df_municipal = dfs['Municipal']\n",
    "print(df_municipal)\n",
    "type(df_municipal)"
   ]
  },
  {
   "cell_type": "markdown",
   "id": "a939d9a8",
   "metadata": {},
   "source": [
    "Calculemos la probabilidad de que un caso se apelado por cada juez de Municipal Court "
   ]
  },
  {
   "cell_type": "code",
   "execution_count": 174,
   "id": "457bca3e",
   "metadata": {},
   "outputs": [
    {
     "name": "stdout",
     "output_type": "stream",
     "text": [
      "0     0.006993\n",
      "1     0.004352\n",
      "2     0.005155\n",
      "3     0.005558\n",
      "4     0.006626\n",
      "5     0.001142\n",
      "6     0.001975\n",
      "7     0.003671\n",
      "8     0.005633\n",
      "9     0.002144\n",
      "10    0.005321\n",
      "11    0.004591\n",
      "12    0.004137\n",
      "13    0.004376\n",
      "14    0.005628\n",
      "15    0.003126\n",
      "16    0.005263\n",
      "17    0.006108\n",
      "18    0.004096\n",
      "19    0.001430\n",
      "20    0.004610\n",
      "Name: Probabilidad_de_apleacion, dtype: float64\n"
     ]
    }
   ],
   "source": [
    "df_municipal['Probabilidad_de_apleacion'] = df_municipal['Appealed Cases'] / df_municipal['Total Cases Disposed'] \n",
    "print(df_municipal['Probabilidad_de_apleacion'])"
   ]
  },
  {
   "cell_type": "markdown",
   "id": "a6ed8345",
   "metadata": {},
   "source": [
    "Calculemos la probabilidad de que un caso se revocado por cada juez de Muncipal Court "
   ]
  },
  {
   "cell_type": "code",
   "execution_count": 177,
   "id": "7d39708b",
   "metadata": {},
   "outputs": [
    {
     "name": "stdout",
     "output_type": "stream",
     "text": [
      "0     0.000651\n",
      "1     0.000768\n",
      "2     0.000754\n",
      "3     0.000646\n",
      "4     0.002461\n",
      "5     0.000000\n",
      "6     0.000000\n",
      "7     0.000633\n",
      "8     0.000867\n",
      "9     0.000357\n",
      "10    0.001703\n",
      "11    0.001087\n",
      "12    0.000852\n",
      "13    0.000337\n",
      "14    0.001809\n",
      "15    0.001340\n",
      "16    0.001669\n",
      "17    0.001110\n",
      "18    0.000745\n",
      "19    0.000715\n",
      "20    0.000959\n",
      "Name: Probabilidad_de_revocacion, dtype: float64\n"
     ]
    }
   ],
   "source": [
    "df_municipal['Probabilidad_de_revocacion'] = df_municipal['Reversed Cases'] / df_municipal['Total Cases Disposed'] \n",
    "print(df_municipal['Probabilidad_de_revocacion'])"
   ]
  },
  {
   "cell_type": "markdown",
   "id": "7ee24d17",
   "metadata": {},
   "source": [
    "__SE PRESENTA A CONTINUACION LA TABLA RESUMEN DE LAS PROBABILIDADES INDIVIDUALES DE APLEACIÓN Y REVOCACIÓN PARA CADA JUEZ DE LA CORTE DE MUNICIPAL__"
   ]
  },
  {
   "cell_type": "code",
   "execution_count": 178,
   "id": "6c6196ee",
   "metadata": {},
   "outputs": [
    {
     "name": "stdout",
     "output_type": "stream",
     "text": [
      "                   Judge  Total Cases Disposed  Appealed Cases  \\\n",
      "0             Mike Allen                  6149              43   \n",
      "1           Nadine Allen                  7812              34   \n",
      "2          Timothy Black                  7954              41   \n",
      "3            David Davis                  7736              43   \n",
      "4   Leslie Isaiah Gaines                  5282              35   \n",
      "5            Karla Grady                  5253               6   \n",
      "6            Deidra Hair                  2532               5   \n",
      "7         Dennis Helmick                  7900              29   \n",
      "8          Timothy Hogan                  2308              13   \n",
      "9    James PatrCk Kenney                  2798               6   \n",
      "10       Joseph Luebbers                  4698              25   \n",
      "11       William Mallory                  8277              38   \n",
      "12           Melba Marsh                  8219              34   \n",
      "13        Beth Mattingly                  2971              13   \n",
      "14     Albert Mestemaker                  4975              28   \n",
      "15          Mark Pailler                  2239               7   \n",
      "16            Jack Rosen                  7790              41   \n",
      "17       Mark Schweikert                  5403              33   \n",
      "18        David StockdCe                  5371              22   \n",
      "19          John A. West                  2797               4   \n",
      "20                 Total                108464             500   \n",
      "\n",
      "    Reversed Cases  Probabilidad_de_apleacion  Probabilidad_de_revocacion  \n",
      "0                4                   0.006993                    0.000651  \n",
      "1                6                   0.004352                    0.000768  \n",
      "2                6                   0.005155                    0.000754  \n",
      "3                5                   0.005558                    0.000646  \n",
      "4               13                   0.006626                    0.002461  \n",
      "5                0                   0.001142                    0.000000  \n",
      "6                0                   0.001975                    0.000000  \n",
      "7                5                   0.003671                    0.000633  \n",
      "8                2                   0.005633                    0.000867  \n",
      "9                1                   0.002144                    0.000357  \n",
      "10               8                   0.005321                    0.001703  \n",
      "11               9                   0.004591                    0.001087  \n",
      "12               7                   0.004137                    0.000852  \n",
      "13               1                   0.004376                    0.000337  \n",
      "14               9                   0.005628                    0.001809  \n",
      "15               3                   0.003126                    0.001340  \n",
      "16              13                   0.005263                    0.001669  \n",
      "17               6                   0.006108                    0.001110  \n",
      "18               4                   0.004096                    0.000745  \n",
      "19               2                   0.001430                    0.000715  \n",
      "20             104                   0.004610                    0.000959  \n"
     ]
    }
   ],
   "source": [
    "print(df_municipal)"
   ]
  },
  {
   "cell_type": "code",
   "execution_count": 180,
   "id": "1fbe41ef",
   "metadata": {},
   "outputs": [
    {
     "name": "stdout",
     "output_type": "stream",
     "text": [
      " La probabilidad 'promedio' de casos apelados en la corte municipal es: 0.46098244578846437 %\n"
     ]
    }
   ],
   "source": [
    "probabilidad_Casos_apelados_corte_municipal = (df_municipal.at[20, 'Probabilidad_de_apleacion'])*100\n",
    "print(f\" La probabilidad 'promedio' de casos apelados en la corte municipal es: {probabilidad_Casos_apelados_corte_municipal} %\")"
   ]
  },
  {
   "cell_type": "code",
   "execution_count": 181,
   "id": "a6a10079",
   "metadata": {},
   "outputs": [
    {
     "name": "stdout",
     "output_type": "stream",
     "text": [
      " La probabilidad 'promedio' de casos revocados en la corte municipal es: 0.09588434872400059 %\n"
     ]
    }
   ],
   "source": [
    "probabilidad_Casos_revocados_corte_municipal = (df_municipal.at[20, 'Probabilidad_de_revocacion'])*100\n",
    "print(f\" La probabilidad 'promedio' de casos revocados en la corte municipal es: {probabilidad_Casos_revocados_corte_municipal} %\")"
   ]
  },
  {
   "cell_type": "markdown",
   "id": "9a4b101c",
   "metadata": {},
   "source": [
    "__SE MUESTRAN LOS JUECES DE LA CORTE MUNICIPAL, DE AQUEL CON MAYOR APELACIÓN A AQUEL CON MENOR APELACIÓN__"
   ]
  },
  {
   "cell_type": "code",
   "execution_count": 182,
   "id": "76d69930",
   "metadata": {},
   "outputs": [
    {
     "name": "stdout",
     "output_type": "stream",
     "text": [
      "                   Judge  Total Cases Disposed  Appealed Cases  \\\n",
      "0             Mike Allen                  6149              43   \n",
      "4   Leslie Isaiah Gaines                  5282              35   \n",
      "17       Mark Schweikert                  5403              33   \n",
      "8          Timothy Hogan                  2308              13   \n",
      "14     Albert Mestemaker                  4975              28   \n",
      "3            David Davis                  7736              43   \n",
      "10       Joseph Luebbers                  4698              25   \n",
      "16            Jack Rosen                  7790              41   \n",
      "2          Timothy Black                  7954              41   \n",
      "20                 Total                108464             500   \n",
      "11       William Mallory                  8277              38   \n",
      "13        Beth Mattingly                  2971              13   \n",
      "1           Nadine Allen                  7812              34   \n",
      "12           Melba Marsh                  8219              34   \n",
      "18        David StockdCe                  5371              22   \n",
      "7         Dennis Helmick                  7900              29   \n",
      "15          Mark Pailler                  2239               7   \n",
      "9    James PatrCk Kenney                  2798               6   \n",
      "6            Deidra Hair                  2532               5   \n",
      "19          John A. West                  2797               4   \n",
      "5            Karla Grady                  5253               6   \n",
      "\n",
      "    Reversed Cases  Probabilidad_de_apleacion  Probabilidad_de_revocacion  \n",
      "0                4                   0.006993                    0.000651  \n",
      "4               13                   0.006626                    0.002461  \n",
      "17               6                   0.006108                    0.001110  \n",
      "8                2                   0.005633                    0.000867  \n",
      "14               9                   0.005628                    0.001809  \n",
      "3                5                   0.005558                    0.000646  \n",
      "10               8                   0.005321                    0.001703  \n",
      "16              13                   0.005263                    0.001669  \n",
      "2                6                   0.005155                    0.000754  \n",
      "20             104                   0.004610                    0.000959  \n",
      "11               9                   0.004591                    0.001087  \n",
      "13               1                   0.004376                    0.000337  \n",
      "1                6                   0.004352                    0.000768  \n",
      "12               7                   0.004137                    0.000852  \n",
      "18               4                   0.004096                    0.000745  \n",
      "7                5                   0.003671                    0.000633  \n",
      "15               3                   0.003126                    0.001340  \n",
      "9                1                   0.002144                    0.000357  \n",
      "6                0                   0.001975                    0.000000  \n",
      "19               2                   0.001430                    0.000715  \n",
      "5                0                   0.001142                    0.000000  \n"
     ]
    }
   ],
   "source": [
    "# Sort the df_common data frame by the Probabilidad_de_apelacion column in descending order\n",
    "df_municipal_apelacion_decendiente = df_municipal.sort_values(by='Probabilidad_de_apleacion', ascending=False)\n",
    "print(df_municipal_apelacion_decendiente)"
   ]
  },
  {
   "cell_type": "code",
   "execution_count": null,
   "id": "eec75889",
   "metadata": {},
   "outputs": [],
   "source": []
  },
  {
   "cell_type": "code",
   "execution_count": null,
   "id": "c6fa4598",
   "metadata": {},
   "outputs": [],
   "source": []
  },
  {
   "cell_type": "code",
   "execution_count": null,
   "id": "4a3c2560",
   "metadata": {},
   "outputs": [],
   "source": []
  }
 ],
 "metadata": {
  "kernelspec": {
   "display_name": "Python 3 (ipykernel)",
   "language": "python",
   "name": "python3"
  },
  "language_info": {
   "codemirror_mode": {
    "name": "ipython",
    "version": 3
   },
   "file_extension": ".py",
   "mimetype": "text/x-python",
   "name": "python",
   "nbconvert_exporter": "python",
   "pygments_lexer": "ipython3",
   "version": "3.10.7"
  }
 },
 "nbformat": 4,
 "nbformat_minor": 5
}
