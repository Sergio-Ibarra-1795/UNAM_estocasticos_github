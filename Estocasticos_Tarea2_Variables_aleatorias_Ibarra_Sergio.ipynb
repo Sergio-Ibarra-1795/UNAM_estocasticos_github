{
 "cells": [
  {
   "cell_type": "code",
   "execution_count": null,
   "id": "24a28043",
   "metadata": {},
   "outputs": [],
   "source": []
  },
  {
   "cell_type": "markdown",
   "id": "17f27e9c",
   "metadata": {},
   "source": [
    "## Maestria en Ing. de Sistemas UNAM- Procesos estocásticos . Dra: Patricia Aguilar\n",
    "## Alumno: Sergio Ibarra R (414025796)\n",
    "## Problemas sobre la aplicación de conceptos de variable aleatoria.  Marzo 2023"
   ]
  },
  {
   "cell_type": "markdown",
   "id": "bb8c686e",
   "metadata": {},
   "source": [
    "### Problema 1"
   ]
  },
  {
   "cell_type": "markdown",
   "id": "4599859d",
   "metadata": {},
   "source": [
    "En cada uno de los siguientes enunciados, indique con una D si la variable aleatoria es discreta \n",
    "o con una C si es continua.\n"
   ]
  },
  {
   "cell_type": "markdown",
   "id": "1cd38658",
   "metadata": {},
   "source": [
    "a) El tiempo de espera para un corte de cabello. ………………………………………………….( Continuo) <br>\n",
    "b) El número de automóviles que rebasa un corredor cada mañana. …………………….(Discreto)<br>\n",
    "c) El número de hits de un equipo femenil de softbol de preparatoria. ………………….(Discreto)<br>\n",
    "d) El número de pacientes atendidos en el South Strand Medical Center entre las seis y  diez de la noche, cada noche. ………………………………….……………………………………….(Discreto)<br>\n",
    "e) La distancia que recorrió en su automóvil con el último tanque de gasolina. …….(Continuo)<br>\n",
    "f) El número de clientes del Wendy’s de Oak Street que utilizaron las instalaciones. (Discreto)<br>\n",
    "g) La distancia entre Gainesville, Florida, y todas las ciudades de Florida con una población de por lo menos 50 000 habitantes. ……………….………………………………………………….(Continuo)<br>\n",
    "\n"
   ]
  },
  {
   "cell_type": "code",
   "execution_count": null,
   "id": "3a217cc4",
   "metadata": {},
   "outputs": [],
   "source": []
  },
  {
   "cell_type": "markdown",
   "id": "c9e0631c",
   "metadata": {},
   "source": [
    "### Problema 2"
   ]
  },
  {
   "cell_type": "markdown",
   "id": "b2b5cc35",
   "metadata": {},
   "source": [
    "En un estudio realizado en Estados Unidos en 2001 (USA Today, 6 de septiembre, 2001), 38%  de los alumnos de cuarto grado de primaria no podía leer un libro apropiado para su edad. Los  datos siguientes muestran el número de sujetos, por edad, que se identificaron como niños con  problemas de aprendizaje que requieren educación especial. La mayoría tiene problemas de lectura que debieron identificarse y corregirse antes del tercer grado. La ley federal  estadounidense actual prohíbe que la mayoría de los niños reciba ayuda adicional de programas  de educación especial hasta que el retraso sea de aproximadamente dos años de aprendizaje, y por lo general eso significa hasta tercer grado o grados superiores."
   ]
  },
  {
   "cell_type": "markdown",
   "id": "05f9d8a7",
   "metadata": {},
   "source": [
    "| Edad| Número de niños  \n",
    "| :- | -:  \n",
    "| 6 | 37,369\n",
    "| 7  | 87,436\n",
    "| 8 | 160,840\n",
    "| 9 | 239,719\n",
    "|10 | 286,719\n",
    "|11 | 306,533\n",
    "|12 | 310,787\n",
    "|13 | 302,604\n",
    "|14 | 289,168"
   ]
  },
  {
   "cell_type": "markdown",
   "id": "b9f99af1",
   "metadata": {},
   "source": [
    "Suponga que se desea seleccionar una muestra de menores con problemas de aprendizaje y  que deben tomar educación especial a efecto de incluirlos en un programa diseñado para  mejorar su capacidad de lectura. Sea 𝑋 una variable aleatoria que indica la edad de un niño seleccionado al azar,"
   ]
  },
  {
   "cell_type": "markdown",
   "id": "57ca7659",
   "metadata": {},
   "source": [
    "a) Use los datos para construir la función de probabilidad para 𝑋 y trace su gráfica.<br>\n",
    "b) Calcule la edad promedio de los niños con problemas de aprendizaje..<br>\n",
    "c) Genere una muestra de las edades de 30 niños con problemas de aprendizaje y calcule la  edad promedio. Muestre paso a paso su procedimiento realizado ya sea manualmente o con algún software, en cuyo caso es necesario mostrar la codificación.<br>"
   ]
  },
  {
   "cell_type": "markdown",
   "id": "e1448469",
   "metadata": {},
   "source": [
    "#### a) Use los datos para construir la función de probabilidad para 𝑋 y trace su gráfica.<br>"
   ]
  },
  {
   "cell_type": "markdown",
   "id": "ed1dca64",
   "metadata": {},
   "source": [
    "Vamos a importar el documento donde se guardó la tabla con la información sobre la cantidad de niños en problemas de aprovechamiento en USA"
   ]
  },
  {
   "cell_type": "code",
   "execution_count": 5,
   "id": "ef41497e",
   "metadata": {},
   "outputs": [
    {
     "name": "stdout",
     "output_type": "stream",
     "text": [
      "{'Problema2':    Edad  Número de niños\n",
      "0     6            37369\n",
      "1     7            87436\n",
      "2     8           160840\n",
      "3     9           239719\n",
      "4    10           286719\n",
      "5    11           306533\n",
      "6    12           310787\n",
      "7    13           302604\n",
      "8    14           289168}\n"
     ]
    },
    {
     "data": {
      "text/plain": [
       "dict"
      ]
     },
     "execution_count": 5,
     "metadata": {},
     "output_type": "execute_result"
    }
   ],
   "source": [
    "import pandas as pd\n",
    "\n",
    "# Read the Excel file into a dictionary of data frames\n",
    "df_importado = pd.read_excel(R'C:\\Users\\sergi\\OneDrive\\Documentos\\MIS_UNAM\\Segundo_semestre\\Estocasticos_UNAM\\UNAM_Estocasticos_git\\Estocasticos_Tarea2_Variable_aleatoria_datos_problema2&5.xlsx', sheet_name=['Problema2'])\n",
    "print(df_importado)\n",
    "type(df_importado)"
   ]
  },
  {
   "cell_type": "code",
   "execution_count": 6,
   "id": "59e5e2ce",
   "metadata": {},
   "outputs": [
    {
     "name": "stdout",
     "output_type": "stream",
     "text": [
      "   Edad  Número de niños\n",
      "0     6            37369\n",
      "1     7            87436\n",
      "2     8           160840\n",
      "3     9           239719\n",
      "4    10           286719\n",
      "5    11           306533\n",
      "6    12           310787\n",
      "7    13           302604\n",
      "8    14           289168\n"
     ]
    },
    {
     "data": {
      "text/plain": [
       "pandas.core.frame.DataFrame"
      ]
     },
     "execution_count": 6,
     "metadata": {},
     "output_type": "execute_result"
    }
   ],
   "source": [
    "df_USA_niños_escolar = df_importado['Problema2']\n",
    "print(df_USA_niños_escolar)\n",
    "type(df_USA_niños_escolar)"
   ]
  },
  {
   "cell_type": "markdown",
   "id": "38a83f6f",
   "metadata": {},
   "source": [
    "Vamos a \"separar\" la información de la edad y guardarla en una variable llamada df_USA_niños_escolar_edad"
   ]
  },
  {
   "cell_type": "code",
   "execution_count": 7,
   "id": "913a249c",
   "metadata": {},
   "outputs": [
    {
     "data": {
      "text/plain": [
       "0     6\n",
       "1     7\n",
       "2     8\n",
       "3     9\n",
       "4    10\n",
       "5    11\n",
       "6    12\n",
       "7    13\n",
       "8    14\n",
       "Name: Edad, dtype: int64"
      ]
     },
     "execution_count": 7,
     "metadata": {},
     "output_type": "execute_result"
    }
   ],
   "source": [
    "df_USA_niños_escolar_edad= df_USA_niños_escolar['Edad']\n",
    "df_USA_niños_escolar_edad"
   ]
  },
  {
   "cell_type": "code",
   "execution_count": 8,
   "id": "57a672c0",
   "metadata": {},
   "outputs": [
    {
     "data": {
      "text/plain": [
       "pandas.core.series.Series"
      ]
     },
     "execution_count": 8,
     "metadata": {},
     "output_type": "execute_result"
    }
   ],
   "source": [
    "type(df_USA_niños_escolar_edad)"
   ]
  },
  {
   "cell_type": "code",
   "execution_count": 9,
   "id": "f6fffcc0",
   "metadata": {},
   "outputs": [
    {
     "data": {
      "text/plain": [
       "6"
      ]
     },
     "execution_count": 9,
     "metadata": {},
     "output_type": "execute_result"
    }
   ],
   "source": [
    "df_USA_niños_escolar_edad[0]"
   ]
  },
  {
   "cell_type": "markdown",
   "id": "9b5b5f79",
   "metadata": {},
   "source": [
    "Vamos a \"separar\" la información del número de nuños por edad y guardarla en una variable llamada df_USA_niños"
   ]
  },
  {
   "cell_type": "code",
   "execution_count": 10,
   "id": "2b2f7aab",
   "metadata": {},
   "outputs": [
    {
     "data": {
      "text/plain": [
       "0     37369\n",
       "1     87436\n",
       "2    160840\n",
       "3    239719\n",
       "4    286719\n",
       "5    306533\n",
       "6    310787\n",
       "7    302604\n",
       "8    289168\n",
       "Name: Número de niños, dtype: int64"
      ]
     },
     "execution_count": 10,
     "metadata": {},
     "output_type": "execute_result"
    }
   ],
   "source": [
    "df_USA_niños= df_USA_niños_escolar['Número de niños']\n",
    "df_USA_niños"
   ]
  },
  {
   "cell_type": "markdown",
   "id": "00ccecb1",
   "metadata": {},
   "source": [
    "Transformando la data de numero de niños en una lista para poder sumar sus elementos usarlo para calcular el promedio de cada edad"
   ]
  },
  {
   "cell_type": "code",
   "execution_count": 11,
   "id": "4633eadb",
   "metadata": {},
   "outputs": [
    {
     "data": {
      "text/plain": [
       "[37369, 87436, 160840, 239719, 286719, 306533, 310787, 302604, 289168]"
      ]
     },
     "execution_count": 11,
     "metadata": {},
     "output_type": "execute_result"
    }
   ],
   "source": [
    "# Transform the series to a list\n",
    "df_USA_niños_list = df_USA_niños.tolist()\n",
    "\n",
    "df_USA_niños_list\n"
   ]
  },
  {
   "cell_type": "code",
   "execution_count": 12,
   "id": "9b9fbcd0",
   "metadata": {},
   "outputs": [
    {
     "data": {
      "text/plain": [
       "2021175"
      ]
     },
     "execution_count": 12,
     "metadata": {},
     "output_type": "execute_result"
    }
   ],
   "source": [
    "# Get the sum of all elements in the list\n",
    "total_niños_USA = sum(df_USA_niños_list)\n",
    "total_niños_USA"
   ]
  },
  {
   "cell_type": "markdown",
   "id": "3dae0947",
   "metadata": {},
   "source": [
    "Calculando las probabilidades por edad como:\n",
    "$$P(x=edad) = \\frac{\\mathrm{Numero\\,de\\,ninios\\,en\\,edad\\,X=x}}{\\mathrm{Numero\\, total\\, de\\, ninios}}$$\n",
    "    \n",
    "y las añadimos a la tabla llamada df_USA_niños_escolar"
   ]
  },
  {
   "cell_type": "code",
   "execution_count": 13,
   "id": "3266eaa6",
   "metadata": {
    "scrolled": true
   },
   "outputs": [
    {
     "name": "stdout",
     "output_type": "stream",
     "text": [
      "0     1.848875\n",
      "1     4.325998\n",
      "2     7.957747\n",
      "3    11.860378\n",
      "4    14.185758\n",
      "5    15.166079\n",
      "6    15.376551\n",
      "7    14.971687\n",
      "8    14.306925\n",
      "Name: Probabilidad_por_edad, dtype: float64\n"
     ]
    }
   ],
   "source": [
    "df_USA_niños_escolar['Probabilidad_por_edad'] = (df_USA_niños / total_niños_USA)*100\n",
    "print(df_USA_niños_escolar['Probabilidad_por_edad'])"
   ]
  },
  {
   "cell_type": "code",
   "execution_count": 14,
   "id": "b493c514",
   "metadata": {},
   "outputs": [
    {
     "name": "stdout",
     "output_type": "stream",
     "text": [
      "   Edad  Número de niños  Probabilidad_por_edad\n",
      "0     6            37369               1.848875\n",
      "1     7            87436               4.325998\n",
      "2     8           160840               7.957747\n",
      "3     9           239719              11.860378\n",
      "4    10           286719              14.185758\n",
      "5    11           306533              15.166079\n",
      "6    12           310787              15.376551\n",
      "7    13           302604              14.971687\n",
      "8    14           289168              14.306925\n"
     ]
    }
   ],
   "source": [
    "print(df_USA_niños_escolar)"
   ]
  },
  {
   "cell_type": "markdown",
   "id": "7982f12b",
   "metadata": {},
   "source": [
    "<span style=\"color:red\">__Por lo tanto la función de probabilidad de X sería__</span>"
   ]
  },
  {
   "cell_type": "markdown",
   "id": "979dec2e",
   "metadata": {},
   "source": [
    "| Edad| Valor de probabilidad  \n",
    "| :- | -:  \n",
    "| 6 | 1.85\n",
    "| 7  | 4.32\n",
    "| 8 | 7.96\n",
    "| 9 | 11.87\n",
    "|10 | 14.19\n",
    "|11 | 15.17\n",
    "|12 | 15.38\n",
    "|13 | 14.97\n",
    "|14 | 14.31"
   ]
  },
  {
   "cell_type": "markdown",
   "id": "44e7e260",
   "metadata": {},
   "source": [
    "  <span style=\"color:red\">__Y la gráfica de la función de probabilidad de X sería__ </span>"
   ]
  },
  {
   "cell_type": "code",
   "execution_count": 15,
   "id": "f009dcc3",
   "metadata": {},
   "outputs": [
    {
     "data": {
      "image/png": "[encoded data removed]",
      "text/plain": [
       "<Figure size 640x480 with 1 Axes>"
      ]
     },
     "metadata": {},
     "output_type": "display_data"
    }
   ],
   "source": [
    "import matplotlib.pyplot as plt\n",
    "\n",
    "# Assuming that df_USA_niños_escolar is a pandas dataframe\n",
    "plt.plot(df_USA_niños_escolar['Edad'], df_USA_niños_escolar['Probabilidad_por_edad'])\n",
    "plt.xlabel('Edad')\n",
    "plt.ylabel('Probabilidad por Edad')\n",
    "plt.title('Gráfico de dispersión de probabilidad por edad')\n",
    "plt.show()\n"
   ]
  },
  {
   "cell_type": "markdown",
   "id": "9cfa400d",
   "metadata": {},
   "source": [
    "#### b) Calcule la edad promedio de los niños con problemas de aprendizaje.<br>"
   ]
  },
  {
   "cell_type": "markdown",
   "id": "33a8f424",
   "metadata": {},
   "source": [
    "La edad promedio se calculará como la esperanza de los valores de la función de probabilidad"
   ]
  },
  {
   "cell_type": "code",
   "execution_count": 41,
   "id": "b42724cc",
   "metadata": {
    "scrolled": true
   },
   "outputs": [
    {
     "data": {
      "text/plain": [
       "11.0"
      ]
     },
     "execution_count": 41,
     "metadata": {},
     "output_type": "execute_result"
    }
   ],
   "source": [
    "esperanza_edad = round(sum(df_USA_niños_escolar['Edad']*(df_USA_niños_escolar['Probabilidad_por_edad']/100)),2)\n",
    "esperanza_edad"
   ]
  },
  {
   "cell_type": "code",
   "execution_count": 42,
   "id": "4a7ce490",
   "metadata": {},
   "outputs": [
    {
     "data": {
      "text/html": [
       "<span style=\"color:red\">_La edad promedio de los niños con problemas de aprendizaje__ es: 11.0 años</span>"
      ],
      "text/plain": [
       "<IPython.core.display.HTML object>"
      ]
     },
     "execution_count": 42,
     "metadata": {},
     "output_type": "execute_result"
    }
   ],
   "source": [
    "from IPython.core.display import HTML\n",
    "\n",
    "\n",
    "texto = f'<span style=\"color:red\">_La edad promedio de los niños con problemas de aprendizaje__ es: {esperanza_edad} años</span>'\n",
    "\n",
    "HTML(texto)\n",
    "\n"
   ]
  },
  {
   "cell_type": "markdown",
   "id": "c0b1e45b",
   "metadata": {},
   "source": [
    "#### c) Genere una muestra de las edades de 30 niños con problemas de aprendizaje y calcule la  edad promedio. Muestre paso a paso su procedimiento realizado ya sea manualmente o con algún software, en cuyo caso es necesario mostrar la codificación.<br>"
   ]
  },
  {
   "cell_type": "markdown",
   "id": "4c32aab0",
   "metadata": {},
   "source": [
    "Para poder generar números aleatorios en Python a partir de una x y una f(x) ambos deben estar en un formato de dato tipo 'lista'"
   ]
  },
  {
   "cell_type": "code",
   "execution_count": 43,
   "id": "35c3df96",
   "metadata": {},
   "outputs": [
    {
     "data": {
      "text/plain": [
       "[0.01848875035560998,\n",
       " 0.04325998490976783,\n",
       " 0.07957747349932588,\n",
       " 0.11860378245327594,\n",
       " 0.1418575828416639,\n",
       " 0.15166079137135577,\n",
       " 0.15376550768736008,\n",
       " 0.14971687261122862,\n",
       " 0.143069254270412]"
      ]
     },
     "execution_count": 43,
     "metadata": {},
     "output_type": "execute_result"
    }
   ],
   "source": [
    "#Transformando los datos de la columna probabilidad en una tipo lista\n",
    "\n",
    "df_USA_niños_probabilidad_list = (df_USA_niños_escolar['Probabilidad_por_edad']/100).tolist()\n",
    "df_USA_niños_probabilidad_list "
   ]
  },
  {
   "cell_type": "code",
   "execution_count": 44,
   "id": "21574303",
   "metadata": {},
   "outputs": [
    {
     "data": {
      "text/plain": [
       "[6, 7, 8, 9, 10, 11, 12, 13, 14]"
      ]
     },
     "execution_count": 44,
     "metadata": {},
     "output_type": "execute_result"
    }
   ],
   "source": [
    "#Transformando los datos de la columna edad en una tipo lista\n",
    "df_USA_niños_escolar_edad_list = df_USA_niños_escolar_edad.tolist()\n",
    "\n",
    "df_USA_niños_escolar_edad_list"
   ]
  },
  {
   "cell_type": "markdown",
   "id": "1c2820f1",
   "metadata": {},
   "source": [
    "Ahora procederemos a generar los 30 numeros random, con la función de python que se llama random.choice y que toma 3 parametros:<br>\n",
    "    a)Los valores de la variable x en la función de distribución <br>\n",
    "    b)Los valores de f(x) en la función de distribución <br>\n",
    "    c) El número de valores random que se quiere generar\n",
    "    "
   ]
  },
  {
   "cell_type": "code",
   "execution_count": 45,
   "id": "5e3a0801",
   "metadata": {},
   "outputs": [
    {
     "data": {
      "text/plain": [
       "array([14, 14, 11, 11, 12, 14, 10, 12, 13, 10,  9, 12,  9, 10,  8, 11,  7,\n",
       "        7, 10,  9, 14, 12, 10, 11, 10, 14, 14,  7, 12,  9])"
      ]
     },
     "execution_count": 45,
     "metadata": {},
     "output_type": "execute_result"
    }
   ],
   "source": [
    "import numpy as np \n",
    "\n",
    "random_30_edades = np.random.choice(\n",
    "df_USA_niños_escolar_edad_list, size=30, p=df_USA_niños_probabilidad_list )\n",
    "random_30_edades"
   ]
  },
  {
   "cell_type": "markdown",
   "id": "1504c18a",
   "metadata": {},
   "source": [
    "Vamos a graficar los valores generados"
   ]
  },
  {
   "cell_type": "code",
   "execution_count": 46,
   "id": "a0462b68",
   "metadata": {},
   "outputs": [
    {
     "data": {
      "image/png": "[encoded data removed]",
      "text/plain": [
       "<Figure size 640x480 with 1 Axes>"
      ]
     },
     "metadata": {},
     "output_type": "display_data"
    }
   ],
   "source": [
    "import matplotlib.pyplot as plt\n",
    "\n",
    "plt.hist(random_30_edades, bins=10)\n",
    "plt.xlabel('Values')\n",
    "plt.ylabel('Frequency')\n",
    "plt.title('Histogram of Random X')\n",
    "plt.show()\n"
   ]
  },
  {
   "cell_type": "markdown",
   "id": "eb1f4e76",
   "metadata": {},
   "source": [
    "Ahora calculemos la edad promedio de los valores simulados"
   ]
  },
  {
   "cell_type": "code",
   "execution_count": 47,
   "id": "afec90d8",
   "metadata": {},
   "outputs": [],
   "source": [
    "import numpy as np\n",
    "\n",
    "edad_promedio_simulada = round(np.mean(random_30_edades),2)\n",
    "\n"
   ]
  },
  {
   "cell_type": "code",
   "execution_count": 48,
   "id": "a40f344b",
   "metadata": {},
   "outputs": [
    {
     "data": {
      "text/html": [
       "<span style=\"color:red\">_La edad promedio de los valores simulados es__ es: 10.87 años</span>"
      ],
      "text/plain": [
       "<IPython.core.display.HTML object>"
      ]
     },
     "execution_count": 48,
     "metadata": {},
     "output_type": "execute_result"
    }
   ],
   "source": [
    "from IPython.core.display import HTML\n",
    "\n",
    "\n",
    "texto = f'<span style=\"color:red\">_La edad promedio de los valores simulados es__ es: {edad_promedio_simulada} años</span>'\n",
    "\n",
    "HTML(texto)\n"
   ]
  },
  {
   "cell_type": "markdown",
   "id": "8241f555",
   "metadata": {},
   "source": [
    "ES MUY CERCANA A LA ESPERANZA_EDAD QUE NO ES SIMULADA!"
   ]
  },
  {
   "cell_type": "code",
   "execution_count": null,
   "id": "1cf9aeeb",
   "metadata": {},
   "outputs": [],
   "source": []
  },
  {
   "cell_type": "markdown",
   "id": "833ce6a5",
   "metadata": {},
   "source": [
    "### Problema 3"
   ]
  },
  {
   "cell_type": "markdown",
   "id": "b2f3c919",
   "metadata": {},
   "source": [
    "Considere la variable aleatoria 𝑌 cuya función de distribución (acumulativa) es la que se indica a  continuación. <br>\n",
    "a) Decida si la variable aleatoria 𝑌 es discreta o continua. Justifique su respuesta.<br>\n",
    "b) Construya la función 𝑓𝑌(𝑦).<br>\n",
    "c) Calcule la media y la varianza de Y<br>"
   ]
  },
  {
   "cell_type": "code",
   "execution_count": null,
   "id": "51b6db7b",
   "metadata": {},
   "outputs": [],
   "source": []
  },
  {
   "cell_type": "markdown",
   "id": "a7b6a782",
   "metadata": {},
   "source": [
    "$$F_{Y}(y) = \\left\\{\\begin{matrix}\n",
    "0, & y<=0\\\\ \n",
    "y/8 ,& 0<y<2\\\\ \n",
    "y^{2}/16 ,& 2<=y<4\\\\ \n",
    "1 ,& y>4\\\\  \n",
    "\\end{matrix}\\right.$$"
   ]
  },
  {
   "cell_type": "markdown",
   "id": "8584336d",
   "metadata": {},
   "source": [
    "Primero que todo vamos a graficar la funcion de distribución acumulada para la variable Y y observar que forma tiene"
   ]
  },
  {
   "cell_type": "code",
   "execution_count": 33,
   "id": "c84eea36",
   "metadata": {},
   "outputs": [
    {
     "data": {
      "image/png": "[encoded data removed]",
      "text/plain": [
       "<Figure size 640x480 with 1 Axes>"
      ]
     },
     "metadata": {},
     "output_type": "display_data"
    }
   ],
   "source": [
    "import numpy as np\n",
    "import matplotlib.pyplot as plt\n",
    "\n",
    "def F_Y(y):\n",
    "    return np.piecewise(y, [y <= 0, (y > 0) & (y < 2), (y >= 2) & (y < 4), y >= 4],\n",
    "                        [0, lambda y: y/8, lambda y: y**2/16, 1])\n",
    "\n",
    "y = np.linspace(-1, 5, 1000)\n",
    "F = F_Y(y)\n",
    "\n",
    "plt.plot(y, F)\n",
    "plt.title('Cumulative Distribution Function F_Y(y)')\n",
    "plt.xlabel('y')\n",
    "plt.ylabel('F_Y(y)')\n",
    "plt.show()\n"
   ]
  },
  {
   "cell_type": "markdown",
   "id": "1b0d4600",
   "metadata": {},
   "source": [
    "Se observa claramente una función cotinua y creciente hasta 1, por lo que podemos estar seguros que F(y) es una función de distribución acumulativa "
   ]
  },
  {
   "cell_type": "markdown",
   "id": "9eaa5e35",
   "metadata": {},
   "source": [
    "#### a) Decida si la variable aleatoria 𝑌 es discreta o continua. Justifique su respuesta.<br>"
   ]
  },
  {
   "cell_type": "markdown",
   "id": "c9bb65fc",
   "metadata": {},
   "source": [
    "Debido a que la función de distribución $F_{Y}(y)$ SI ES CONTINUA. Se puede decir entonces que la Variable aleatoria X de la que proviene TAMBIÉN ES CONTINUA "
   ]
  },
  {
   "cell_type": "code",
   "execution_count": null,
   "id": "bf5e52ef",
   "metadata": {},
   "outputs": [],
   "source": []
  },
  {
   "cell_type": "markdown",
   "id": "8d524910",
   "metadata": {},
   "source": [
    "#### b) Construya la función 𝑓𝑌(𝑦).<br>"
   ]
  },
  {
   "cell_type": "markdown",
   "id": "a6c14c38",
   "metadata": {},
   "source": [
    "Nosotros sabemos que para cualquier variable aleatoria Y su función de distribución acumulativa se define como:"
   ]
  },
  {
   "cell_type": "markdown",
   "id": "8450305c",
   "metadata": {},
   "source": [
    "$$F_{y}(y) = P(Y<=y)$$"
   ]
  },
  {
   "cell_type": "markdown",
   "id": "2c4d2744",
   "metadata": {},
   "source": [
    "Y sabemos que la relación entre la función de distribución acumulada F(Y) y la función de distribcuión de densidad de probabilidad f(y) es:"
   ]
  },
  {
   "cell_type": "markdown",
   "id": "26d0d525",
   "metadata": {},
   "source": [
    "$$F_{y}(Y) = \\int_{-\\infty }^{y} f_{y}(t) dt$$"
   ]
  },
  {
   "cell_type": "markdown",
   "id": "e74e9bae",
   "metadata": {},
   "source": [
    "Y por lo tanto se podría decir que es posible calcular la función de densidad de probabilidad f(y) a partir de su función de densidad acumuladad de probabilidad Fy(Y) de la siguiente manera:"
   ]
  },
  {
   "cell_type": "markdown",
   "id": "2b26b16a",
   "metadata": {},
   "source": [
    "$$f_{y}(y) = F'_{y}(t) =\\frac{dFy}{dy}$$"
   ]
  },
  {
   "cell_type": "markdown",
   "id": "025ae57d",
   "metadata": {},
   "source": [
    "Por lo tanto en nuestro caso habría que deribar cada una de las secciones de la función acumulativa F(y) con respecto a y para obtener f(y)"
   ]
  },
  {
   "cell_type": "markdown",
   "id": "9b88c5f4",
   "metadata": {},
   "source": [
    "<span style=\"color:red\">__Por lo tanto la función de densidad probabilidad de Y sería  - f(Y:)__</span>"
   ]
  },
  {
   "cell_type": "markdown",
   "id": "fda19091",
   "metadata": {},
   "source": [
    "$$f(y)=\\left\\{\\begin{matrix}\n",
    " 0, & y<=0 \\\\ \n",
    " 1/8 ,& 0<y<2 \\\\ \n",
    " y/8 ,& 2<=y<4 \\\\ \n",
    " 0 ,& y>=4& \n",
    "\\end{matrix}\\right.$$"
   ]
  },
  {
   "cell_type": "markdown",
   "id": "b1b82b1e",
   "metadata": {},
   "source": [
    "Vamos a graficar la función de densidad de probabilidad f(y) para ver como luce"
   ]
  },
  {
   "cell_type": "code",
   "execution_count": 1,
   "id": "57bc5ec7",
   "metadata": {},
   "outputs": [
    {
     "data": {
      "image/png": "[encoded data removed]",
      "text/plain": [
       "<Figure size 640x480 with 1 Axes>"
      ]
     },
     "metadata": {},
     "output_type": "display_data"
    }
   ],
   "source": [
    "import numpy as np\n",
    "import matplotlib.pyplot as plt\n",
    "\n",
    "def f_y(y):\n",
    "    return np.piecewise(y, [y<=0, (y>0)&(y<2), (y>=2)&(y<4), y>=4], [0, 1/8, lambda y: y/8, 0])\n",
    "\n",
    "y = np.linspace(-1, 5, 1000)\n",
    "f = f_y(y)\n",
    "\n",
    "plt.plot(y, f)\n",
    "plt.title('Density Distribution Function f(y)')\n",
    "plt.xlabel('y')\n",
    "plt.ylabel('f(y)')\n",
    "plt.show()\n"
   ]
  },
  {
   "cell_type": "markdown",
   "id": "e8690144",
   "metadata": {},
   "source": [
    "Se observa una función con valores mayores a cero y cuya área parece justamente tender al valor de la unidad "
   ]
  },
  {
   "cell_type": "markdown",
   "id": "53110797",
   "metadata": {},
   "source": [
    "#### c) Calcule la media y la varianza de Y<br>"
   ]
  },
  {
   "cell_type": "markdown",
   "id": "6883e69e",
   "metadata": {},
   "source": [
    "Recordando que la esperanza de una variable aleatoria Y, dada su función de distribución f(y) se definia para el caso de las variables discretas como:"
   ]
  },
  {
   "cell_type": "markdown",
   "id": "1984f35b",
   "metadata": {},
   "source": [
    "$$E(Y) = \\sum_{-\\infty }^{\\infty } y*p(y)$$"
   ]
  },
  {
   "cell_type": "markdown",
   "id": "a6b880ce",
   "metadata": {},
   "source": [
    "Para el caso de las variables continas dicha esperanza o media se define como:"
   ]
  },
  {
   "cell_type": "markdown",
   "id": "0dc8766e",
   "metadata": {},
   "source": [
    "$$E(Y) = \\int_{-\\infty }^{\\infty } y*p(y)$$"
   ]
  },
  {
   "cell_type": "markdown",
   "id": "5d47c82e",
   "metadata": {},
   "source": [
    "Que para nuestro caso sería:"
   ]
  },
  {
   "cell_type": "markdown",
   "id": "5b9ff102",
   "metadata": {},
   "source": [
    "$$E(y) = \\int_{0}^{4}f(y) *y= \\int_{0}^{4} \\left\\{\\begin{matrix}\n",
    " 0, & y<=0 \\\\ \n",
    " 1/8 ,& 0<y<2 \\\\ \n",
    " y/8 ,& 2<=y<4 \\\\ \n",
    " 0 ,& y>=4& \n",
    "\\end{matrix}\\right. * y dy$$"
   ]
  },
  {
   "cell_type": "markdown",
   "id": "3dc96115",
   "metadata": {},
   "source": [
    "Entonces re solviendo la integralen Python tenemos:"
   ]
  },
  {
   "cell_type": "code",
   "execution_count": 8,
   "id": "c9a060d0",
   "metadata": {},
   "outputs": [],
   "source": [
    "import numpy as np\n",
    "from scipy.integrate import quad\n",
    "\n",
    "def f_y(y):\n",
    "    return np.piecewise(y, [y<=0, (y>0)&(y<2), (y>=2)&(y<4), y>=4], [0, 1/8, lambda y: y/8, 0])\n",
    "\n",
    "##Se define la función que integrará y por lo tanto calculará la media \n",
    "def mean_f(f, a, b):\n",
    "    integrand = lambda y: y*f(y)\n",
    "    ## FUNCIÓN QUE REALIZA LA INTEGRACIÓN!\n",
    "    return quad(integrand, a, b)[0]\n",
    "\n",
    "##Aqui se usa/llama la función que integra y calcula media \n",
    "mean_Y = round(mean_f(f_y, 0, 4),2)\n",
    "\n"
   ]
  },
  {
   "cell_type": "code",
   "execution_count": 9,
   "id": "4d35c63e",
   "metadata": {},
   "outputs": [
    {
     "data": {
      "text/html": [
       "<span style=\"color:red\">_La media de la variable Y sería: 2.58 </span>"
      ],
      "text/plain": [
       "<IPython.core.display.HTML object>"
      ]
     },
     "execution_count": 9,
     "metadata": {},
     "output_type": "execute_result"
    }
   ],
   "source": [
    "from IPython.core.display import HTML\n",
    "\n",
    "\n",
    "texto = f'<span style=\"color:red\">_La media de la variable Y sería: {mean_Y} </span>'\n",
    "\n",
    "HTML(texto)"
   ]
  },
  {
   "cell_type": "markdown",
   "id": "9727fa10",
   "metadata": {},
   "source": [
    "Para el caso de la varianza de la variable aleatoria Y, se define como, la esperanza del cuadrado de la desviación con respecto a la media, es decir:"
   ]
  },
  {
   "cell_type": "markdown",
   "id": "ef254ea3",
   "metadata": {},
   "source": [
    "$$Var(Y) =E[(Y-\\mu )^2]$$"
   ]
  },
  {
   "cell_type": "markdown",
   "id": "cc59d064",
   "metadata": {},
   "source": [
    "Ahora en el caso de conocer la funcion de probabilidad de densidad dicha varianza se calcula como:"
   ]
  },
  {
   "cell_type": "markdown",
   "id": "a77e2532",
   "metadata": {},
   "source": [
    "\n",
    "$$Var(Y) = \\sigma ^2 (y) = \\int_{-\\infty }^{\\infty }(Y-\\mu )^2 *f(y)$$"
   ]
  },
  {
   "cell_type": "markdown",
   "id": "05e6f157",
   "metadata": {},
   "source": [
    "Y en nuestro caso:"
   ]
  },
  {
   "cell_type": "markdown",
   "id": "c9a104ca",
   "metadata": {},
   "source": [
    "$$Var(y) = \\int_{0}^{4}f(y) *(Y-\\mu )^2= \\int_{0}^{4} \\left\\{\\begin{matrix}\n",
    " 0, & y<=0 \\\\ \n",
    " 1/8 ,& 0<y<2 \\\\ \n",
    " y/8 ,& 2<=y<4 \\\\ \n",
    " 0 ,& y>=4& \n",
    "\\end{matrix}\\right. * (Y-\\mu )^2 dy$$"
   ]
  },
  {
   "cell_type": "markdown",
   "id": "73503be1",
   "metadata": {},
   "source": [
    "Y en Python el código para integrar y genera la varianza es:"
   ]
  },
  {
   "cell_type": "code",
   "execution_count": 17,
   "id": "c3b9c6a1",
   "metadata": {},
   "outputs": [],
   "source": [
    "import numpy as np\n",
    "from scipy.integrate import quad\n",
    "\n",
    "def f_y(y):\n",
    "    return np.piecewise(y, [y<=0, (y>0)&(y<2), (y>=2)&(y<4), y>=4], [0, 1/8, lambda y: y/8, 0])\n",
    "\n",
    "##Se define la función que integrará y por lo tanto calculará la varianza\n",
    "def variance_f(f, mean_Y, a, b):\n",
    "    integrand = lambda y: (y-mean_Y)**2*f(y)\n",
    "    return quad(integrand, a, b)[0]\n",
    "\n",
    "##Aqui se usa/llama la función que integra y calcula varianza \n",
    "variance_Y = round(variance_f(f_y, mean_Y, 0, 4),2)\n",
    "\n"
   ]
  },
  {
   "cell_type": "code",
   "execution_count": 18,
   "id": "f6326475",
   "metadata": {},
   "outputs": [
    {
     "data": {
      "text/html": [
       "<span style=\"color:red\">_La varianza de la variable Y sería: 1.16 </span>"
      ],
      "text/plain": [
       "<IPython.core.display.HTML object>"
      ]
     },
     "execution_count": 18,
     "metadata": {},
     "output_type": "execute_result"
    }
   ],
   "source": [
    "from IPython.core.display import HTML\n",
    "\n",
    "\n",
    "texto = f'<span style=\"color:red\">_La varianza de la variable Y sería: {variance_Y} </span>'\n",
    "\n",
    "HTML(texto)"
   ]
  },
  {
   "cell_type": "markdown",
   "id": "e5cf4533",
   "metadata": {},
   "source": [
    "### Problema 4"
   ]
  },
  {
   "cell_type": "code",
   "execution_count": null,
   "id": "fb31fcf3",
   "metadata": {},
   "outputs": [],
   "source": []
  },
  {
   "cell_type": "markdown",
   "id": "648fae94",
   "metadata": {},
   "source": [
    "La proporción de tiempo por día en la que todas las cajas de un supermercado están ocupadas, \n",
    "es una variable aleatoria 𝑌 con función de densidad\n"
   ]
  },
  {
   "cell_type": "markdown",
   "id": "db05eee2",
   "metadata": {},
   "source": [
    "$$f_{Y}(y) = \\left\\{\\begin{matrix}\n",
    "c*y^2(1-y)^4, & 0<=y<=1\\\\ \n",
    " 0, & en otro caso\n",
    "\\end{matrix}\\right.$$\n",
    "\n",
    "En donde 𝑐 es una constante.\n"
   ]
  },
  {
   "cell_type": "markdown",
   "id": "b636956b",
   "metadata": {},
   "source": [
    "a) Encuentre el valor de c que hace de 𝑓𝑌 (𝑦) una función de densidad <br>\n",
    "b) Obtenga la media y la varianza de 𝑌.<br>\n",
    "c) Genere 30 valores aleatorios de 𝑌 y calcule el promedio de dichos valores. Muestre paso a  paso su procedimiento realizado ya sea manualmente o con algún software, en cuyo caso es necesario mostrar la codificación"
   ]
  },
  {
   "cell_type": "markdown",
   "id": "40b6aa82",
   "metadata": {},
   "source": [
    "#### a) Encuentre el valor de c que hace de 𝑓𝑌 (𝑦) una función de densidad <br>"
   ]
  },
  {
   "cell_type": "markdown",
   "id": "81e01dea",
   "metadata": {},
   "source": [
    "Entonces se debe encontrar los valores de c para los cuales la integral de f(x) desde 0 hasta 1 sea exactamente igual a 1. que es una de las propiedades de la función de distribución de una v.a. X"
   ]
  },
  {
   "cell_type": "markdown",
   "id": "eb3661ca",
   "metadata": {},
   "source": [
    "La propiedad de la función de distribución f(x) se expresa entonces como:"
   ]
  },
  {
   "cell_type": "markdown",
   "id": "bbf6874f",
   "metadata": {},
   "source": [
    "$$\\int_{0}^{1}f_{x}(x) =1$$"
   ]
  },
  {
   "cell_type": "markdown",
   "id": "0c0989ed",
   "metadata": {},
   "source": [
    "Que en nuestro caso es:"
   ]
  },
  {
   "cell_type": "markdown",
   "id": "601fbfc4",
   "metadata": {},
   "source": [
    "$$\\int_{0}^{1}c*y^2*(1-y)^4 =1$$"
   ]
  },
  {
   "cell_type": "markdown",
   "id": "27fcc26a",
   "metadata": {},
   "source": [
    "Entonces resolvamos la integral usando Python"
   ]
  },
  {
   "cell_type": "code",
   "execution_count": 19,
   "id": "fdcc167e",
   "metadata": {},
   "outputs": [
    {
     "name": "stdout",
     "output_type": "stream",
     "text": [
      "The antiderivative of f(y) = c*y^2*(1-y)^4 with respect to y is:\n",
      "c*y**7/7 - 2*c*y**6/3 + 6*c*y**5/5 - c*y**4 + c*y**3/3\n"
     ]
    }
   ],
   "source": [
    "import sympy as sym\n",
    "\n",
    "# define the symbol y and the constant c\n",
    "y = sym.symbols('y')\n",
    "c = sym.symbols('c')\n",
    "\n",
    "# define the integrand\n",
    "f = c * y**2 * (1-y)**4\n",
    "\n",
    "# integrate the function with respect to y\n",
    "F = sym.integrate(f, y)\n",
    "\n",
    "# print the result\n",
    "print(\"The antiderivative of f(y) = c*y^2*(1-y)^4 with respect to y is:\")\n",
    "print(F)\n"
   ]
  },
  {
   "cell_type": "markdown",
   "id": "0411667b",
   "metadata": {},
   "source": [
    "Entonces el resultado de la integral es:"
   ]
  },
  {
   "cell_type": "markdown",
   "id": "720e8fc1",
   "metadata": {},
   "source": [
    "$$\\int_{0}^{1}c*y^2*(1-y)^4 dy =  \\frac{c*y^7}{7} - \\frac{2*c*y^6}{3}  +\\frac{6*c*y^5}{5} - c*y^4 + \\frac{c*y^3}{3} $$"
   ]
  },
  {
   "cell_type": "markdown",
   "id": "7422cb50",
   "metadata": {},
   "source": [
    "Y evaluando los limites de intetración tenemos: "
   ]
  },
  {
   "cell_type": "markdown",
   "id": "1b5f7733",
   "metadata": {},
   "source": [
    "$$\\left [ \\frac{c*y^7}{7} - \\frac{2*c*y^6}{3}  +\\frac{6*c*y^5}{5} - c*y^4 + \\frac{c*y^3}{3}  \\right ]_{0}^{1} =  [ \\frac{c}{7} - \\frac{2*c}{3}  +\\frac{6*c}{5} - c* + \\frac{c}{3}] -(0)\n",
    " $$"
   ]
  },
  {
   "cell_type": "code",
   "execution_count": null,
   "id": "e69a3aff",
   "metadata": {},
   "outputs": [],
   "source": [
    "Sumando los terminos, tenemos:"
   ]
  },
  {
   "cell_type": "markdown",
   "id": "b9f91d30",
   "metadata": {},
   "source": [
    "$$1 = \\frac{1c}{105}$$"
   ]
  },
  {
   "cell_type": "markdown",
   "id": "f976a5ed",
   "metadata": {},
   "source": [
    "\n",
    "<span style=\"color:red\">__Por lo tanto el valor de C que hace que le función f(y) sea una función de densidad de probabilidad es C=105- __</span>"
   ]
  },
  {
   "cell_type": "markdown",
   "id": "5374ff3b",
   "metadata": {},
   "source": [
    "#### b) Obtenga la media y la varianza de 𝑌.<br>"
   ]
  },
  {
   "cell_type": "markdown",
   "id": "c6ebe79a",
   "metadata": {},
   "source": [
    "La media se calcula como:"
   ]
  },
  {
   "cell_type": "markdown",
   "id": "7a39663d",
   "metadata": {},
   "source": [
    "$$E(Y) = \\int_{-\\infty }^{\\infty } y*p(y)$$"
   ]
  },
  {
   "cell_type": "markdown",
   "id": "86715600",
   "metadata": {},
   "source": [
    "Que en nuestro caso es:"
   ]
  },
  {
   "cell_type": "markdown",
   "id": "f412894c",
   "metadata": {},
   "source": [
    "$$E(X) = \\int_{-\\infty }^{\\infty } y*p(y) = \\int_{-\\infty }^{\\infty } \\left\\{\\begin{matrix}\n",
    "c*y^2(1-y)^4, & 0<=y<=1\\\\ \n",
    " 0, & en otro caso\n",
    "\\end{matrix}\\right. * y dy $$"
   ]
  },
  {
   "cell_type": "markdown",
   "id": "a6881a20",
   "metadata": {},
   "source": [
    "Entonces resolviendo la integral en Python tenemos:"
   ]
  },
  {
   "cell_type": "code",
   "execution_count": 32,
   "id": "b62b4fdf",
   "metadata": {},
   "outputs": [],
   "source": [
    "import numpy as np\n",
    "from scipy.integrate import quad\n",
    "\n",
    "def f_y(y):\n",
    "    return np.piecewise(y, [y<=0,(y>0)&(y<1),  y>1], [0, lambda y: 105*(y**2)*(1-y)**4, 0])\n",
    "\n",
    "##Se define la función que integrará y por lo tanto calculará la media \n",
    "def mean_f(f, a, b):\n",
    "    integrand = lambda y: y*f(y)\n",
    "    ## FUNCIÓN QUE REALIZA LA INTEGRACIÓN!\n",
    "    return quad(integrand, a, b)[0]\n",
    "\n",
    "##Aqui se usa/llama la función que integra y calcula media \n",
    "mean_Y2 = round(mean_f(f_y, 0, 4),2)\n"
   ]
  },
  {
   "cell_type": "code",
   "execution_count": 33,
   "id": "7a11ec60",
   "metadata": {},
   "outputs": [
    {
     "data": {
      "text/html": [
       "<span style=\"color:red\">_La MEDIA de la variable Y sería: 0.37 </span>"
      ],
      "text/plain": [
       "<IPython.core.display.HTML object>"
      ]
     },
     "execution_count": 33,
     "metadata": {},
     "output_type": "execute_result"
    }
   ],
   "source": [
    "from IPython.core.display import HTML\n",
    "\n",
    "\n",
    "texto = f'<span style=\"color:red\">_La MEDIA de la variable Y sería: {mean_Y2} </span>'\n",
    "\n",
    "HTML(texto)"
   ]
  },
  {
   "cell_type": "markdown",
   "id": "a9cae046",
   "metadata": {},
   "source": [
    "Y para el cálculo de la varianza tenemos:"
   ]
  },
  {
   "cell_type": "markdown",
   "id": "0ca9277a",
   "metadata": {},
   "source": [
    "$$E(X) = \\int_{-\\infty }^{\\infty } (Y-\\mu )^2 *p(y) = \\int_{-\\infty }^{\\infty } \\left\\{\\begin{matrix}\n",
    "c*y^2(1-y)^4, & 0<=y<=1\\\\ \n",
    " 0, & en otro caso\n",
    "\\end{matrix}\\right. * (Y-\\mu )^2  dy $$"
   ]
  },
  {
   "cell_type": "code",
   "execution_count": 30,
   "id": "5bfa98de",
   "metadata": {},
   "outputs": [],
   "source": [
    "import numpy as np\n",
    "from scipy.integrate import quad\n",
    "\n",
    "def f_y(y):\n",
    "    return np.piecewise(y, [y<=0,(y>0)&(y<1),  y>1], [0, lambda y: 105*(y**2)*(1-y)**4, 0])\n",
    "\n",
    "##Se define la función que integrará y por lo tanto calculará la varianza\n",
    "def variance_f(f, mean, a, b):\n",
    "    integrand = lambda y: (y-mean_Y2)**2*f(y)\n",
    "    return quad(integrand, a, b)[0]\n",
    "\n",
    "##Aqui se usa/llama la función que integra y calcula varianza \n",
    "variance_Y2 = round(variance_f(f_y, mean_Y2, 0, 4),2)\n"
   ]
  },
  {
   "cell_type": "code",
   "execution_count": 31,
   "id": "0c9c7c1e",
   "metadata": {},
   "outputs": [
    {
     "data": {
      "text/html": [
       "<span style=\"color:red\">_La VARIANZA de la variable Y sería: 0.03 </span>"
      ],
      "text/plain": [
       "<IPython.core.display.HTML object>"
      ]
     },
     "execution_count": 31,
     "metadata": {},
     "output_type": "execute_result"
    }
   ],
   "source": [
    "from IPython.core.display import HTML\n",
    "\n",
    "\n",
    "texto = f'<span style=\"color:red\">_La VARIANZA de la variable Y sería: {variance_Y2} </span>'\n",
    "\n",
    "HTML(texto)"
   ]
  },
  {
   "cell_type": "markdown",
   "id": "da6e9d62",
   "metadata": {},
   "source": [
    "#### c) Genere 30 valores aleatorios de 𝑌 y calcule el promedio de dichos valores. Muestre paso a  paso su procedimiento realizado ya sea manualmente o con algún software, en cuyo caso es necesario mostrar la codificación"
   ]
  },
  {
   "cell_type": "code",
   "execution_count": null,
   "id": "20742db7",
   "metadata": {},
   "outputs": [],
   "source": []
  },
  {
   "cell_type": "markdown",
   "id": "1431f2bc",
   "metadata": {},
   "source": [
    "__Paso 1. Se generan los 30 numeros aleatorios ente [0,1] con una probabilida de distribución uniforme_"
   ]
  },
  {
   "cell_type": "code",
   "execution_count": 87,
   "id": "e96ee573",
   "metadata": {},
   "outputs": [
    {
     "name": "stdout",
     "output_type": "stream",
     "text": [
      "[0.7917754779894286, 0.045128042126953316, 0.7802166186890016, 0.11343199234318013, 0.08750447069497647, 0.36214420692494753, 0.2588362129135062, 0.9505347490629097, 0.2449943205695393, 0.9712236873963288, 0.6470431979290229, 0.7920195165990297, 0.915276394180698, 0.34150741811741336, 0.678444237260641, 0.731996679417485, 0.5851203243612377, 0.3253780521037801, 0.04043706394903124, 0.018511484128147737, 0.4541098472161297, 0.032173078592902304, 0.38321690555105814, 0.2423508377540331, 0.055421026389188555, 0.7829564856705976, 0.26437472883082225, 0.37127780418476075, 0.6398875009360375, 0.40978832620220895]\n"
     ]
    }
   ],
   "source": [
    "import random\n",
    "\n",
    "# generate 30 random numbers between 0 and 1\n",
    "random_numbers_30 = [random.random() for _ in range(30)]\n",
    "\n",
    "print(random_numbers_30)\n"
   ]
  },
  {
   "cell_type": "markdown",
   "id": "7e324931",
   "metadata": {},
   "source": [
    "__Paso 2. Igualar el valor alestorio con la funcion acumulada de probabilidad de la variable x__"
   ]
  },
  {
   "cell_type": "markdown",
   "id": "b6265028",
   "metadata": {},
   "source": [
    "Se procede a igular el valor aleatorio generado ri con la funcion de distribucion acumulada:  $$r_{i}= F(y{_{i}})$$"
   ]
  },
  {
   "cell_type": "markdown",
   "id": "a55f156e",
   "metadata": {},
   "source": [
    "Que en nuestro caso recodar que $$F(y{_{i})} = \\int_{0}^{1}105*y^2*(1-y)^4 dy $$"
   ]
  },
  {
   "cell_type": "markdown",
   "id": "c6922bbf",
   "metadata": {},
   "source": [
    "Y resolviendo en Python tenemos: "
   ]
  },
  {
   "cell_type": "code",
   "execution_count": 53,
   "id": "b61c4c10",
   "metadata": {},
   "outputs": [
    {
     "name": "stdout",
     "output_type": "stream",
     "text": [
      "The antiderivative of f(y) = 105*y^2*(1-y)^4 with respect to y is:\n",
      "15*y**7 - 70*y**6 + 126*y**5 - 105*y**4 + 35*y**3\n"
     ]
    }
   ],
   "source": [
    "import sympy as sym\n",
    "\n",
    "# define the symbol y and the constant c\n",
    "y = sym.symbols('y')\n",
    "\n",
    "# define the integrand\n",
    "f_ = 105 * y**2 * (1-y)**4\n",
    "\n",
    "# integrate the function with respect to y\n",
    "F_ = sym.integrate(f_, y)\n",
    "\n",
    "# print the result\n",
    "print(\"The antiderivative of f(y) = 105*y^2*(1-y)^4 with respect to y is:\")\n",
    "print(F_)"
   ]
  },
  {
   "cell_type": "markdown",
   "id": "bf959bda",
   "metadata": {},
   "source": [
    "Es decir: \n",
    " "
   ]
  },
  {
   "cell_type": "markdown",
   "id": "c797167a",
   "metadata": {},
   "source": [
    "\n",
    "    \n",
    "  $$  valor_random_i = 15y^7 -70y^6 +125y^5 -105y^4 +35y^3 $$"
   ]
  },
  {
   "cell_type": "markdown",
   "id": "5c6b7aa2",
   "metadata": {},
   "source": [
    "Entonces para nuestro primer valor simulado que es 0.105, lo igualamos a nuestra F(yi): "
   ]
  },
  {
   "cell_type": "code",
   "execution_count": 54,
   "id": "4f88198c",
   "metadata": {},
   "outputs": [
    {
     "name": "stdout",
     "output_type": "stream",
     "text": [
      "0.53 = 15*y**7 - 70*y**6 + 125*y**5 - 105*y**4 + 35*y**3\n"
     ]
    }
   ],
   "source": [
    "result = (15*y**7 - 70*y**6 + 125*y**5- 105*y**4 + 35*y**3) \n",
    "\n",
    "print(f'{round(random_numbers_30[0],2)} = {result}')"
   ]
  },
  {
   "cell_type": "code",
   "execution_count": 55,
   "id": "0a95bb9e",
   "metadata": {},
   "outputs": [
    {
     "name": "stdout",
     "output_type": "stream",
     "text": [
      "[ 1.79584535+0.j          0.96850278+0.63368849j  0.96850278-0.63368849j\n",
      "  0.88154565+0.j          0.157833  +0.j         -0.1055629 +0.j        ]\n"
     ]
    }
   ],
   "source": [
    "import numpy as np\n",
    "\n",
    "# Define the coefficients of the polynomial\n",
    "coeffs = [15, -70, 125, -105, 35, 0, -0.53]\n",
    "\n",
    "# Find the roots of the polynomial\n",
    "roots = np.roots(coeffs)\n",
    "\n",
    "# Print the roots\n",
    "print(roots)\n"
   ]
  },
  {
   "cell_type": "markdown",
   "id": "5b6c43d2",
   "metadata": {},
   "source": [
    "Te calcula las 7 soluciones por cada valor de ri"
   ]
  },
  {
   "cell_type": "code",
   "execution_count": 59,
   "id": "27df4b22",
   "metadata": {},
   "outputs": [
    {
     "name": "stdout",
     "output_type": "stream",
     "text": [
      "[ 1.79584535+0.j          0.96850278+0.63368849j  0.96850278-0.63368849j\n",
      "  0.88154565+0.j          0.157833  +0.j         -0.1055629 +0.j        ]\n"
     ]
    }
   ],
   "source": [
    "import numpy as np\n",
    "\n",
    "# Define the coefficients of the polynomial\n",
    "coeffs = [15, -70, 125, -105, 35, 0, -0.53]\n",
    "\n",
    "# Find the roots of the polynomial\n",
    "roots = np.roots(coeffs)\n",
    "\n",
    "# Print the roots\n",
    "print(roots)\n"
   ]
  },
  {
   "cell_type": "code",
   "execution_count": null,
   "id": "10ea5856",
   "metadata": {},
   "outputs": [],
   "source": [
    "Te calcula solo las  soluciones reales por cada valor de ri"
   ]
  },
  {
   "cell_type": "code",
   "execution_count": 60,
   "id": "716c08c1",
   "metadata": {},
   "outputs": [
    {
     "name": "stdout",
     "output_type": "stream",
     "text": [
      "[(1.795845347276372+0j), (0.8815456538932235+0j), (0.1578329991294134+0j), (-0.10556289649685834+0j)]\n"
     ]
    }
   ],
   "source": [
    "import numpy as np\n",
    "\n",
    "# Define the coefficients of the polynomial\n",
    "coeffs = [15, -70, 125, -105, 35, 0, -0.53]\n",
    "\n",
    "# Find the roots of the polynomial\n",
    "roots = np.roots(coeffs)\n",
    "\n",
    "# Find the real roots\n",
    "real_roots = [root for root in roots if np.isreal(root)]\n",
    "\n",
    "# Print the real roots\n",
    "print(real_roots)\n"
   ]
  },
  {
   "cell_type": "code",
   "execution_count": null,
   "id": "5e7b1d13",
   "metadata": {},
   "outputs": [],
   "source": [
    "Te calcula las 7 soluciones para todos los valres en random_numbers_30 "
   ]
  },
  {
   "cell_type": "code",
   "execution_count": 63,
   "id": "c72f592e",
   "metadata": {},
   "outputs": [
    {
     "name": "stdout",
     "output_type": "stream",
     "text": [
      "For 0.5290244532875048: [ 1.79068992+0.j          0.95295233+0.6229114j   0.95295233-0.6229114j\n",
      "  0.8598768 +0.j          0.38049685+0.j         -0.13515078+0.16786268j\n",
      " -0.13515078-0.16786268j]\n",
      "For 0.9674241456749672: [ 1.79603158+0.j          0.96973055+0.59955263j  0.96973055-0.59955263j\n",
      "  0.63043894+0.15673815j  0.63043894-0.15673815j -0.16485195+0.19566734j\n",
      " -0.16485195-0.19566734j]\n",
      "For 0.5937362437115711: [ 1.79149409+0.j          0.95493054+0.61946533j  0.95493054-0.61946533j\n",
      "  0.8343421 +0.j          0.41182784+0.j         -0.14042923+0.17294465j\n",
      " -0.14042923-0.17294465j]\n",
      "For 0.8787368632033832: [ 1.79497063+0.j          0.96565058+0.60419503j  0.96565058-0.60419503j\n",
      "  0.62996248+0.09336397j  0.62996248-0.09336397j -0.15976504+0.19103506j\n",
      " -0.15976504-0.19103506j]\n",
      "For 0.5903535801385769: [ 1.79145219+0.j          0.95482333+0.61964611j  0.95482333-0.61964611j\n",
      "  0.83576515+0.j          0.41012982+0.j         -0.14016359+0.17269044j\n",
      " -0.14016359-0.17269044j]\n",
      "For 0.42701460996937457: [ 1.7894107 +0.j          0.95012732+0.62827698j  0.95012732-0.62827698j\n",
      "  0.89452839+0.j          0.33412466+0.j         -0.12582587+0.15872005j\n",
      " -0.12582587-0.15872005j]\n",
      "For 0.048145989639094555: [ 1.78452989+0.j          0.94216951+0.64718367j  0.94216951-0.64718367j\n",
      "  0.99017981+0.j          0.12692229+0.j         -0.05965217+0.08599791j\n",
      " -0.05965217-0.08599791j]\n",
      "For 0.3592486716400488: [ 1.78855294+0.j          0.94843165+0.63178517j  0.94843165-0.63178517j\n",
      "  0.91480151+0.j          0.30392042+0.j         -0.11873575+0.15161872j\n",
      " -0.11873575-0.15161872j]\n",
      "For 0.7359920923600917: [ 1.79324243+0.j          0.95984695+0.61182742j  0.95984695-0.61182742j\n",
      "  0.75981887+0.j          0.49540685+0.j         -0.1507477 +0.18269708j\n",
      " -0.1507477 -0.18269708j]\n",
      "For 0.4376873123778262: [ 1.78954521+0.j          0.95040706+0.6277201j   0.95040706-0.6277201j\n",
      "  0.89115775+0.j          0.33888918+0.j         -0.1268698 +0.15975445j\n",
      " -0.1268698 -0.15975445j]\n",
      "For 0.12661503119699746: [ 1.78555817+0.j          0.94354219+0.64341637j  0.94354219-0.64341637j\n",
      "  0.97328743+0.j          0.18726878+0.j         -0.08326604+0.11381084j\n",
      " -0.08326604-0.11381084j]\n",
      "For 0.4228829831583669: [ 1.78935859+0.j          0.95001998+0.62849225j  0.95001998-0.62849225j\n",
      "  0.8958193 +0.j          0.33228256+0.j         -0.12541687+0.15831403j\n",
      " -0.12541687-0.15831403j]\n",
      "For 0.26486790419425243: [ 1.78734744+0.j          0.94628589+0.63658468j  0.94628589-0.63658468j\n",
      "  0.9403107 +0.j          0.26068094+0.j         -0.1071221 +0.13968299j\n",
      " -0.1071221 -0.13968299j]\n",
      "For 0.9418963206566301: [ 1.79572718+0.j          0.96851802+0.6008768j   0.96851802-0.6008768j\n",
      "  0.63037485+0.14154897j  0.63037485-0.14154897j -0.16342313+0.19437125j\n",
      " -0.16342313-0.19437125j]\n",
      "For 0.9892292795522678: [ 1.79629096+0.j          0.97079076+0.59843093j  0.97079076-0.59843093j\n",
      "  0.63044828+0.16857276j  0.63044828-0.16857276j -0.16605118+0.19675219j\n",
      " -0.16605118-0.19675219j]\n",
      "For 0.7673522249618996: [ 1.79362431+0.j          0.96104393+0.61014202j  0.96104393-0.61014202j\n",
      "  0.73621675+0.j          0.52039532+0.j         -0.15282879+0.18463619j\n",
      " -0.15282879-0.18463619j]\n",
      "For 0.0015508739457094078: [ 1.78391482+0.j          0.94141076+0.64938233j  0.94141076-0.64938233j\n",
      "  0.99968963+0.j          0.03672563+0.j         -0.01824247+0.02956604j\n",
      " -0.01824247-0.02956604j]\n",
      "For 0.23205035145883202: [ 1.78692526+0.j          0.94559397+0.6382283j   0.94559397-0.6382283j\n",
      "  0.94856209+0.j          0.24482914+0.j         -0.10241888+0.13473411j\n",
      " -0.10241888-0.13473411j]\n",
      "For 0.005069863750890913: [ 1.78396139+0.j          0.94146667+0.64921728j  0.94146667-0.64921728j\n",
      "  0.99898396+0.j          0.0555734 +0.j         -0.02739272+0.04311643j\n",
      " -0.02739272-0.04311643j]\n",
      "For 0.24720112469658417: [ 1.78712036+0.j          0.94591009+0.63747116j  0.94591009-0.63747116j\n",
      "  0.94478864+0.j          0.25222355+0.j         -0.10464304+0.13708309j\n",
      " -0.10464304-0.13708309j]\n",
      "For 0.5334157556283774: [ 1.79074467+0.j          0.95308181+0.62267845j  0.95308181-0.62267845j\n",
      "  0.85824589+0.j          0.38255819+0.j         -0.13552285+0.16822306j\n",
      " -0.13552285-0.16822306j]\n",
      "For 0.6098976649399598: [ 1.79169406+0.j          0.95544872+0.61860081j  0.95544872-0.61860081j\n",
      "  0.82738659+0.j          0.42005638+0.j         -0.1416839 +0.17414313j\n",
      " -0.1416839 -0.17414313j]\n",
      "For 0.22501686794062947: [ 1.78683458+0.j          0.94544911+0.63857882j  0.94544911-0.63857882j\n",
      "  0.95029358+0.j          0.24134561+0.j         -0.10135266+0.13360243j\n",
      " -0.10135266-0.13360243j]\n",
      "For 0.994967432558184: [ 1.79635912+0.j          0.97107351+0.5981373j   0.97107351-0.5981373j\n",
      "  0.63044388+0.17154247j  0.63044388-0.17154247j -0.16636362+0.19703438j\n",
      " -0.16636362-0.19703438j]\n",
      "For 0.04114443866871498: [ 1.78443768+0.j          0.94205292+0.64751587j  0.94205292-0.64751587j\n",
      "  0.99163224+0.j          0.11947996+0.j         -0.05649452+0.0820784j\n",
      " -0.05649452-0.0820784j ]\n",
      "For 0.5300568507523079: [ 1.7907028 +0.j          0.95298271+0.62285665j  0.95298271-0.62285665j\n",
      "  0.85949457+0.j          0.38098078+0.j         -0.13523845+0.16794762j\n",
      " -0.13523845-0.16794762j]\n",
      "For 0.8885949544559223: [ 1.79508904+0.j          0.96608577+0.60367374j  0.96608577-0.60367374j\n",
      "  0.63005115+0.10244004j  0.63005115-0.10244004j -0.1603481 +0.19156856j\n",
      " -0.1603481 -0.19156856j]\n",
      "For 0.3808941589268898: [ 1.78882762+0.j          0.9489585 +0.63066996j  0.9489585 -0.63066996j\n",
      "  0.90852498+0.j          0.31358535+0.j         -0.12109414+0.1539958j\n",
      " -0.12109414-0.1539958j ]\n",
      "For 0.23140176234870224: [ 1.7869169 +0.j          0.94558056+0.63826065j  0.94558056-0.63826065j\n",
      "  0.94872229+0.j          0.24450933+0.j         -0.10232149+0.13463089j\n",
      " -0.10232149-0.13463089j]\n",
      "For 0.01701304705024609: [ 1.7841193 +0.j          0.94165811+0.6486559j   0.94165811-0.6486559j\n",
      "  0.996574  +0.j          0.08587883+0.j         -0.04161083+0.06284674j\n",
      " -0.04161083-0.06284674j]\n"
     ]
    }
   ],
   "source": [
    "import numpy as np\n",
    "\n",
    "random_numbers_30 \n",
    "\n",
    "for i in range(len(random_numbers_30)):\n",
    "    # Define the equation\n",
    "    def equation(y):\n",
    "        return 15*y**7 - 70*y**6 + 125*y**5 - 105*y**4 + 35*y**3 - random_numbers_30[i]\n",
    "\n",
    "    # Use NumPy's root-finding function to find the real solutions\n",
    "    solutions = np.real_if_close(np.roots([15, -70, 125, -105, 35, 0, 0, -random_numbers_30[i]]))\n",
    "\n",
    "    # Print the solutions for each random number\n",
    "    print(f\"For {random_numbers_30[i]}: {solutions}\")\n",
    "\n"
   ]
  },
  {
   "cell_type": "code",
   "execution_count": null,
   "id": "1e8c1792",
   "metadata": {},
   "outputs": [],
   "source": []
  },
  {
   "cell_type": "code",
   "execution_count": null,
   "id": "24b4b9a5",
   "metadata": {},
   "outputs": [],
   "source": [
    "Te calcula solo soluciones reales para todos los valres en random_numbers_30 "
   ]
  },
  {
   "cell_type": "code",
   "execution_count": 65,
   "id": "39c3e643",
   "metadata": {},
   "outputs": [
    {
     "name": "stdout",
     "output_type": "stream",
     "text": [
      "For 0.5290244532875048: [1.790689921778447, 0.8598767998375766, 0.3804968459163247]\n",
      "For 0.9674241456749672: [1.7960315802135969]\n",
      "For 0.5937362437115711: [1.7914940920384397, 0.8343420980304455, 0.4118278403874565]\n",
      "For 0.8787368632033832: [1.7949706330459956]\n",
      "For 0.5903535801385769: [1.7914521947379218, 0.8357651543392622, 0.4101298228058605]\n",
      "For 0.42701460996937457: [1.7894107038970581, 0.8945283865241515, 0.33412466292857057]\n",
      "For 0.048145989639094555: [1.7845298872043958, 0.9901798143609931, 0.12692229138975097]\n",
      "For 0.3592486716400488: [1.788552939391114, 0.9148015072657549, 0.3039204201416388]\n",
      "For 0.7359920923600917: [1.7932424257371382, 0.7598188707727678, 0.4954068548473612]\n",
      "For 0.4376873123778262: [1.789545211813018, 0.8911577456088712, 0.3388891841194638]\n",
      "For 0.12661503119699746: [1.7855581678648411, 0.9732874322571209, 0.18726878062053864]\n",
      "For 0.4228829831583669: [1.7893585905920146, 0.8958193014318762, 0.33228255848364024]\n",
      "For 0.26486790419425243: [1.787347442872146, 0.9403107023185229, 0.26068094360565636]\n",
      "For 0.9418963206566301: [1.7957271841004014]\n",
      "For 0.9892292795522678: [1.7962909598477552]\n",
      "For 0.7673522249618996: [1.793624313960972, 0.7362167494123005, 0.5203953228441641]\n",
      "For 0.0015508739457094078: [1.783914823420063, 0.999689632614814, 0.0367256306569093]\n",
      "For 0.23205035145883202: [1.7869252641158355, 0.948562094030905, 0.2448291440998866]\n",
      "For 0.005069863750890913: [1.783961392241857, 0.9989839646910164, 0.055573400258763374]\n",
      "For 0.24720112469658417: [1.787120364959998, 0.9447886360179665, 0.25222355268681623]\n",
      "For 0.5334157556283774: [1.7907446704817176, 0.8582458905431146, 0.38255819259933194]\n",
      "For 0.6098976649399598: [1.7916940556024463, 0.827386593415366, 0.4200563766796086]\n",
      "For 0.22501686794062947: [1.7868345778891013, 0.9502935766147547, 0.241345610152978]\n",
      "For 0.994967432558184: [1.7963591215966166]\n",
      "For 0.04114443866871498: [1.7844376797182449, 0.9916322402049675, 0.1194799632050277]\n",
      "For 0.5300568507523079: [1.7907027955726562, 0.8594945669904149, 0.3809807815332698]\n",
      "For 0.8885949544559223: [1.7950890414722092]\n",
      "For 0.3808941589268898: [1.7888276231016091, 0.9085249795224143, 0.31358534831230894]\n",
      "For 0.23140176234870224: [1.7869169045626, 0.9487222932536958, 0.24450933326948976]\n",
      "For 0.01701304705024609: [1.7841192996785364, 0.9965739958671436, 0.08587882719711973]\n"
     ]
    }
   ],
   "source": [
    "from numpy import roots\n",
    "\n",
    "random_numbers_30 \n",
    "\n",
    "for i in range(len(random_numbers_30)):\n",
    "    roots_of_equation = roots([15, -70, 125, -105, 35, 0, 0, -random_numbers_30[i]])\n",
    "    real_roots = [root.real for root in roots_of_equation if root.imag == 0]\n",
    "    print(f\"For {random_numbers_30[i]}: {real_roots}\")\n"
   ]
  },
  {
   "cell_type": "code",
   "execution_count": 66,
   "id": "4c5a360a",
   "metadata": {},
   "outputs": [
    {
     "data": {
      "text/plain": [
       "list"
      ]
     },
     "execution_count": 66,
     "metadata": {},
     "output_type": "execute_result"
    }
   ],
   "source": [
    "type(real_roots)"
   ]
  },
  {
   "cell_type": "code",
   "execution_count": 82,
   "id": "762441ac",
   "metadata": {},
   "outputs": [
    {
     "name": "stdout",
     "output_type": "stream",
     "text": [
      "[1.7841192996785364, 0.9416581069194637, 0.9416581069194637, 0.9965739958671436, 0.08587882719711973, -0.041610834957529236, -0.041610834957529236]\n"
     ]
    }
   ],
   "source": [
    "print(real_roots)"
   ]
  },
  {
   "cell_type": "code",
   "execution_count": null,
   "id": "20fc2f11",
   "metadata": {},
   "outputs": [],
   "source": [
    "Te calcula solo soluciones reales para todos los valres en random_numbers_30 y las guarda en all_real_roots"
   ]
  },
  {
   "cell_type": "code",
   "execution_count": 88,
   "id": "2e1bb0d2",
   "metadata": {},
   "outputs": [
    {
     "name": "stdout",
     "output_type": "stream",
     "text": [
      "[[1.793920859416267, 0.713236356104058, 0.5443137050307553], [1.78449015135626, 0.9908069123198433, 0.12379293335694891], [1.7937806070296427, 0.7248167616142521, 0.5323046216872077], [1.7853860667405308, 0.976208075654429, 0.17882551684566042], [1.7850468229298848, 0.9818522625894254, 0.16073515761228283], [1.7885897223758094, 0.913971990024001, 0.30521590881397526], [1.7872699662151084, 0.9418491638241185, 0.2578116470639784], [1.795830278383155], [1.7870919681526507, 0.9453420363087934, 0.25115519668142844], [1.7960768185290659], [1.7921523429764725, 0.8102863314319648, 0.43983529193604154], [1.7939238186948296, 0.7129742948032731, 0.5445845237817772], [1.7954089176591035], [1.7883273068737415, 0.9198185875199857, 0.2959581151270642], [1.7925383426445232, 0.7943363732148142, 0.45779188063772935], [1.7931936810367604, 0.7625176373411153, 0.49251647665741133], [1.79138734616044, 0.8379454959261479, 0.40751820838798575], [1.788121786187296, 0.9242855996472522, 0.2886719246135019], [1.7844283596912942, 0.991778508063421, 0.11869019996576165], [1.7841390957072079, 0.9962699806815422, 0.08858207087652888], [1.7897518766459841, 0.8858659910467566, 0.34624401672543914], [1.7843194202478974, 0.9934809402443997, 0.1088216142629202], [1.788857059809226, 0.907840871031523, 0.3146203746981825], [1.7870579428866393, 0.9460032349380478, 0.2498716742002253], [1.7846256165184358, 0.9886615729379771, 0.1340513528595856], [1.7938138672430817, 0.7222045806264141, 0.5350208803263222], [1.787341110050336, 0.9404368733597099, 0.26044700429271767], [1.7887056720215677, 0.9113351469943392, 0.3092965819525349], [1.7920642001907823, 0.813714695067054, 0.4359170865033965], [1.78919326720173, 0.8998609502027074, 0.3264499957007015]]\n"
     ]
    }
   ],
   "source": [
    "from numpy import roots\n",
    "\n",
    "random_numbers_30  # your list of 30 random numbers\n",
    "\n",
    "all_real_roots = []  # create an empty list to store real roots for each iteration\n",
    "\n",
    "for i in range(len(random_numbers_30)):\n",
    "    roots_of_equation = roots([15, -70, 125, -105, 35, 0, 0, -random_numbers_30[i]])\n",
    "    real_roots = [root.real for root in roots_of_equation if root.imag == 0]\n",
    "    all_real_roots.append(real_roots)  # append the real roots to the list of all real roots\n",
    "\n",
    "print(all_real_roots)"
   ]
  },
  {
   "cell_type": "code",
   "execution_count": 89,
   "id": "c1b8c1d6",
   "metadata": {},
   "outputs": [
    {
     "data": {
      "text/plain": [
       "[1.793920859416267, 0.713236356104058, 0.5443137050307553]"
      ]
     },
     "execution_count": 89,
     "metadata": {},
     "output_type": "execute_result"
    }
   ],
   "source": [
    "all_real_roots[0]"
   ]
  },
  {
   "cell_type": "code",
   "execution_count": null,
   "id": "fb28c2ee",
   "metadata": {},
   "outputs": [],
   "source": []
  },
  {
   "cell_type": "code",
   "execution_count": null,
   "id": "0a401803",
   "metadata": {},
   "outputs": [],
   "source": []
  },
  {
   "cell_type": "code",
   "execution_count": null,
   "id": "bdba3452",
   "metadata": {},
   "outputs": [],
   "source": []
  },
  {
   "cell_type": "code",
   "execution_count": null,
   "id": "de5ef192",
   "metadata": {},
   "outputs": [],
   "source": []
  },
  {
   "cell_type": "code",
   "execution_count": 48,
   "id": "53b93bf2",
   "metadata": {},
   "outputs": [
    {
     "name": "stdout",
     "output_type": "stream",
     "text": [
      "[0.412335001770371, 0.412335001770371, 0.412335001770371, 0.412335001770371, 0.412335001770371, 0.412335001770371]\n"
     ]
    }
   ],
   "source": [
    "aleatorios_ajustados = []\n",
    "for sol in solutions:\n",
    "    roots = solve_equation(sol)\n",
    "    for root in roots:\n",
    "        if 0 <= root <= 1:\n",
    "            aleatorios_ajustados.append(root)\n",
    "            break\n",
    "print(aleatorios_ajustados)\n"
   ]
  },
  {
   "cell_type": "markdown",
   "id": "165ed2f2",
   "metadata": {},
   "source": [
    "Por lo tanto los valores aleatorios serían: "
   ]
  },
  {
   "cell_type": "code",
   "execution_count": 49,
   "id": "bea4ed7c",
   "metadata": {},
   "outputs": [
    {
     "data": {
      "text/plain": [
       "[0.412335001770371,\n",
       " 0.412335001770371,\n",
       " 0.412335001770371,\n",
       " 0.412335001770371,\n",
       " 0.412335001770371,\n",
       " 0.412335001770371]"
      ]
     },
     "execution_count": 49,
     "metadata": {},
     "output_type": "execute_result"
    }
   ],
   "source": [
    "aleatorios_ajustados"
   ]
  },
  {
   "cell_type": "code",
   "execution_count": null,
   "id": "0f862acc",
   "metadata": {},
   "outputs": [],
   "source": [
    "El promedio de los valores simulados es:"
   ]
  },
  {
   "cell_type": "code",
   "execution_count": 100,
   "id": "2ce51e21",
   "metadata": {},
   "outputs": [
    {
     "name": "stdout",
     "output_type": "stream",
     "text": [
      "El valor promedio de los valores simulados es : 0.314914718612951\n"
     ]
    }
   ],
   "source": [
    "import numpy as np\n",
    "\n",
    "average_aleatorios_ajustados = np.mean(aleatorios_ajustados)\n",
    "\n",
    "print(\"El valor promedio de los valores simulados es :\", average_aleatorios_ajustados)\n"
   ]
  },
  {
   "cell_type": "markdown",
   "id": "44b2d14a",
   "metadata": {},
   "source": [
    "El valor promedio de los valores simulados es 0.314 que es cercano a la esperanza calculada de la función de 0.37"
   ]
  },
  {
   "cell_type": "code",
   "execution_count": null,
   "id": "5cff2dec",
   "metadata": {},
   "outputs": [],
   "source": []
  },
  {
   "cell_type": "code",
   "execution_count": null,
   "id": "08b849f9",
   "metadata": {},
   "outputs": [],
   "source": []
  },
  {
   "cell_type": "markdown",
   "id": "40ccc8db",
   "metadata": {},
   "source": [
    "### Problema 5"
   ]
  },
  {
   "cell_type": "code",
   "execution_count": null,
   "id": "e9b6e79a",
   "metadata": {},
   "outputs": [],
   "source": []
  },
  {
   "cell_type": "code",
   "execution_count": null,
   "id": "3966a6c9",
   "metadata": {},
   "outputs": [],
   "source": []
  },
  {
   "cell_type": "markdown",
   "id": "5f094d55",
   "metadata": {},
   "source": [
    "Considere la v.a. X con función de probabilidad"
   ]
  },
  {
   "cell_type": "markdown",
   "id": "3844207d",
   "metadata": {},
   "source": [
    "|x| -5|-1|1|1.5|3\n",
    "| :- | -: | :-:| :-:| :-:| :-:  \n",
    "| fx(X) | 0.2 | 0.01| 0.3| 0.29| 0.2\n"
   ]
  },
  {
   "cell_type": "code",
   "execution_count": null,
   "id": "3517fe21",
   "metadata": {},
   "outputs": [],
   "source": []
  },
  {
   "cell_type": "markdown",
   "id": "1ec9251e",
   "metadata": {},
   "source": [
    "Construya muestras de la v.a. X, de los tamaños indicados en clase, y en cada caso sobreponga la gráfica de la distribución de X (histograma de probabilidad) al histograma de frecuencias de la  muestra correspondiente.\n",
    "Adicionalmente, calcule la media y la varianza de cada muestra y compárelas con 𝐸(𝑋) y 𝑉𝑎𝑟(𝑋)"
   ]
  },
  {
   "cell_type": "code",
   "execution_count": null,
   "id": "29e5b7da",
   "metadata": {},
   "outputs": [],
   "source": []
  },
  {
   "cell_type": "code",
   "execution_count": null,
   "id": "dd2e1e5e",
   "metadata": {},
   "outputs": [],
   "source": []
  },
  {
   "cell_type": "code",
   "execution_count": null,
   "id": "cdfa59f7",
   "metadata": {},
   "outputs": [],
   "source": []
  }
 ],
 "metadata": {
  "kernelspec": {
   "display_name": "Python 3 (ipykernel)",
   "language": "python",
   "name": "python3"
  },
  "language_info": {
   "codemirror_mode": {
    "name": "ipython",
    "version": 3
   },
   "file_extension": ".py",
   "mimetype": "text/x-python",
   "name": "python",
   "nbconvert_exporter": "python",
   "pygments_lexer": "ipython3",
   "version": "3.9.13"
  }
 },
 "nbformat": 4,
 "nbformat_minor": 5
}
