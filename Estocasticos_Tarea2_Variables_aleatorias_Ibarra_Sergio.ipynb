{
 "cells": [
  {
   "cell_type": "code",
   "execution_count": null,
   "id": "62f3e017",
   "metadata": {},
   "outputs": [],
   "source": []
  },
  {
   "cell_type": "markdown",
   "id": "bdaa4ebf",
   "metadata": {},
   "source": [
    "## Maestria en Ing. de Sistemas UNAM- Procesos estocásticos . Dra: Patricia Aguilar\n",
    "## Alumno: Sergio Ibarra R (414025796)\n",
    "## Problemas sobre la aplicación de conceptos de variable aleatoria.  Marzo 2023"
   ]
  },
  {
   "cell_type": "markdown",
   "id": "856f36e1",
   "metadata": {},
   "source": [
    "### Problema 1"
   ]
  },
  {
   "cell_type": "markdown",
   "id": "ba3a4233",
   "metadata": {},
   "source": [
    "En cada uno de los siguientes enunciados, indique con una D si la variable aleatoria es discreta \n",
    "o con una C si es continua.\n"
   ]
  },
  {
   "cell_type": "markdown",
   "id": "ba8bc2c4",
   "metadata": {},
   "source": [
    "a) El tiempo de espera para un corte de cabello. ………………………………………………….( ) <br>\n",
    "b) El número de automóviles que rebasa un corredor cada mañana. …………………….( )<br>\n",
    "c) El número de hits de un equipo femenil de softbol de preparatoria. ………………….( )<br>\n",
    "d) El número de pacientes atendidos en el South Strand Medical Center entre las seis y \n",
    "diez de la noche, cada noche. ………………………………….……………………………………….( )<br>\n",
    "e) La distancia que recorrió en su automóvil con el último tanque de gasolina. …….( )<br>\n",
    "f) El número de clientes del Wendy’s de Oak Street que utilizaron las instalaciones. ( )<br>\n",
    "g) La distancia entre Gainesville, Florida, y todas las ciudades de Florida con una población \n",
    "de por lo menos 50 000 habitantes. ……………….………………………………………………….( )<br>\n",
    "\n"
   ]
  },
  {
   "cell_type": "code",
   "execution_count": null,
   "id": "1a3038c5",
   "metadata": {},
   "outputs": [],
   "source": []
  },
  {
   "cell_type": "markdown",
   "id": "5c0ce3a4",
   "metadata": {},
   "source": [
    "### Problema 2"
   ]
  },
  {
   "cell_type": "markdown",
   "id": "8f0627b3",
   "metadata": {},
   "source": [
    "En un estudio realizado en Estados Unidos en 2001 (USA Today, 6 de septiembre, 2001), 38%  de los alumnos de cuarto grado de primaria no podía leer un libro apropiado para su edad. Los  datos siguientes muestran el número de sujetos, por edad, que se identificaron como niños con  problemas de aprendizaje que requieren educación especial. La mayoría tiene problemas de lectura que debieron identificarse y corregirse antes del tercer grado. La ley federal  estadounidense actual prohíbe que la mayoría de los niños reciba ayuda adicional de programas  de educación especial hasta que el retraso sea de aproximadamente dos años de aprendizaje, y por lo general eso significa hasta tercer grado o grados superiores."
   ]
  },
  {
   "cell_type": "markdown",
   "id": "1bc0e5a4",
   "metadata": {},
   "source": [
    "| Edad| Número de niños  \n",
    "| :- | -:  \n",
    "| 6 | 37,369\n",
    "| 7  | 87,436\n",
    "| 8 | 160,840\n",
    "| 9 | 239,719\n",
    "|10 | 286,719\n",
    "|11 | 306,533\n",
    "|12 | 310,787\n",
    "|13 | 302,604\n",
    "|14 | 289,168"
   ]
  },
  {
   "cell_type": "markdown",
   "id": "df4024f3",
   "metadata": {},
   "source": [
    "Suponga que se desea seleccionar una muestra de menores con problemas de aprendizaje y  que deben tomar educación especial a efecto de incluirlos en un programa diseñado para  mejorar su capacidad de lectura. Sea 𝑋 una variable aleatoria que indica la edad de un niño seleccionado al azar,"
   ]
  },
  {
   "cell_type": "markdown",
   "id": "c0a6aa04",
   "metadata": {},
   "source": [
    "a) Use los datos para construir la función de probabilidad para 𝑋 y trace su gráfica.<br>\n",
    "b) Calcule la edad promedio de los niños con problemas de aprendizaje..<br>\n",
    "c) Genere una muestra de las edades de 30 niños con problemas de aprendizaje y calcule la  edad promedio. Muestre paso a paso su procedimiento realizado ya sea manualmente o con algún software, en cuyo caso es necesario mostrar la codificación.<br>"
   ]
  },
  {
   "cell_type": "code",
   "execution_count": null,
   "id": "40ea2f52",
   "metadata": {},
   "outputs": [],
   "source": []
  },
  {
   "cell_type": "markdown",
   "id": "6464532a",
   "metadata": {},
   "source": [
    "### Problema 3"
   ]
  },
  {
   "cell_type": "markdown",
   "id": "a9382b61",
   "metadata": {},
   "source": [
    "Considere la variable aleatoria 𝑌 cuya función de distribución (acumulativa) es la que se indica a  continuación. <br>\n",
    "a) Decida si la variable aleatoria 𝑌 es discreta o continua. Justifique su respuesta.<br>\n",
    "b) Construya la función 𝑓𝑌(𝑦).<br>\n",
    "c) Calcule la media y la varianza de Y<br>"
   ]
  },
  {
   "cell_type": "code",
   "execution_count": null,
   "id": "df417eea",
   "metadata": {},
   "outputs": [],
   "source": []
  },
  {
   "cell_type": "markdown",
   "id": "63a24c26",
   "metadata": {},
   "source": [
    "$$F_{Y}(t) = \\left\\{\\begin{matrix}\n",
    "0, & y<=0\\\\ \n",
    "y/8 ,& 0<y<2\\\\ \n",
    "y^{2}/16 ,& 2<=y<4\\\\ \n",
    "1 ,& y>4\\\\  \n",
    "\\end{matrix}\\right.$$"
   ]
  },
  {
   "cell_type": "code",
   "execution_count": null,
   "id": "6036423e",
   "metadata": {},
   "outputs": [],
   "source": []
  },
  {
   "cell_type": "markdown",
   "id": "a60e166e",
   "metadata": {},
   "source": [
    "### Problema 4"
   ]
  },
  {
   "cell_type": "markdown",
   "id": "a5786b30",
   "metadata": {},
   "source": [
    "La proporción de tiempo por día en la que todas las cajas de un supermercado están ocupadas, \n",
    "es una variable aleatoria 𝑌 con función de densidad\n"
   ]
  },
  {
   "cell_type": "code",
   "execution_count": null,
   "id": "758ab092",
   "metadata": {},
   "outputs": [],
   "source": []
  },
  {
   "cell_type": "markdown",
   "id": "071c2b02",
   "metadata": {},
   "source": [
    "$$f_{Y}(y) = \\left\\{\\begin{matrix}\n",
    "c*y^2(1-y)^4, & 0<=y<=1\\\\ \n",
    " 0, & en otro caso\n",
    "\\end{matrix}\\right.$$\n",
    "\n",
    "En donde 𝑐 es una constante.\n"
   ]
  },
  {
   "cell_type": "markdown",
   "id": "a1a23145",
   "metadata": {},
   "source": [
    "a) Encuentre el valor de c que hace de 𝑓𝑌 (𝑦) una función de densidad <br>\n",
    "b) Obtenga la media y la varianza de 𝑌.<br>\n",
    "c) Genere 30 valores aleatorios de 𝑌 y calcule el promedio de dichos valores. Muestre paso a  paso su procedimiento realizado ya sea manualmente o con algún software, en cuyo caso es necesario mostrar la codificación"
   ]
  },
  {
   "cell_type": "code",
   "execution_count": null,
   "id": "08e4ea02",
   "metadata": {},
   "outputs": [],
   "source": []
  },
  {
   "cell_type": "markdown",
   "id": "6e9bbae4",
   "metadata": {},
   "source": [
    "### Problema 5"
   ]
  },
  {
   "cell_type": "markdown",
   "id": "47109d9d",
   "metadata": {},
   "source": [
    "Considere la v.a. X con función de probabilidad"
   ]
  },
  {
   "cell_type": "markdown",
   "id": "c9d48239",
   "metadata": {},
   "source": [
    "|x| -5|-1|1|1.5|3\n",
    "| :- | -: | :-:| :-:| :-:| :-:  \n",
    "| fx(X) | 0.2 | 0.01| 0.3| 0.29| 0.2\n"
   ]
  },
  {
   "cell_type": "code",
   "execution_count": null,
   "id": "e5e17650",
   "metadata": {},
   "outputs": [],
   "source": []
  },
  {
   "cell_type": "markdown",
   "id": "ebc40649",
   "metadata": {},
   "source": [
    "Construya muestras de la v.a. X, de los tamaños indicados en clase, y en cada caso sobreponga la gráfica de la distribución de X (histograma de probabilidad) al histograma de frecuencias de la  muestra correspondiente.\n",
    "Adicionalmente, calcule la media y la varianza de cada muestra y compárelas con 𝐸(𝑋) y 𝑉𝑎𝑟(𝑋)"
   ]
  },
  {
   "cell_type": "code",
   "execution_count": null,
   "id": "b95ff709",
   "metadata": {},
   "outputs": [],
   "source": []
  },
  {
   "cell_type": "code",
   "execution_count": null,
   "id": "5da1218d",
   "metadata": {},
   "outputs": [],
   "source": []
  },
  {
   "cell_type": "code",
   "execution_count": null,
   "id": "1d2e6c20",
   "metadata": {},
   "outputs": [],
   "source": []
  }
 ],
 "metadata": {
  "kernelspec": {
   "display_name": "Python 3 (ipykernel)",
   "language": "python",
   "name": "python3"
  },
  "language_info": {
   "codemirror_mode": {
    "name": "ipython",
    "version": 3
   },
   "file_extension": ".py",
   "mimetype": "text/x-python",
   "name": "python",
   "nbconvert_exporter": "python",
   "pygments_lexer": "ipython3",
   "version": "3.9.13"
  }
 },
 "nbformat": 4,
 "nbformat_minor": 5
}
